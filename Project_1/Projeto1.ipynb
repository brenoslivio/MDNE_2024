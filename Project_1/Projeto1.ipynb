{
  "nbformat": 4,
  "nbformat_minor": 0,
  "metadata": {
    "colab": {
      "provenance": [],
      "gpuType": "T4",
      "include_colab_link": true
    },
    "kernelspec": {
      "name": "python3",
      "display_name": "Python 3"
    },
    "language_info": {
      "name": "python"
    },
    "accelerator": "GPU",
    "widgets": {
      "application/vnd.jupyter.widget-state+json": {
        "e67bea6e38c54201a5b568d77336c223": {
          "model_module": "@jupyter-widgets/controls",
          "model_name": "HBoxModel",
          "model_module_version": "1.5.0",
          "state": {
            "_dom_classes": [],
            "_model_module": "@jupyter-widgets/controls",
            "_model_module_version": "1.5.0",
            "_model_name": "HBoxModel",
            "_view_count": null,
            "_view_module": "@jupyter-widgets/controls",
            "_view_module_version": "1.5.0",
            "_view_name": "HBoxView",
            "box_style": "",
            "children": [
              "IPY_MODEL_1b3f6b46d54e4c38816b574f25844925",
              "IPY_MODEL_457ce8f127224eb78b8cb849c6483990",
              "IPY_MODEL_b4f810af234148b88ebfd318a7b2eae6"
            ],
            "layout": "IPY_MODEL_7e85bc29b7f142a5adfe7cdeb6c9ed82"
          }
        },
        "1b3f6b46d54e4c38816b574f25844925": {
          "model_module": "@jupyter-widgets/controls",
          "model_name": "HTMLModel",
          "model_module_version": "1.5.0",
          "state": {
            "_dom_classes": [],
            "_model_module": "@jupyter-widgets/controls",
            "_model_module_version": "1.5.0",
            "_model_name": "HTMLModel",
            "_view_count": null,
            "_view_module": "@jupyter-widgets/controls",
            "_view_module_version": "1.5.0",
            "_view_name": "HTMLView",
            "description": "",
            "description_tooltip": null,
            "layout": "IPY_MODEL_605782b29b714d7d9ef97798732b23e2",
            "placeholder": "​",
            "style": "IPY_MODEL_0ea139e1007949abade656a5d90bf77b",
            "value": "tokenizer_config.json: 100%"
          }
        },
        "457ce8f127224eb78b8cb849c6483990": {
          "model_module": "@jupyter-widgets/controls",
          "model_name": "FloatProgressModel",
          "model_module_version": "1.5.0",
          "state": {
            "_dom_classes": [],
            "_model_module": "@jupyter-widgets/controls",
            "_model_module_version": "1.5.0",
            "_model_name": "FloatProgressModel",
            "_view_count": null,
            "_view_module": "@jupyter-widgets/controls",
            "_view_module_version": "1.5.0",
            "_view_name": "ProgressView",
            "bar_style": "success",
            "description": "",
            "description_tooltip": null,
            "layout": "IPY_MODEL_8dfa05ae416e4e0eb6fea31ecf126833",
            "max": 25,
            "min": 0,
            "orientation": "horizontal",
            "style": "IPY_MODEL_89357d8c72ca4b8a83b8cb845979dbf0",
            "value": 25
          }
        },
        "b4f810af234148b88ebfd318a7b2eae6": {
          "model_module": "@jupyter-widgets/controls",
          "model_name": "HTMLModel",
          "model_module_version": "1.5.0",
          "state": {
            "_dom_classes": [],
            "_model_module": "@jupyter-widgets/controls",
            "_model_module_version": "1.5.0",
            "_model_name": "HTMLModel",
            "_view_count": null,
            "_view_module": "@jupyter-widgets/controls",
            "_view_module_version": "1.5.0",
            "_view_name": "HTMLView",
            "description": "",
            "description_tooltip": null,
            "layout": "IPY_MODEL_780356a7e95a4caf8ee6781a999e7ab8",
            "placeholder": "​",
            "style": "IPY_MODEL_f46fb78b6f354991911d24ab9a754658",
            "value": " 25.0/25.0 [00:00&lt;00:00, 1.16kB/s]"
          }
        },
        "7e85bc29b7f142a5adfe7cdeb6c9ed82": {
          "model_module": "@jupyter-widgets/base",
          "model_name": "LayoutModel",
          "model_module_version": "1.2.0",
          "state": {
            "_model_module": "@jupyter-widgets/base",
            "_model_module_version": "1.2.0",
            "_model_name": "LayoutModel",
            "_view_count": null,
            "_view_module": "@jupyter-widgets/base",
            "_view_module_version": "1.2.0",
            "_view_name": "LayoutView",
            "align_content": null,
            "align_items": null,
            "align_self": null,
            "border": null,
            "bottom": null,
            "display": null,
            "flex": null,
            "flex_flow": null,
            "grid_area": null,
            "grid_auto_columns": null,
            "grid_auto_flow": null,
            "grid_auto_rows": null,
            "grid_column": null,
            "grid_gap": null,
            "grid_row": null,
            "grid_template_areas": null,
            "grid_template_columns": null,
            "grid_template_rows": null,
            "height": null,
            "justify_content": null,
            "justify_items": null,
            "left": null,
            "margin": null,
            "max_height": null,
            "max_width": null,
            "min_height": null,
            "min_width": null,
            "object_fit": null,
            "object_position": null,
            "order": null,
            "overflow": null,
            "overflow_x": null,
            "overflow_y": null,
            "padding": null,
            "right": null,
            "top": null,
            "visibility": null,
            "width": null
          }
        },
        "605782b29b714d7d9ef97798732b23e2": {
          "model_module": "@jupyter-widgets/base",
          "model_name": "LayoutModel",
          "model_module_version": "1.2.0",
          "state": {
            "_model_module": "@jupyter-widgets/base",
            "_model_module_version": "1.2.0",
            "_model_name": "LayoutModel",
            "_view_count": null,
            "_view_module": "@jupyter-widgets/base",
            "_view_module_version": "1.2.0",
            "_view_name": "LayoutView",
            "align_content": null,
            "align_items": null,
            "align_self": null,
            "border": null,
            "bottom": null,
            "display": null,
            "flex": null,
            "flex_flow": null,
            "grid_area": null,
            "grid_auto_columns": null,
            "grid_auto_flow": null,
            "grid_auto_rows": null,
            "grid_column": null,
            "grid_gap": null,
            "grid_row": null,
            "grid_template_areas": null,
            "grid_template_columns": null,
            "grid_template_rows": null,
            "height": null,
            "justify_content": null,
            "justify_items": null,
            "left": null,
            "margin": null,
            "max_height": null,
            "max_width": null,
            "min_height": null,
            "min_width": null,
            "object_fit": null,
            "object_position": null,
            "order": null,
            "overflow": null,
            "overflow_x": null,
            "overflow_y": null,
            "padding": null,
            "right": null,
            "top": null,
            "visibility": null,
            "width": null
          }
        },
        "0ea139e1007949abade656a5d90bf77b": {
          "model_module": "@jupyter-widgets/controls",
          "model_name": "DescriptionStyleModel",
          "model_module_version": "1.5.0",
          "state": {
            "_model_module": "@jupyter-widgets/controls",
            "_model_module_version": "1.5.0",
            "_model_name": "DescriptionStyleModel",
            "_view_count": null,
            "_view_module": "@jupyter-widgets/base",
            "_view_module_version": "1.2.0",
            "_view_name": "StyleView",
            "description_width": ""
          }
        },
        "8dfa05ae416e4e0eb6fea31ecf126833": {
          "model_module": "@jupyter-widgets/base",
          "model_name": "LayoutModel",
          "model_module_version": "1.2.0",
          "state": {
            "_model_module": "@jupyter-widgets/base",
            "_model_module_version": "1.2.0",
            "_model_name": "LayoutModel",
            "_view_count": null,
            "_view_module": "@jupyter-widgets/base",
            "_view_module_version": "1.2.0",
            "_view_name": "LayoutView",
            "align_content": null,
            "align_items": null,
            "align_self": null,
            "border": null,
            "bottom": null,
            "display": null,
            "flex": null,
            "flex_flow": null,
            "grid_area": null,
            "grid_auto_columns": null,
            "grid_auto_flow": null,
            "grid_auto_rows": null,
            "grid_column": null,
            "grid_gap": null,
            "grid_row": null,
            "grid_template_areas": null,
            "grid_template_columns": null,
            "grid_template_rows": null,
            "height": null,
            "justify_content": null,
            "justify_items": null,
            "left": null,
            "margin": null,
            "max_height": null,
            "max_width": null,
            "min_height": null,
            "min_width": null,
            "object_fit": null,
            "object_position": null,
            "order": null,
            "overflow": null,
            "overflow_x": null,
            "overflow_y": null,
            "padding": null,
            "right": null,
            "top": null,
            "visibility": null,
            "width": null
          }
        },
        "89357d8c72ca4b8a83b8cb845979dbf0": {
          "model_module": "@jupyter-widgets/controls",
          "model_name": "ProgressStyleModel",
          "model_module_version": "1.5.0",
          "state": {
            "_model_module": "@jupyter-widgets/controls",
            "_model_module_version": "1.5.0",
            "_model_name": "ProgressStyleModel",
            "_view_count": null,
            "_view_module": "@jupyter-widgets/base",
            "_view_module_version": "1.2.0",
            "_view_name": "StyleView",
            "bar_color": null,
            "description_width": ""
          }
        },
        "780356a7e95a4caf8ee6781a999e7ab8": {
          "model_module": "@jupyter-widgets/base",
          "model_name": "LayoutModel",
          "model_module_version": "1.2.0",
          "state": {
            "_model_module": "@jupyter-widgets/base",
            "_model_module_version": "1.2.0",
            "_model_name": "LayoutModel",
            "_view_count": null,
            "_view_module": "@jupyter-widgets/base",
            "_view_module_version": "1.2.0",
            "_view_name": "LayoutView",
            "align_content": null,
            "align_items": null,
            "align_self": null,
            "border": null,
            "bottom": null,
            "display": null,
            "flex": null,
            "flex_flow": null,
            "grid_area": null,
            "grid_auto_columns": null,
            "grid_auto_flow": null,
            "grid_auto_rows": null,
            "grid_column": null,
            "grid_gap": null,
            "grid_row": null,
            "grid_template_areas": null,
            "grid_template_columns": null,
            "grid_template_rows": null,
            "height": null,
            "justify_content": null,
            "justify_items": null,
            "left": null,
            "margin": null,
            "max_height": null,
            "max_width": null,
            "min_height": null,
            "min_width": null,
            "object_fit": null,
            "object_position": null,
            "order": null,
            "overflow": null,
            "overflow_x": null,
            "overflow_y": null,
            "padding": null,
            "right": null,
            "top": null,
            "visibility": null,
            "width": null
          }
        },
        "f46fb78b6f354991911d24ab9a754658": {
          "model_module": "@jupyter-widgets/controls",
          "model_name": "DescriptionStyleModel",
          "model_module_version": "1.5.0",
          "state": {
            "_model_module": "@jupyter-widgets/controls",
            "_model_module_version": "1.5.0",
            "_model_name": "DescriptionStyleModel",
            "_view_count": null,
            "_view_module": "@jupyter-widgets/base",
            "_view_module_version": "1.2.0",
            "_view_name": "StyleView",
            "description_width": ""
          }
        },
        "0c76242741b64202b5f64b9f5d0893df": {
          "model_module": "@jupyter-widgets/controls",
          "model_name": "HBoxModel",
          "model_module_version": "1.5.0",
          "state": {
            "_dom_classes": [],
            "_model_module": "@jupyter-widgets/controls",
            "_model_module_version": "1.5.0",
            "_model_name": "HBoxModel",
            "_view_count": null,
            "_view_module": "@jupyter-widgets/controls",
            "_view_module_version": "1.5.0",
            "_view_name": "HBoxView",
            "box_style": "",
            "children": [
              "IPY_MODEL_b2bc6201b14249d3aadca3d203aec5c8",
              "IPY_MODEL_8696400fa5a649c182a3e7579cf5a7e2",
              "IPY_MODEL_71d5ca6d4cd747f19e82716f42273b02"
            ],
            "layout": "IPY_MODEL_dff0498f74824c70bb452312231c18f2"
          }
        },
        "b2bc6201b14249d3aadca3d203aec5c8": {
          "model_module": "@jupyter-widgets/controls",
          "model_name": "HTMLModel",
          "model_module_version": "1.5.0",
          "state": {
            "_dom_classes": [],
            "_model_module": "@jupyter-widgets/controls",
            "_model_module_version": "1.5.0",
            "_model_name": "HTMLModel",
            "_view_count": null,
            "_view_module": "@jupyter-widgets/controls",
            "_view_module_version": "1.5.0",
            "_view_name": "HTMLView",
            "description": "",
            "description_tooltip": null,
            "layout": "IPY_MODEL_111a8c61908745fcb69eee4d32b8d798",
            "placeholder": "​",
            "style": "IPY_MODEL_46c56645ce10488098554eee5c0da3b1",
            "value": "spiece.model: 100%"
          }
        },
        "8696400fa5a649c182a3e7579cf5a7e2": {
          "model_module": "@jupyter-widgets/controls",
          "model_name": "FloatProgressModel",
          "model_module_version": "1.5.0",
          "state": {
            "_dom_classes": [],
            "_model_module": "@jupyter-widgets/controls",
            "_model_module_version": "1.5.0",
            "_model_name": "FloatProgressModel",
            "_view_count": null,
            "_view_module": "@jupyter-widgets/controls",
            "_view_module_version": "1.5.0",
            "_view_name": "ProgressView",
            "bar_style": "success",
            "description": "",
            "description_tooltip": null,
            "layout": "IPY_MODEL_6dde52f0d09e469cb9896bb9e47700ec",
            "max": 237990,
            "min": 0,
            "orientation": "horizontal",
            "style": "IPY_MODEL_e10e03e8ebf344c09b05bb2616c5a1d5",
            "value": 237990
          }
        },
        "71d5ca6d4cd747f19e82716f42273b02": {
          "model_module": "@jupyter-widgets/controls",
          "model_name": "HTMLModel",
          "model_module_version": "1.5.0",
          "state": {
            "_dom_classes": [],
            "_model_module": "@jupyter-widgets/controls",
            "_model_module_version": "1.5.0",
            "_model_name": "HTMLModel",
            "_view_count": null,
            "_view_module": "@jupyter-widgets/controls",
            "_view_module_version": "1.5.0",
            "_view_name": "HTMLView",
            "description": "",
            "description_tooltip": null,
            "layout": "IPY_MODEL_f157619ca7bf4136bf1c904d78c3a325",
            "placeholder": "​",
            "style": "IPY_MODEL_b15d4421a2b941ef9f785afe7c02f961",
            "value": " 238k/238k [00:00&lt;00:00, 484kB/s]"
          }
        },
        "dff0498f74824c70bb452312231c18f2": {
          "model_module": "@jupyter-widgets/base",
          "model_name": "LayoutModel",
          "model_module_version": "1.2.0",
          "state": {
            "_model_module": "@jupyter-widgets/base",
            "_model_module_version": "1.2.0",
            "_model_name": "LayoutModel",
            "_view_count": null,
            "_view_module": "@jupyter-widgets/base",
            "_view_module_version": "1.2.0",
            "_view_name": "LayoutView",
            "align_content": null,
            "align_items": null,
            "align_self": null,
            "border": null,
            "bottom": null,
            "display": null,
            "flex": null,
            "flex_flow": null,
            "grid_area": null,
            "grid_auto_columns": null,
            "grid_auto_flow": null,
            "grid_auto_rows": null,
            "grid_column": null,
            "grid_gap": null,
            "grid_row": null,
            "grid_template_areas": null,
            "grid_template_columns": null,
            "grid_template_rows": null,
            "height": null,
            "justify_content": null,
            "justify_items": null,
            "left": null,
            "margin": null,
            "max_height": null,
            "max_width": null,
            "min_height": null,
            "min_width": null,
            "object_fit": null,
            "object_position": null,
            "order": null,
            "overflow": null,
            "overflow_x": null,
            "overflow_y": null,
            "padding": null,
            "right": null,
            "top": null,
            "visibility": null,
            "width": null
          }
        },
        "111a8c61908745fcb69eee4d32b8d798": {
          "model_module": "@jupyter-widgets/base",
          "model_name": "LayoutModel",
          "model_module_version": "1.2.0",
          "state": {
            "_model_module": "@jupyter-widgets/base",
            "_model_module_version": "1.2.0",
            "_model_name": "LayoutModel",
            "_view_count": null,
            "_view_module": "@jupyter-widgets/base",
            "_view_module_version": "1.2.0",
            "_view_name": "LayoutView",
            "align_content": null,
            "align_items": null,
            "align_self": null,
            "border": null,
            "bottom": null,
            "display": null,
            "flex": null,
            "flex_flow": null,
            "grid_area": null,
            "grid_auto_columns": null,
            "grid_auto_flow": null,
            "grid_auto_rows": null,
            "grid_column": null,
            "grid_gap": null,
            "grid_row": null,
            "grid_template_areas": null,
            "grid_template_columns": null,
            "grid_template_rows": null,
            "height": null,
            "justify_content": null,
            "justify_items": null,
            "left": null,
            "margin": null,
            "max_height": null,
            "max_width": null,
            "min_height": null,
            "min_width": null,
            "object_fit": null,
            "object_position": null,
            "order": null,
            "overflow": null,
            "overflow_x": null,
            "overflow_y": null,
            "padding": null,
            "right": null,
            "top": null,
            "visibility": null,
            "width": null
          }
        },
        "46c56645ce10488098554eee5c0da3b1": {
          "model_module": "@jupyter-widgets/controls",
          "model_name": "DescriptionStyleModel",
          "model_module_version": "1.5.0",
          "state": {
            "_model_module": "@jupyter-widgets/controls",
            "_model_module_version": "1.5.0",
            "_model_name": "DescriptionStyleModel",
            "_view_count": null,
            "_view_module": "@jupyter-widgets/base",
            "_view_module_version": "1.2.0",
            "_view_name": "StyleView",
            "description_width": ""
          }
        },
        "6dde52f0d09e469cb9896bb9e47700ec": {
          "model_module": "@jupyter-widgets/base",
          "model_name": "LayoutModel",
          "model_module_version": "1.2.0",
          "state": {
            "_model_module": "@jupyter-widgets/base",
            "_model_module_version": "1.2.0",
            "_model_name": "LayoutModel",
            "_view_count": null,
            "_view_module": "@jupyter-widgets/base",
            "_view_module_version": "1.2.0",
            "_view_name": "LayoutView",
            "align_content": null,
            "align_items": null,
            "align_self": null,
            "border": null,
            "bottom": null,
            "display": null,
            "flex": null,
            "flex_flow": null,
            "grid_area": null,
            "grid_auto_columns": null,
            "grid_auto_flow": null,
            "grid_auto_rows": null,
            "grid_column": null,
            "grid_gap": null,
            "grid_row": null,
            "grid_template_areas": null,
            "grid_template_columns": null,
            "grid_template_rows": null,
            "height": null,
            "justify_content": null,
            "justify_items": null,
            "left": null,
            "margin": null,
            "max_height": null,
            "max_width": null,
            "min_height": null,
            "min_width": null,
            "object_fit": null,
            "object_position": null,
            "order": null,
            "overflow": null,
            "overflow_x": null,
            "overflow_y": null,
            "padding": null,
            "right": null,
            "top": null,
            "visibility": null,
            "width": null
          }
        },
        "e10e03e8ebf344c09b05bb2616c5a1d5": {
          "model_module": "@jupyter-widgets/controls",
          "model_name": "ProgressStyleModel",
          "model_module_version": "1.5.0",
          "state": {
            "_model_module": "@jupyter-widgets/controls",
            "_model_module_version": "1.5.0",
            "_model_name": "ProgressStyleModel",
            "_view_count": null,
            "_view_module": "@jupyter-widgets/base",
            "_view_module_version": "1.2.0",
            "_view_name": "StyleView",
            "bar_color": null,
            "description_width": ""
          }
        },
        "f157619ca7bf4136bf1c904d78c3a325": {
          "model_module": "@jupyter-widgets/base",
          "model_name": "LayoutModel",
          "model_module_version": "1.2.0",
          "state": {
            "_model_module": "@jupyter-widgets/base",
            "_model_module_version": "1.2.0",
            "_model_name": "LayoutModel",
            "_view_count": null,
            "_view_module": "@jupyter-widgets/base",
            "_view_module_version": "1.2.0",
            "_view_name": "LayoutView",
            "align_content": null,
            "align_items": null,
            "align_self": null,
            "border": null,
            "bottom": null,
            "display": null,
            "flex": null,
            "flex_flow": null,
            "grid_area": null,
            "grid_auto_columns": null,
            "grid_auto_flow": null,
            "grid_auto_rows": null,
            "grid_column": null,
            "grid_gap": null,
            "grid_row": null,
            "grid_template_areas": null,
            "grid_template_columns": null,
            "grid_template_rows": null,
            "height": null,
            "justify_content": null,
            "justify_items": null,
            "left": null,
            "margin": null,
            "max_height": null,
            "max_width": null,
            "min_height": null,
            "min_width": null,
            "object_fit": null,
            "object_position": null,
            "order": null,
            "overflow": null,
            "overflow_x": null,
            "overflow_y": null,
            "padding": null,
            "right": null,
            "top": null,
            "visibility": null,
            "width": null
          }
        },
        "b15d4421a2b941ef9f785afe7c02f961": {
          "model_module": "@jupyter-widgets/controls",
          "model_name": "DescriptionStyleModel",
          "model_module_version": "1.5.0",
          "state": {
            "_model_module": "@jupyter-widgets/controls",
            "_model_module_version": "1.5.0",
            "_model_name": "DescriptionStyleModel",
            "_view_count": null,
            "_view_module": "@jupyter-widgets/base",
            "_view_module_version": "1.2.0",
            "_view_name": "StyleView",
            "description_width": ""
          }
        },
        "cb0f3383a36d45639c488f509f145c75": {
          "model_module": "@jupyter-widgets/controls",
          "model_name": "HBoxModel",
          "model_module_version": "1.5.0",
          "state": {
            "_dom_classes": [],
            "_model_module": "@jupyter-widgets/controls",
            "_model_module_version": "1.5.0",
            "_model_name": "HBoxModel",
            "_view_count": null,
            "_view_module": "@jupyter-widgets/controls",
            "_view_module_version": "1.5.0",
            "_view_name": "HBoxView",
            "box_style": "",
            "children": [
              "IPY_MODEL_4007381404b14ec8a465ee9794c4a6af",
              "IPY_MODEL_4c18848989a04c818de744289370f8d2",
              "IPY_MODEL_e05d91dffc44492ba9b96a0c7a8b5062"
            ],
            "layout": "IPY_MODEL_4b7eb517a5bc4c3eb05242c43181826c"
          }
        },
        "4007381404b14ec8a465ee9794c4a6af": {
          "model_module": "@jupyter-widgets/controls",
          "model_name": "HTMLModel",
          "model_module_version": "1.5.0",
          "state": {
            "_dom_classes": [],
            "_model_module": "@jupyter-widgets/controls",
            "_model_module_version": "1.5.0",
            "_model_name": "HTMLModel",
            "_view_count": null,
            "_view_module": "@jupyter-widgets/controls",
            "_view_module_version": "1.5.0",
            "_view_name": "HTMLView",
            "description": "",
            "description_tooltip": null,
            "layout": "IPY_MODEL_9561a9f9aa724cdfa7f6225b45dc0101",
            "placeholder": "​",
            "style": "IPY_MODEL_75067ac9a5bc48d694d625f7efaa666b",
            "value": "special_tokens_map.json: 100%"
          }
        },
        "4c18848989a04c818de744289370f8d2": {
          "model_module": "@jupyter-widgets/controls",
          "model_name": "FloatProgressModel",
          "model_module_version": "1.5.0",
          "state": {
            "_dom_classes": [],
            "_model_module": "@jupyter-widgets/controls",
            "_model_module_version": "1.5.0",
            "_model_name": "FloatProgressModel",
            "_view_count": null,
            "_view_module": "@jupyter-widgets/controls",
            "_view_module_version": "1.5.0",
            "_view_name": "ProgressView",
            "bar_style": "success",
            "description": "",
            "description_tooltip": null,
            "layout": "IPY_MODEL_cf6a40d6a3024101a478407a4529e3b8",
            "max": 1787,
            "min": 0,
            "orientation": "horizontal",
            "style": "IPY_MODEL_7ee4ff66036843d9ab1d96f9cf1cafe4",
            "value": 1787
          }
        },
        "e05d91dffc44492ba9b96a0c7a8b5062": {
          "model_module": "@jupyter-widgets/controls",
          "model_name": "HTMLModel",
          "model_module_version": "1.5.0",
          "state": {
            "_dom_classes": [],
            "_model_module": "@jupyter-widgets/controls",
            "_model_module_version": "1.5.0",
            "_model_name": "HTMLModel",
            "_view_count": null,
            "_view_module": "@jupyter-widgets/controls",
            "_view_module_version": "1.5.0",
            "_view_name": "HTMLView",
            "description": "",
            "description_tooltip": null,
            "layout": "IPY_MODEL_6685d7cb18e047c6b68726ae8196028b",
            "placeholder": "​",
            "style": "IPY_MODEL_559b855651bd4390a54dfbbcc4e03bb0",
            "value": " 1.79k/1.79k [00:00&lt;00:00, 129kB/s]"
          }
        },
        "4b7eb517a5bc4c3eb05242c43181826c": {
          "model_module": "@jupyter-widgets/base",
          "model_name": "LayoutModel",
          "model_module_version": "1.2.0",
          "state": {
            "_model_module": "@jupyter-widgets/base",
            "_model_module_version": "1.2.0",
            "_model_name": "LayoutModel",
            "_view_count": null,
            "_view_module": "@jupyter-widgets/base",
            "_view_module_version": "1.2.0",
            "_view_name": "LayoutView",
            "align_content": null,
            "align_items": null,
            "align_self": null,
            "border": null,
            "bottom": null,
            "display": null,
            "flex": null,
            "flex_flow": null,
            "grid_area": null,
            "grid_auto_columns": null,
            "grid_auto_flow": null,
            "grid_auto_rows": null,
            "grid_column": null,
            "grid_gap": null,
            "grid_row": null,
            "grid_template_areas": null,
            "grid_template_columns": null,
            "grid_template_rows": null,
            "height": null,
            "justify_content": null,
            "justify_items": null,
            "left": null,
            "margin": null,
            "max_height": null,
            "max_width": null,
            "min_height": null,
            "min_width": null,
            "object_fit": null,
            "object_position": null,
            "order": null,
            "overflow": null,
            "overflow_x": null,
            "overflow_y": null,
            "padding": null,
            "right": null,
            "top": null,
            "visibility": null,
            "width": null
          }
        },
        "9561a9f9aa724cdfa7f6225b45dc0101": {
          "model_module": "@jupyter-widgets/base",
          "model_name": "LayoutModel",
          "model_module_version": "1.2.0",
          "state": {
            "_model_module": "@jupyter-widgets/base",
            "_model_module_version": "1.2.0",
            "_model_name": "LayoutModel",
            "_view_count": null,
            "_view_module": "@jupyter-widgets/base",
            "_view_module_version": "1.2.0",
            "_view_name": "LayoutView",
            "align_content": null,
            "align_items": null,
            "align_self": null,
            "border": null,
            "bottom": null,
            "display": null,
            "flex": null,
            "flex_flow": null,
            "grid_area": null,
            "grid_auto_columns": null,
            "grid_auto_flow": null,
            "grid_auto_rows": null,
            "grid_column": null,
            "grid_gap": null,
            "grid_row": null,
            "grid_template_areas": null,
            "grid_template_columns": null,
            "grid_template_rows": null,
            "height": null,
            "justify_content": null,
            "justify_items": null,
            "left": null,
            "margin": null,
            "max_height": null,
            "max_width": null,
            "min_height": null,
            "min_width": null,
            "object_fit": null,
            "object_position": null,
            "order": null,
            "overflow": null,
            "overflow_x": null,
            "overflow_y": null,
            "padding": null,
            "right": null,
            "top": null,
            "visibility": null,
            "width": null
          }
        },
        "75067ac9a5bc48d694d625f7efaa666b": {
          "model_module": "@jupyter-widgets/controls",
          "model_name": "DescriptionStyleModel",
          "model_module_version": "1.5.0",
          "state": {
            "_model_module": "@jupyter-widgets/controls",
            "_model_module_version": "1.5.0",
            "_model_name": "DescriptionStyleModel",
            "_view_count": null,
            "_view_module": "@jupyter-widgets/base",
            "_view_module_version": "1.2.0",
            "_view_name": "StyleView",
            "description_width": ""
          }
        },
        "cf6a40d6a3024101a478407a4529e3b8": {
          "model_module": "@jupyter-widgets/base",
          "model_name": "LayoutModel",
          "model_module_version": "1.2.0",
          "state": {
            "_model_module": "@jupyter-widgets/base",
            "_model_module_version": "1.2.0",
            "_model_name": "LayoutModel",
            "_view_count": null,
            "_view_module": "@jupyter-widgets/base",
            "_view_module_version": "1.2.0",
            "_view_name": "LayoutView",
            "align_content": null,
            "align_items": null,
            "align_self": null,
            "border": null,
            "bottom": null,
            "display": null,
            "flex": null,
            "flex_flow": null,
            "grid_area": null,
            "grid_auto_columns": null,
            "grid_auto_flow": null,
            "grid_auto_rows": null,
            "grid_column": null,
            "grid_gap": null,
            "grid_row": null,
            "grid_template_areas": null,
            "grid_template_columns": null,
            "grid_template_rows": null,
            "height": null,
            "justify_content": null,
            "justify_items": null,
            "left": null,
            "margin": null,
            "max_height": null,
            "max_width": null,
            "min_height": null,
            "min_width": null,
            "object_fit": null,
            "object_position": null,
            "order": null,
            "overflow": null,
            "overflow_x": null,
            "overflow_y": null,
            "padding": null,
            "right": null,
            "top": null,
            "visibility": null,
            "width": null
          }
        },
        "7ee4ff66036843d9ab1d96f9cf1cafe4": {
          "model_module": "@jupyter-widgets/controls",
          "model_name": "ProgressStyleModel",
          "model_module_version": "1.5.0",
          "state": {
            "_model_module": "@jupyter-widgets/controls",
            "_model_module_version": "1.5.0",
            "_model_name": "ProgressStyleModel",
            "_view_count": null,
            "_view_module": "@jupyter-widgets/base",
            "_view_module_version": "1.2.0",
            "_view_name": "StyleView",
            "bar_color": null,
            "description_width": ""
          }
        },
        "6685d7cb18e047c6b68726ae8196028b": {
          "model_module": "@jupyter-widgets/base",
          "model_name": "LayoutModel",
          "model_module_version": "1.2.0",
          "state": {
            "_model_module": "@jupyter-widgets/base",
            "_model_module_version": "1.2.0",
            "_model_name": "LayoutModel",
            "_view_count": null,
            "_view_module": "@jupyter-widgets/base",
            "_view_module_version": "1.2.0",
            "_view_name": "LayoutView",
            "align_content": null,
            "align_items": null,
            "align_self": null,
            "border": null,
            "bottom": null,
            "display": null,
            "flex": null,
            "flex_flow": null,
            "grid_area": null,
            "grid_auto_columns": null,
            "grid_auto_flow": null,
            "grid_auto_rows": null,
            "grid_column": null,
            "grid_gap": null,
            "grid_row": null,
            "grid_template_areas": null,
            "grid_template_columns": null,
            "grid_template_rows": null,
            "height": null,
            "justify_content": null,
            "justify_items": null,
            "left": null,
            "margin": null,
            "max_height": null,
            "max_width": null,
            "min_height": null,
            "min_width": null,
            "object_fit": null,
            "object_position": null,
            "order": null,
            "overflow": null,
            "overflow_x": null,
            "overflow_y": null,
            "padding": null,
            "right": null,
            "top": null,
            "visibility": null,
            "width": null
          }
        },
        "559b855651bd4390a54dfbbcc4e03bb0": {
          "model_module": "@jupyter-widgets/controls",
          "model_name": "DescriptionStyleModel",
          "model_module_version": "1.5.0",
          "state": {
            "_model_module": "@jupyter-widgets/controls",
            "_model_module_version": "1.5.0",
            "_model_name": "DescriptionStyleModel",
            "_view_count": null,
            "_view_module": "@jupyter-widgets/base",
            "_view_module_version": "1.2.0",
            "_view_name": "StyleView",
            "description_width": ""
          }
        },
        "27fe087bf2f84f10b18537966170b120": {
          "model_module": "@jupyter-widgets/controls",
          "model_name": "HBoxModel",
          "model_module_version": "1.5.0",
          "state": {
            "_dom_classes": [],
            "_model_module": "@jupyter-widgets/controls",
            "_model_module_version": "1.5.0",
            "_model_name": "HBoxModel",
            "_view_count": null,
            "_view_module": "@jupyter-widgets/controls",
            "_view_module_version": "1.5.0",
            "_view_name": "HBoxView",
            "box_style": "",
            "children": [
              "IPY_MODEL_9ef69d691aa94140b9913d7557e165a3",
              "IPY_MODEL_46aba61b2e3b44039861d582ad1b5ed6",
              "IPY_MODEL_a6810a94e2c14bd28233b41e76f9ab06"
            ],
            "layout": "IPY_MODEL_dd88a5415182444aa2e8cf34fba8a069"
          }
        },
        "9ef69d691aa94140b9913d7557e165a3": {
          "model_module": "@jupyter-widgets/controls",
          "model_name": "HTMLModel",
          "model_module_version": "1.5.0",
          "state": {
            "_dom_classes": [],
            "_model_module": "@jupyter-widgets/controls",
            "_model_module_version": "1.5.0",
            "_model_name": "HTMLModel",
            "_view_count": null,
            "_view_module": "@jupyter-widgets/controls",
            "_view_module_version": "1.5.0",
            "_view_name": "HTMLView",
            "description": "",
            "description_tooltip": null,
            "layout": "IPY_MODEL_414078b8a072423e895ce1c75af40d81",
            "placeholder": "​",
            "style": "IPY_MODEL_6c29caa976fb4ef88388ffc00537bdf9",
            "value": "config.json: 100%"
          }
        },
        "46aba61b2e3b44039861d582ad1b5ed6": {
          "model_module": "@jupyter-widgets/controls",
          "model_name": "FloatProgressModel",
          "model_module_version": "1.5.0",
          "state": {
            "_dom_classes": [],
            "_model_module": "@jupyter-widgets/controls",
            "_model_module_version": "1.5.0",
            "_model_name": "FloatProgressModel",
            "_view_count": null,
            "_view_module": "@jupyter-widgets/controls",
            "_view_module_version": "1.5.0",
            "_view_name": "ProgressView",
            "bar_style": "success",
            "description": "",
            "description_tooltip": null,
            "layout": "IPY_MODEL_8adfe4d3a62748e2956dfcfb4cf2e9f3",
            "max": 656,
            "min": 0,
            "orientation": "horizontal",
            "style": "IPY_MODEL_367254e87fba42dd82bfcb8e8dbc0eec",
            "value": 656
          }
        },
        "a6810a94e2c14bd28233b41e76f9ab06": {
          "model_module": "@jupyter-widgets/controls",
          "model_name": "HTMLModel",
          "model_module_version": "1.5.0",
          "state": {
            "_dom_classes": [],
            "_model_module": "@jupyter-widgets/controls",
            "_model_module_version": "1.5.0",
            "_model_name": "HTMLModel",
            "_view_count": null,
            "_view_module": "@jupyter-widgets/controls",
            "_view_module_version": "1.5.0",
            "_view_name": "HTMLView",
            "description": "",
            "description_tooltip": null,
            "layout": "IPY_MODEL_095ebcf5fe1b4ce399616d97c9bbd22e",
            "placeholder": "​",
            "style": "IPY_MODEL_e0b33d0d87474d4db4c81db34b619efb",
            "value": " 656/656 [00:00&lt;00:00, 47.5kB/s]"
          }
        },
        "dd88a5415182444aa2e8cf34fba8a069": {
          "model_module": "@jupyter-widgets/base",
          "model_name": "LayoutModel",
          "model_module_version": "1.2.0",
          "state": {
            "_model_module": "@jupyter-widgets/base",
            "_model_module_version": "1.2.0",
            "_model_name": "LayoutModel",
            "_view_count": null,
            "_view_module": "@jupyter-widgets/base",
            "_view_module_version": "1.2.0",
            "_view_name": "LayoutView",
            "align_content": null,
            "align_items": null,
            "align_self": null,
            "border": null,
            "bottom": null,
            "display": null,
            "flex": null,
            "flex_flow": null,
            "grid_area": null,
            "grid_auto_columns": null,
            "grid_auto_flow": null,
            "grid_auto_rows": null,
            "grid_column": null,
            "grid_gap": null,
            "grid_row": null,
            "grid_template_areas": null,
            "grid_template_columns": null,
            "grid_template_rows": null,
            "height": null,
            "justify_content": null,
            "justify_items": null,
            "left": null,
            "margin": null,
            "max_height": null,
            "max_width": null,
            "min_height": null,
            "min_width": null,
            "object_fit": null,
            "object_position": null,
            "order": null,
            "overflow": null,
            "overflow_x": null,
            "overflow_y": null,
            "padding": null,
            "right": null,
            "top": null,
            "visibility": null,
            "width": null
          }
        },
        "414078b8a072423e895ce1c75af40d81": {
          "model_module": "@jupyter-widgets/base",
          "model_name": "LayoutModel",
          "model_module_version": "1.2.0",
          "state": {
            "_model_module": "@jupyter-widgets/base",
            "_model_module_version": "1.2.0",
            "_model_name": "LayoutModel",
            "_view_count": null,
            "_view_module": "@jupyter-widgets/base",
            "_view_module_version": "1.2.0",
            "_view_name": "LayoutView",
            "align_content": null,
            "align_items": null,
            "align_self": null,
            "border": null,
            "bottom": null,
            "display": null,
            "flex": null,
            "flex_flow": null,
            "grid_area": null,
            "grid_auto_columns": null,
            "grid_auto_flow": null,
            "grid_auto_rows": null,
            "grid_column": null,
            "grid_gap": null,
            "grid_row": null,
            "grid_template_areas": null,
            "grid_template_columns": null,
            "grid_template_rows": null,
            "height": null,
            "justify_content": null,
            "justify_items": null,
            "left": null,
            "margin": null,
            "max_height": null,
            "max_width": null,
            "min_height": null,
            "min_width": null,
            "object_fit": null,
            "object_position": null,
            "order": null,
            "overflow": null,
            "overflow_x": null,
            "overflow_y": null,
            "padding": null,
            "right": null,
            "top": null,
            "visibility": null,
            "width": null
          }
        },
        "6c29caa976fb4ef88388ffc00537bdf9": {
          "model_module": "@jupyter-widgets/controls",
          "model_name": "DescriptionStyleModel",
          "model_module_version": "1.5.0",
          "state": {
            "_model_module": "@jupyter-widgets/controls",
            "_model_module_version": "1.5.0",
            "_model_name": "DescriptionStyleModel",
            "_view_count": null,
            "_view_module": "@jupyter-widgets/base",
            "_view_module_version": "1.2.0",
            "_view_name": "StyleView",
            "description_width": ""
          }
        },
        "8adfe4d3a62748e2956dfcfb4cf2e9f3": {
          "model_module": "@jupyter-widgets/base",
          "model_name": "LayoutModel",
          "model_module_version": "1.2.0",
          "state": {
            "_model_module": "@jupyter-widgets/base",
            "_model_module_version": "1.2.0",
            "_model_name": "LayoutModel",
            "_view_count": null,
            "_view_module": "@jupyter-widgets/base",
            "_view_module_version": "1.2.0",
            "_view_name": "LayoutView",
            "align_content": null,
            "align_items": null,
            "align_self": null,
            "border": null,
            "bottom": null,
            "display": null,
            "flex": null,
            "flex_flow": null,
            "grid_area": null,
            "grid_auto_columns": null,
            "grid_auto_flow": null,
            "grid_auto_rows": null,
            "grid_column": null,
            "grid_gap": null,
            "grid_row": null,
            "grid_template_areas": null,
            "grid_template_columns": null,
            "grid_template_rows": null,
            "height": null,
            "justify_content": null,
            "justify_items": null,
            "left": null,
            "margin": null,
            "max_height": null,
            "max_width": null,
            "min_height": null,
            "min_width": null,
            "object_fit": null,
            "object_position": null,
            "order": null,
            "overflow": null,
            "overflow_x": null,
            "overflow_y": null,
            "padding": null,
            "right": null,
            "top": null,
            "visibility": null,
            "width": null
          }
        },
        "367254e87fba42dd82bfcb8e8dbc0eec": {
          "model_module": "@jupyter-widgets/controls",
          "model_name": "ProgressStyleModel",
          "model_module_version": "1.5.0",
          "state": {
            "_model_module": "@jupyter-widgets/controls",
            "_model_module_version": "1.5.0",
            "_model_name": "ProgressStyleModel",
            "_view_count": null,
            "_view_module": "@jupyter-widgets/base",
            "_view_module_version": "1.2.0",
            "_view_name": "StyleView",
            "bar_color": null,
            "description_width": ""
          }
        },
        "095ebcf5fe1b4ce399616d97c9bbd22e": {
          "model_module": "@jupyter-widgets/base",
          "model_name": "LayoutModel",
          "model_module_version": "1.2.0",
          "state": {
            "_model_module": "@jupyter-widgets/base",
            "_model_module_version": "1.2.0",
            "_model_name": "LayoutModel",
            "_view_count": null,
            "_view_module": "@jupyter-widgets/base",
            "_view_module_version": "1.2.0",
            "_view_name": "LayoutView",
            "align_content": null,
            "align_items": null,
            "align_self": null,
            "border": null,
            "bottom": null,
            "display": null,
            "flex": null,
            "flex_flow": null,
            "grid_area": null,
            "grid_auto_columns": null,
            "grid_auto_flow": null,
            "grid_auto_rows": null,
            "grid_column": null,
            "grid_gap": null,
            "grid_row": null,
            "grid_template_areas": null,
            "grid_template_columns": null,
            "grid_template_rows": null,
            "height": null,
            "justify_content": null,
            "justify_items": null,
            "left": null,
            "margin": null,
            "max_height": null,
            "max_width": null,
            "min_height": null,
            "min_width": null,
            "object_fit": null,
            "object_position": null,
            "order": null,
            "overflow": null,
            "overflow_x": null,
            "overflow_y": null,
            "padding": null,
            "right": null,
            "top": null,
            "visibility": null,
            "width": null
          }
        },
        "e0b33d0d87474d4db4c81db34b619efb": {
          "model_module": "@jupyter-widgets/controls",
          "model_name": "DescriptionStyleModel",
          "model_module_version": "1.5.0",
          "state": {
            "_model_module": "@jupyter-widgets/controls",
            "_model_module_version": "1.5.0",
            "_model_name": "DescriptionStyleModel",
            "_view_count": null,
            "_view_module": "@jupyter-widgets/base",
            "_view_module_version": "1.2.0",
            "_view_name": "StyleView",
            "description_width": ""
          }
        },
        "301833acfe354545a92908cb8ebd78c5": {
          "model_module": "@jupyter-widgets/controls",
          "model_name": "HBoxModel",
          "model_module_version": "1.5.0",
          "state": {
            "_dom_classes": [],
            "_model_module": "@jupyter-widgets/controls",
            "_model_module_version": "1.5.0",
            "_model_name": "HBoxModel",
            "_view_count": null,
            "_view_module": "@jupyter-widgets/controls",
            "_view_module_version": "1.5.0",
            "_view_name": "HBoxView",
            "box_style": "",
            "children": [
              "IPY_MODEL_5705d76687d443f0a2ed47ab851aca98",
              "IPY_MODEL_9ed2bc61708d47cdaadbe0e29a1b1918",
              "IPY_MODEL_2098aac04dc44a519e7c3c3b2dba71cd"
            ],
            "layout": "IPY_MODEL_3321477c132e46198d28e9dcdf058c6e"
          }
        },
        "5705d76687d443f0a2ed47ab851aca98": {
          "model_module": "@jupyter-widgets/controls",
          "model_name": "HTMLModel",
          "model_module_version": "1.5.0",
          "state": {
            "_dom_classes": [],
            "_model_module": "@jupyter-widgets/controls",
            "_model_module_version": "1.5.0",
            "_model_name": "HTMLModel",
            "_view_count": null,
            "_view_module": "@jupyter-widgets/controls",
            "_view_module_version": "1.5.0",
            "_view_name": "HTMLView",
            "description": "",
            "description_tooltip": null,
            "layout": "IPY_MODEL_0f17bb650ccf4162b118aed2770df143",
            "placeholder": "​",
            "style": "IPY_MODEL_c872f2831e024501ba3aadd31ed26c16",
            "value": "pytorch_model.bin: 100%"
          }
        },
        "9ed2bc61708d47cdaadbe0e29a1b1918": {
          "model_module": "@jupyter-widgets/controls",
          "model_name": "FloatProgressModel",
          "model_module_version": "1.5.0",
          "state": {
            "_dom_classes": [],
            "_model_module": "@jupyter-widgets/controls",
            "_model_module_version": "1.5.0",
            "_model_name": "FloatProgressModel",
            "_view_count": null,
            "_view_module": "@jupyter-widgets/controls",
            "_view_module_version": "1.5.0",
            "_view_name": "ProgressView",
            "bar_style": "success",
            "description": "",
            "description_tooltip": null,
            "layout": "IPY_MODEL_4e7bddb0683145f6bc9f37497be4b637",
            "max": 2416373051,
            "min": 0,
            "orientation": "horizontal",
            "style": "IPY_MODEL_ad9a28d87b60439a8d7a2656bf24c203",
            "value": 2416373051
          }
        },
        "2098aac04dc44a519e7c3c3b2dba71cd": {
          "model_module": "@jupyter-widgets/controls",
          "model_name": "HTMLModel",
          "model_module_version": "1.5.0",
          "state": {
            "_dom_classes": [],
            "_model_module": "@jupyter-widgets/controls",
            "_model_module_version": "1.5.0",
            "_model_name": "HTMLModel",
            "_view_count": null,
            "_view_module": "@jupyter-widgets/controls",
            "_view_module_version": "1.5.0",
            "_view_name": "HTMLView",
            "description": "",
            "description_tooltip": null,
            "layout": "IPY_MODEL_eba91c64c5fa496b891dd4f1f0f7421b",
            "placeholder": "​",
            "style": "IPY_MODEL_1030cdd5c7b943d78e906e0245ec81b5",
            "value": " 2.42G/2.42G [00:18&lt;00:00, 216MB/s]"
          }
        },
        "3321477c132e46198d28e9dcdf058c6e": {
          "model_module": "@jupyter-widgets/base",
          "model_name": "LayoutModel",
          "model_module_version": "1.2.0",
          "state": {
            "_model_module": "@jupyter-widgets/base",
            "_model_module_version": "1.2.0",
            "_model_name": "LayoutModel",
            "_view_count": null,
            "_view_module": "@jupyter-widgets/base",
            "_view_module_version": "1.2.0",
            "_view_name": "LayoutView",
            "align_content": null,
            "align_items": null,
            "align_self": null,
            "border": null,
            "bottom": null,
            "display": null,
            "flex": null,
            "flex_flow": null,
            "grid_area": null,
            "grid_auto_columns": null,
            "grid_auto_flow": null,
            "grid_auto_rows": null,
            "grid_column": null,
            "grid_gap": null,
            "grid_row": null,
            "grid_template_areas": null,
            "grid_template_columns": null,
            "grid_template_rows": null,
            "height": null,
            "justify_content": null,
            "justify_items": null,
            "left": null,
            "margin": null,
            "max_height": null,
            "max_width": null,
            "min_height": null,
            "min_width": null,
            "object_fit": null,
            "object_position": null,
            "order": null,
            "overflow": null,
            "overflow_x": null,
            "overflow_y": null,
            "padding": null,
            "right": null,
            "top": null,
            "visibility": null,
            "width": null
          }
        },
        "0f17bb650ccf4162b118aed2770df143": {
          "model_module": "@jupyter-widgets/base",
          "model_name": "LayoutModel",
          "model_module_version": "1.2.0",
          "state": {
            "_model_module": "@jupyter-widgets/base",
            "_model_module_version": "1.2.0",
            "_model_name": "LayoutModel",
            "_view_count": null,
            "_view_module": "@jupyter-widgets/base",
            "_view_module_version": "1.2.0",
            "_view_name": "LayoutView",
            "align_content": null,
            "align_items": null,
            "align_self": null,
            "border": null,
            "bottom": null,
            "display": null,
            "flex": null,
            "flex_flow": null,
            "grid_area": null,
            "grid_auto_columns": null,
            "grid_auto_flow": null,
            "grid_auto_rows": null,
            "grid_column": null,
            "grid_gap": null,
            "grid_row": null,
            "grid_template_areas": null,
            "grid_template_columns": null,
            "grid_template_rows": null,
            "height": null,
            "justify_content": null,
            "justify_items": null,
            "left": null,
            "margin": null,
            "max_height": null,
            "max_width": null,
            "min_height": null,
            "min_width": null,
            "object_fit": null,
            "object_position": null,
            "order": null,
            "overflow": null,
            "overflow_x": null,
            "overflow_y": null,
            "padding": null,
            "right": null,
            "top": null,
            "visibility": null,
            "width": null
          }
        },
        "c872f2831e024501ba3aadd31ed26c16": {
          "model_module": "@jupyter-widgets/controls",
          "model_name": "DescriptionStyleModel",
          "model_module_version": "1.5.0",
          "state": {
            "_model_module": "@jupyter-widgets/controls",
            "_model_module_version": "1.5.0",
            "_model_name": "DescriptionStyleModel",
            "_view_count": null,
            "_view_module": "@jupyter-widgets/base",
            "_view_module_version": "1.2.0",
            "_view_name": "StyleView",
            "description_width": ""
          }
        },
        "4e7bddb0683145f6bc9f37497be4b637": {
          "model_module": "@jupyter-widgets/base",
          "model_name": "LayoutModel",
          "model_module_version": "1.2.0",
          "state": {
            "_model_module": "@jupyter-widgets/base",
            "_model_module_version": "1.2.0",
            "_model_name": "LayoutModel",
            "_view_count": null,
            "_view_module": "@jupyter-widgets/base",
            "_view_module_version": "1.2.0",
            "_view_name": "LayoutView",
            "align_content": null,
            "align_items": null,
            "align_self": null,
            "border": null,
            "bottom": null,
            "display": null,
            "flex": null,
            "flex_flow": null,
            "grid_area": null,
            "grid_auto_columns": null,
            "grid_auto_flow": null,
            "grid_auto_rows": null,
            "grid_column": null,
            "grid_gap": null,
            "grid_row": null,
            "grid_template_areas": null,
            "grid_template_columns": null,
            "grid_template_rows": null,
            "height": null,
            "justify_content": null,
            "justify_items": null,
            "left": null,
            "margin": null,
            "max_height": null,
            "max_width": null,
            "min_height": null,
            "min_width": null,
            "object_fit": null,
            "object_position": null,
            "order": null,
            "overflow": null,
            "overflow_x": null,
            "overflow_y": null,
            "padding": null,
            "right": null,
            "top": null,
            "visibility": null,
            "width": null
          }
        },
        "ad9a28d87b60439a8d7a2656bf24c203": {
          "model_module": "@jupyter-widgets/controls",
          "model_name": "ProgressStyleModel",
          "model_module_version": "1.5.0",
          "state": {
            "_model_module": "@jupyter-widgets/controls",
            "_model_module_version": "1.5.0",
            "_model_name": "ProgressStyleModel",
            "_view_count": null,
            "_view_module": "@jupyter-widgets/base",
            "_view_module_version": "1.2.0",
            "_view_name": "StyleView",
            "bar_color": null,
            "description_width": ""
          }
        },
        "eba91c64c5fa496b891dd4f1f0f7421b": {
          "model_module": "@jupyter-widgets/base",
          "model_name": "LayoutModel",
          "model_module_version": "1.2.0",
          "state": {
            "_model_module": "@jupyter-widgets/base",
            "_model_module_version": "1.2.0",
            "_model_name": "LayoutModel",
            "_view_count": null,
            "_view_module": "@jupyter-widgets/base",
            "_view_module_version": "1.2.0",
            "_view_name": "LayoutView",
            "align_content": null,
            "align_items": null,
            "align_self": null,
            "border": null,
            "bottom": null,
            "display": null,
            "flex": null,
            "flex_flow": null,
            "grid_area": null,
            "grid_auto_columns": null,
            "grid_auto_flow": null,
            "grid_auto_rows": null,
            "grid_column": null,
            "grid_gap": null,
            "grid_row": null,
            "grid_template_areas": null,
            "grid_template_columns": null,
            "grid_template_rows": null,
            "height": null,
            "justify_content": null,
            "justify_items": null,
            "left": null,
            "margin": null,
            "max_height": null,
            "max_width": null,
            "min_height": null,
            "min_width": null,
            "object_fit": null,
            "object_position": null,
            "order": null,
            "overflow": null,
            "overflow_x": null,
            "overflow_y": null,
            "padding": null,
            "right": null,
            "top": null,
            "visibility": null,
            "width": null
          }
        },
        "1030cdd5c7b943d78e906e0245ec81b5": {
          "model_module": "@jupyter-widgets/controls",
          "model_name": "DescriptionStyleModel",
          "model_module_version": "1.5.0",
          "state": {
            "_model_module": "@jupyter-widgets/controls",
            "_model_module_version": "1.5.0",
            "_model_name": "DescriptionStyleModel",
            "_view_count": null,
            "_view_module": "@jupyter-widgets/base",
            "_view_module_version": "1.2.0",
            "_view_name": "StyleView",
            "description_width": ""
          }
        }
      }
    }
  },
  "cells": [
    {
      "cell_type": "markdown",
      "metadata": {
        "id": "view-in-github",
        "colab_type": "text"
      },
      "source": [
        "<a href=\"https://colab.research.google.com/github/brenoslivio/MDNE_2024/blob/main/Project_1/Projeto1.ipynb\" target=\"_parent\"><img src=\"https://colab.research.google.com/assets/colab-badge.svg\" alt=\"Open In Colab\"/></a>"
      ]
    },
    {
      "cell_type": "markdown",
      "source": [
        "## SCC5920 - Mineração de Dados Não Estruturados (2024)\n"
      ],
      "metadata": {
        "id": "eq4GQ9cTE9cY"
      }
    },
    {
      "cell_type": "markdown",
      "source": [
        "**Projeto 1: Mineração de Textos - Classificação de Peptídeos Anti Câncer**\n",
        "\n",
        "Prof. Ricardo Marcacini\n",
        "\n",
        "**Aluno:** Breno Livio Silva de Almeida\n",
        "\n",
        "**NUSP:** 10276675\n",
        "\n",
        "---"
      ],
      "metadata": {
        "id": "1_CWesBKFAOP"
      }
    },
    {
      "cell_type": "markdown",
      "source": [
        "Começamos instalando bibliotecas não disponíveis no Google Colab, como BioPython, usado para ler dados de sequências biológicas, e Optuna, um framework estado-da-arte para otimização Bayesiana."
      ],
      "metadata": {
        "id": "AH72jsDuT5gU"
      }
    },
    {
      "cell_type": "code",
      "source": [
        "!pip install biopython\n",
        "!pip install optuna"
      ],
      "metadata": {
        "colab": {
          "base_uri": "https://localhost:8080/"
        },
        "id": "AEwFn7ZvFjuy",
        "outputId": "495e6111-da62-472f-b83c-61c7af3c8883"
      },
      "execution_count": 1,
      "outputs": [
        {
          "output_type": "stream",
          "name": "stdout",
          "text": [
            "Collecting biopython\n",
            "  Downloading biopython-1.84-cp310-cp310-manylinux_2_17_x86_64.manylinux2014_x86_64.whl.metadata (12 kB)\n",
            "Requirement already satisfied: numpy in /usr/local/lib/python3.10/dist-packages (from biopython) (1.26.4)\n",
            "Downloading biopython-1.84-cp310-cp310-manylinux_2_17_x86_64.manylinux2014_x86_64.whl (3.2 MB)\n",
            "\u001b[?25l   \u001b[90m━━━━━━━━━━━━━━━━━━━━━━━━━━━━━━━━━━━━━━━━\u001b[0m \u001b[32m0.0/3.2 MB\u001b[0m \u001b[31m?\u001b[0m eta \u001b[36m-:--:--\u001b[0m\r\u001b[2K   \u001b[91m━━━━━━━━━━━━━━━━━━━━━━━━━━━━━━━━━━━━━━━\u001b[0m\u001b[91m╸\u001b[0m \u001b[32m3.2/3.2 MB\u001b[0m \u001b[31m119.1 MB/s\u001b[0m eta \u001b[36m0:00:01\u001b[0m\r\u001b[2K   \u001b[90m━━━━━━━━━━━━━━━━━━━━━━━━━━━━━━━━━━━━━━━━\u001b[0m \u001b[32m3.2/3.2 MB\u001b[0m \u001b[31m62.1 MB/s\u001b[0m eta \u001b[36m0:00:00\u001b[0m\n",
            "\u001b[?25hInstalling collected packages: biopython\n",
            "Successfully installed biopython-1.84\n",
            "Collecting optuna\n",
            "  Downloading optuna-4.0.0-py3-none-any.whl.metadata (16 kB)\n",
            "Collecting alembic>=1.5.0 (from optuna)\n",
            "  Downloading alembic-1.13.3-py3-none-any.whl.metadata (7.4 kB)\n",
            "Collecting colorlog (from optuna)\n",
            "  Downloading colorlog-6.8.2-py3-none-any.whl.metadata (10 kB)\n",
            "Requirement already satisfied: numpy in /usr/local/lib/python3.10/dist-packages (from optuna) (1.26.4)\n",
            "Requirement already satisfied: packaging>=20.0 in /usr/local/lib/python3.10/dist-packages (from optuna) (24.1)\n",
            "Requirement already satisfied: sqlalchemy>=1.3.0 in /usr/local/lib/python3.10/dist-packages (from optuna) (2.0.35)\n",
            "Requirement already satisfied: tqdm in /usr/local/lib/python3.10/dist-packages (from optuna) (4.66.5)\n",
            "Requirement already satisfied: PyYAML in /usr/local/lib/python3.10/dist-packages (from optuna) (6.0.2)\n",
            "Collecting Mako (from alembic>=1.5.0->optuna)\n",
            "  Downloading Mako-1.3.5-py3-none-any.whl.metadata (2.9 kB)\n",
            "Requirement already satisfied: typing-extensions>=4 in /usr/local/lib/python3.10/dist-packages (from alembic>=1.5.0->optuna) (4.12.2)\n",
            "Requirement already satisfied: greenlet!=0.4.17 in /usr/local/lib/python3.10/dist-packages (from sqlalchemy>=1.3.0->optuna) (3.1.1)\n",
            "Requirement already satisfied: MarkupSafe>=0.9.2 in /usr/local/lib/python3.10/dist-packages (from Mako->alembic>=1.5.0->optuna) (2.1.5)\n",
            "Downloading optuna-4.0.0-py3-none-any.whl (362 kB)\n",
            "\u001b[2K   \u001b[90m━━━━━━━━━━━━━━━━━━━━━━━━━━━━━━━━━━━━━━━━\u001b[0m \u001b[32m362.8/362.8 kB\u001b[0m \u001b[31m24.6 MB/s\u001b[0m eta \u001b[36m0:00:00\u001b[0m\n",
            "\u001b[?25hDownloading alembic-1.13.3-py3-none-any.whl (233 kB)\n",
            "\u001b[2K   \u001b[90m━━━━━━━━━━━━━━━━━━━━━━━━━━━━━━━━━━━━━━━━\u001b[0m \u001b[32m233.2/233.2 kB\u001b[0m \u001b[31m16.3 MB/s\u001b[0m eta \u001b[36m0:00:00\u001b[0m\n",
            "\u001b[?25hDownloading colorlog-6.8.2-py3-none-any.whl (11 kB)\n",
            "Downloading Mako-1.3.5-py3-none-any.whl (78 kB)\n",
            "\u001b[2K   \u001b[90m━━━━━━━━━━━━━━━━━━━━━━━━━━━━━━━━━━━━━━━━\u001b[0m \u001b[32m78.6/78.6 kB\u001b[0m \u001b[31m6.4 MB/s\u001b[0m eta \u001b[36m0:00:00\u001b[0m\n",
            "\u001b[?25hInstalling collected packages: Mako, colorlog, alembic, optuna\n",
            "Successfully installed Mako-1.3.5 alembic-1.13.3 colorlog-6.8.2 optuna-4.0.0\n"
          ]
        }
      ]
    },
    {
      "cell_type": "markdown",
      "source": [
        "Em seguida importamos as bibliotecas que vamos usar."
      ],
      "metadata": {
        "id": "Bj8bp_SxUHAC"
      }
    },
    {
      "cell_type": "code",
      "source": [
        "from Bio import SeqIO\n",
        "import requests, io\n",
        "import polars as pl\n",
        "import optuna\n",
        "import numpy as np\n",
        "from sklearn.svm import SVC\n",
        "from itertools import product\n",
        "from sklearn.feature_extraction.text import TfidfVectorizer\n",
        "from sklearn.model_selection import cross_val_score\n",
        "from sklearn.pipeline import Pipeline\n",
        "from sklearn.preprocessing import StandardScaler\n",
        "from sklearn.feature_selection import SelectKBest, f_classif\n",
        "from transformers import T5EncoderModel, T5Tokenizer\n",
        "from sklearn.model_selection import cross_validate\n",
        "from sklearn.metrics import make_scorer, accuracy_score, f1_score, matthews_corrcoef, recall_score, confusion_matrix\n",
        "from sklearn.model_selection import cross_val_predict\n",
        "import torch\n",
        "import re\n",
        "import joblib\n",
        "import seaborn as sns\n",
        "import matplotlib.pyplot as plt"
      ],
      "metadata": {
        "id": "gT2eoOXMGazw"
      },
      "execution_count": 2,
      "outputs": []
    },
    {
      "cell_type": "markdown",
      "source": [
        "A partir do repositório do GitHub, convertemos os arquivos FASTA para um DataFrame do Polars. FASTA é um arquivo de texto, mas conhecido para armazenar sequências biológicas. BioPython é usado para ler os arquivos."
      ],
      "metadata": {
        "id": "dZMx78kmUL3_"
      }
    },
    {
      "cell_type": "code",
      "source": [
        "labels = [\"anticancer\", \"non\"]\n",
        "\n",
        "df_seqs = pl.DataFrame()\n",
        "\n",
        "for label in labels:\n",
        "  response = requests.get(f\"https://raw.githubusercontent.com/brenoslivio/MDNE_2024/refs/heads/main/Project_1/{label}.fasta\")\n",
        "\n",
        "  headers, seqs, labels = [], [], []\n",
        "\n",
        "  if response.status_code == 200:\n",
        "      handle = io.StringIO(response.text)\n",
        "      for record in SeqIO.parse(handle, \"fasta\"):\n",
        "          headers.append(record.description)\n",
        "          seqs.append(str(record.seq))\n",
        "  else:\n",
        "      print(f\"Failed to download file. Status code: {response.status_code}\")\n",
        "\n",
        "  df_seqs = pl.concat([df_seqs, pl.DataFrame({\"header\": headers, \"sequence\": seqs}).with_columns(label=pl.lit(label))])\n",
        "\n",
        "df_seqs"
      ],
      "metadata": {
        "colab": {
          "base_uri": "https://localhost:8080/",
          "height": 443
        },
        "id": "1zErt5pbFM5X",
        "outputId": "54286405-eead-480e-cdcc-b556d086ec66"
      },
      "execution_count": 3,
      "outputs": [
        {
          "output_type": "execute_result",
          "data": {
            "text/plain": [
              "shape: (344, 3)\n",
              "┌─────────────┬─────────────────────────────────┬────────────┐\n",
              "│ header      ┆ sequence                        ┆ label      │\n",
              "│ ---         ┆ ---                             ┆ ---        │\n",
              "│ str         ┆ str                             ┆ str        │\n",
              "╞═════════════╪═════════════════════════════════╪════════════╡\n",
              "│ ACP_1       ┆ GLWSKIKEVGKEAAKAAAKAAGKAALGAVS… ┆ anticancer │\n",
              "│ ACP_2       ┆ GLFDIIKKIAESI                   ┆ anticancer │\n",
              "│ ACP_3       ┆ GLLDIVKKVVGAFGSL                ┆ anticancer │\n",
              "│ ACP_4       ┆ GLFDIVKKVVGALGSL                ┆ anticancer │\n",
              "│ ACP_5       ┆ GLFDIVKKVVGTLAGL                ┆ anticancer │\n",
              "│ …           ┆ …                               ┆ …          │\n",
              "│ non-ACP_202 ┆ TDTPLDLAIQQLQNLAIESIPDPPTNTPEA… ┆ non        │\n",
              "│ non-ACP_203 ┆ LRLIHFLHQTTDPYPQGPGTANQRRRR     ┆ non        │\n",
              "│ non-ACP_204 ┆ PVDTPLDLAIQQLQGLAIEELPDPPTSAPE… ┆ non        │\n",
              "│ non-ACP_205 ┆ NTNVTPHLLAGMRLIAVQQPEDPLRVL     ┆ non        │\n",
              "│ non-ACP_206 ┆ QTLVHNGGRLPPDLQLSAEDSSSTPS      ┆ non        │\n",
              "└─────────────┴─────────────────────────────────┴────────────┘"
            ],
            "text/html": [
              "<div><style>\n",
              ".dataframe > thead > tr,\n",
              ".dataframe > tbody > tr {\n",
              "  text-align: right;\n",
              "  white-space: pre-wrap;\n",
              "}\n",
              "</style>\n",
              "<small>shape: (344, 3)</small><table border=\"1\" class=\"dataframe\"><thead><tr><th>header</th><th>sequence</th><th>label</th></tr><tr><td>str</td><td>str</td><td>str</td></tr></thead><tbody><tr><td>&quot;ACP_1&quot;</td><td>&quot;GLWSKIKEVGKEAAKAAAKAAGKAALGAVS…</td><td>&quot;anticancer&quot;</td></tr><tr><td>&quot;ACP_2&quot;</td><td>&quot;GLFDIIKKIAESI&quot;</td><td>&quot;anticancer&quot;</td></tr><tr><td>&quot;ACP_3&quot;</td><td>&quot;GLLDIVKKVVGAFGSL&quot;</td><td>&quot;anticancer&quot;</td></tr><tr><td>&quot;ACP_4&quot;</td><td>&quot;GLFDIVKKVVGALGSL&quot;</td><td>&quot;anticancer&quot;</td></tr><tr><td>&quot;ACP_5&quot;</td><td>&quot;GLFDIVKKVVGTLAGL&quot;</td><td>&quot;anticancer&quot;</td></tr><tr><td>&hellip;</td><td>&hellip;</td><td>&hellip;</td></tr><tr><td>&quot;non-ACP_202&quot;</td><td>&quot;TDTPLDLAIQQLQNLAIESIPDPPTNTPEA…</td><td>&quot;non&quot;</td></tr><tr><td>&quot;non-ACP_203&quot;</td><td>&quot;LRLIHFLHQTTDPYPQGPGTANQRRRR&quot;</td><td>&quot;non&quot;</td></tr><tr><td>&quot;non-ACP_204&quot;</td><td>&quot;PVDTPLDLAIQQLQGLAIEELPDPPTSAPE…</td><td>&quot;non&quot;</td></tr><tr><td>&quot;non-ACP_205&quot;</td><td>&quot;NTNVTPHLLAGMRLIAVQQPEDPLRVL&quot;</td><td>&quot;non&quot;</td></tr><tr><td>&quot;non-ACP_206&quot;</td><td>&quot;QTLVHNGGRLPPDLQLSAEDSSSTPS&quot;</td><td>&quot;non&quot;</td></tr></tbody></table></div>"
            ]
          },
          "metadata": {},
          "execution_count": 3
        }
      ]
    },
    {
      "cell_type": "markdown",
      "source": [
        "### Bag of Words\n",
        "\n"
      ],
      "metadata": {
        "id": "_QQqC-4IGNn9"
      }
    },
    {
      "cell_type": "markdown",
      "source": [
        "Aqui utilizamos a abordagem de Bag of Words, onde fazemos a contagem de aminoácidos nas sequências."
      ],
      "metadata": {
        "id": "2hFAEhNJUmjT"
      }
    },
    {
      "cell_type": "code",
      "source": [
        "chars = ['A', 'R', 'N', 'D', 'C', 'Q', 'E', 'G', 'H', 'I',\n",
        "            'L', 'K', 'M', 'F', 'P', 'S', 'T', 'W', 'Y', 'V', 'X']\n",
        "\n",
        "def dict_kmer(seq, k):\n",
        "    counts = {''.join(comb): 0 for comb in product(chars, repeat= k)}\n",
        "    L = len(seq)\n",
        "    for i in range(L - k + 1):\n",
        "        counts[seq[i:i+k]] += 1\n",
        "\n",
        "    return counts\n",
        "\n",
        "df_seqs_bow = df_seqs.with_columns(pl.col(\"sequence\").map_elements(lambda x: dict_kmer(x, 1)).alias(\"aac\")).unnest(\"aac\")\n",
        "df_seqs_bow"
      ],
      "metadata": {
        "id": "Rm6TDMloGV6P",
        "outputId": "211449ba-289f-4af2-f09f-23c5b4a040f7",
        "colab": {
          "base_uri": "https://localhost:8080/",
          "height": 478
        }
      },
      "execution_count": 4,
      "outputs": [
        {
          "output_type": "stream",
          "name": "stderr",
          "text": [
            "sys:1: MapWithoutReturnDtypeWarning: Calling `map_elements` without specifying `return_dtype` can lead to unpredictable results. Specify `return_dtype` to silence this warning.\n",
            "sys:1: MapWithoutReturnDtypeWarning: Calling `map_elements` without specifying `return_dtype` can lead to unpredictable results. Specify `return_dtype` to silence this warning.\n"
          ]
        },
        {
          "output_type": "execute_result",
          "data": {
            "text/plain": [
              "shape: (344, 24)\n",
              "┌─────────────┬─────────────────────────────────┬────────────┬─────┬───┬─────┬─────┬─────┬─────┐\n",
              "│ header      ┆ sequence                        ┆ label      ┆ A   ┆ … ┆ W   ┆ Y   ┆ V   ┆ X   │\n",
              "│ ---         ┆ ---                             ┆ ---        ┆ --- ┆   ┆ --- ┆ --- ┆ --- ┆ --- │\n",
              "│ str         ┆ str                             ┆ str        ┆ i64 ┆   ┆ i64 ┆ i64 ┆ i64 ┆ i64 │\n",
              "╞═════════════╪═════════════════════════════════╪════════════╪═════╪═══╪═════╪═════╪═════╪═════╡\n",
              "│ ACP_1       ┆ GLWSKIKEVGKEAAKAAAKAAGKAALGAVS… ┆ anticancer ┆ 11  ┆ … ┆ 1   ┆ 0   ┆ 3   ┆ 0   │\n",
              "│ ACP_2       ┆ GLFDIIKKIAESI                   ┆ anticancer ┆ 1   ┆ … ┆ 0   ┆ 0   ┆ 0   ┆ 0   │\n",
              "│ ACP_3       ┆ GLLDIVKKVVGAFGSL                ┆ anticancer ┆ 1   ┆ … ┆ 0   ┆ 0   ┆ 3   ┆ 0   │\n",
              "│ ACP_4       ┆ GLFDIVKKVVGALGSL                ┆ anticancer ┆ 1   ┆ … ┆ 0   ┆ 0   ┆ 3   ┆ 0   │\n",
              "│ ACP_5       ┆ GLFDIVKKVVGTLAGL                ┆ anticancer ┆ 1   ┆ … ┆ 0   ┆ 0   ┆ 3   ┆ 0   │\n",
              "│ …           ┆ …                               ┆ …          ┆ …   ┆ … ┆ …   ┆ …   ┆ …   ┆ …   │\n",
              "│ non-ACP_202 ┆ TDTPLDLAIQQLQNLAIESIPDPPTNTPEA… ┆ non        ┆ 3   ┆ … ┆ 0   ┆ 0   ┆ 0   ┆ 0   │\n",
              "│ non-ACP_203 ┆ LRLIHFLHQTTDPYPQGPGTANQRRRR     ┆ non        ┆ 1   ┆ … ┆ 0   ┆ 1   ┆ 0   ┆ 0   │\n",
              "│ non-ACP_204 ┆ PVDTPLDLAIQQLQGLAIEELPDPPTSAPE… ┆ non        ┆ 3   ┆ … ┆ 0   ┆ 0   ┆ 2   ┆ 0   │\n",
              "│ non-ACP_205 ┆ NTNVTPHLLAGMRLIAVQQPEDPLRVL     ┆ non        ┆ 2   ┆ … ┆ 0   ┆ 0   ┆ 3   ┆ 0   │\n",
              "│ non-ACP_206 ┆ QTLVHNGGRLPPDLQLSAEDSSSTPS      ┆ non        ┆ 1   ┆ … ┆ 0   ┆ 0   ┆ 1   ┆ 0   │\n",
              "└─────────────┴─────────────────────────────────┴────────────┴─────┴───┴─────┴─────┴─────┴─────┘"
            ],
            "text/html": [
              "<div><style>\n",
              ".dataframe > thead > tr,\n",
              ".dataframe > tbody > tr {\n",
              "  text-align: right;\n",
              "  white-space: pre-wrap;\n",
              "}\n",
              "</style>\n",
              "<small>shape: (344, 24)</small><table border=\"1\" class=\"dataframe\"><thead><tr><th>header</th><th>sequence</th><th>label</th><th>A</th><th>R</th><th>N</th><th>D</th><th>C</th><th>Q</th><th>E</th><th>G</th><th>H</th><th>I</th><th>L</th><th>K</th><th>M</th><th>F</th><th>P</th><th>S</th><th>T</th><th>W</th><th>Y</th><th>V</th><th>X</th></tr><tr><td>str</td><td>str</td><td>str</td><td>i64</td><td>i64</td><td>i64</td><td>i64</td><td>i64</td><td>i64</td><td>i64</td><td>i64</td><td>i64</td><td>i64</td><td>i64</td><td>i64</td><td>i64</td><td>i64</td><td>i64</td><td>i64</td><td>i64</td><td>i64</td><td>i64</td><td>i64</td><td>i64</td></tr></thead><tbody><tr><td>&quot;ACP_1&quot;</td><td>&quot;GLWSKIKEVGKEAAKAAAKAAGKAALGAVS…</td><td>&quot;anticancer&quot;</td><td>11</td><td>0</td><td>0</td><td>0</td><td>0</td><td>0</td><td>3</td><td>4</td><td>0</td><td>1</td><td>2</td><td>6</td><td>0</td><td>0</td><td>0</td><td>2</td><td>0</td><td>1</td><td>0</td><td>3</td><td>0</td></tr><tr><td>&quot;ACP_2&quot;</td><td>&quot;GLFDIIKKIAESI&quot;</td><td>&quot;anticancer&quot;</td><td>1</td><td>0</td><td>0</td><td>1</td><td>0</td><td>0</td><td>1</td><td>1</td><td>0</td><td>4</td><td>1</td><td>2</td><td>0</td><td>1</td><td>0</td><td>1</td><td>0</td><td>0</td><td>0</td><td>0</td><td>0</td></tr><tr><td>&quot;ACP_3&quot;</td><td>&quot;GLLDIVKKVVGAFGSL&quot;</td><td>&quot;anticancer&quot;</td><td>1</td><td>0</td><td>0</td><td>1</td><td>0</td><td>0</td><td>0</td><td>3</td><td>0</td><td>1</td><td>3</td><td>2</td><td>0</td><td>1</td><td>0</td><td>1</td><td>0</td><td>0</td><td>0</td><td>3</td><td>0</td></tr><tr><td>&quot;ACP_4&quot;</td><td>&quot;GLFDIVKKVVGALGSL&quot;</td><td>&quot;anticancer&quot;</td><td>1</td><td>0</td><td>0</td><td>1</td><td>0</td><td>0</td><td>0</td><td>3</td><td>0</td><td>1</td><td>3</td><td>2</td><td>0</td><td>1</td><td>0</td><td>1</td><td>0</td><td>0</td><td>0</td><td>3</td><td>0</td></tr><tr><td>&quot;ACP_5&quot;</td><td>&quot;GLFDIVKKVVGTLAGL&quot;</td><td>&quot;anticancer&quot;</td><td>1</td><td>0</td><td>0</td><td>1</td><td>0</td><td>0</td><td>0</td><td>3</td><td>0</td><td>1</td><td>3</td><td>2</td><td>0</td><td>1</td><td>0</td><td>0</td><td>1</td><td>0</td><td>0</td><td>3</td><td>0</td></tr><tr><td>&hellip;</td><td>&hellip;</td><td>&hellip;</td><td>&hellip;</td><td>&hellip;</td><td>&hellip;</td><td>&hellip;</td><td>&hellip;</td><td>&hellip;</td><td>&hellip;</td><td>&hellip;</td><td>&hellip;</td><td>&hellip;</td><td>&hellip;</td><td>&hellip;</td><td>&hellip;</td><td>&hellip;</td><td>&hellip;</td><td>&hellip;</td><td>&hellip;</td><td>&hellip;</td><td>&hellip;</td><td>&hellip;</td><td>&hellip;</td></tr><tr><td>&quot;non-ACP_202&quot;</td><td>&quot;TDTPLDLAIQQLQNLAIESIPDPPTNTPEA…</td><td>&quot;non&quot;</td><td>3</td><td>0</td><td>2</td><td>4</td><td>1</td><td>3</td><td>2</td><td>0</td><td>0</td><td>3</td><td>5</td><td>0</td><td>0</td><td>0</td><td>5</td><td>1</td><td>4</td><td>0</td><td>0</td><td>0</td><td>0</td></tr><tr><td>&quot;non-ACP_203&quot;</td><td>&quot;LRLIHFLHQTTDPYPQGPGTANQRRRR&quot;</td><td>&quot;non&quot;</td><td>1</td><td>5</td><td>1</td><td>1</td><td>0</td><td>3</td><td>0</td><td>2</td><td>2</td><td>1</td><td>3</td><td>0</td><td>0</td><td>1</td><td>3</td><td>0</td><td>3</td><td>0</td><td>1</td><td>0</td><td>0</td></tr><tr><td>&quot;non-ACP_204&quot;</td><td>&quot;PVDTPLDLAIQQLQGLAIEELPDPPTSAPE…</td><td>&quot;non&quot;</td><td>3</td><td>0</td><td>1</td><td>4</td><td>0</td><td>3</td><td>3</td><td>1</td><td>0</td><td>2</td><td>6</td><td>0</td><td>0</td><td>0</td><td>7</td><td>1</td><td>2</td><td>0</td><td>0</td><td>2</td><td>0</td></tr><tr><td>&quot;non-ACP_205&quot;</td><td>&quot;NTNVTPHLLAGMRLIAVQQPEDPLRVL&quot;</td><td>&quot;non&quot;</td><td>2</td><td>2</td><td>2</td><td>1</td><td>0</td><td>2</td><td>1</td><td>1</td><td>1</td><td>1</td><td>5</td><td>0</td><td>1</td><td>0</td><td>3</td><td>0</td><td>2</td><td>0</td><td>0</td><td>3</td><td>0</td></tr><tr><td>&quot;non-ACP_206&quot;</td><td>&quot;QTLVHNGGRLPPDLQLSAEDSSSTPS&quot;</td><td>&quot;non&quot;</td><td>1</td><td>1</td><td>1</td><td>2</td><td>0</td><td>2</td><td>1</td><td>2</td><td>1</td><td>0</td><td>4</td><td>0</td><td>0</td><td>0</td><td>3</td><td>5</td><td>2</td><td>0</td><td>0</td><td>1</td><td>0</td></tr></tbody></table></div>"
            ]
          },
          "metadata": {},
          "execution_count": 4
        }
      ]
    },
    {
      "cell_type": "markdown",
      "source": [
        "Com a representação estruturada anterior, vamos utilizar o Optuna com o algoritmo SVM para maximizar a acurácia média usando 10-fold Cross-Validation."
      ],
      "metadata": {
        "id": "imUv8WZtUzDg"
      }
    },
    {
      "cell_type": "code",
      "source": [
        "def objective(trial):\n",
        "    C = trial.suggest_float(\"svm_C\", 1e-6, 1e3, log=True)\n",
        "    gamma = trial.suggest_categorical(\"svm_gamma\", [\"scale\", \"auto\"])\n",
        "    kernel = trial.suggest_categorical(\"svm_kernel\", [\"linear\", \"poly\", \"rbf\", \"sigmoid\"])\n",
        "\n",
        "    pipeline = Pipeline([\n",
        "        (\"scaler\", StandardScaler()),\n",
        "        (\"svm\", SVC(C=C, kernel=kernel, gamma=gamma, random_state=0))\n",
        "    ])\n",
        "\n",
        "    scores = cross_val_score(pipeline, X, y, cv=10, scoring=make_scorer(f1_score, pos_label='anticancer'))\n",
        "\n",
        "    return np.mean(scores)\n",
        "\n",
        "X, y = df_seqs_bow.select(pl.nth(range(3, len(df_seqs_bow.columns)))).to_numpy(), df_seqs_bow[\"label\"].to_numpy()\n",
        "\n",
        "sampler = optuna.samplers.TPESampler(seed=0)\n",
        "study1 = optuna.create_study(direction=\"maximize\", sampler=sampler)\n",
        "study1.optimize(objective, n_trials=100)\n",
        "\n",
        "print(\"Best hyperparameters:\", study1.best_params)\n",
        "print(f\"Best F1-score: {study1.best_value:.4f}\")"
      ],
      "metadata": {
        "colab": {
          "base_uri": "https://localhost:8080/"
        },
        "id": "JflPA3KesmJY",
        "outputId": "4b3be2d3-13a2-4c61-d7a5-71f247456977"
      },
      "execution_count": 5,
      "outputs": [
        {
          "output_type": "stream",
          "name": "stderr",
          "text": [
            "[I 2024-09-29 20:06:14,325] A new study created in memory with name: no-name-8e704b3b-7241-49e5-bb85-241c0f0d22eb\n",
            "[I 2024-09-29 20:06:14,496] Trial 0 finished with value: 0.5214806838067034 and parameters: {'svm_C': 0.0869604013210559, 'svm_gamma': 'scale', 'svm_kernel': 'rbf'}. Best is trial 0 with value: 0.5214806838067034.\n",
            "[I 2024-09-29 20:06:14,646] Trial 1 finished with value: 0.695655684899289 and parameters: {'svm_C': 106.15904599003998, 'svm_gamma': 'scale', 'svm_kernel': 'sigmoid'}. Best is trial 1 with value: 0.695655684899289.\n",
            "[I 2024-09-29 20:06:14,987] Trial 2 finished with value: 0.0 and parameters: {'svm_C': 4.35837428774127e-06, 'svm_gamma': 'scale', 'svm_kernel': 'sigmoid'}. Best is trial 1 with value: 0.695655684899289.\n",
            "[I 2024-09-29 20:06:15,286] Trial 3 finished with value: 0.6939411956847996 and parameters: {'svm_C': 15.574964948467398, 'svm_gamma': 'auto', 'svm_kernel': 'sigmoid'}. Best is trial 1 with value: 0.695655684899289.\n",
            "[I 2024-09-29 20:06:15,417] Trial 4 finished with value: 0.8089756220790705 and parameters: {'svm_C': 0.04973188214118056, 'svm_gamma': 'scale', 'svm_kernel': 'linear'}. Best is trial 4 with value: 0.8089756220790705.\n",
            "[I 2024-09-29 20:06:15,620] Trial 5 finished with value: 0.800067576102059 and parameters: {'svm_C': 0.36200908827975287, 'svm_gamma': 'auto', 'svm_kernel': 'linear'}. Best is trial 4 with value: 0.8089756220790705.\n",
            "[I 2024-09-29 20:06:15,955] Trial 6 finished with value: 0.7978991060025542 and parameters: {'svm_C': 1.8996813686210312, 'svm_gamma': 'auto', 'svm_kernel': 'linear'}. Best is trial 4 with value: 0.8089756220790705.\n",
            "[I 2024-09-29 20:06:16,371] Trial 7 finished with value: 0.44701003846514675 and parameters: {'svm_C': 0.0018767090076326175, 'svm_gamma': 'scale', 'svm_kernel': 'linear'}. Best is trial 4 with value: 0.8089756220790705.\n",
            "[I 2024-09-29 20:06:16,531] Trial 8 finished with value: 0.7903952210818778 and parameters: {'svm_C': 0.7550486392036303, 'svm_gamma': 'auto', 'svm_kernel': 'sigmoid'}. Best is trial 4 with value: 0.8089756220790705.\n",
            "[I 2024-09-29 20:06:16,850] Trial 9 finished with value: 0.0 and parameters: {'svm_C': 1.7524537381340202e-05, 'svm_gamma': 'auto', 'svm_kernel': 'rbf'}. Best is trial 4 with value: 0.8089756220790705.\n",
            "[I 2024-09-29 20:06:17,004] Trial 10 finished with value: 0.0 and parameters: {'svm_C': 0.0010385054537707867, 'svm_gamma': 'scale', 'svm_kernel': 'poly'}. Best is trial 4 with value: 0.8089756220790705.\n",
            "[I 2024-09-29 20:06:17,219] Trial 11 finished with value: 0.7172618492618492 and parameters: {'svm_C': 0.00654875860935335, 'svm_gamma': 'auto', 'svm_kernel': 'linear'}. Best is trial 4 with value: 0.8089756220790705.\n",
            "[I 2024-09-29 20:06:17,502] Trial 12 finished with value: 0.8141133004926108 and parameters: {'svm_C': 0.09532988998950347, 'svm_gamma': 'scale', 'svm_kernel': 'linear'}. Best is trial 12 with value: 0.8141133004926108.\n",
            "[I 2024-09-29 20:07:08,899] Trial 13 finished with value: 0.786475155997959 and parameters: {'svm_C': 881.602795767026, 'svm_gamma': 'scale', 'svm_kernel': 'linear'}. Best is trial 12 with value: 0.8141133004926108.\n",
            "[I 2024-09-29 20:07:08,987] Trial 14 finished with value: 0.0 and parameters: {'svm_C': 0.00047809634510780075, 'svm_gamma': 'scale', 'svm_kernel': 'poly'}. Best is trial 12 with value: 0.8141133004926108.\n",
            "[I 2024-09-29 20:07:09,066] Trial 15 finished with value: 0.8034498739641169 and parameters: {'svm_C': 0.023482300853852254, 'svm_gamma': 'scale', 'svm_kernel': 'linear'}. Best is trial 12 with value: 0.8141133004926108.\n",
            "[I 2024-09-29 20:07:09,147] Trial 16 finished with value: 0.0 and parameters: {'svm_C': 9.432040976513901e-05, 'svm_gamma': 'scale', 'svm_kernel': 'linear'}. Best is trial 12 with value: 0.8141133004926108.\n",
            "[I 2024-09-29 20:07:09,426] Trial 17 finished with value: 0.7847822968857451 and parameters: {'svm_C': 6.887180453082023, 'svm_gamma': 'scale', 'svm_kernel': 'linear'}. Best is trial 12 with value: 0.8141133004926108.\n",
            "[I 2024-09-29 20:07:09,528] Trial 18 finished with value: 0.0 and parameters: {'svm_C': 0.03141644151249605, 'svm_gamma': 'scale', 'svm_kernel': 'rbf'}. Best is trial 12 with value: 0.8141133004926108.\n",
            "[I 2024-09-29 20:07:09,608] Trial 19 finished with value: 0.17140522875816994 and parameters: {'svm_C': 0.09606894732669798, 'svm_gamma': 'scale', 'svm_kernel': 'poly'}. Best is trial 12 with value: 0.8141133004926108.\n",
            "[I 2024-09-29 20:07:09,681] Trial 20 finished with value: 0.7396538257064573 and parameters: {'svm_C': 0.00810945456246241, 'svm_gamma': 'scale', 'svm_kernel': 'linear'}. Best is trial 12 with value: 0.8141133004926108.\n",
            "[I 2024-09-29 20:07:09,753] Trial 21 finished with value: 0.8034498739641169 and parameters: {'svm_C': 0.02074669555869819, 'svm_gamma': 'scale', 'svm_kernel': 'linear'}. Best is trial 12 with value: 0.8141133004926108.\n",
            "[I 2024-09-29 20:07:09,832] Trial 22 finished with value: 0.8019887583680688 and parameters: {'svm_C': 0.17330027071401924, 'svm_gamma': 'scale', 'svm_kernel': 'linear'}. Best is trial 12 with value: 0.8141133004926108.\n",
            "[I 2024-09-29 20:07:09,970] Trial 23 finished with value: 0.79362560172905 and parameters: {'svm_C': 2.1931751480181143, 'svm_gamma': 'scale', 'svm_kernel': 'linear'}. Best is trial 12 with value: 0.8141133004926108.\n",
            "[I 2024-09-29 20:07:10,050] Trial 24 finished with value: 0.0 and parameters: {'svm_C': 0.00032050445183451847, 'svm_gamma': 'scale', 'svm_kernel': 'linear'}. Best is trial 12 with value: 0.8141133004926108.\n",
            "[I 2024-09-29 20:07:10,124] Trial 25 finished with value: 0.7966138724399594 and parameters: {'svm_C': 0.014863010414965124, 'svm_gamma': 'scale', 'svm_kernel': 'linear'}. Best is trial 12 with value: 0.8141133004926108.\n",
            "[I 2024-09-29 20:07:10,204] Trial 26 finished with value: 0.5264699627857522 and parameters: {'svm_C': 0.0021889409655402375, 'svm_gamma': 'scale', 'svm_kernel': 'linear'}. Best is trial 12 with value: 0.8141133004926108.\n",
            "[I 2024-09-29 20:07:10,318] Trial 27 finished with value: 0.0 and parameters: {'svm_C': 8.623411714509397e-05, 'svm_gamma': 'scale', 'svm_kernel': 'rbf'}. Best is trial 12 with value: 0.8141133004926108.\n",
            "[I 2024-09-29 20:07:10,399] Trial 28 finished with value: 0.8068507016333104 and parameters: {'svm_C': 17.831035063905937, 'svm_gamma': 'scale', 'svm_kernel': 'poly'}. Best is trial 12 with value: 0.8141133004926108.\n",
            "[I 2024-09-29 20:07:10,490] Trial 29 finished with value: 0.805970261511491 and parameters: {'svm_C': 71.86239618898024, 'svm_gamma': 'scale', 'svm_kernel': 'poly'}. Best is trial 12 with value: 0.8141133004926108.\n",
            "[I 2024-09-29 20:07:10,578] Trial 30 finished with value: 0.805970261511491 and parameters: {'svm_C': 605.7747201249733, 'svm_gamma': 'scale', 'svm_kernel': 'poly'}. Best is trial 12 with value: 0.8141133004926108.\n",
            "[I 2024-09-29 20:07:10,664] Trial 31 finished with value: 0.805970261511491 and parameters: {'svm_C': 70.09323792644457, 'svm_gamma': 'scale', 'svm_kernel': 'poly'}. Best is trial 12 with value: 0.8141133004926108.\n",
            "[I 2024-09-29 20:07:10,752] Trial 32 finished with value: 0.805970261511491 and parameters: {'svm_C': 88.06369484295786, 'svm_gamma': 'scale', 'svm_kernel': 'poly'}. Best is trial 12 with value: 0.8141133004926108.\n",
            "[I 2024-09-29 20:07:10,837] Trial 33 finished with value: 0.7909188034188034 and parameters: {'svm_C': 6.08607664200501, 'svm_gamma': 'scale', 'svm_kernel': 'poly'}. Best is trial 12 with value: 0.8141133004926108.\n",
            "[I 2024-09-29 20:07:10,921] Trial 34 finished with value: 0.800342765125374 and parameters: {'svm_C': 23.36235861718992, 'svm_gamma': 'scale', 'svm_kernel': 'poly'}. Best is trial 12 with value: 0.8141133004926108.\n",
            "[I 2024-09-29 20:07:11,007] Trial 35 finished with value: 0.805970261511491 and parameters: {'svm_C': 289.50648322936013, 'svm_gamma': 'scale', 'svm_kernel': 'poly'}. Best is trial 12 with value: 0.8141133004926108.\n",
            "[I 2024-09-29 20:07:11,098] Trial 36 finished with value: 0.7850485312899106 and parameters: {'svm_C': 0.7196887977553976, 'svm_gamma': 'auto', 'svm_kernel': 'sigmoid'}. Best is trial 12 with value: 0.8141133004926108.\n",
            "[I 2024-09-29 20:07:11,184] Trial 37 finished with value: 0.8043293341119429 and parameters: {'svm_C': 10.981780665925497, 'svm_gamma': 'scale', 'svm_kernel': 'poly'}. Best is trial 12 with value: 0.8141133004926108.\n",
            "[I 2024-09-29 20:07:11,299] Trial 38 finished with value: 0.8173498514368079 and parameters: {'svm_C': 0.24696337584449551, 'svm_gamma': 'auto', 'svm_kernel': 'rbf'}. Best is trial 38 with value: 0.8173498514368079.\n",
            "[I 2024-09-29 20:07:11,428] Trial 39 finished with value: 0.8173498514368079 and parameters: {'svm_C': 0.2589262273396699, 'svm_gamma': 'auto', 'svm_kernel': 'rbf'}. Best is trial 38 with value: 0.8173498514368079.\n",
            "[I 2024-09-29 20:07:11,525] Trial 40 finished with value: 0.6930359804192756 and parameters: {'svm_C': 0.114769809382987, 'svm_gamma': 'auto', 'svm_kernel': 'rbf'}. Best is trial 38 with value: 0.8173498514368079.\n",
            "[I 2024-09-29 20:07:11,616] Trial 41 finished with value: 0.8730809887541522 and parameters: {'svm_C': 0.6442216538599354, 'svm_gamma': 'auto', 'svm_kernel': 'rbf'}. Best is trial 41 with value: 0.8730809887541522.\n",
            "[I 2024-09-29 20:07:11,703] Trial 42 finished with value: 0.8260486003529482 and parameters: {'svm_C': 0.2829604648410808, 'svm_gamma': 'auto', 'svm_kernel': 'rbf'}. Best is trial 41 with value: 0.8730809887541522.\n",
            "[I 2024-09-29 20:07:11,795] Trial 43 finished with value: 0.8387173808478157 and parameters: {'svm_C': 0.333504831052421, 'svm_gamma': 'auto', 'svm_kernel': 'rbf'}. Best is trial 41 with value: 0.8730809887541522.\n",
            "[I 2024-09-29 20:07:11,881] Trial 44 finished with value: 0.8442509776857603 and parameters: {'svm_C': 0.35451761239082885, 'svm_gamma': 'auto', 'svm_kernel': 'rbf'}. Best is trial 41 with value: 0.8730809887541522.\n",
            "[I 2024-09-29 20:07:11,966] Trial 45 finished with value: 0.8794775692657397 and parameters: {'svm_C': 1.4861634106630488, 'svm_gamma': 'auto', 'svm_kernel': 'rbf'}. Best is trial 45 with value: 0.8794775692657397.\n",
            "[I 2024-09-29 20:07:12,052] Trial 46 finished with value: 0.8747577773439842 and parameters: {'svm_C': 0.9940375061904708, 'svm_gamma': 'auto', 'svm_kernel': 'rbf'}. Best is trial 45 with value: 0.8794775692657397.\n",
            "[I 2024-09-29 20:07:12,138] Trial 47 finished with value: 0.8838118716893082 and parameters: {'svm_C': 2.0939356211809885, 'svm_gamma': 'auto', 'svm_kernel': 'rbf'}. Best is trial 47 with value: 0.8838118716893082.\n",
            "[I 2024-09-29 20:07:12,217] Trial 48 finished with value: 0.8838118716893082 and parameters: {'svm_C': 2.097996676229456, 'svm_gamma': 'auto', 'svm_kernel': 'rbf'}. Best is trial 47 with value: 0.8838118716893082.\n",
            "[I 2024-09-29 20:07:12,316] Trial 49 finished with value: 0.8898879526521352 and parameters: {'svm_C': 2.4874534635937096, 'svm_gamma': 'auto', 'svm_kernel': 'rbf'}. Best is trial 49 with value: 0.8898879526521352.\n",
            "[I 2024-09-29 20:07:12,414] Trial 50 finished with value: 0.8868994469050087 and parameters: {'svm_C': 3.1664980023882596, 'svm_gamma': 'auto', 'svm_kernel': 'rbf'}. Best is trial 49 with value: 0.8898879526521352.\n",
            "[I 2024-09-29 20:07:12,501] Trial 51 finished with value: 0.8870138421326577 and parameters: {'svm_C': 1.8459217243796353, 'svm_gamma': 'auto', 'svm_kernel': 'rbf'}. Best is trial 49 with value: 0.8898879526521352.\n",
            "[I 2024-09-29 20:07:12,584] Trial 52 finished with value: 0.8868994469050087 and parameters: {'svm_C': 3.199951187319548, 'svm_gamma': 'auto', 'svm_kernel': 'rbf'}. Best is trial 49 with value: 0.8898879526521352.\n",
            "[I 2024-09-29 20:07:12,665] Trial 53 finished with value: 0.8868994469050087 and parameters: {'svm_C': 3.105434121329772, 'svm_gamma': 'auto', 'svm_kernel': 'rbf'}. Best is trial 49 with value: 0.8898879526521352.\n",
            "[I 2024-09-29 20:07:12,745] Trial 54 finished with value: 0.8925271525327142 and parameters: {'svm_C': 4.648485495763586, 'svm_gamma': 'auto', 'svm_kernel': 'rbf'}. Best is trial 54 with value: 0.8925271525327142.\n",
            "[I 2024-09-29 20:07:12,830] Trial 55 finished with value: 0.8925271525327142 and parameters: {'svm_C': 4.438992892000511, 'svm_gamma': 'auto', 'svm_kernel': 'rbf'}. Best is trial 54 with value: 0.8925271525327142.\n",
            "[I 2024-09-29 20:07:12,915] Trial 56 finished with value: 0.8464248629071864 and parameters: {'svm_C': 37.91816595312237, 'svm_gamma': 'auto', 'svm_kernel': 'rbf'}. Best is trial 54 with value: 0.8925271525327142.\n",
            "[I 2024-09-29 20:07:12,997] Trial 57 finished with value: 0.7123700494397405 and parameters: {'svm_C': 5.31422908266188, 'svm_gamma': 'auto', 'svm_kernel': 'sigmoid'}. Best is trial 54 with value: 0.8925271525327142.\n",
            "[I 2024-09-29 20:07:13,083] Trial 58 finished with value: 0.8464248629071864 and parameters: {'svm_C': 33.687158761038376, 'svm_gamma': 'auto', 'svm_kernel': 'rbf'}. Best is trial 54 with value: 0.8925271525327142.\n",
            "[I 2024-09-29 20:07:13,170] Trial 59 finished with value: 0.8641117465854492 and parameters: {'svm_C': 10.494057387532347, 'svm_gamma': 'auto', 'svm_kernel': 'rbf'}. Best is trial 54 with value: 0.8925271525327142.\n",
            "[I 2024-09-29 20:07:13,251] Trial 60 finished with value: 0.8925271525327142 and parameters: {'svm_C': 4.191141040277278, 'svm_gamma': 'auto', 'svm_kernel': 'rbf'}. Best is trial 54 with value: 0.8925271525327142.\n",
            "[I 2024-09-29 20:07:13,345] Trial 61 finished with value: 0.8641117465854492 and parameters: {'svm_C': 9.476568170961174, 'svm_gamma': 'auto', 'svm_kernel': 'rbf'}. Best is trial 54 with value: 0.8925271525327142.\n",
            "[I 2024-09-29 20:07:13,454] Trial 62 finished with value: 0.0 and parameters: {'svm_C': 1.1935615387307643e-06, 'svm_gamma': 'auto', 'svm_kernel': 'rbf'}. Best is trial 54 with value: 0.8925271525327142.\n",
            "[I 2024-09-29 20:07:13,536] Trial 63 finished with value: 0.8925271525327142 and parameters: {'svm_C': 4.175355622389438, 'svm_gamma': 'auto', 'svm_kernel': 'rbf'}. Best is trial 54 with value: 0.8925271525327142.\n",
            "[I 2024-09-29 20:07:13,615] Trial 64 finished with value: 0.8925271525327142 and parameters: {'svm_C': 4.838502999981858, 'svm_gamma': 'auto', 'svm_kernel': 'rbf'}. Best is trial 54 with value: 0.8925271525327142.\n",
            "[I 2024-09-29 20:07:13,698] Trial 65 finished with value: 0.8464248629071864 and parameters: {'svm_C': 251.19237524758307, 'svm_gamma': 'auto', 'svm_kernel': 'rbf'}. Best is trial 54 with value: 0.8925271525327142.\n",
            "[I 2024-09-29 20:07:13,783] Trial 66 finished with value: 0.876132288501104 and parameters: {'svm_C': 0.8299209080332378, 'svm_gamma': 'auto', 'svm_kernel': 'rbf'}. Best is trial 54 with value: 0.8925271525327142.\n",
            "[I 2024-09-29 20:07:13,873] Trial 67 finished with value: 0.06595238095238094 and parameters: {'svm_C': 0.056130291699894364, 'svm_gamma': 'auto', 'svm_kernel': 'rbf'}. Best is trial 54 with value: 0.8925271525327142.\n",
            "[I 2024-09-29 20:07:13,956] Trial 68 finished with value: 0.7066374749133368 and parameters: {'svm_C': 5.032844379504864, 'svm_gamma': 'auto', 'svm_kernel': 'sigmoid'}. Best is trial 54 with value: 0.8925271525327142.\n",
            "[I 2024-09-29 20:07:14,047] Trial 69 finished with value: 0.8530659867896896 and parameters: {'svm_C': 18.287587038993053, 'svm_gamma': 'auto', 'svm_kernel': 'rbf'}. Best is trial 54 with value: 0.8925271525327142.\n",
            "[I 2024-09-29 20:07:14,132] Trial 70 finished with value: 0.8710419765142404 and parameters: {'svm_C': 1.1605191689747527, 'svm_gamma': 'auto', 'svm_kernel': 'rbf'}. Best is trial 54 with value: 0.8925271525327142.\n",
            "[I 2024-09-29 20:07:14,224] Trial 71 finished with value: 0.8925271525327142 and parameters: {'svm_C': 3.517286942940204, 'svm_gamma': 'auto', 'svm_kernel': 'rbf'}. Best is trial 54 with value: 0.8925271525327142.\n",
            "[I 2024-09-29 20:07:14,326] Trial 72 finished with value: 0.8464248629071864 and parameters: {'svm_C': 50.215151081176536, 'svm_gamma': 'auto', 'svm_kernel': 'rbf'}. Best is trial 54 with value: 0.8925271525327142.\n",
            "[I 2024-09-29 20:07:14,405] Trial 73 finished with value: 0.8925271525327142 and parameters: {'svm_C': 4.480009271088235, 'svm_gamma': 'auto', 'svm_kernel': 'rbf'}. Best is trial 54 with value: 0.8925271525327142.\n",
            "[I 2024-09-29 20:07:14,508] Trial 74 finished with value: 0.8464248629071864 and parameters: {'svm_C': 179.42933349024756, 'svm_gamma': 'auto', 'svm_kernel': 'rbf'}. Best is trial 54 with value: 0.8925271525327142.\n",
            "[I 2024-09-29 20:07:14,595] Trial 75 finished with value: 0.8563128474559051 and parameters: {'svm_C': 13.768086566856937, 'svm_gamma': 'auto', 'svm_kernel': 'rbf'}. Best is trial 54 with value: 0.8925271525327142.\n",
            "[I 2024-09-29 20:07:14,675] Trial 76 finished with value: 0.8925271525327142 and parameters: {'svm_C': 4.814399170812605, 'svm_gamma': 'auto', 'svm_kernel': 'rbf'}. Best is trial 54 with value: 0.8925271525327142.\n",
            "[I 2024-09-29 20:07:14,758] Trial 77 finished with value: 0.7051806427001087 and parameters: {'svm_C': 5.482533295620938, 'svm_gamma': 'auto', 'svm_kernel': 'sigmoid'}. Best is trial 54 with value: 0.8925271525327142.\n",
            "[I 2024-09-29 20:07:14,885] Trial 78 finished with value: 0.8530659867896896 and parameters: {'svm_C': 17.216349538513818, 'svm_gamma': 'auto', 'svm_kernel': 'rbf'}. Best is trial 54 with value: 0.8925271525327142.\n",
            "[I 2024-09-29 20:07:15,022] Trial 79 finished with value: 0.8464248629071864 and parameters: {'svm_C': 30.181191479292032, 'svm_gamma': 'auto', 'svm_kernel': 'rbf'}. Best is trial 54 with value: 0.8925271525327142.\n",
            "[I 2024-09-29 20:07:15,169] Trial 80 finished with value: 0.8639773720643287 and parameters: {'svm_C': 0.5553692172875927, 'svm_gamma': 'auto', 'svm_kernel': 'rbf'}. Best is trial 54 with value: 0.8925271525327142.\n",
            "[I 2024-09-29 20:07:15,300] Trial 81 finished with value: 0.866911669675852 and parameters: {'svm_C': 8.009675937340145, 'svm_gamma': 'auto', 'svm_kernel': 'rbf'}. Best is trial 54 with value: 0.8925271525327142.\n",
            "[I 2024-09-29 20:07:15,428] Trial 82 finished with value: 0.8925271525327142 and parameters: {'svm_C': 3.8293355531460853, 'svm_gamma': 'auto', 'svm_kernel': 'rbf'}. Best is trial 54 with value: 0.8925271525327142.\n",
            "[I 2024-09-29 20:07:15,573] Trial 83 finished with value: 0.8925271525327142 and parameters: {'svm_C': 4.137362778027039, 'svm_gamma': 'auto', 'svm_kernel': 'rbf'}. Best is trial 54 with value: 0.8925271525327142.\n",
            "[I 2024-09-29 20:07:15,708] Trial 84 finished with value: 0.8744811299533938 and parameters: {'svm_C': 1.3303579338754323, 'svm_gamma': 'auto', 'svm_kernel': 'rbf'}. Best is trial 54 with value: 0.8925271525327142.\n",
            "[I 2024-09-29 20:07:15,839] Trial 85 finished with value: 0.8691157119852774 and parameters: {'svm_C': 0.5415897417010376, 'svm_gamma': 'auto', 'svm_kernel': 'rbf'}. Best is trial 54 with value: 0.8925271525327142.\n",
            "[I 2024-09-29 20:07:15,987] Trial 86 finished with value: 0.866911669675852 and parameters: {'svm_C': 7.76918352106697, 'svm_gamma': 'auto', 'svm_kernel': 'rbf'}. Best is trial 54 with value: 0.8925271525327142.\n",
            "[I 2024-09-29 20:07:16,125] Trial 87 finished with value: 0.8464248629071864 and parameters: {'svm_C': 139.82279430556142, 'svm_gamma': 'auto', 'svm_kernel': 'rbf'}. Best is trial 54 with value: 0.8925271525327142.\n",
            "[I 2024-09-29 20:07:16,274] Trial 88 finished with value: 0.8464248629071864 and parameters: {'svm_C': 51.99648401016924, 'svm_gamma': 'auto', 'svm_kernel': 'rbf'}. Best is trial 54 with value: 0.8925271525327142.\n",
            "[I 2024-09-29 20:07:16,423] Trial 89 finished with value: 0.8464248629071864 and parameters: {'svm_C': 22.8691073981491, 'svm_gamma': 'auto', 'svm_kernel': 'rbf'}. Best is trial 54 with value: 0.8925271525327142.\n",
            "[I 2024-09-29 20:07:16,579] Trial 90 finished with value: 0.8925271525327142 and parameters: {'svm_C': 3.8185956742594263, 'svm_gamma': 'auto', 'svm_kernel': 'rbf'}. Best is trial 54 with value: 0.8925271525327142.\n",
            "[I 2024-09-29 20:07:16,723] Trial 91 finished with value: 0.8925271525327142 and parameters: {'svm_C': 4.679022911893925, 'svm_gamma': 'auto', 'svm_kernel': 'rbf'}. Best is trial 54 with value: 0.8925271525327142.\n",
            "[I 2024-09-29 20:07:16,869] Trial 92 finished with value: 0.8563128474559051 and parameters: {'svm_C': 12.56650815752067, 'svm_gamma': 'auto', 'svm_kernel': 'rbf'}. Best is trial 54 with value: 0.8925271525327142.\n",
            "[I 2024-09-29 20:07:17,024] Trial 93 finished with value: 0.7805784741574215 and parameters: {'svm_C': 0.1614639140044919, 'svm_gamma': 'auto', 'svm_kernel': 'rbf'}. Best is trial 54 with value: 0.8925271525327142.\n",
            "[I 2024-09-29 20:07:17,166] Trial 94 finished with value: 0.8794775692657397 and parameters: {'svm_C': 1.471275087701055, 'svm_gamma': 'auto', 'svm_kernel': 'rbf'}. Best is trial 54 with value: 0.8925271525327142.\n",
            "[I 2024-09-29 20:07:17,307] Trial 95 finished with value: 0.8925271525327142 and parameters: {'svm_C': 3.415750138912165, 'svm_gamma': 'auto', 'svm_kernel': 'rbf'}. Best is trial 54 with value: 0.8925271525327142.\n",
            "[I 2024-09-29 20:07:17,442] Trial 96 finished with value: 0.7001415897274097 and parameters: {'svm_C': 7.121079918604508, 'svm_gamma': 'auto', 'svm_kernel': 'sigmoid'}. Best is trial 54 with value: 0.8925271525327142.\n",
            "[I 2024-09-29 20:07:17,596] Trial 97 finished with value: 0.8870138421326577 and parameters: {'svm_C': 1.8287387961897674, 'svm_gamma': 'auto', 'svm_kernel': 'rbf'}. Best is trial 54 with value: 0.8925271525327142.\n",
            "[I 2024-09-29 20:07:17,741] Trial 98 finished with value: 0.870047632416448 and parameters: {'svm_C': 0.9481284782006244, 'svm_gamma': 'auto', 'svm_kernel': 'rbf'}. Best is trial 54 with value: 0.8925271525327142.\n",
            "[I 2024-09-29 20:07:17,881] Trial 99 finished with value: 0.860281101424159 and parameters: {'svm_C': 11.835686676220496, 'svm_gamma': 'auto', 'svm_kernel': 'rbf'}. Best is trial 54 with value: 0.8925271525327142.\n"
          ]
        },
        {
          "output_type": "stream",
          "name": "stdout",
          "text": [
            "Best hyperparameters: {'svm_C': 4.648485495763586, 'svm_gamma': 'auto', 'svm_kernel': 'rbf'}\n",
            "Best F1-score: 0.8925\n"
          ]
        }
      ]
    },
    {
      "cell_type": "markdown",
      "source": [
        "Usando os hiperparâmetros do melhor modelo encontrado, reproduzimos ele novamente para verificar outras métricas como F1-score, MCC, Sensitivity, Specificity."
      ],
      "metadata": {
        "id": "xJARuYczVHeO"
      }
    },
    {
      "cell_type": "code",
      "source": [
        "scoring = {\n",
        "    'accuracy': make_scorer(accuracy_score),\n",
        "    'f1': make_scorer(f1_score, pos_label='anticancer'),\n",
        "    'mcc': make_scorer(matthews_corrcoef),\n",
        "    'sensitivity': make_scorer(recall_score, pos_label='anticancer'),\n",
        "    'specificity': make_scorer(recall_score, pos_label='non')\n",
        "}\n",
        "\n",
        "best_params = study1.best_params\n",
        "\n",
        "best_model = Pipeline([\n",
        "    (\"scaler\", StandardScaler()),\n",
        "    (\"svm\", SVC(C=best_params[\"svm_C\"], kernel=best_params[\"svm_kernel\"], gamma=best_params[\"svm_gamma\"]))\n",
        "])\n",
        "\n",
        "cv_results = cross_validate(best_model, X, y, cv=10, scoring=scoring)\n",
        "\n",
        "print(f\"Accuracy: {cv_results['test_accuracy'].mean():.4f} +- {cv_results['test_accuracy'].std():.4f}\")\n",
        "print(f\"F1-score: {cv_results['test_f1'].mean():.4f} +- {cv_results['test_f1'].std():.4f}\")\n",
        "print(f\"MCC: {cv_results['test_mcc'].mean():.4f} +- {cv_results['test_mcc'].std():.4f}\")\n",
        "print(f\"Sensitivity: {cv_results['test_sensitivity'].mean():.4f} +- {cv_results['test_sensitivity'].std():.4f}\")\n",
        "print(f\"Specificity: {cv_results['test_specificity'].mean():.4f} +- {cv_results['test_specificity'].std():.4f}\")"
      ],
      "metadata": {
        "colab": {
          "base_uri": "https://localhost:8080/"
        },
        "id": "OpTLeg9qhS7r",
        "outputId": "dad4faee-5ccf-410c-c05b-cca10b91ebca"
      },
      "execution_count": 6,
      "outputs": [
        {
          "output_type": "stream",
          "name": "stdout",
          "text": [
            "Accuracy: 0.9160 +- 0.0519\n",
            "F1-score: 0.8925 +- 0.0626\n",
            "MCC: 0.8305 +- 0.1026\n",
            "Sensitivity: 0.8681 +- 0.0818\n",
            "Specificity: 0.9467 +- 0.0760\n"
          ]
        }
      ]
    },
    {
      "cell_type": "code",
      "source": [
        "y_pred = cross_val_predict(best_model, X, y, cv=10)\n",
        "\n",
        "cm = confusion_matrix(y, y_pred)\n",
        "\n",
        "labels = np.unique(y)\n",
        "\n",
        "sns.heatmap(cm, annot=True, fmt='d', cmap='Blues', xticklabels=labels, yticklabels=labels)\n",
        "plt.xlabel('Predicted labels')\n",
        "plt.ylabel('True labels')\n",
        "plt.savefig(\"cm_bow.pdf\", bbox_inches='tight')\n",
        "plt.show()"
      ],
      "metadata": {
        "id": "g0jLIAuKY-qk",
        "outputId": "b78e709c-7c7a-4cf1-e397-8b4d04119d10",
        "colab": {
          "base_uri": "https://localhost:8080/",
          "height": 449
        }
      },
      "execution_count": 16,
      "outputs": [
        {
          "output_type": "display_data",
          "data": {
            "text/plain": [
              "<Figure size 640x480 with 2 Axes>"
            ],
            "image/png": "[encoded data removed]"
          },
          "metadata": {}
        }
      ]
    },
    {
      "cell_type": "markdown",
      "source": [
        "### TF-IDF"
      ],
      "metadata": {
        "id": "OeUWyM2RhTKX"
      }
    },
    {
      "cell_type": "markdown",
      "source": [
        "Aqui utilizamos a abordagem com TF-IDF, considerando cada aminoácido como um token, usando Optuna e SVM novamente."
      ],
      "metadata": {
        "id": "usao3sGqZZTD"
      }
    },
    {
      "cell_type": "code",
      "source": [
        "def amino_acid_tokenizer(sequence):\n",
        "    return list(sequence)\n",
        "\n",
        "def objective(trial):\n",
        "    C = trial.suggest_float(\"svm_C\", 1e-6, 1e3, log=True)\n",
        "    gamma = trial.suggest_categorical(\"svm_gamma\", [\"scale\", \"auto\"])\n",
        "    kernel = trial.suggest_categorical(\"svm_kernel\", [\"linear\", \"poly\", \"rbf\", \"sigmoid\"])\n",
        "\n",
        "    pipeline = Pipeline([\n",
        "        (\"tfidf\", TfidfVectorizer(tokenizer=amino_acid_tokenizer, lowercase=False, token_pattern=None)),\n",
        "        (\"svm\", SVC(C=C, kernel=kernel, gamma=gamma, random_state=0))\n",
        "    ])\n",
        "\n",
        "    scores = cross_val_score(pipeline, X, y, cv=10, scoring=make_scorer(f1_score, pos_label='anticancer'))\n",
        "\n",
        "    return np.mean(scores)\n",
        "\n",
        "X, y = df_seqs[\"sequence\"].to_numpy(), df_seqs[\"label\"].to_list()\n",
        "\n",
        "sampler = optuna.samplers.TPESampler(seed=0)\n",
        "study2 = optuna.create_study(direction=\"maximize\", sampler=sampler)\n",
        "study2.optimize(objective, n_trials=100)\n",
        "\n",
        "print(\"Best hyperparameters:\", study2.best_params)\n",
        "print(f\"Best F1-score: {study2.best_value:.4f}\")"
      ],
      "metadata": {
        "colab": {
          "base_uri": "https://localhost:8080/"
        },
        "id": "29RvvvHyuR69",
        "outputId": "067ab17f-4b1e-429b-dff1-0f6e703e6212"
      },
      "execution_count": 17,
      "outputs": [
        {
          "output_type": "stream",
          "name": "stderr",
          "text": [
            "[I 2024-09-29 20:14:49,568] A new study created in memory with name: no-name-cd016061-c417-4e6c-8fde-4ef4cca12a23\n",
            "[I 2024-09-29 20:14:50,431] Trial 0 finished with value: 0.7430680506881879 and parameters: {'svm_C': 0.0869604013210559, 'svm_gamma': 'scale', 'svm_kernel': 'rbf'}. Best is trial 0 with value: 0.7430680506881879.\n",
            "[I 2024-09-29 20:14:50,977] Trial 1 finished with value: 0.5885700145958767 and parameters: {'svm_C': 106.15904599003998, 'svm_gamma': 'scale', 'svm_kernel': 'sigmoid'}. Best is trial 0 with value: 0.7430680506881879.\n",
            "[I 2024-09-29 20:14:51,265] Trial 2 finished with value: 0.0 and parameters: {'svm_C': 4.35837428774127e-06, 'svm_gamma': 'scale', 'svm_kernel': 'sigmoid'}. Best is trial 0 with value: 0.7430680506881879.\n",
            "[I 2024-09-29 20:14:51,487] Trial 3 finished with value: 0.8512669552669552 and parameters: {'svm_C': 15.574964948467398, 'svm_gamma': 'auto', 'svm_kernel': 'sigmoid'}. Best is trial 3 with value: 0.8512669552669552.\n",
            "[I 2024-09-29 20:14:51,747] Trial 4 finished with value: 0.5593434343434344 and parameters: {'svm_C': 0.04973188214118056, 'svm_gamma': 'scale', 'svm_kernel': 'linear'}. Best is trial 3 with value: 0.8512669552669552.\n",
            "[I 2024-09-29 20:14:51,958] Trial 5 finished with value: 0.8445888313474521 and parameters: {'svm_C': 0.36200908827975287, 'svm_gamma': 'auto', 'svm_kernel': 'linear'}. Best is trial 3 with value: 0.8512669552669552.\n",
            "[I 2024-09-29 20:14:52,164] Trial 6 finished with value: 0.8540149607735815 and parameters: {'svm_C': 1.8996813686210312, 'svm_gamma': 'auto', 'svm_kernel': 'linear'}. Best is trial 6 with value: 0.8540149607735815.\n",
            "[I 2024-09-29 20:14:52,554] Trial 7 finished with value: 0.0 and parameters: {'svm_C': 0.0018767090076326175, 'svm_gamma': 'scale', 'svm_kernel': 'linear'}. Best is trial 6 with value: 0.8540149607735815.\n",
            "[I 2024-09-29 20:14:52,852] Trial 8 finished with value: 0.12468253968253966 and parameters: {'svm_C': 0.7550486392036303, 'svm_gamma': 'auto', 'svm_kernel': 'sigmoid'}. Best is trial 6 with value: 0.8540149607735815.\n",
            "[I 2024-09-29 20:14:53,134] Trial 9 finished with value: 0.0 and parameters: {'svm_C': 1.7524537381340202e-05, 'svm_gamma': 'auto', 'svm_kernel': 'rbf'}. Best is trial 6 with value: 0.8540149607735815.\n",
            "[I 2024-09-29 20:14:53,409] Trial 10 finished with value: 0.02761904761904762 and parameters: {'svm_C': 333.740732140588, 'svm_gamma': 'auto', 'svm_kernel': 'poly'}. Best is trial 6 with value: 0.8540149607735815.\n",
            "[I 2024-09-29 20:14:53,619] Trial 11 finished with value: 0.0 and parameters: {'svm_C': 4.8874857518808, 'svm_gamma': 'auto', 'svm_kernel': 'poly'}. Best is trial 6 with value: 0.8540149607735815.\n",
            "[I 2024-09-29 20:14:53,765] Trial 12 finished with value: 0.8170186939497285 and parameters: {'svm_C': 26.00511804781618, 'svm_gamma': 'auto', 'svm_kernel': 'linear'}. Best is trial 6 with value: 0.8540149607735815.\n",
            "[I 2024-09-29 20:14:53,940] Trial 13 finished with value: 0.0 and parameters: {'svm_C': 0.002578932173593967, 'svm_gamma': 'auto', 'svm_kernel': 'sigmoid'}. Best is trial 6 with value: 0.8540149607735815.\n",
            "[I 2024-09-29 20:14:54,504] Trial 14 finished with value: 0.8084569683190374 and parameters: {'svm_C': 983.8610270006998, 'svm_gamma': 'auto', 'svm_kernel': 'linear'}. Best is trial 6 with value: 0.8540149607735815.\n",
            "[I 2024-09-29 20:14:54,676] Trial 15 finished with value: 0.8410306360306361 and parameters: {'svm_C': 2.579269593967601, 'svm_gamma': 'auto', 'svm_kernel': 'sigmoid'}. Best is trial 6 with value: 0.8540149607735815.\n",
            "[I 2024-09-29 20:14:54,834] Trial 16 finished with value: 0.8556047043633251 and parameters: {'svm_C': 14.712959456923098, 'svm_gamma': 'auto', 'svm_kernel': 'rbf'}. Best is trial 16 with value: 0.8556047043633251.\n",
            "[I 2024-09-29 20:14:55,205] Trial 17 finished with value: 0.0 and parameters: {'svm_C': 0.0038010697840752936, 'svm_gamma': 'auto', 'svm_kernel': 'rbf'}. Best is trial 16 with value: 0.8556047043633251.\n",
            "[I 2024-09-29 20:14:55,532] Trial 18 finished with value: 0.0 and parameters: {'svm_C': 7.28471420683781e-05, 'svm_gamma': 'auto', 'svm_kernel': 'rbf'}. Best is trial 16 with value: 0.8556047043633251.\n",
            "[I 2024-09-29 20:14:55,917] Trial 19 finished with value: 0.8353185550082103 and parameters: {'svm_C': 61.530142227448174, 'svm_gamma': 'auto', 'svm_kernel': 'rbf'}. Best is trial 16 with value: 0.8556047043633251.\n",
            "[I 2024-09-29 20:14:56,260] Trial 20 finished with value: 0.0 and parameters: {'svm_C': 0.47590627183921325, 'svm_gamma': 'auto', 'svm_kernel': 'poly'}. Best is trial 16 with value: 0.8556047043633251.\n",
            "[I 2024-09-29 20:14:56,488] Trial 21 finished with value: 0.8556047043633251 and parameters: {'svm_C': 14.515965169849473, 'svm_gamma': 'auto', 'svm_kernel': 'rbf'}. Best is trial 16 with value: 0.8556047043633251.\n",
            "[I 2024-09-29 20:14:56,877] Trial 22 finished with value: 0.8491472359058566 and parameters: {'svm_C': 4.4505808791175365, 'svm_gamma': 'auto', 'svm_kernel': 'rbf'}. Best is trial 16 with value: 0.8556047043633251.\n",
            "[I 2024-09-29 20:14:57,334] Trial 23 finished with value: 0.8541400081400081 and parameters: {'svm_C': 16.329409168512026, 'svm_gamma': 'auto', 'svm_kernel': 'rbf'}. Best is trial 16 with value: 0.8556047043633251.\n",
            "[I 2024-09-29 20:14:57,637] Trial 24 finished with value: 0.8177110016420361 and parameters: {'svm_C': 228.86647812324048, 'svm_gamma': 'auto', 'svm_kernel': 'rbf'}. Best is trial 16 with value: 0.8556047043633251.\n",
            "[I 2024-09-29 20:14:57,986] Trial 25 finished with value: 0.8541400081400081 and parameters: {'svm_C': 22.623462672685044, 'svm_gamma': 'auto', 'svm_kernel': 'rbf'}. Best is trial 16 with value: 0.8556047043633251.\n",
            "[I 2024-09-29 20:14:58,316] Trial 26 finished with value: 0.8535515559709108 and parameters: {'svm_C': 875.4977160439693, 'svm_gamma': 'scale', 'svm_kernel': 'rbf'}. Best is trial 16 with value: 0.8556047043633251.\n",
            "[I 2024-09-29 20:14:58,561] Trial 27 finished with value: 0.8490401771031456 and parameters: {'svm_C': 11.309304775607762, 'svm_gamma': 'auto', 'svm_kernel': 'rbf'}. Best is trial 16 with value: 0.8556047043633251.\n",
            "[I 2024-09-29 20:14:58,974] Trial 28 finished with value: 0.0 and parameters: {'svm_C': 0.012891750416727084, 'svm_gamma': 'auto', 'svm_kernel': 'rbf'}. Best is trial 16 with value: 0.8556047043633251.\n",
            "[I 2024-09-29 20:14:59,319] Trial 29 finished with value: 0.7627281060324539 and parameters: {'svm_C': 0.10185019025906106, 'svm_gamma': 'scale', 'svm_kernel': 'rbf'}. Best is trial 16 with value: 0.8556047043633251.\n",
            "[I 2024-09-29 20:14:59,678] Trial 30 finished with value: 0.0 and parameters: {'svm_C': 0.19501294060502702, 'svm_gamma': 'auto', 'svm_kernel': 'rbf'}. Best is trial 16 with value: 0.8556047043633251.\n",
            "[I 2024-09-29 20:14:59,990] Trial 31 finished with value: 0.8405749652646204 and parameters: {'svm_C': 39.81437002776674, 'svm_gamma': 'auto', 'svm_kernel': 'rbf'}. Best is trial 16 with value: 0.8556047043633251.\n",
            "[I 2024-09-29 20:15:00,334] Trial 32 finished with value: 0.8170632595790017 and parameters: {'svm_C': 102.39256281640007, 'svm_gamma': 'auto', 'svm_kernel': 'rbf'}. Best is trial 16 with value: 0.8556047043633251.\n",
            "[I 2024-09-29 20:15:00,659] Trial 33 finished with value: 0.8467085507085507 and parameters: {'svm_C': 9.094862201392624, 'svm_gamma': 'auto', 'svm_kernel': 'rbf'}. Best is trial 16 with value: 0.8556047043633251.\n",
            "[I 2024-09-29 20:15:00,986] Trial 34 finished with value: 0.8622860651481341 and parameters: {'svm_C': 0.9015831633905437, 'svm_gamma': 'scale', 'svm_kernel': 'rbf'}. Best is trial 34 with value: 0.8622860651481341.\n",
            "[I 2024-09-29 20:15:01,297] Trial 35 finished with value: 0.8795291553912243 and parameters: {'svm_C': 1.580461186560495, 'svm_gamma': 'scale', 'svm_kernel': 'rbf'}. Best is trial 35 with value: 0.8795291553912243.\n",
            "[I 2024-09-29 20:15:01,568] Trial 36 finished with value: 0.8578525676111883 and parameters: {'svm_C': 1.1152982019411783, 'svm_gamma': 'scale', 'svm_kernel': 'rbf'}. Best is trial 35 with value: 0.8795291553912243.\n",
            "[I 2024-09-29 20:15:01,797] Trial 37 finished with value: 0.8678325412897159 and parameters: {'svm_C': 0.9479285816414856, 'svm_gamma': 'scale', 'svm_kernel': 'poly'}. Best is trial 35 with value: 0.8795291553912243.\n",
            "[I 2024-09-29 20:15:02,025] Trial 38 finished with value: 0.8678325412897159 and parameters: {'svm_C': 0.9380936710646334, 'svm_gamma': 'scale', 'svm_kernel': 'poly'}. Best is trial 35 with value: 0.8795291553912243.\n",
            "[I 2024-09-29 20:15:02,310] Trial 39 finished with value: 0.8159885986545026 and parameters: {'svm_C': 0.031104163126231866, 'svm_gamma': 'scale', 'svm_kernel': 'poly'}. Best is trial 35 with value: 0.8795291553912243.\n",
            "[I 2024-09-29 20:15:02,632] Trial 40 finished with value: 0.8529527318148007 and parameters: {'svm_C': 0.1390458809909475, 'svm_gamma': 'scale', 'svm_kernel': 'poly'}. Best is trial 35 with value: 0.8795291553912243.\n",
            "[I 2024-09-29 20:15:03,105] Trial 41 finished with value: 0.8678325412897159 and parameters: {'svm_C': 0.749290146158971, 'svm_gamma': 'scale', 'svm_kernel': 'poly'}. Best is trial 35 with value: 0.8795291553912243.\n",
            "[I 2024-09-29 20:15:03,487] Trial 42 finished with value: 0.861772420108627 and parameters: {'svm_C': 1.1516217080617093, 'svm_gamma': 'scale', 'svm_kernel': 'poly'}. Best is trial 35 with value: 0.8795291553912243.\n",
            "[I 2024-09-29 20:15:04,153] Trial 43 finished with value: 0.8739014497635187 and parameters: {'svm_C': 0.32439641343042996, 'svm_gamma': 'scale', 'svm_kernel': 'poly'}. Best is trial 35 with value: 0.8795291553912243.\n",
            "[I 2024-09-29 20:15:04,996] Trial 44 finished with value: 0.8159885986545026 and parameters: {'svm_C': 0.02911248080323765, 'svm_gamma': 'scale', 'svm_kernel': 'poly'}. Best is trial 35 with value: 0.8795291553912243.\n",
            "[I 2024-09-29 20:15:05,572] Trial 45 finished with value: 0.8677109735730426 and parameters: {'svm_C': 0.340885189137799, 'svm_gamma': 'scale', 'svm_kernel': 'poly'}. Best is trial 35 with value: 0.8795291553912243.\n",
            "[I 2024-09-29 20:15:06,119] Trial 46 finished with value: 0.822433620019827 and parameters: {'svm_C': 2.7135921141131902, 'svm_gamma': 'scale', 'svm_kernel': 'poly'}. Best is trial 35 with value: 0.8795291553912243.\n",
            "[I 2024-09-29 20:15:07,017] Trial 47 finished with value: 0.3105718954248366 and parameters: {'svm_C': 0.00902932859823989, 'svm_gamma': 'scale', 'svm_kernel': 'poly'}. Best is trial 35 with value: 0.8795291553912243.\n",
            "[I 2024-09-29 20:15:07,606] Trial 48 finished with value: 0.8386848657478343 and parameters: {'svm_C': 0.06125338874592633, 'svm_gamma': 'scale', 'svm_kernel': 'poly'}. Best is trial 35 with value: 0.8795291553912243.\n",
            "[I 2024-09-29 20:15:08,102] Trial 49 finished with value: 0.8665937574558263 and parameters: {'svm_C': 0.28443558686636067, 'svm_gamma': 'scale', 'svm_kernel': 'poly'}. Best is trial 35 with value: 0.8795291553912243.\n",
            "[I 2024-09-29 20:15:08,376] Trial 50 finished with value: 0.8348179406800096 and parameters: {'svm_C': 5.927534074914262, 'svm_gamma': 'scale', 'svm_kernel': 'poly'}. Best is trial 35 with value: 0.8795291553912243.\n",
            "[I 2024-09-29 20:15:08,718] Trial 51 finished with value: 0.8685155712741919 and parameters: {'svm_C': 0.38505909523645543, 'svm_gamma': 'scale', 'svm_kernel': 'poly'}. Best is trial 35 with value: 0.8795291553912243.\n",
            "[I 2024-09-29 20:15:09,143] Trial 52 finished with value: 0.0 and parameters: {'svm_C': 1.038680091759323e-06, 'svm_gamma': 'scale', 'svm_kernel': 'poly'}. Best is trial 35 with value: 0.8795291553912243.\n",
            "[I 2024-09-29 20:15:09,451] Trial 53 finished with value: 0.8779719631499386 and parameters: {'svm_C': 0.4968383536155375, 'svm_gamma': 'scale', 'svm_kernel': 'poly'}. Best is trial 35 with value: 0.8795291553912243.\n",
            "[I 2024-09-29 20:15:09,749] Trial 54 finished with value: 0.0 and parameters: {'svm_C': 0.0006036575893679431, 'svm_gamma': 'scale', 'svm_kernel': 'poly'}. Best is trial 35 with value: 0.8795291553912243.\n",
            "[I 2024-09-29 20:15:10,014] Trial 55 finished with value: 0.6664258036694077 and parameters: {'svm_C': 1.9871853843778018, 'svm_gamma': 'scale', 'svm_kernel': 'sigmoid'}. Best is trial 35 with value: 0.8795291553912243.\n",
            "[I 2024-09-29 20:15:10,253] Trial 56 finished with value: 0.8722192749778956 and parameters: {'svm_C': 0.42789166827365416, 'svm_gamma': 'scale', 'svm_kernel': 'poly'}. Best is trial 35 with value: 0.8795291553912243.\n",
            "[I 2024-09-29 20:15:10,544] Trial 57 finished with value: 0.8188259807825025 and parameters: {'svm_C': 0.09073616185768436, 'svm_gamma': 'scale', 'svm_kernel': 'linear'}. Best is trial 35 with value: 0.8795291553912243.\n",
            "[I 2024-09-29 20:15:10,776] Trial 58 finished with value: 0.8685155712741919 and parameters: {'svm_C': 0.4189722315440231, 'svm_gamma': 'scale', 'svm_kernel': 'poly'}. Best is trial 35 with value: 0.8795291553912243.\n",
            "[I 2024-09-29 20:15:11,058] Trial 59 finished with value: 0.8665937574558263 and parameters: {'svm_C': 0.26358128013928755, 'svm_gamma': 'scale', 'svm_kernel': 'poly'}. Best is trial 35 with value: 0.8795291553912243.\n",
            "[I 2024-09-29 20:15:11,394] Trial 60 finished with value: 0.0 and parameters: {'svm_C': 0.015132892057967712, 'svm_gamma': 'scale', 'svm_kernel': 'sigmoid'}. Best is trial 35 with value: 0.8795291553912243.\n",
            "[I 2024-09-29 20:15:11,662] Trial 61 finished with value: 0.8779719631499386 and parameters: {'svm_C': 0.49297200789554796, 'svm_gamma': 'scale', 'svm_kernel': 'poly'}. Best is trial 35 with value: 0.8795291553912243.\n",
            "[I 2024-09-29 20:15:11,959] Trial 62 finished with value: 0.875552608311229 and parameters: {'svm_C': 0.5172857869852213, 'svm_gamma': 'scale', 'svm_kernel': 'poly'}. Best is trial 35 with value: 0.8795291553912243.\n",
            "[I 2024-09-29 20:15:12,243] Trial 63 finished with value: 0.8348179406800096 and parameters: {'svm_C': 3.5680969822905197, 'svm_gamma': 'scale', 'svm_kernel': 'poly'}. Best is trial 35 with value: 0.8795291553912243.\n",
            "[I 2024-09-29 20:15:12,493] Trial 64 finished with value: 0.8529527318148007 and parameters: {'svm_C': 0.15922758393690542, 'svm_gamma': 'scale', 'svm_kernel': 'poly'}. Best is trial 35 with value: 0.8795291553912243.\n",
            "[I 2024-09-29 20:15:12,763] Trial 65 finished with value: 0.4580871509549662 and parameters: {'svm_C': 0.044487074286459136, 'svm_gamma': 'scale', 'svm_kernel': 'linear'}. Best is trial 35 with value: 0.8795291553912243.\n",
            "[I 2024-09-29 20:15:13,013] Trial 66 finished with value: 0.8368341516793298 and parameters: {'svm_C': 1.7141065186289783, 'svm_gamma': 'scale', 'svm_kernel': 'poly'}. Best is trial 35 with value: 0.8795291553912243.\n",
            "[I 2024-09-29 20:15:13,266] Trial 67 finished with value: 0.8774098494098492 and parameters: {'svm_C': 0.6306094301508756, 'svm_gamma': 'scale', 'svm_kernel': 'poly'}. Best is trial 35 with value: 0.8795291553912243.\n",
            "[I 2024-09-29 20:15:13,503] Trial 68 finished with value: 0.8688262108262108 and parameters: {'svm_C': 0.6073258971092029, 'svm_gamma': 'scale', 'svm_kernel': 'poly'}. Best is trial 35 with value: 0.8795291553912243.\n",
            "[I 2024-09-29 20:15:13,741] Trial 69 finished with value: 0.8348179406800096 and parameters: {'svm_C': 6.450590496791961, 'svm_gamma': 'scale', 'svm_kernel': 'poly'}. Best is trial 35 with value: 0.8795291553912243.\n",
            "[I 2024-09-29 20:15:14,063] Trial 70 finished with value: 0.7370264518090606 and parameters: {'svm_C': 0.0790136363023202, 'svm_gamma': 'scale', 'svm_kernel': 'sigmoid'}. Best is trial 35 with value: 0.8795291553912243.\n",
            "[I 2024-09-29 20:15:14,307] Trial 71 finished with value: 0.8779719631499386 and parameters: {'svm_C': 0.4835484948120699, 'svm_gamma': 'scale', 'svm_kernel': 'poly'}. Best is trial 35 with value: 0.8795291553912243.\n",
            "[I 2024-09-29 20:15:14,552] Trial 72 finished with value: 0.8332109632735328 and parameters: {'svm_C': 1.7643622644678951, 'svm_gamma': 'scale', 'svm_kernel': 'poly'}. Best is trial 35 with value: 0.8795291553912243.\n",
            "[I 2024-09-29 20:15:14,824] Trial 73 finished with value: 0.8619270907891596 and parameters: {'svm_C': 0.18376030502552454, 'svm_gamma': 'scale', 'svm_kernel': 'poly'}. Best is trial 35 with value: 0.8795291553912243.\n",
            "[I 2024-09-29 20:15:15,067] Trial 74 finished with value: 0.8722192749778956 and parameters: {'svm_C': 0.432146000190371, 'svm_gamma': 'scale', 'svm_kernel': 'poly'}. Best is trial 35 with value: 0.8795291553912243.\n",
            "[I 2024-09-29 20:15:15,311] Trial 75 finished with value: 0.8348179406800096 and parameters: {'svm_C': 3.443383192374471, 'svm_gamma': 'scale', 'svm_kernel': 'poly'}. Best is trial 35 with value: 0.8795291553912243.\n",
            "[I 2024-09-29 20:15:15,556] Trial 76 finished with value: 0.8619270907891596 and parameters: {'svm_C': 0.18474331909310573, 'svm_gamma': 'scale', 'svm_kernel': 'poly'}. Best is trial 35 with value: 0.8795291553912243.\n",
            "[I 2024-09-29 20:15:15,785] Trial 77 finished with value: 0.8491472359058566 and parameters: {'svm_C': 0.5836349427290213, 'svm_gamma': 'scale', 'svm_kernel': 'linear'}. Best is trial 35 with value: 0.8795291553912243.\n",
            "[I 2024-09-29 20:15:16,035] Trial 78 finished with value: 0.8576546919586407 and parameters: {'svm_C': 1.4268415493418107, 'svm_gamma': 'scale', 'svm_kernel': 'poly'}. Best is trial 35 with value: 0.8795291553912243.\n",
            "[I 2024-09-29 20:15:16,328] Trial 79 finished with value: 0.8517212047212048 and parameters: {'svm_C': 0.10093719687056865, 'svm_gamma': 'scale', 'svm_kernel': 'poly'}. Best is trial 35 with value: 0.8795291553912243.\n",
            "[I 2024-09-29 20:15:16,602] Trial 80 finished with value: 0.8007454649765864 and parameters: {'svm_C': 0.02243262490776925, 'svm_gamma': 'scale', 'svm_kernel': 'poly'}. Best is trial 35 with value: 0.8795291553912243.\n",
            "[I 2024-09-29 20:15:16,826] Trial 81 finished with value: 0.8746141504851181 and parameters: {'svm_C': 0.6389566084487281, 'svm_gamma': 'scale', 'svm_kernel': 'poly'}. Best is trial 35 with value: 0.8795291553912243.\n",
            "[I 2024-09-29 20:15:17,065] Trial 82 finished with value: 0.8678325412897159 and parameters: {'svm_C': 0.692525991636202, 'svm_gamma': 'scale', 'svm_kernel': 'poly'}. Best is trial 35 with value: 0.8795291553912243.\n",
            "[I 2024-09-29 20:15:17,330] Trial 83 finished with value: 0.8280788051417737 and parameters: {'svm_C': 0.050295558111044754, 'svm_gamma': 'scale', 'svm_kernel': 'poly'}. Best is trial 35 with value: 0.8795291553912243.\n",
            "[I 2024-09-29 20:15:17,767] Trial 84 finished with value: 0.8576546919586407 and parameters: {'svm_C': 1.326584430782908, 'svm_gamma': 'scale', 'svm_kernel': 'poly'}. Best is trial 35 with value: 0.8795291553912243.\n",
            "[I 2024-09-29 20:15:18,442] Trial 85 finished with value: 0.8621602599188807 and parameters: {'svm_C': 0.24599794123386856, 'svm_gamma': 'scale', 'svm_kernel': 'poly'}. Best is trial 35 with value: 0.8795291553912243.\n",
            "[I 2024-09-29 20:15:18,991] Trial 86 finished with value: 0.8348179406800096 and parameters: {'svm_C': 8.989214852583217, 'svm_gamma': 'scale', 'svm_kernel': 'poly'}. Best is trial 35 with value: 0.8795291553912243.\n",
            "[I 2024-09-29 20:15:19,576] Trial 87 finished with value: 0.8348179406800096 and parameters: {'svm_C': 4.0673679509807625, 'svm_gamma': 'scale', 'svm_kernel': 'poly'}. Best is trial 35 with value: 0.8795291553912243.\n",
            "[I 2024-09-29 20:15:20,213] Trial 88 finished with value: 0.7926089466089465 and parameters: {'svm_C': 0.1154310728688458, 'svm_gamma': 'scale', 'svm_kernel': 'sigmoid'}. Best is trial 35 with value: 0.8795291553912243.\n",
            "[I 2024-09-29 20:15:20,748] Trial 89 finished with value: 0.8648376068376068 and parameters: {'svm_C': 0.5730620710278854, 'svm_gamma': 'scale', 'svm_kernel': 'poly'}. Best is trial 35 with value: 0.8795291553912243.\n",
            "[I 2024-09-29 20:15:21,139] Trial 90 finished with value: 0.8572169312169311 and parameters: {'svm_C': 2.1138184946249763, 'svm_gamma': 'scale', 'svm_kernel': 'linear'}. Best is trial 35 with value: 0.8795291553912243.\n",
            "[I 2024-09-29 20:15:21,405] Trial 91 finished with value: 0.8722192749778956 and parameters: {'svm_C': 0.4417502409923933, 'svm_gamma': 'scale', 'svm_kernel': 'poly'}. Best is trial 35 with value: 0.8795291553912243.\n",
            "[I 2024-09-29 20:15:21,690] Trial 92 finished with value: 0.8665937574558263 and parameters: {'svm_C': 0.2790363641325878, 'svm_gamma': 'scale', 'svm_kernel': 'poly'}. Best is trial 35 with value: 0.8795291553912243.\n",
            "[I 2024-09-29 20:15:21,964] Trial 93 finished with value: 0.8678325412897159 and parameters: {'svm_C': 0.9286198332698165, 'svm_gamma': 'scale', 'svm_kernel': 'poly'}. Best is trial 35 with value: 0.8795291553912243.\n",
            "[I 2024-09-29 20:15:22,202] Trial 94 finished with value: 0.8677109735730426 and parameters: {'svm_C': 0.3493633827783952, 'svm_gamma': 'scale', 'svm_kernel': 'poly'}. Best is trial 35 with value: 0.8795291553912243.\n",
            "[I 2024-09-29 20:15:22,366] Trial 95 finished with value: 0.8249623556520108 and parameters: {'svm_C': 2.955182205349067, 'svm_gamma': 'scale', 'svm_kernel': 'poly'}. Best is trial 35 with value: 0.8795291553912243.\n",
            "[I 2024-09-29 20:15:22,685] Trial 96 finished with value: 0.861772420108627 and parameters: {'svm_C': 1.0649537454249118, 'svm_gamma': 'scale', 'svm_kernel': 'poly'}. Best is trial 35 with value: 0.8795291553912243.\n",
            "[I 2024-09-29 20:15:22,945] Trial 97 finished with value: 0.8529527318148007 and parameters: {'svm_C': 0.15222298478355523, 'svm_gamma': 'scale', 'svm_kernel': 'poly'}. Best is trial 35 with value: 0.8795291553912243.\n",
            "[I 2024-09-29 20:15:23,249] Trial 98 finished with value: 0.8469592999593001 and parameters: {'svm_C': 0.06605086040396814, 'svm_gamma': 'scale', 'svm_kernel': 'poly'}. Best is trial 35 with value: 0.8795291553912243.\n",
            "[I 2024-09-29 20:15:23,543] Trial 99 finished with value: 0.8561547022581506 and parameters: {'svm_C': 0.5449835286138012, 'svm_gamma': 'scale', 'svm_kernel': 'rbf'}. Best is trial 35 with value: 0.8795291553912243.\n"
          ]
        },
        {
          "output_type": "stream",
          "name": "stdout",
          "text": [
            "Best hyperparameters: {'svm_C': 1.580461186560495, 'svm_gamma': 'scale', 'svm_kernel': 'rbf'}\n",
            "Best F1-score: 0.8795\n"
          ]
        }
      ]
    },
    {
      "cell_type": "markdown",
      "source": [
        "Usando os hiperparâmetros do melhor modelo encontrado, reproduzimos ele novamente para verificar outras métricas como F1-score, MCC, Sensitivity, Specificity."
      ],
      "metadata": {
        "id": "7MOB6QP8ZjCr"
      }
    },
    {
      "cell_type": "code",
      "source": [
        "scoring = {\n",
        "    'accuracy': make_scorer(accuracy_score),\n",
        "    'f1': make_scorer(f1_score, pos_label='anticancer'),\n",
        "    'mcc': make_scorer(matthews_corrcoef),\n",
        "    'sensitivity': make_scorer(recall_score, pos_label='anticancer'),\n",
        "    'specificity': make_scorer(recall_score, pos_label='non')\n",
        "}\n",
        "\n",
        "best_params = study2.best_params\n",
        "\n",
        "best_model = Pipeline([\n",
        "    (\"tfidf\", TfidfVectorizer(tokenizer=amino_acid_tokenizer, lowercase=False, token_pattern=None)),\n",
        "    (\"svm\", SVC(C=best_params[\"svm_C\"], kernel=best_params[\"svm_kernel\"], gamma=best_params[\"svm_gamma\"]))\n",
        "])\n",
        "\n",
        "cv_results = cross_validate(best_model, X, y, cv=10, scoring=scoring)\n",
        "\n",
        "print(f\"Accuracy: {cv_results['test_accuracy'].mean():.4f} +- {cv_results['test_accuracy'].std():.4f}\")\n",
        "print(f\"F1-score: {cv_results['test_f1'].mean():.4f} +- {cv_results['test_f1'].std():.4f}\")\n",
        "print(f\"MCC: {cv_results['test_mcc'].mean():.4f} +- {cv_results['test_mcc'].std():.4f}\")\n",
        "print(f\"Sensitivity: {cv_results['test_sensitivity'].mean():.4f} +- {cv_results['test_sensitivity'].std():.4f}\")\n",
        "print(f\"Specificity: {cv_results['test_specificity'].mean():.4f} +- {cv_results['test_specificity'].std():.4f}\")"
      ],
      "metadata": {
        "colab": {
          "base_uri": "https://localhost:8080/"
        },
        "id": "wkL1tEqjkwuY",
        "outputId": "d258cfb3-7e83-4af1-e88c-d6d84147b392"
      },
      "execution_count": 18,
      "outputs": [
        {
          "output_type": "stream",
          "name": "stdout",
          "text": [
            "Accuracy: 0.9103 +- 0.0531\n",
            "F1-score: 0.8795 +- 0.0717\n",
            "MCC: 0.8173 +- 0.1101\n",
            "Sensitivity: 0.8253 +- 0.0885\n",
            "Specificity: 0.9662 +- 0.0609\n"
          ]
        }
      ]
    },
    {
      "cell_type": "code",
      "source": [
        "y_pred = cross_val_predict(best_model, X, y, cv=10)\n",
        "\n",
        "cm = confusion_matrix(y, y_pred)\n",
        "\n",
        "labels = np.unique(y)\n",
        "\n",
        "sns.heatmap(cm, annot=True, fmt='d', cmap='Blues', xticklabels=labels, yticklabels=labels)\n",
        "plt.xlabel('Predicted labels')\n",
        "plt.ylabel('True labels')\n",
        "plt.savefig(\"cm_tfidf.pdf\", bbox_inches='tight')\n",
        "plt.show()"
      ],
      "metadata": {
        "id": "VRMoeZrna_uE",
        "outputId": "fc311adb-04fe-4cd3-bac9-aafd126e6a2c",
        "colab": {
          "base_uri": "https://localhost:8080/",
          "height": 449
        }
      },
      "execution_count": 20,
      "outputs": [
        {
          "output_type": "display_data",
          "data": {
            "text/plain": [
              "<Figure size 640x480 with 2 Axes>"
            ],
            "image/png": "[encoded data removed]"
          },
          "metadata": {}
        }
      ]
    },
    {
      "cell_type": "markdown",
      "source": [
        "### Embeddings"
      ],
      "metadata": {
        "id": "4PiZluUllFQv"
      }
    },
    {
      "cell_type": "markdown",
      "source": [
        "Aqui vamos utilizar da abordagem com embeddings. Para isso vamos utilizar de um modelo de linguagem para proteínas pré-treinado 2,1 bilhões de proteínas, o ProtT5-XL-U50. O modelo utiliza da arquitetura Transformer."
      ],
      "metadata": {
        "id": "OXZDO-zYZ-Tm"
      }
    },
    {
      "cell_type": "code",
      "source": [
        "tokenizer = T5Tokenizer.from_pretrained(\"Rostlab/prot_t5_xl_half_uniref50-enc\", do_lower_case=False)\n",
        "\n",
        "model = T5EncoderModel.from_pretrained(\"Rostlab/prot_t5_xl_half_uniref50-enc\")\n",
        "\n",
        "device = torch.device('cuda:0' if torch.cuda.is_available() else 'cpu')\n",
        "\n",
        "model = model.to(device)\n",
        "model = model.eval()\n",
        "\n",
        "def get_embeddings(sequence):\n",
        "    sequences = [\" \".join(list(re.sub(r\"[UZOB]\", \"X\", sequence)))]\n",
        "\n",
        "    ids = tokenizer.batch_encode_plus(sequences, add_special_tokens=True, pad_to_max_length=True)\n",
        "    input_ids = torch.tensor(ids['input_ids']).to(device)\n",
        "    attention_mask = torch.tensor(ids['attention_mask']).to(device)\n",
        "\n",
        "    with torch.no_grad():\n",
        "        embedding = model(input_ids=input_ids, attention_mask=attention_mask)[0]\n",
        "\n",
        "    embedding = embedding.cpu().numpy()\n",
        "\n",
        "    seq_len = (attention_mask[0] == 1).sum()\n",
        "    seq_emd = embedding[0][:seq_len-1]\n",
        "\n",
        "    avg_pool = seq_emd.mean(axis=0)\n",
        "\n",
        "    dict_embeddings = {f\"embedding_{i}\": embed for i, embed in enumerate(avg_pool)}\n",
        "\n",
        "    return dict_embeddings\n",
        "\n",
        "df_seqs_embeddings = df_seqs.with_columns(pl.col(\"sequence\").map_elements(lambda x: get_embeddings(x)).alias(\"embeddings\")).unnest(\"embeddings\")\n",
        "df_seqs_embeddings"
      ],
      "metadata": {
        "colab": {
          "base_uri": "https://localhost:8080/",
          "height": 970,
          "referenced_widgets": [
            "e67bea6e38c54201a5b568d77336c223",
            "1b3f6b46d54e4c38816b574f25844925",
            "457ce8f127224eb78b8cb849c6483990",
            "b4f810af234148b88ebfd318a7b2eae6",
            "7e85bc29b7f142a5adfe7cdeb6c9ed82",
            "605782b29b714d7d9ef97798732b23e2",
            "0ea139e1007949abade656a5d90bf77b",
            "8dfa05ae416e4e0eb6fea31ecf126833",
            "89357d8c72ca4b8a83b8cb845979dbf0",
            "780356a7e95a4caf8ee6781a999e7ab8",
            "f46fb78b6f354991911d24ab9a754658",
            "0c76242741b64202b5f64b9f5d0893df",
            "b2bc6201b14249d3aadca3d203aec5c8",
            "8696400fa5a649c182a3e7579cf5a7e2",
            "71d5ca6d4cd747f19e82716f42273b02",
            "dff0498f74824c70bb452312231c18f2",
            "111a8c61908745fcb69eee4d32b8d798",
            "46c56645ce10488098554eee5c0da3b1",
            "6dde52f0d09e469cb9896bb9e47700ec",
            "e10e03e8ebf344c09b05bb2616c5a1d5",
            "f157619ca7bf4136bf1c904d78c3a325",
            "b15d4421a2b941ef9f785afe7c02f961",
            "cb0f3383a36d45639c488f509f145c75",
            "4007381404b14ec8a465ee9794c4a6af",
            "4c18848989a04c818de744289370f8d2",
            "e05d91dffc44492ba9b96a0c7a8b5062",
            "4b7eb517a5bc4c3eb05242c43181826c",
            "9561a9f9aa724cdfa7f6225b45dc0101",
            "75067ac9a5bc48d694d625f7efaa666b",
            "cf6a40d6a3024101a478407a4529e3b8",
            "7ee4ff66036843d9ab1d96f9cf1cafe4",
            "6685d7cb18e047c6b68726ae8196028b",
            "559b855651bd4390a54dfbbcc4e03bb0",
            "27fe087bf2f84f10b18537966170b120",
            "9ef69d691aa94140b9913d7557e165a3",
            "46aba61b2e3b44039861d582ad1b5ed6",
            "a6810a94e2c14bd28233b41e76f9ab06",
            "dd88a5415182444aa2e8cf34fba8a069",
            "414078b8a072423e895ce1c75af40d81",
            "6c29caa976fb4ef88388ffc00537bdf9",
            "8adfe4d3a62748e2956dfcfb4cf2e9f3",
            "367254e87fba42dd82bfcb8e8dbc0eec",
            "095ebcf5fe1b4ce399616d97c9bbd22e",
            "e0b33d0d87474d4db4c81db34b619efb",
            "301833acfe354545a92908cb8ebd78c5",
            "5705d76687d443f0a2ed47ab851aca98",
            "9ed2bc61708d47cdaadbe0e29a1b1918",
            "2098aac04dc44a519e7c3c3b2dba71cd",
            "3321477c132e46198d28e9dcdf058c6e",
            "0f17bb650ccf4162b118aed2770df143",
            "c872f2831e024501ba3aadd31ed26c16",
            "4e7bddb0683145f6bc9f37497be4b637",
            "ad9a28d87b60439a8d7a2656bf24c203",
            "eba91c64c5fa496b891dd4f1f0f7421b",
            "1030cdd5c7b943d78e906e0245ec81b5"
          ]
        },
        "id": "HoQ75wAm7Veb",
        "outputId": "d9ae1460-0df4-4ea7-be01-42c64a016285"
      },
      "execution_count": 21,
      "outputs": [
        {
          "output_type": "stream",
          "name": "stderr",
          "text": [
            "/usr/local/lib/python3.10/dist-packages/huggingface_hub/utils/_token.py:89: UserWarning: \n",
            "The secret `HF_TOKEN` does not exist in your Colab secrets.\n",
            "To authenticate with the Hugging Face Hub, create a token in your settings tab (https://huggingface.co/settings/tokens), set it as secret in your Google Colab and restart your session.\n",
            "You will be able to reuse this secret in all of your notebooks.\n",
            "Please note that authentication is recommended but still optional to access public models or datasets.\n",
            "  warnings.warn(\n"
          ]
        },
        {
          "output_type": "display_data",
          "data": {
            "text/plain": [
              "tokenizer_config.json:   0%|          | 0.00/25.0 [00:00<?, ?B/s]"
            ],
            "application/vnd.jupyter.widget-view+json": {
              "version_major": 2,
              "version_minor": 0,
              "model_id": "e67bea6e38c54201a5b568d77336c223"
            }
          },
          "metadata": {}
        },
        {
          "output_type": "display_data",
          "data": {
            "text/plain": [
              "spiece.model:   0%|          | 0.00/238k [00:00<?, ?B/s]"
            ],
            "application/vnd.jupyter.widget-view+json": {
              "version_major": 2,
              "version_minor": 0,
              "model_id": "0c76242741b64202b5f64b9f5d0893df"
            }
          },
          "metadata": {}
        },
        {
          "output_type": "display_data",
          "data": {
            "text/plain": [
              "special_tokens_map.json:   0%|          | 0.00/1.79k [00:00<?, ?B/s]"
            ],
            "application/vnd.jupyter.widget-view+json": {
              "version_major": 2,
              "version_minor": 0,
              "model_id": "cb0f3383a36d45639c488f509f145c75"
            }
          },
          "metadata": {}
        },
        {
          "output_type": "display_data",
          "data": {
            "text/plain": [
              "config.json:   0%|          | 0.00/656 [00:00<?, ?B/s]"
            ],
            "application/vnd.jupyter.widget-view+json": {
              "version_major": 2,
              "version_minor": 0,
              "model_id": "27fe087bf2f84f10b18537966170b120"
            }
          },
          "metadata": {}
        },
        {
          "output_type": "stream",
          "name": "stderr",
          "text": [
            "You are using the default legacy behaviour of the <class 'transformers.models.t5.tokenization_t5.T5Tokenizer'>. This is expected, and simply means that the `legacy` (previous) behavior will be used so nothing changes for you. If you want to use the new behaviour, set `legacy=False`. This should only be set if you understand what it means, and thoroughly read the reason why this was added as explained in https://github.com/huggingface/transformers/pull/24565\n",
            "/usr/local/lib/python3.10/dist-packages/transformers/tokenization_utils_base.py:1601: FutureWarning: `clean_up_tokenization_spaces` was not set. It will be set to `True` by default. This behavior will be depracted in transformers v4.45, and will be then set to `False` by default. For more details check this issue: https://github.com/huggingface/transformers/issues/31884\n",
            "  warnings.warn(\n"
          ]
        },
        {
          "output_type": "display_data",
          "data": {
            "text/plain": [
              "pytorch_model.bin:   0%|          | 0.00/2.42G [00:00<?, ?B/s]"
            ],
            "application/vnd.jupyter.widget-view+json": {
              "version_major": 2,
              "version_minor": 0,
              "model_id": "301833acfe354545a92908cb8ebd78c5"
            }
          },
          "metadata": {}
        },
        {
          "output_type": "stream",
          "name": "stderr",
          "text": [
            "sys:1: MapWithoutReturnDtypeWarning: Calling `map_elements` without specifying `return_dtype` can lead to unpredictable results. Specify `return_dtype` to silence this warning.\n",
            "sys:1: MapWithoutReturnDtypeWarning: Calling `map_elements` without specifying `return_dtype` can lead to unpredictable results. Specify `return_dtype` to silence this warning.\n",
            "/usr/local/lib/python3.10/dist-packages/transformers/tokenization_utils_base.py:2870: FutureWarning: The `pad_to_max_length` argument is deprecated and will be removed in a future version, use `padding=True` or `padding='longest'` to pad to the longest sequence in the batch, or use `padding='max_length'` to pad to a max length. In this case, you can give a specific length with `max_length` (e.g. `max_length=45`) or leave max_length to None to pad to the maximal input size of the model (e.g. 512 for Bert).\n",
            "  warnings.warn(\n",
            "/usr/local/lib/python3.10/dist-packages/transformers/tokenization_utils_base.py:2870: FutureWarning: The `pad_to_max_length` argument is deprecated and will be removed in a future version, use `padding=True` or `padding='longest'` to pad to the longest sequence in the batch, or use `padding='max_length'` to pad to a max length. In this case, you can give a specific length with `max_length` (e.g. `max_length=45`) or leave max_length to None to pad to the maximal input size of the model (e.g. 512 for Bert).\n",
            "  warnings.warn(\n"
          ]
        },
        {
          "output_type": "execute_result",
          "data": {
            "text/plain": [
              "shape: (344, 1_027)\n",
              "┌───────────┬───────────┬───────────┬───────────┬───┬───────────┬───────────┬───────────┬──────────┐\n",
              "│ header    ┆ sequence  ┆ label     ┆ embedding ┆ … ┆ embedding ┆ embedding ┆ embedding ┆ embeddin │\n",
              "│ ---       ┆ ---       ┆ ---       ┆ _0        ┆   ┆ _1020     ┆ _1021     ┆ _1022     ┆ g_1023   │\n",
              "│ str       ┆ str       ┆ str       ┆ ---       ┆   ┆ ---       ┆ ---       ┆ ---       ┆ ---      │\n",
              "│           ┆           ┆           ┆ f64       ┆   ┆ f64       ┆ f64       ┆ f64       ┆ f64      │\n",
              "╞═══════════╪═══════════╪═══════════╪═══════════╪═══╪═══════════╪═══════════╪═══════════╪══════════╡\n",
              "│ ACP_1     ┆ GLWSKIKEV ┆ anticance ┆ -0.019323 ┆ … ┆ -0.027492 ┆ 0.022106  ┆ -0.027702 ┆ -0.01458 │\n",
              "│           ┆ GKEAAKAAA ┆ r         ┆           ┆   ┆           ┆           ┆           ┆ 3        │\n",
              "│           ┆ KAAGKAALG ┆           ┆           ┆   ┆           ┆           ┆           ┆          │\n",
              "│           ┆ AVS…      ┆           ┆           ┆   ┆           ┆           ┆           ┆          │\n",
              "│ ACP_2     ┆ GLFDIIKKI ┆ anticance ┆ 0.026106  ┆ … ┆ 0.072851  ┆ 0.073174  ┆ -0.027636 ┆ -0.08174 │\n",
              "│           ┆ AESI      ┆ r         ┆           ┆   ┆           ┆           ┆           ┆ 5        │\n",
              "│ ACP_3     ┆ GLLDIVKKV ┆ anticance ┆ -0.04655  ┆ … ┆ -0.014502 ┆ 0.052977  ┆ -0.020669 ┆ -0.00018 │\n",
              "│           ┆ VGAFGSL   ┆ r         ┆           ┆   ┆           ┆           ┆           ┆ 6        │\n",
              "│ ACP_4     ┆ GLFDIVKKV ┆ anticance ┆ -0.050253 ┆ … ┆ -0.015229 ┆ 0.052926  ┆ -0.026794 ┆ 0.029529 │\n",
              "│           ┆ VGALGSL   ┆ r         ┆           ┆   ┆           ┆           ┆           ┆          │\n",
              "│ ACP_5     ┆ GLFDIVKKV ┆ anticance ┆ -0.023627 ┆ … ┆ -0.011678 ┆ 0.044418  ┆ -0.009174 ┆ 0.045671 │\n",
              "│           ┆ VGTLAGL   ┆ r         ┆           ┆   ┆           ┆           ┆           ┆          │\n",
              "│ …         ┆ …         ┆ …         ┆ …         ┆ … ┆ …         ┆ …         ┆ …         ┆ …        │\n",
              "│ non-ACP_2 ┆ TDTPLDLAI ┆ non       ┆ 0.050742  ┆ … ┆ -0.049747 ┆ 0.011665  ┆ 0.044846  ┆ -0.03115 │\n",
              "│ 02        ┆ QQLQNLAIE ┆           ┆           ┆   ┆           ┆           ┆           ┆ 6        │\n",
              "│           ┆ SIPDPPTNT ┆           ┆           ┆   ┆           ┆           ┆           ┆          │\n",
              "│           ┆ PEA…      ┆           ┆           ┆   ┆           ┆           ┆           ┆          │\n",
              "│ non-ACP_2 ┆ LRLIHFLHQ ┆ non       ┆ 0.02803   ┆ … ┆ -0.058679 ┆ 0.115736  ┆ -0.009271 ┆ 0.028007 │\n",
              "│ 03        ┆ TTDPYPQGP ┆           ┆           ┆   ┆           ┆           ┆           ┆          │\n",
              "│           ┆ GTANQRRRR ┆           ┆           ┆   ┆           ┆           ┆           ┆          │\n",
              "│ non-ACP_2 ┆ PVDTPLDLA ┆ non       ┆ 0.032758  ┆ … ┆ -0.039617 ┆ 0.016245  ┆ 0.069241  ┆ -0.02676 │\n",
              "│ 04        ┆ IQQLQGLAI ┆           ┆           ┆   ┆           ┆           ┆           ┆ 4        │\n",
              "│           ┆ EELPDPPTS ┆           ┆           ┆   ┆           ┆           ┆           ┆          │\n",
              "│           ┆ APE…      ┆           ┆           ┆   ┆           ┆           ┆           ┆          │\n",
              "│ non-ACP_2 ┆ NTNVTPHLL ┆ non       ┆ 0.055526  ┆ … ┆ 0.011945  ┆ -0.016161 ┆ -0.013265 ┆ 0.046174 │\n",
              "│ 05        ┆ AGMRLIAVQ ┆           ┆           ┆   ┆           ┆           ┆           ┆          │\n",
              "│           ┆ QPEDPLRVL ┆           ┆           ┆   ┆           ┆           ┆           ┆          │\n",
              "│ non-ACP_2 ┆ QTLVHNGGR ┆ non       ┆ 0.041004  ┆ … ┆ -0.023398 ┆ 0.017555  ┆ -0.034933 ┆ -0.04800 │\n",
              "│ 06        ┆ LPPDLQLSA ┆           ┆           ┆   ┆           ┆           ┆           ┆ 9        │\n",
              "│           ┆ EDSSSTPS  ┆           ┆           ┆   ┆           ┆           ┆           ┆          │\n",
              "└───────────┴───────────┴───────────┴───────────┴───┴───────────┴───────────┴───────────┴──────────┘"
            ],
            "text/html": [
              "<div><style>\n",
              ".dataframe > thead > tr,\n",
              ".dataframe > tbody > tr {\n",
              "  text-align: right;\n",
              "  white-space: pre-wrap;\n",
              "}\n",
              "</style>\n",
              "<small>shape: (344, 1_027)</small><table border=\"1\" class=\"dataframe\"><thead><tr><th>header</th><th>sequence</th><th>label</th><th>embedding_0</th><th>embedding_1</th><th>embedding_2</th><th>embedding_3</th><th>embedding_4</th><th>embedding_5</th><th>embedding_6</th><th>embedding_7</th><th>embedding_8</th><th>embedding_9</th><th>embedding_10</th><th>embedding_11</th><th>embedding_12</th><th>embedding_13</th><th>embedding_14</th><th>embedding_15</th><th>embedding_16</th><th>embedding_17</th><th>embedding_18</th><th>embedding_19</th><th>embedding_20</th><th>embedding_21</th><th>embedding_22</th><th>embedding_23</th><th>embedding_24</th><th>embedding_25</th><th>embedding_26</th><th>embedding_27</th><th>embedding_28</th><th>embedding_29</th><th>embedding_30</th><th>embedding_31</th><th>embedding_32</th><th>embedding_33</th><th>&hellip;</th><th>embedding_987</th><th>embedding_988</th><th>embedding_989</th><th>embedding_990</th><th>embedding_991</th><th>embedding_992</th><th>embedding_993</th><th>embedding_994</th><th>embedding_995</th><th>embedding_996</th><th>embedding_997</th><th>embedding_998</th><th>embedding_999</th><th>embedding_1000</th><th>embedding_1001</th><th>embedding_1002</th><th>embedding_1003</th><th>embedding_1004</th><th>embedding_1005</th><th>embedding_1006</th><th>embedding_1007</th><th>embedding_1008</th><th>embedding_1009</th><th>embedding_1010</th><th>embedding_1011</th><th>embedding_1012</th><th>embedding_1013</th><th>embedding_1014</th><th>embedding_1015</th><th>embedding_1016</th><th>embedding_1017</th><th>embedding_1018</th><th>embedding_1019</th><th>embedding_1020</th><th>embedding_1021</th><th>embedding_1022</th><th>embedding_1023</th></tr><tr><td>str</td><td>str</td><td>str</td><td>f64</td><td>f64</td><td>f64</td><td>f64</td><td>f64</td><td>f64</td><td>f64</td><td>f64</td><td>f64</td><td>f64</td><td>f64</td><td>f64</td><td>f64</td><td>f64</td><td>f64</td><td>f64</td><td>f64</td><td>f64</td><td>f64</td><td>f64</td><td>f64</td><td>f64</td><td>f64</td><td>f64</td><td>f64</td><td>f64</td><td>f64</td><td>f64</td><td>f64</td><td>f64</td><td>f64</td><td>f64</td><td>f64</td><td>f64</td><td>&hellip;</td><td>f64</td><td>f64</td><td>f64</td><td>f64</td><td>f64</td><td>f64</td><td>f64</td><td>f64</td><td>f64</td><td>f64</td><td>f64</td><td>f64</td><td>f64</td><td>f64</td><td>f64</td><td>f64</td><td>f64</td><td>f64</td><td>f64</td><td>f64</td><td>f64</td><td>f64</td><td>f64</td><td>f64</td><td>f64</td><td>f64</td><td>f64</td><td>f64</td><td>f64</td><td>f64</td><td>f64</td><td>f64</td><td>f64</td><td>f64</td><td>f64</td><td>f64</td><td>f64</td></tr></thead><tbody><tr><td>&quot;ACP_1&quot;</td><td>&quot;GLWSKIKEVGKEAAKAAAKAAGKAALGAVS…</td><td>&quot;anticancer&quot;</td><td>-0.019323</td><td>-0.002599</td><td>0.130414</td><td>-0.075928</td><td>0.001824</td><td>-0.20331</td><td>0.021721</td><td>-0.094691</td><td>-0.109846</td><td>-0.034279</td><td>-0.065482</td><td>-0.020153</td><td>-0.160478</td><td>-0.091489</td><td>0.064163</td><td>0.023135</td><td>0.098003</td><td>-0.030922</td><td>0.03341</td><td>-0.096055</td><td>-0.119683</td><td>0.048285</td><td>-0.073786</td><td>0.065923</td><td>0.117198</td><td>-0.054174</td><td>-0.102073</td><td>-0.11074</td><td>-0.150871</td><td>0.002395</td><td>-0.020469</td><td>-0.00795</td><td>-0.145422</td><td>-0.076635</td><td>&hellip;</td><td>0.106716</td><td>-0.073939</td><td>-0.002574</td><td>-0.040431</td><td>-0.061274</td><td>0.082331</td><td>-0.016459</td><td>-0.089693</td><td>0.027867</td><td>-0.041128</td><td>-0.088048</td><td>-0.152166</td><td>0.062855</td><td>0.010831</td><td>0.01739</td><td>0.043263</td><td>0.088654</td><td>0.130139</td><td>0.076391</td><td>0.0215</td><td>-0.083522</td><td>0.045705</td><td>-0.016612</td><td>0.074871</td><td>-0.106587</td><td>0.117661</td><td>-0.073917</td><td>-0.10261</td><td>0.076547</td><td>0.126747</td><td>-0.055616</td><td>-0.105252</td><td>-0.096375</td><td>-0.027492</td><td>0.022106</td><td>-0.027702</td><td>-0.014583</td></tr><tr><td>&quot;ACP_2&quot;</td><td>&quot;GLFDIIKKIAESI&quot;</td><td>&quot;anticancer&quot;</td><td>0.026106</td><td>-0.047088</td><td>0.055684</td><td>-0.054381</td><td>0.095308</td><td>-0.104832</td><td>-0.059624</td><td>-0.166802</td><td>-0.064655</td><td>0.000479</td><td>0.021701</td><td>-0.006763</td><td>-0.272851</td><td>0.044901</td><td>0.057929</td><td>0.210747</td><td>0.189701</td><td>-0.035808</td><td>0.030314</td><td>-0.137399</td><td>-0.149178</td><td>0.163169</td><td>-0.037329</td><td>-0.028955</td><td>0.13306</td><td>-0.084929</td><td>-0.093998</td><td>-0.047631</td><td>-0.166771</td><td>-0.099899</td><td>0.146678</td><td>-0.03236</td><td>-0.170556</td><td>0.06241</td><td>&hellip;</td><td>0.083569</td><td>0.011731</td><td>0.025899</td><td>0.018802</td><td>-0.103451</td><td>0.117415</td><td>0.01803</td><td>-0.060621</td><td>-0.091746</td><td>-0.153904</td><td>-0.122273</td><td>-0.318796</td><td>-0.070174</td><td>-0.110321</td><td>-0.056395</td><td>-0.194036</td><td>0.176199</td><td>0.132554</td><td>-0.004925</td><td>0.17127</td><td>-0.00089</td><td>0.21939</td><td>0.117478</td><td>0.035164</td><td>-0.002884</td><td>0.133629</td><td>0.126259</td><td>-0.019074</td><td>0.021489</td><td>0.126369</td><td>-0.264691</td><td>-0.016279</td><td>-0.070543</td><td>0.072851</td><td>0.073174</td><td>-0.027636</td><td>-0.081745</td></tr><tr><td>&quot;ACP_3&quot;</td><td>&quot;GLLDIVKKVVGAFGSL&quot;</td><td>&quot;anticancer&quot;</td><td>-0.04655</td><td>0.026907</td><td>0.093185</td><td>-0.013867</td><td>-0.006329</td><td>-0.096084</td><td>-0.089391</td><td>-0.117143</td><td>-0.077145</td><td>-0.048794</td><td>0.049056</td><td>0.001643</td><td>-0.316676</td><td>0.004841</td><td>0.094172</td><td>0.113139</td><td>0.191189</td><td>-0.063296</td><td>0.00156</td><td>-0.125597</td><td>-0.124917</td><td>0.159636</td><td>-0.036153</td><td>0.031103</td><td>0.055007</td><td>-0.073215</td><td>-0.056273</td><td>-0.015267</td><td>-0.056054</td><td>-0.162778</td><td>0.052015</td><td>-0.042006</td><td>-0.164715</td><td>0.017658</td><td>&hellip;</td><td>0.053228</td><td>0.037828</td><td>0.025897</td><td>0.030871</td><td>-0.058719</td><td>0.126066</td><td>0.009878</td><td>-0.063738</td><td>-0.135373</td><td>-0.139417</td><td>-0.070759</td><td>-0.282681</td><td>-0.07936</td><td>-0.060174</td><td>-0.122023</td><td>-0.234252</td><td>0.238804</td><td>0.131539</td><td>-0.006006</td><td>0.089226</td><td>-0.039177</td><td>0.095129</td><td>0.073832</td><td>0.094882</td><td>-0.079774</td><td>0.096696</td><td>0.184683</td><td>-0.072877</td><td>0.046215</td><td>0.039431</td><td>-0.210029</td><td>-0.121189</td><td>-0.03889</td><td>-0.014502</td><td>0.052977</td><td>-0.020669</td><td>-0.000186</td></tr><tr><td>&quot;ACP_4&quot;</td><td>&quot;GLFDIVKKVVGALGSL&quot;</td><td>&quot;anticancer&quot;</td><td>-0.050253</td><td>0.032823</td><td>0.086164</td><td>-0.02196</td><td>0.002551</td><td>-0.116478</td><td>-0.09336</td><td>-0.10176</td><td>-0.090515</td><td>-0.045479</td><td>0.059444</td><td>-0.004367</td><td>-0.323056</td><td>-0.012521</td><td>0.080398</td><td>0.136752</td><td>0.197317</td><td>-0.058988</td><td>0.016893</td><td>-0.101754</td><td>-0.141592</td><td>0.151487</td><td>-0.036233</td><td>0.009952</td><td>0.061943</td><td>-0.083107</td><td>-0.03802</td><td>-0.037597</td><td>-0.065409</td><td>-0.160795</td><td>0.03377</td><td>-0.041164</td><td>-0.163096</td><td>0.011319</td><td>&hellip;</td><td>0.064586</td><td>0.019812</td><td>-0.001945</td><td>0.023871</td><td>-0.069566</td><td>0.131595</td><td>-0.012397</td><td>-0.061908</td><td>-0.13541</td><td>-0.139694</td><td>-0.10826</td><td>-0.28004</td><td>-0.056485</td><td>-0.063998</td><td>-0.116124</td><td>-0.222508</td><td>0.243304</td><td>0.132536</td><td>0.006766</td><td>0.090709</td><td>-0.059587</td><td>0.107153</td><td>0.05713</td><td>0.107943</td><td>-0.097312</td><td>0.117711</td><td>0.185513</td><td>-0.054115</td><td>0.043497</td><td>0.037987</td><td>-0.211409</td><td>-0.135884</td><td>-0.035141</td><td>-0.015229</td><td>0.052926</td><td>-0.026794</td><td>0.029529</td></tr><tr><td>&quot;ACP_5&quot;</td><td>&quot;GLFDIVKKVVGTLAGL&quot;</td><td>&quot;anticancer&quot;</td><td>-0.023627</td><td>0.045314</td><td>0.087997</td><td>-0.039884</td><td>0.025747</td><td>-0.126297</td><td>-0.087218</td><td>-0.109523</td><td>-0.076332</td><td>-0.033944</td><td>0.065591</td><td>-0.027439</td><td>-0.331323</td><td>-0.030035</td><td>0.102651</td><td>0.108456</td><td>0.200853</td><td>-0.073057</td><td>-0.010352</td><td>-0.107437</td><td>-0.170394</td><td>0.129797</td><td>-0.029912</td><td>0.011345</td><td>0.066405</td><td>-0.066004</td><td>-0.0099</td><td>-0.027443</td><td>-0.041042</td><td>-0.16352</td><td>0.024214</td><td>-0.0478</td><td>-0.163505</td><td>0.020145</td><td>&hellip;</td><td>0.057572</td><td>0.004956</td><td>-0.037287</td><td>0.069639</td><td>-0.063601</td><td>0.128616</td><td>-0.024082</td><td>-0.050992</td><td>-0.156378</td><td>-0.116389</td><td>-0.106268</td><td>-0.288028</td><td>-0.088477</td><td>-0.091337</td><td>-0.07992</td><td>-0.227669</td><td>0.21035</td><td>0.132463</td><td>-0.013089</td><td>0.088801</td><td>-0.073826</td><td>0.083158</td><td>0.074469</td><td>0.111204</td><td>-0.082519</td><td>0.155004</td><td>0.167264</td><td>-0.036503</td><td>0.051366</td><td>0.056889</td><td>-0.206001</td><td>-0.126025</td><td>-0.028914</td><td>-0.011678</td><td>0.044418</td><td>-0.009174</td><td>0.045671</td></tr><tr><td>&hellip;</td><td>&hellip;</td><td>&hellip;</td><td>&hellip;</td><td>&hellip;</td><td>&hellip;</td><td>&hellip;</td><td>&hellip;</td><td>&hellip;</td><td>&hellip;</td><td>&hellip;</td><td>&hellip;</td><td>&hellip;</td><td>&hellip;</td><td>&hellip;</td><td>&hellip;</td><td>&hellip;</td><td>&hellip;</td><td>&hellip;</td><td>&hellip;</td><td>&hellip;</td><td>&hellip;</td><td>&hellip;</td><td>&hellip;</td><td>&hellip;</td><td>&hellip;</td><td>&hellip;</td><td>&hellip;</td><td>&hellip;</td><td>&hellip;</td><td>&hellip;</td><td>&hellip;</td><td>&hellip;</td><td>&hellip;</td><td>&hellip;</td><td>&hellip;</td><td>&hellip;</td><td>&hellip;</td><td>&hellip;</td><td>&hellip;</td><td>&hellip;</td><td>&hellip;</td><td>&hellip;</td><td>&hellip;</td><td>&hellip;</td><td>&hellip;</td><td>&hellip;</td><td>&hellip;</td><td>&hellip;</td><td>&hellip;</td><td>&hellip;</td><td>&hellip;</td><td>&hellip;</td><td>&hellip;</td><td>&hellip;</td><td>&hellip;</td><td>&hellip;</td><td>&hellip;</td><td>&hellip;</td><td>&hellip;</td><td>&hellip;</td><td>&hellip;</td><td>&hellip;</td><td>&hellip;</td><td>&hellip;</td><td>&hellip;</td><td>&hellip;</td><td>&hellip;</td><td>&hellip;</td><td>&hellip;</td><td>&hellip;</td><td>&hellip;</td><td>&hellip;</td><td>&hellip;</td><td>&hellip;</td></tr><tr><td>&quot;non-ACP_202&quot;</td><td>&quot;TDTPLDLAIQQLQNLAIESIPDPPTNTPEA…</td><td>&quot;non&quot;</td><td>0.050742</td><td>-0.059714</td><td>0.016372</td><td>-0.020049</td><td>0.042029</td><td>0.000091</td><td>0.034749</td><td>-0.033896</td><td>0.002914</td><td>-0.049319</td><td>-0.046869</td><td>0.04289</td><td>0.04548</td><td>0.025109</td><td>0.014048</td><td>0.031173</td><td>-0.035155</td><td>0.050002</td><td>-0.09718</td><td>-0.102892</td><td>0.021198</td><td>0.031281</td><td>-0.090418</td><td>0.085432</td><td>0.113974</td><td>-0.079859</td><td>-0.013431</td><td>-0.041602</td><td>-0.054379</td><td>-0.049968</td><td>0.101042</td><td>0.011318</td><td>-0.1613</td><td>-0.006619</td><td>&hellip;</td><td>-0.023743</td><td>-0.087017</td><td>0.01377</td><td>-0.087582</td><td>-0.050301</td><td>0.0894</td><td>-0.031598</td><td>0.031218</td><td>-0.049093</td><td>-0.129286</td><td>0.023503</td><td>-0.010029</td><td>-0.099032</td><td>-0.013515</td><td>0.07646</td><td>-0.127167</td><td>0.044473</td><td>0.14367</td><td>-0.016932</td><td>0.046787</td><td>-0.083339</td><td>-0.017095</td><td>0.064361</td><td>-0.076279</td><td>0.002779</td><td>0.069929</td><td>-0.019064</td><td>-0.007609</td><td>-0.007798</td><td>0.076769</td><td>-0.11821</td><td>0.057585</td><td>-0.01256</td><td>-0.049747</td><td>0.011665</td><td>0.044846</td><td>-0.031156</td></tr><tr><td>&quot;non-ACP_203&quot;</td><td>&quot;LRLIHFLHQTTDPYPQGPGTANQRRRR&quot;</td><td>&quot;non&quot;</td><td>0.02803</td><td>0.036604</td><td>-0.091647</td><td>-0.044611</td><td>0.043603</td><td>-0.022159</td><td>-0.026853</td><td>-0.111063</td><td>-0.035969</td><td>-0.014594</td><td>-0.014162</td><td>0.089065</td><td>-0.054728</td><td>-0.031313</td><td>0.043199</td><td>0.025919</td><td>-0.07761</td><td>0.009925</td><td>-0.037679</td><td>-0.053494</td><td>-0.125051</td><td>-0.040866</td><td>-0.044984</td><td>0.08078</td><td>0.052452</td><td>-0.023825</td><td>-0.061118</td><td>-0.059617</td><td>-0.017638</td><td>-0.060611</td><td>0.066968</td><td>-0.05079</td><td>-0.171635</td><td>-0.131143</td><td>&hellip;</td><td>-0.002923</td><td>-0.028772</td><td>0.035465</td><td>-0.025414</td><td>-0.01245</td><td>0.126289</td><td>-0.04858</td><td>0.101017</td><td>-0.049296</td><td>-0.136719</td><td>0.082758</td><td>-0.113213</td><td>-0.026212</td><td>-0.016412</td><td>0.049403</td><td>-0.163355</td><td>0.108071</td><td>0.143516</td><td>-0.026324</td><td>0.123617</td><td>0.031383</td><td>-0.070451</td><td>0.064663</td><td>-0.045421</td><td>-0.031978</td><td>0.116602</td><td>0.008426</td><td>-0.005496</td><td>0.038938</td><td>0.068255</td><td>-0.147706</td><td>-0.00726</td><td>-0.044979</td><td>-0.058679</td><td>0.115736</td><td>-0.009271</td><td>0.028007</td></tr><tr><td>&quot;non-ACP_204&quot;</td><td>&quot;PVDTPLDLAIQQLQGLAIEELPDPPTSAPE…</td><td>&quot;non&quot;</td><td>0.032758</td><td>-0.061579</td><td>0.0367</td><td>-0.026298</td><td>0.054131</td><td>-0.016103</td><td>0.035231</td><td>-0.036354</td><td>-0.00412</td><td>-0.029976</td><td>-0.009819</td><td>0.013979</td><td>0.006027</td><td>0.023361</td><td>0.029725</td><td>-0.012117</td><td>-0.039289</td><td>0.045128</td><td>-0.089149</td><td>-0.069391</td><td>0.00291</td><td>0.050829</td><td>-0.098885</td><td>0.090713</td><td>0.09728</td><td>-0.093768</td><td>-0.003327</td><td>-0.03654</td><td>-0.069333</td><td>-0.064352</td><td>0.095182</td><td>0.019191</td><td>-0.158955</td><td>0.012327</td><td>&hellip;</td><td>-0.036704</td><td>-0.04229</td><td>-0.019134</td><td>-0.025342</td><td>-0.041917</td><td>0.077848</td><td>-0.049748</td><td>0.033543</td><td>-0.029412</td><td>-0.129531</td><td>0.031265</td><td>-0.045039</td><td>-0.068032</td><td>0.031738</td><td>0.05199</td><td>-0.151383</td><td>0.112019</td><td>0.142814</td><td>-0.033489</td><td>0.020125</td><td>-0.077296</td><td>0.015719</td><td>0.069621</td><td>-0.088167</td><td>0.019959</td><td>0.066854</td><td>-0.003788</td><td>0.014421</td><td>0.008973</td><td>0.068116</td><td>-0.131336</td><td>0.02278</td><td>0.008647</td><td>-0.039617</td><td>0.016245</td><td>0.069241</td><td>-0.026764</td></tr><tr><td>&quot;non-ACP_205&quot;</td><td>&quot;NTNVTPHLLAGMRLIAVQQPEDPLRVL&quot;</td><td>&quot;non&quot;</td><td>0.055526</td><td>0.089413</td><td>-0.055178</td><td>-0.027356</td><td>-0.03772</td><td>-0.033324</td><td>-0.018848</td><td>-0.043817</td><td>0.013107</td><td>0.070539</td><td>-0.003536</td><td>0.02082</td><td>0.007038</td><td>0.110897</td><td>0.019737</td><td>-0.046077</td><td>0.006275</td><td>-0.00708</td><td>-0.069891</td><td>-0.039204</td><td>-0.081543</td><td>0.051694</td><td>-0.010941</td><td>0.027294</td><td>0.143106</td><td>-0.083454</td><td>-0.012298</td><td>-0.070407</td><td>-0.038823</td><td>-0.045801</td><td>0.062846</td><td>-0.035068</td><td>-0.15591</td><td>-0.021579</td><td>&hellip;</td><td>0.015802</td><td>-0.094142</td><td>0.005524</td><td>0.05276</td><td>0.008497</td><td>0.096758</td><td>0.049283</td><td>0.027458</td><td>-0.056929</td><td>-0.166345</td><td>-0.007202</td><td>-0.059847</td><td>-0.084699</td><td>0.050306</td><td>0.091511</td><td>-0.095444</td><td>0.129114</td><td>0.137334</td><td>0.000229</td><td>0.087269</td><td>-0.070135</td><td>-0.038336</td><td>0.050547</td><td>-0.117702</td><td>0.053361</td><td>0.041715</td><td>0.089981</td><td>-0.063646</td><td>0.012448</td><td>-0.036425</td><td>-0.052472</td><td>0.002024</td><td>-0.049243</td><td>0.011945</td><td>-0.016161</td><td>-0.013265</td><td>0.046174</td></tr><tr><td>&quot;non-ACP_206&quot;</td><td>&quot;QTLVHNGGRLPPDLQLSAEDSSSTPS&quot;</td><td>&quot;non&quot;</td><td>0.041004</td><td>0.013949</td><td>-0.00832</td><td>-0.032467</td><td>-0.006152</td><td>0.077953</td><td>-0.061303</td><td>0.017659</td><td>-0.032854</td><td>0.001959</td><td>-0.013169</td><td>0.012148</td><td>-0.074986</td><td>0.04208</td><td>0.00527</td><td>-0.028487</td><td>-0.09221</td><td>-0.067953</td><td>-0.051165</td><td>-0.122717</td><td>0.035327</td><td>0.08231</td><td>-0.079018</td><td>0.09142</td><td>0.082824</td><td>-0.091565</td><td>-0.092592</td><td>-0.103301</td><td>-0.09019</td><td>-0.062664</td><td>0.076906</td><td>-0.003111</td><td>-0.154137</td><td>-0.082609</td><td>&hellip;</td><td>0.055123</td><td>-0.027562</td><td>0.065465</td><td>-0.037197</td><td>-0.026741</td><td>0.116464</td><td>-0.006149</td><td>0.065437</td><td>0.013804</td><td>-0.176548</td><td>-0.017888</td><td>-0.111343</td><td>-0.044305</td><td>-0.010947</td><td>0.010301</td><td>-0.188559</td><td>0.160183</td><td>0.144286</td><td>-0.144545</td><td>0.074297</td><td>0.079816</td><td>-0.061255</td><td>0.103599</td><td>-0.062524</td><td>-0.037587</td><td>0.068787</td><td>0.034778</td><td>0.06377</td><td>0.015633</td><td>0.050251</td><td>-0.116418</td><td>0.074738</td><td>-0.092145</td><td>-0.023398</td><td>0.017555</td><td>-0.034933</td><td>-0.048009</td></tr></tbody></table></div>"
            ]
          },
          "metadata": {},
          "execution_count": 21
        }
      ]
    },
    {
      "cell_type": "markdown",
      "source": [
        "Com a representação em embeddings, vamos utilizar o Optuna com SVM para maximizar a acurácia média do 10-fold Cross-Validation."
      ],
      "metadata": {
        "id": "KnvG1uCBaSzs"
      }
    },
    {
      "cell_type": "code",
      "source": [
        "def objective(trial):\n",
        "    C = trial.suggest_float(\"svm_C\", 1e-6, 1e3, log=True)\n",
        "    gamma = trial.suggest_categorical(\"svm_gamma\", [\"scale\", \"auto\"])\n",
        "    kernel = trial.suggest_categorical(\"svm_kernel\", [\"linear\", \"poly\", \"rbf\", \"sigmoid\"])\n",
        "\n",
        "    pipeline = Pipeline([\n",
        "        (\"scaler\", StandardScaler()),\n",
        "        (\"svm\", SVC(C=C, kernel=kernel, gamma=gamma, random_state=0))\n",
        "    ])\n",
        "\n",
        "    scores = cross_val_score(pipeline, X, y, cv=10, scoring=make_scorer(f1_score, pos_label='anticancer'))\n",
        "\n",
        "    return np.mean(scores)\n",
        "\n",
        "X, y = df_seqs_embeddings.select(pl.nth(range(3, len(df_seqs_embeddings.columns)))).to_numpy(), df_seqs_embeddings[\"label\"].to_numpy()\n",
        "\n",
        "sampler = optuna.samplers.TPESampler(seed=0)\n",
        "study3 = optuna.create_study(direction=\"maximize\", sampler=sampler)\n",
        "study3.optimize(objective, n_trials=100)\n",
        "\n",
        "print(\"Best hyperparameters:\", study3.best_params)\n",
        "print(f\"Best F1-score: {study3.best_value:.4f}\")"
      ],
      "metadata": {
        "id": "EP5pUJQBDgft",
        "colab": {
          "base_uri": "https://localhost:8080/"
        },
        "outputId": "77341a3c-24cb-469e-c5f1-a016c44811d3"
      },
      "execution_count": 22,
      "outputs": [
        {
          "output_type": "stream",
          "name": "stderr",
          "text": [
            "[I 2024-09-29 20:16:39,227] A new study created in memory with name: no-name-58a80338-2b9c-404f-a123-b440de3ba9ed\n",
            "[I 2024-09-29 20:16:40,029] Trial 0 finished with value: 0.75972764433634 and parameters: {'svm_C': 0.0869604013210559, 'svm_gamma': 'scale', 'svm_kernel': 'rbf'}. Best is trial 0 with value: 0.75972764433634.\n",
            "[I 2024-09-29 20:16:40,209] Trial 1 finished with value: 0.8575379237003263 and parameters: {'svm_C': 106.15904599003998, 'svm_gamma': 'scale', 'svm_kernel': 'sigmoid'}. Best is trial 1 with value: 0.8575379237003263.\n",
            "[I 2024-09-29 20:16:40,677] Trial 2 finished with value: 0.0 and parameters: {'svm_C': 4.35837428774127e-06, 'svm_gamma': 'scale', 'svm_kernel': 'sigmoid'}. Best is trial 1 with value: 0.8575379237003263.\n",
            "[I 2024-09-29 20:16:40,848] Trial 3 finished with value: 0.858694094511186 and parameters: {'svm_C': 15.574964948467398, 'svm_gamma': 'auto', 'svm_kernel': 'sigmoid'}. Best is trial 3 with value: 0.858694094511186.\n",
            "[I 2024-09-29 20:16:41,070] Trial 4 finished with value: 0.864870186468211 and parameters: {'svm_C': 0.04973188214118056, 'svm_gamma': 'scale', 'svm_kernel': 'linear'}. Best is trial 4 with value: 0.864870186468211.\n",
            "[I 2024-09-29 20:16:41,275] Trial 5 finished with value: 0.864870186468211 and parameters: {'svm_C': 0.36200908827975287, 'svm_gamma': 'auto', 'svm_kernel': 'linear'}. Best is trial 4 with value: 0.864870186468211.\n",
            "[I 2024-09-29 20:16:41,496] Trial 6 finished with value: 0.864870186468211 and parameters: {'svm_C': 1.8996813686210312, 'svm_gamma': 'auto', 'svm_kernel': 'linear'}. Best is trial 4 with value: 0.864870186468211.\n",
            "[I 2024-09-29 20:16:41,724] Trial 7 finished with value: 0.8774805946161445 and parameters: {'svm_C': 0.0018767090076326175, 'svm_gamma': 'scale', 'svm_kernel': 'linear'}. Best is trial 7 with value: 0.8774805946161445.\n",
            "[I 2024-09-29 20:16:41,969] Trial 8 finished with value: 0.8808652100007599 and parameters: {'svm_C': 0.7550486392036303, 'svm_gamma': 'auto', 'svm_kernel': 'sigmoid'}. Best is trial 8 with value: 0.8808652100007599.\n",
            "[I 2024-09-29 20:16:42,441] Trial 9 finished with value: 0.0 and parameters: {'svm_C': 1.7524537381340202e-05, 'svm_gamma': 'auto', 'svm_kernel': 'rbf'}. Best is trial 8 with value: 0.8808652100007599.\n",
            "[I 2024-09-29 20:16:42,913] Trial 10 finished with value: 0.0 and parameters: {'svm_C': 0.002189063564030815, 'svm_gamma': 'auto', 'svm_kernel': 'poly'}. Best is trial 8 with value: 0.8808652100007599.\n",
            "[I 2024-09-29 20:16:43,372] Trial 11 finished with value: 0.0 and parameters: {'svm_C': 0.0007354176796872916, 'svm_gamma': 'scale', 'svm_kernel': 'poly'}. Best is trial 8 with value: 0.8808652100007599.\n",
            "[I 2024-09-29 20:16:43,679] Trial 12 finished with value: 0.8843043634399134 and parameters: {'svm_C': 0.0006863632332990355, 'svm_gamma': 'scale', 'svm_kernel': 'linear'}. Best is trial 12 with value: 0.8843043634399134.\n",
            "[I 2024-09-29 20:16:43,909] Trial 13 finished with value: 0.8495301578699799 and parameters: {'svm_C': 881.602795767026, 'svm_gamma': 'auto', 'svm_kernel': 'sigmoid'}. Best is trial 12 with value: 0.8843043634399134.\n",
            "[I 2024-09-29 20:16:44,318] Trial 14 finished with value: 0.8486557886557888 and parameters: {'svm_C': 0.00010333747884006094, 'svm_gamma': 'scale', 'svm_kernel': 'linear'}. Best is trial 12 with value: 0.8843043634399134.\n",
            "[I 2024-09-29 20:16:44,601] Trial 15 finished with value: 0.8672955951816522 and parameters: {'svm_C': 2.579269593967601, 'svm_gamma': 'auto', 'svm_kernel': 'sigmoid'}. Best is trial 12 with value: 0.8843043634399134.\n",
            "[I 2024-09-29 20:16:45,226] Trial 16 finished with value: 0.0 and parameters: {'svm_C': 0.01131869811475597, 'svm_gamma': 'scale', 'svm_kernel': 'rbf'}. Best is trial 12 with value: 0.8843043634399134.\n",
            "[I 2024-09-29 20:16:45,762] Trial 17 finished with value: 0.0 and parameters: {'svm_C': 8.213024016690695e-05, 'svm_gamma': 'auto', 'svm_kernel': 'poly'}. Best is trial 12 with value: 0.8843043634399134.\n",
            "[I 2024-09-29 20:16:46,323] Trial 18 finished with value: 0.0 and parameters: {'svm_C': 1.5471360491029225e-06, 'svm_gamma': 'auto', 'svm_kernel': 'sigmoid'}. Best is trial 12 with value: 0.8843043634399134.\n",
            "[I 2024-09-29 20:16:46,649] Trial 19 finished with value: 0.864870186468211 and parameters: {'svm_C': 0.6313919492225154, 'svm_gamma': 'scale', 'svm_kernel': 'linear'}. Best is trial 12 with value: 0.8843043634399134.\n",
            "[I 2024-09-29 20:16:46,888] Trial 20 finished with value: 0.8499821806268584 and parameters: {'svm_C': 14.032753851650162, 'svm_gamma': 'scale', 'svm_kernel': 'sigmoid'}. Best is trial 12 with value: 0.8843043634399134.\n",
            "[I 2024-09-29 20:16:47,147] Trial 21 finished with value: 0.8768538139893639 and parameters: {'svm_C': 0.0030741173549433823, 'svm_gamma': 'scale', 'svm_kernel': 'linear'}. Best is trial 12 with value: 0.8843043634399134.\n",
            "[I 2024-09-29 20:16:47,377] Trial 22 finished with value: 0.864870186468211 and parameters: {'svm_C': 0.012593558783214333, 'svm_gamma': 'scale', 'svm_kernel': 'linear'}. Best is trial 12 with value: 0.8843043634399134.\n",
            "[I 2024-09-29 20:16:47,680] Trial 23 finished with value: 0.8801443926443925 and parameters: {'svm_C': 0.0002361810760149506, 'svm_gamma': 'scale', 'svm_kernel': 'linear'}. Best is trial 12 with value: 0.8843043634399134.\n",
            "[I 2024-09-29 20:16:48,006] Trial 24 finished with value: 0.8566329966329966 and parameters: {'svm_C': 0.00011860057677108304, 'svm_gamma': 'scale', 'svm_kernel': 'linear'}. Best is trial 12 with value: 0.8843043634399134.\n",
            "[I 2024-09-29 20:16:48,272] Trial 25 finished with value: 0.8843043634399134 and parameters: {'svm_C': 0.0004065716095397461, 'svm_gamma': 'scale', 'svm_kernel': 'linear'}. Best is trial 12 with value: 0.8843043634399134.\n",
            "[I 2024-09-29 20:16:48,688] Trial 26 finished with value: 0.0 and parameters: {'svm_C': 1.8221273398309885e-05, 'svm_gamma': 'auto', 'svm_kernel': 'poly'}. Best is trial 12 with value: 0.8843043634399134.\n",
            "[I 2024-09-29 20:16:49,199] Trial 27 finished with value: 0.0 and parameters: {'svm_C': 0.015213207913556978, 'svm_gamma': 'scale', 'svm_kernel': 'rbf'}. Best is trial 12 with value: 0.8843043634399134.\n",
            "[I 2024-09-29 20:16:49,412] Trial 28 finished with value: 0.864870186468211 and parameters: {'svm_C': 0.13951270541008748, 'svm_gamma': 'auto', 'svm_kernel': 'linear'}. Best is trial 12 with value: 0.8843043634399134.\n",
            "[I 2024-09-29 20:16:49,958] Trial 29 finished with value: 0.0 and parameters: {'svm_C': 0.0006586733121893283, 'svm_gamma': 'scale', 'svm_kernel': 'rbf'}. Best is trial 12 with value: 0.8843043634399134.\n",
            "[I 2024-09-29 20:16:50,308] Trial 30 finished with value: 0.8486557886557888 and parameters: {'svm_C': 0.1145048237958622, 'svm_gamma': 'scale', 'svm_kernel': 'sigmoid'}. Best is trial 12 with value: 0.8843043634399134.\n",
            "[I 2024-09-29 20:16:50,579] Trial 31 finished with value: 0.8796376967732467 and parameters: {'svm_C': 0.0003747812236995415, 'svm_gamma': 'scale', 'svm_kernel': 'linear'}. Best is trial 12 with value: 0.8843043634399134.\n",
            "[I 2024-09-29 20:16:50,996] Trial 32 finished with value: 0.804573539182235 and parameters: {'svm_C': 4.5085242223817514e-05, 'svm_gamma': 'scale', 'svm_kernel': 'linear'}. Best is trial 12 with value: 0.8843043634399134.\n",
            "[I 2024-09-29 20:16:51,284] Trial 33 finished with value: 0.8852827325653412 and parameters: {'svm_C': 0.00027817691684362054, 'svm_gamma': 'scale', 'svm_kernel': 'linear'}. Best is trial 33 with value: 0.8852827325653412.\n",
            "[I 2024-09-29 20:16:51,737] Trial 34 finished with value: 0.22542950513538748 and parameters: {'svm_C': 1.795911424555374e-05, 'svm_gamma': 'scale', 'svm_kernel': 'linear'}. Best is trial 33 with value: 0.8852827325653412.\n",
            "[I 2024-09-29 20:16:52,224] Trial 35 finished with value: 0.0 and parameters: {'svm_C': 0.0051006697341084975, 'svm_gamma': 'scale', 'svm_kernel': 'sigmoid'}. Best is trial 33 with value: 0.8852827325653412.\n",
            "[I 2024-09-29 20:16:52,445] Trial 36 finished with value: 0.864870186468211 and parameters: {'svm_C': 0.038227238505429174, 'svm_gamma': 'scale', 'svm_kernel': 'linear'}. Best is trial 33 with value: 0.8852827325653412.\n",
            "[I 2024-09-29 20:16:52,627] Trial 37 finished with value: 0.8698282748026909 and parameters: {'svm_C': 25.23851272521965, 'svm_gamma': 'scale', 'svm_kernel': 'sigmoid'}. Best is trial 33 with value: 0.8852827325653412.\n",
            "[I 2024-09-29 20:16:53,089] Trial 38 finished with value: 0.0 and parameters: {'svm_C': 2.6321386595414467e-06, 'svm_gamma': 'auto', 'svm_kernel': 'linear'}. Best is trial 33 with value: 0.8852827325653412.\n",
            "[I 2024-09-29 20:16:53,314] Trial 39 finished with value: 0.864870186468211 and parameters: {'svm_C': 0.5348382103282376, 'svm_gamma': 'scale', 'svm_kernel': 'linear'}. Best is trial 33 with value: 0.8852827325653412.\n",
            "[I 2024-09-29 20:16:53,549] Trial 40 finished with value: 0.8843043634399134 and parameters: {'svm_C': 0.0009984738457863318, 'svm_gamma': 'auto', 'svm_kernel': 'linear'}. Best is trial 33 with value: 0.8852827325653412.\n",
            "[I 2024-09-29 20:16:53,783] Trial 41 finished with value: 0.8843043634399134 and parameters: {'svm_C': 0.0008404711746224891, 'svm_gamma': 'auto', 'svm_kernel': 'linear'}. Best is trial 33 with value: 0.8852827325653412.\n",
            "[I 2024-09-29 20:16:54,035] Trial 42 finished with value: 0.8843043634399134 and parameters: {'svm_C': 0.0009525627640452047, 'svm_gamma': 'auto', 'svm_kernel': 'linear'}. Best is trial 33 with value: 0.8852827325653412.\n",
            "[I 2024-09-29 20:16:54,506] Trial 43 finished with value: 0.0 and parameters: {'svm_C': 7.393131588397506e-06, 'svm_gamma': 'auto', 'svm_kernel': 'linear'}. Best is trial 33 with value: 0.8852827325653412.\n",
            "[I 2024-09-29 20:16:54,785] Trial 44 finished with value: 0.8801443926443925 and parameters: {'svm_C': 0.00023674027721286411, 'svm_gamma': 'auto', 'svm_kernel': 'linear'}. Best is trial 33 with value: 0.8852827325653412.\n",
            "[I 2024-09-29 20:16:55,023] Trial 45 finished with value: 0.8809197480552979 and parameters: {'svm_C': 0.0015697196809666566, 'svm_gamma': 'auto', 'svm_kernel': 'linear'}. Best is trial 33 with value: 0.8852827325653412.\n",
            "[I 2024-09-29 20:16:55,256] Trial 46 finished with value: 0.868896931265747 and parameters: {'svm_C': 0.006745132059352266, 'svm_gamma': 'auto', 'svm_kernel': 'linear'}. Best is trial 33 with value: 0.8852827325653412.\n",
            "[I 2024-09-29 20:16:55,524] Trial 47 finished with value: 0.8843043634399134 and parameters: {'svm_C': 0.0003914645900015663, 'svm_gamma': 'auto', 'svm_kernel': 'linear'}. Best is trial 33 with value: 0.8852827325653412.\n",
            "[I 2024-09-29 20:16:55,922] Trial 48 finished with value: 0.8143126696170174 and parameters: {'svm_C': 5.1546372356065575e-05, 'svm_gamma': 'scale', 'svm_kernel': 'linear'}. Best is trial 33 with value: 0.8852827325653412.\n",
            "[I 2024-09-29 20:16:56,383] Trial 49 finished with value: 0.0 and parameters: {'svm_C': 0.001459546242117396, 'svm_gamma': 'auto', 'svm_kernel': 'poly'}. Best is trial 33 with value: 0.8852827325653412.\n",
            "[I 2024-09-29 20:16:56,934] Trial 50 finished with value: 0.0 and parameters: {'svm_C': 0.0032095889678691405, 'svm_gamma': 'scale', 'svm_kernel': 'rbf'}. Best is trial 33 with value: 0.8852827325653412.\n",
            "[I 2024-09-29 20:16:57,266] Trial 51 finished with value: 0.8843043634399134 and parameters: {'svm_C': 0.0006726923059494192, 'svm_gamma': 'auto', 'svm_kernel': 'linear'}. Best is trial 33 with value: 0.8852827325653412.\n",
            "[I 2024-09-29 20:16:57,567] Trial 52 finished with value: 0.8843043634399134 and parameters: {'svm_C': 0.001031851221137186, 'svm_gamma': 'auto', 'svm_kernel': 'linear'}. Best is trial 33 with value: 0.8852827325653412.\n",
            "[I 2024-09-29 20:16:57,929] Trial 53 finished with value: 0.8693110593110592 and parameters: {'svm_C': 0.00016276191004733784, 'svm_gamma': 'auto', 'svm_kernel': 'linear'}. Best is trial 33 with value: 0.8852827325653412.\n",
            "[I 2024-09-29 20:16:58,403] Trial 54 finished with value: 0.8096460029503507 and parameters: {'svm_C': 4.917239830071504e-05, 'svm_gamma': 'auto', 'svm_kernel': 'linear'}. Best is trial 33 with value: 0.8852827325653412.\n",
            "[I 2024-09-29 20:16:58,740] Trial 55 finished with value: 0.8843043634399134 and parameters: {'svm_C': 0.00045119311667704266, 'svm_gamma': 'auto', 'svm_kernel': 'linear'}. Best is trial 33 with value: 0.8852827325653412.\n",
            "[I 2024-09-29 20:16:59,037] Trial 56 finished with value: 0.864870186468211 and parameters: {'svm_C': 0.018168241367299397, 'svm_gamma': 'auto', 'svm_kernel': 'linear'}. Best is trial 33 with value: 0.8852827325653412.\n",
            "[I 2024-09-29 20:16:59,346] Trial 57 finished with value: 0.8768538139893639 and parameters: {'svm_C': 0.0029491162921474324, 'svm_gamma': 'auto', 'svm_kernel': 'linear'}. Best is trial 33 with value: 0.8852827325653412.\n",
            "[I 2024-09-29 20:16:59,869] Trial 58 finished with value: 0.0 and parameters: {'svm_C': 8.135017478014847e-06, 'svm_gamma': 'scale', 'svm_kernel': 'poly'}. Best is trial 33 with value: 0.8852827325653412.\n",
            "[I 2024-09-29 20:17:00,317] Trial 59 finished with value: 0.8486557886557888 and parameters: {'svm_C': 8.763966887345531e-05, 'svm_gamma': 'scale', 'svm_kernel': 'linear'}. Best is trial 33 with value: 0.8852827325653412.\n",
            "[I 2024-09-29 20:17:00,564] Trial 60 finished with value: 0.868896931265747 and parameters: {'svm_C': 0.006822876970005783, 'svm_gamma': 'auto', 'svm_kernel': 'linear'}. Best is trial 33 with value: 0.8852827325653412.\n",
            "[I 2024-09-29 20:17:00,831] Trial 61 finished with value: 0.8852827325653412 and parameters: {'svm_C': 0.0002780264982224164, 'svm_gamma': 'auto', 'svm_kernel': 'linear'}. Best is trial 33 with value: 0.8852827325653412.\n",
            "[I 2024-09-29 20:17:01,071] Trial 62 finished with value: 0.8843043634399134 and parameters: {'svm_C': 0.001022002634008084, 'svm_gamma': 'auto', 'svm_kernel': 'linear'}. Best is trial 33 with value: 0.8852827325653412.\n",
            "[I 2024-09-29 20:17:01,381] Trial 63 finished with value: 0.8852827325653412 and parameters: {'svm_C': 0.00024606698213531277, 'svm_gamma': 'auto', 'svm_kernel': 'linear'}. Best is trial 33 with value: 0.8852827325653412.\n",
            "[I 2024-09-29 20:17:01,672] Trial 64 finished with value: 0.8852827325653412 and parameters: {'svm_C': 0.00026300711089666224, 'svm_gamma': 'auto', 'svm_kernel': 'linear'}. Best is trial 33 with value: 0.8852827325653412.\n",
            "[I 2024-09-29 20:17:02,200] Trial 65 finished with value: 0.0 and parameters: {'svm_C': 0.00022326076870891415, 'svm_gamma': 'auto', 'svm_kernel': 'rbf'}. Best is trial 33 with value: 0.8852827325653412.\n",
            "[I 2024-09-29 20:17:02,665] Trial 66 finished with value: 0.6967283822203731 and parameters: {'svm_C': 2.9740916293521703e-05, 'svm_gamma': 'scale', 'svm_kernel': 'linear'}. Best is trial 33 with value: 0.8852827325653412.\n",
            "[I 2024-09-29 20:17:02,990] Trial 67 finished with value: 0.8566329966329966 and parameters: {'svm_C': 0.00011388005373832315, 'svm_gamma': 'auto', 'svm_kernel': 'linear'}. Best is trial 33 with value: 0.8852827325653412.\n",
            "[I 2024-09-29 20:17:03,270] Trial 68 finished with value: 0.8852827325653412 and parameters: {'svm_C': 0.00032928470950922156, 'svm_gamma': 'scale', 'svm_kernel': 'linear'}. Best is trial 33 with value: 0.8852827325653412.\n",
            "[I 2024-09-29 20:17:03,695] Trial 69 finished with value: 0.0 and parameters: {'svm_C': 0.00028509613968186745, 'svm_gamma': 'scale', 'svm_kernel': 'poly'}. Best is trial 33 with value: 0.8852827325653412.\n",
            "[I 2024-09-29 20:17:04,151] Trial 70 finished with value: 0.0 and parameters: {'svm_C': 1.0343586463063787e-05, 'svm_gamma': 'scale', 'svm_kernel': 'linear'}. Best is trial 33 with value: 0.8852827325653412.\n",
            "[I 2024-09-29 20:17:04,480] Trial 71 finished with value: 0.8656073556073556 and parameters: {'svm_C': 0.0001377349455007653, 'svm_gamma': 'scale', 'svm_kernel': 'linear'}. Best is trial 33 with value: 0.8852827325653412.\n",
            "[I 2024-09-29 20:17:04,738] Trial 72 finished with value: 0.8843043634399134 and parameters: {'svm_C': 0.0004647230540645527, 'svm_gamma': 'scale', 'svm_kernel': 'linear'}. Best is trial 33 with value: 0.8852827325653412.\n",
            "[I 2024-09-29 20:17:05,180] Trial 73 finished with value: 0.7413096179183135 and parameters: {'svm_C': 3.1968187362600853e-05, 'svm_gamma': 'scale', 'svm_kernel': 'linear'}. Best is trial 33 with value: 0.8852827325653412.\n",
            "[I 2024-09-29 20:17:05,560] Trial 74 finished with value: 0.8486557886557888 and parameters: {'svm_C': 7.592608979962289e-05, 'svm_gamma': 'scale', 'svm_kernel': 'linear'}. Best is trial 33 with value: 0.8852827325653412.\n",
            "[I 2024-09-29 20:17:05,796] Trial 75 finished with value: 0.8774805946161445 and parameters: {'svm_C': 0.0018069499295306401, 'svm_gamma': 'scale', 'svm_kernel': 'linear'}. Best is trial 33 with value: 0.8852827325653412.\n",
            "[I 2024-09-29 20:17:06,105] Trial 76 finished with value: 0.8693110593110592 and parameters: {'svm_C': 0.00017184475147429288, 'svm_gamma': 'auto', 'svm_kernel': 'linear'}. Best is trial 33 with value: 0.8852827325653412.\n",
            "[I 2024-09-29 20:17:07,242] Trial 77 finished with value: 0.0 and parameters: {'svm_C': 0.0004931838276808064, 'svm_gamma': 'scale', 'svm_kernel': 'rbf'}. Best is trial 33 with value: 0.8852827325653412.\n",
            "[I 2024-09-29 20:17:07,631] Trial 78 finished with value: 0.8734146605502104 and parameters: {'svm_C': 0.00374569695059416, 'svm_gamma': 'auto', 'svm_kernel': 'linear'}. Best is trial 33 with value: 0.8852827325653412.\n",
            "[I 2024-09-29 20:17:08,093] Trial 79 finished with value: 0.0 and parameters: {'svm_C': 6.79391516936158e-05, 'svm_gamma': 'scale', 'svm_kernel': 'sigmoid'}. Best is trial 33 with value: 0.8852827325653412.\n",
            "[I 2024-09-29 20:17:08,547] Trial 80 finished with value: 0.5789426877470356 and parameters: {'svm_C': 2.6264334646549944e-05, 'svm_gamma': 'auto', 'svm_kernel': 'linear'}. Best is trial 33 with value: 0.8852827325653412.\n",
            "[I 2024-09-29 20:17:08,790] Trial 81 finished with value: 0.8843043634399134 and parameters: {'svm_C': 0.0007061472382246079, 'svm_gamma': 'auto', 'svm_kernel': 'linear'}. Best is trial 33 with value: 0.8852827325653412.\n",
            "[I 2024-09-29 20:17:09,067] Trial 82 finished with value: 0.8852827325653412 and parameters: {'svm_C': 0.00028452806011951563, 'svm_gamma': 'auto', 'svm_kernel': 'linear'}. Best is trial 33 with value: 0.8852827325653412.\n",
            "[I 2024-09-29 20:17:09,340] Trial 83 finished with value: 0.8852827325653412 and parameters: {'svm_C': 0.0003095499795353533, 'svm_gamma': 'auto', 'svm_kernel': 'linear'}. Best is trial 33 with value: 0.8852827325653412.\n",
            "[I 2024-09-29 20:17:09,621] Trial 84 finished with value: 0.8852827325653412 and parameters: {'svm_C': 0.00028805241470959984, 'svm_gamma': 'auto', 'svm_kernel': 'linear'}. Best is trial 33 with value: 0.8852827325653412.\n",
            "[I 2024-09-29 20:17:09,890] Trial 85 finished with value: 0.8852827325653412 and parameters: {'svm_C': 0.00029648768130724967, 'svm_gamma': 'auto', 'svm_kernel': 'linear'}. Best is trial 33 with value: 0.8852827325653412.\n",
            "[I 2024-09-29 20:17:10,182] Trial 86 finished with value: 0.8801443926443925 and parameters: {'svm_C': 0.0002224640066790885, 'svm_gamma': 'auto', 'svm_kernel': 'linear'}. Best is trial 33 with value: 0.8852827325653412.\n",
            "[I 2024-09-29 20:17:10,533] Trial 87 finished with value: 0.8612996632996633 and parameters: {'svm_C': 0.00013024035259056514, 'svm_gamma': 'auto', 'svm_kernel': 'linear'}. Best is trial 33 with value: 0.8852827325653412.\n",
            "[I 2024-09-29 20:17:10,884] Trial 88 finished with value: 0.8852827325653412 and parameters: {'svm_C': 0.0003169482167180167, 'svm_gamma': 'auto', 'svm_kernel': 'linear'}. Best is trial 33 with value: 0.8852827325653412.\n",
            "[I 2024-09-29 20:17:11,339] Trial 89 finished with value: 0.8303012736056214 and parameters: {'svm_C': 6.010458610676466e-05, 'svm_gamma': 'auto', 'svm_kernel': 'linear'}. Best is trial 33 with value: 0.8852827325653412.\n",
            "[I 2024-09-29 20:17:11,843] Trial 90 finished with value: 0.0 and parameters: {'svm_C': 1.3480775246515463e-05, 'svm_gamma': 'auto', 'svm_kernel': 'poly'}. Best is trial 33 with value: 0.8852827325653412.\n",
            "[I 2024-09-29 20:17:12,195] Trial 91 finished with value: 0.8852827325653412 and parameters: {'svm_C': 0.0002956227564814836, 'svm_gamma': 'auto', 'svm_kernel': 'linear'}. Best is trial 33 with value: 0.8852827325653412.\n",
            "[I 2024-09-29 20:17:12,560] Trial 92 finished with value: 0.8852827325653412 and parameters: {'svm_C': 0.0003236020938067048, 'svm_gamma': 'auto', 'svm_kernel': 'linear'}. Best is trial 33 with value: 0.8852827325653412.\n",
            "[I 2024-09-29 20:17:12,882] Trial 93 finished with value: 0.8809197480552979 and parameters: {'svm_C': 0.0016256877100308505, 'svm_gamma': 'auto', 'svm_kernel': 'linear'}. Best is trial 33 with value: 0.8852827325653412.\n",
            "[I 2024-09-29 20:17:13,319] Trial 94 finished with value: 0.8486557886557888 and parameters: {'svm_C': 0.00010196144086273757, 'svm_gamma': 'auto', 'svm_kernel': 'linear'}. Best is trial 33 with value: 0.8852827325653412.\n",
            "[I 2024-09-29 20:17:13,606] Trial 95 finished with value: 0.864870186468211 and parameters: {'svm_C': 239.04251599177715, 'svm_gamma': 'auto', 'svm_kernel': 'linear'}. Best is trial 33 with value: 0.8852827325653412.\n",
            "[I 2024-09-29 20:17:14,061] Trial 96 finished with value: 0.0 and parameters: {'svm_C': 4.942718506395792e-06, 'svm_gamma': 'auto', 'svm_kernel': 'linear'}. Best is trial 33 with value: 0.8852827325653412.\n",
            "[I 2024-09-29 20:17:14,361] Trial 97 finished with value: 0.8693110593110592 and parameters: {'svm_C': 0.0001911531200259611, 'svm_gamma': 'auto', 'svm_kernel': 'linear'}. Best is trial 33 with value: 0.8852827325653412.\n",
            "[I 2024-09-29 20:17:14,841] Trial 98 finished with value: 0.0 and parameters: {'svm_C': 0.0005529693043974612, 'svm_gamma': 'auto', 'svm_kernel': 'sigmoid'}. Best is trial 33 with value: 0.8852827325653412.\n",
            "[I 2024-09-29 20:17:15,079] Trial 99 finished with value: 0.8809197480552979 and parameters: {'svm_C': 0.001233540408214709, 'svm_gamma': 'auto', 'svm_kernel': 'linear'}. Best is trial 33 with value: 0.8852827325653412.\n"
          ]
        },
        {
          "output_type": "stream",
          "name": "stdout",
          "text": [
            "Best hyperparameters: {'svm_C': 0.00027817691684362054, 'svm_gamma': 'scale', 'svm_kernel': 'linear'}\n",
            "Best F1-score: 0.8853\n"
          ]
        }
      ]
    },
    {
      "cell_type": "markdown",
      "source": [
        "Usando os hiperparâmetros do melhor modelo encontrado, reproduzimos ele novamente para verificar outras métricas como F1-score, MCC, Sensitivity, Specificity."
      ],
      "metadata": {
        "id": "9k2hhTDCaaTP"
      }
    },
    {
      "cell_type": "code",
      "source": [
        "scoring = {\n",
        "    'accuracy': make_scorer(accuracy_score),\n",
        "    'f1': make_scorer(f1_score, pos_label='anticancer'),\n",
        "    'mcc': make_scorer(matthews_corrcoef),\n",
        "    'sensitivity': make_scorer(recall_score, pos_label='anticancer'),\n",
        "    'specificity': make_scorer(recall_score, pos_label='non')\n",
        "}\n",
        "\n",
        "best_params = study3.best_params\n",
        "\n",
        "best_model = Pipeline([\n",
        "    (\"scaler\", StandardScaler()),\n",
        "    (\"svm\", SVC(C=best_params[\"svm_C\"], kernel=best_params[\"svm_kernel\"], gamma=best_params[\"svm_gamma\"]))\n",
        "])\n",
        "\n",
        "cv_results = cross_validate(best_model, X, y, cv=10, scoring=scoring)\n",
        "\n",
        "print(f\"Accuracy: {cv_results['test_accuracy'].mean():.4f} +- {cv_results['test_accuracy'].std():.4f}\")\n",
        "print(f\"F1-score: {cv_results['test_f1'].mean():.4f} +- {cv_results['test_f1'].std():.4f}\")\n",
        "print(f\"MCC: {cv_results['test_mcc'].mean():.4f} +- {cv_results['test_mcc'].std():.4f}\")\n",
        "print(f\"Sensitivity: {cv_results['test_sensitivity'].mean():.4f} +- {cv_results['test_sensitivity'].std():.4f}\")\n",
        "print(f\"Specificity: {cv_results['test_specificity'].mean():.4f} +- {cv_results['test_specificity'].std():.4f}\")"
      ],
      "metadata": {
        "id": "rZkM4e9RlP5Q",
        "colab": {
          "base_uri": "https://localhost:8080/"
        },
        "outputId": "fa6827eb-ec5d-49fa-9173-fc4057275e26"
      },
      "execution_count": 23,
      "outputs": [
        {
          "output_type": "stream",
          "name": "stdout",
          "text": [
            "Accuracy: 0.9330 +- 0.0831\n",
            "F1-score: 0.8853 +- 0.1775\n",
            "MCC: 0.8639 +- 0.1705\n",
            "Sensitivity: 0.8286 +- 0.2176\n",
            "Specificity: 1.0000 +- 0.0000\n"
          ]
        }
      ]
    },
    {
      "cell_type": "code",
      "source": [
        "y_pred = cross_val_predict(best_model, X, y, cv=10)\n",
        "\n",
        "cm = confusion_matrix(y, y_pred)\n",
        "\n",
        "labels = np.unique(y)\n",
        "\n",
        "sns.heatmap(cm, annot=True, fmt='d', cmap='Blues', xticklabels=labels, yticklabels=labels)\n",
        "plt.xlabel('Predicted labels')\n",
        "plt.ylabel('True labels')\n",
        "plt.savefig(\"cm_embed.pdf\", bbox_inches='tight')\n",
        "plt.show()"
      ],
      "metadata": {
        "id": "n5xMoMcdbEbc",
        "outputId": "641d6aac-b824-453d-eeab-0b50a9eb988f",
        "colab": {
          "base_uri": "https://localhost:8080/",
          "height": 449
        }
      },
      "execution_count": 24,
      "outputs": [
        {
          "output_type": "display_data",
          "data": {
            "text/plain": [
              "<Figure size 640x480 with 2 Axes>"
            ],
            "image/png": "[encoded data removed]"
          },
          "metadata": {}
        }
      ]
    },
    {
      "cell_type": "markdown",
      "source": [
        "### Uso do Conhecimento"
      ],
      "metadata": {
        "id": "IVwMQax8ah2p"
      }
    },
    {
      "cell_type": "markdown",
      "source": [
        "Podemos fazer o deploy de um de nossos modelo mais robusto como uma aplicação em Streamlit. Vamos utilizar do modelo baseado em Bag of Words por ter sido o 2º melhor, e ser computacionalmente possível de usar no Streamlit."
      ],
      "metadata": {
        "id": "hmtgelz7amqQ"
      }
    },
    {
      "cell_type": "code",
      "source": [
        "X, y = df_seqs_bow.select(pl.nth(range(3, len(df_seqs_bow.columns)))).to_numpy(), df_seqs_bow[\"label\"].to_numpy()\n",
        "\n",
        "best_params = study1.best_params\n",
        "\n",
        "best_model = Pipeline([\n",
        "    (\"scaler\", StandardScaler()),\n",
        "    (\"svm\", SVC(C=best_params[\"svm_C\"], kernel=best_params[\"svm_kernel\"], gamma=best_params[\"svm_gamma\"]))\n",
        "])\n",
        "\n",
        "model = best_model.fit(X, y)\n",
        "\n",
        "joblib.dump(model, \"best_model.pkl\")"
      ],
      "metadata": {
        "id": "Pqwfx0KVcTQh",
        "colab": {
          "base_uri": "https://localhost:8080/"
        },
        "outputId": "30e7f4de-1bb2-4fb9-91b2-e03af6d9fc96"
      },
      "execution_count": null,
      "outputs": [
        {
          "output_type": "execute_result",
          "data": {
            "text/plain": [
              "['best_model.pkl']"
            ]
          },
          "metadata": {},
          "execution_count": 12
        }
      ]
    },
    {
      "cell_type": "markdown",
      "source": [
        "O código da aplicação a ser desenvolvido necessitará apenas de fazer a conversão para Bag of Words e utilizar o modelo para predição."
      ],
      "metadata": {
        "id": "sgP0QliWc0C7"
      }
    }
  ]
}
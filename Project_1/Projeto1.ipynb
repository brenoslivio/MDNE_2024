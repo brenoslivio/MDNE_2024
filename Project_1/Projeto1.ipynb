{
  "nbformat": 4,
  "nbformat_minor": 0,
  "metadata": {
    "colab": {
      "provenance": [],
      "gpuType": "T4",
      "include_colab_link": true
    },
    "kernelspec": {
      "name": "python3",
      "display_name": "Python 3"
    },
    "language_info": {
      "name": "python"
    },
    "accelerator": "GPU"
  },
  "cells": [
    {
      "cell_type": "markdown",
      "metadata": {
        "id": "view-in-github",
        "colab_type": "text"
      },
      "source": [
        "<a href=\"https://colab.research.google.com/github/brenoslivio/MDNE_2024/blob/main/Project_1/Projeto1.ipynb\" target=\"_parent\"><img src=\"https://colab.research.google.com/assets/colab-badge.svg\" alt=\"Open In Colab\"/></a>"
      ]
    },
    {
      "cell_type": "markdown",
      "source": [
        "## SCC5920 - Mineração de Dados Não Estruturados (2024)\n"
      ],
      "metadata": {
        "id": "eq4GQ9cTE9cY"
      }
    },
    {
      "cell_type": "markdown",
      "source": [
        "**Projeto 1: Mineração de Textos - Classificação de Peptídeos Anti Câncer**\n",
        "\n",
        "Prof. Ricardo Marcacini\n",
        "\n",
        "**Aluno:** Breno Livio Silva de Almeida\n",
        "\n",
        "**NUSP:** 10276675\n",
        "\n",
        "---"
      ],
      "metadata": {
        "id": "1_CWesBKFAOP"
      }
    },
    {
      "cell_type": "markdown",
      "source": [
        "Começamos instalando bibliotecas não disponíveis no Google Colab, como BioPython, usado para ler dados de sequências biológicas, e Optuna, um framework estado-da-arte para otimização Bayesiana."
      ],
      "metadata": {
        "id": "AH72jsDuT5gU"
      }
    },
    {
      "cell_type": "code",
      "source": [
        "!pip install biopython\n",
        "!pip install optuna"
      ],
      "metadata": {
        "colab": {
          "base_uri": "https://localhost:8080/"
        },
        "id": "AEwFn7ZvFjuy",
        "outputId": "fc086016-7b0c-4654-bd24-44c31307c226"
      },
      "execution_count": 1,
      "outputs": [
        {
          "output_type": "stream",
          "name": "stdout",
          "text": [
            "Requirement already satisfied: biopython in /usr/local/lib/python3.10/dist-packages (1.84)\n",
            "Requirement already satisfied: numpy in /usr/local/lib/python3.10/dist-packages (from biopython) (1.26.4)\n",
            "Requirement already satisfied: optuna in /usr/local/lib/python3.10/dist-packages (4.0.0)\n",
            "Requirement already satisfied: alembic>=1.5.0 in /usr/local/lib/python3.10/dist-packages (from optuna) (1.13.3)\n",
            "Requirement already satisfied: colorlog in /usr/local/lib/python3.10/dist-packages (from optuna) (6.8.2)\n",
            "Requirement already satisfied: numpy in /usr/local/lib/python3.10/dist-packages (from optuna) (1.26.4)\n",
            "Requirement already satisfied: packaging>=20.0 in /usr/local/lib/python3.10/dist-packages (from optuna) (24.1)\n",
            "Requirement already satisfied: sqlalchemy>=1.3.0 in /usr/local/lib/python3.10/dist-packages (from optuna) (2.0.35)\n",
            "Requirement already satisfied: tqdm in /usr/local/lib/python3.10/dist-packages (from optuna) (4.66.5)\n",
            "Requirement already satisfied: PyYAML in /usr/local/lib/python3.10/dist-packages (from optuna) (6.0.2)\n",
            "Requirement already satisfied: Mako in /usr/local/lib/python3.10/dist-packages (from alembic>=1.5.0->optuna) (1.3.5)\n",
            "Requirement already satisfied: typing-extensions>=4 in /usr/local/lib/python3.10/dist-packages (from alembic>=1.5.0->optuna) (4.12.2)\n",
            "Requirement already satisfied: greenlet!=0.4.17 in /usr/local/lib/python3.10/dist-packages (from sqlalchemy>=1.3.0->optuna) (3.1.1)\n",
            "Requirement already satisfied: MarkupSafe>=0.9.2 in /usr/local/lib/python3.10/dist-packages (from Mako->alembic>=1.5.0->optuna) (2.1.5)\n"
          ]
        }
      ]
    },
    {
      "cell_type": "markdown",
      "source": [
        "Em seguida importamos as bibliotecas que vamos usar."
      ],
      "metadata": {
        "id": "Bj8bp_SxUHAC"
      }
    },
    {
      "cell_type": "code",
      "source": [
        "from Bio import SeqIO\n",
        "import requests, io\n",
        "import polars as pl\n",
        "import optuna\n",
        "import numpy as np\n",
        "from sklearn.svm import SVC\n",
        "from itertools import product\n",
        "from sklearn.feature_extraction.text import TfidfVectorizer\n",
        "from sklearn.model_selection import cross_val_score\n",
        "from sklearn.pipeline import Pipeline\n",
        "from sklearn.preprocessing import StandardScaler\n",
        "from sklearn.feature_selection import SelectKBest, f_classif\n",
        "from transformers import T5EncoderModel, T5Tokenizer\n",
        "from sklearn.model_selection import cross_validate\n",
        "from sklearn.metrics import make_scorer, accuracy_score, f1_score, matthews_corrcoef, recall_score, confusion_matrix\n",
        "import torch\n",
        "import re\n",
        "import joblib"
      ],
      "metadata": {
        "id": "gT2eoOXMGazw"
      },
      "execution_count": 2,
      "outputs": []
    },
    {
      "cell_type": "markdown",
      "source": [
        "A partir do repositório do GitHub, convertemos os arquivos FASTA para um DataFrame do Polars. FASTA é um arquivo de texto, mas conhecido para armazenar sequências biológicas. BioPython é usado para ler os arquivos."
      ],
      "metadata": {
        "id": "dZMx78kmUL3_"
      }
    },
    {
      "cell_type": "code",
      "source": [
        "labels = [\"anticancer\", \"non\"]\n",
        "\n",
        "df_seqs = pl.DataFrame()\n",
        "\n",
        "for label in labels:\n",
        "  response = requests.get(f\"https://raw.githubusercontent.com/brenoslivio/MDNE_2024/refs/heads/main/Project_1/{label}.fasta\")\n",
        "\n",
        "  headers, seqs, labels = [], [], []\n",
        "\n",
        "  if response.status_code == 200:\n",
        "      handle = io.StringIO(response.text)\n",
        "      for record in SeqIO.parse(handle, \"fasta\"):\n",
        "          headers.append(record.description)\n",
        "          seqs.append(str(record.seq))\n",
        "  else:\n",
        "      print(f\"Failed to download file. Status code: {response.status_code}\")\n",
        "\n",
        "  df_seqs = pl.concat([df_seqs, pl.DataFrame({\"header\": headers, \"sequence\": seqs}).with_columns(label=pl.lit(label))])\n",
        "\n",
        "df_seqs"
      ],
      "metadata": {
        "colab": {
          "base_uri": "https://localhost:8080/",
          "height": 443
        },
        "id": "1zErt5pbFM5X",
        "outputId": "1b3f9cc5-349e-4da9-a729-34c4b8b72bc7"
      },
      "execution_count": 3,
      "outputs": [
        {
          "output_type": "execute_result",
          "data": {
            "text/plain": [
              "shape: (344, 3)\n",
              "┌─────────────┬─────────────────────────────────┬────────────┐\n",
              "│ header      ┆ sequence                        ┆ label      │\n",
              "│ ---         ┆ ---                             ┆ ---        │\n",
              "│ str         ┆ str                             ┆ str        │\n",
              "╞═════════════╪═════════════════════════════════╪════════════╡\n",
              "│ ACP_1       ┆ GLWSKIKEVGKEAAKAAAKAAGKAALGAVS… ┆ anticancer │\n",
              "│ ACP_2       ┆ GLFDIIKKIAESI                   ┆ anticancer │\n",
              "│ ACP_3       ┆ GLLDIVKKVVGAFGSL                ┆ anticancer │\n",
              "│ ACP_4       ┆ GLFDIVKKVVGALGSL                ┆ anticancer │\n",
              "│ ACP_5       ┆ GLFDIVKKVVGTLAGL                ┆ anticancer │\n",
              "│ …           ┆ …                               ┆ …          │\n",
              "│ non-ACP_202 ┆ TDTPLDLAIQQLQNLAIESIPDPPTNTPEA… ┆ non        │\n",
              "│ non-ACP_203 ┆ LRLIHFLHQTTDPYPQGPGTANQRRRR     ┆ non        │\n",
              "│ non-ACP_204 ┆ PVDTPLDLAIQQLQGLAIEELPDPPTSAPE… ┆ non        │\n",
              "│ non-ACP_205 ┆ NTNVTPHLLAGMRLIAVQQPEDPLRVL     ┆ non        │\n",
              "│ non-ACP_206 ┆ QTLVHNGGRLPPDLQLSAEDSSSTPS      ┆ non        │\n",
              "└─────────────┴─────────────────────────────────┴────────────┘"
            ],
            "text/html": [
              "<div><style>\n",
              ".dataframe > thead > tr,\n",
              ".dataframe > tbody > tr {\n",
              "  text-align: right;\n",
              "  white-space: pre-wrap;\n",
              "}\n",
              "</style>\n",
              "<small>shape: (344, 3)</small><table border=\"1\" class=\"dataframe\"><thead><tr><th>header</th><th>sequence</th><th>label</th></tr><tr><td>str</td><td>str</td><td>str</td></tr></thead><tbody><tr><td>&quot;ACP_1&quot;</td><td>&quot;GLWSKIKEVGKEAAKAAAKAAGKAALGAVS…</td><td>&quot;anticancer&quot;</td></tr><tr><td>&quot;ACP_2&quot;</td><td>&quot;GLFDIIKKIAESI&quot;</td><td>&quot;anticancer&quot;</td></tr><tr><td>&quot;ACP_3&quot;</td><td>&quot;GLLDIVKKVVGAFGSL&quot;</td><td>&quot;anticancer&quot;</td></tr><tr><td>&quot;ACP_4&quot;</td><td>&quot;GLFDIVKKVVGALGSL&quot;</td><td>&quot;anticancer&quot;</td></tr><tr><td>&quot;ACP_5&quot;</td><td>&quot;GLFDIVKKVVGTLAGL&quot;</td><td>&quot;anticancer&quot;</td></tr><tr><td>&hellip;</td><td>&hellip;</td><td>&hellip;</td></tr><tr><td>&quot;non-ACP_202&quot;</td><td>&quot;TDTPLDLAIQQLQNLAIESIPDPPTNTPEA…</td><td>&quot;non&quot;</td></tr><tr><td>&quot;non-ACP_203&quot;</td><td>&quot;LRLIHFLHQTTDPYPQGPGTANQRRRR&quot;</td><td>&quot;non&quot;</td></tr><tr><td>&quot;non-ACP_204&quot;</td><td>&quot;PVDTPLDLAIQQLQGLAIEELPDPPTSAPE…</td><td>&quot;non&quot;</td></tr><tr><td>&quot;non-ACP_205&quot;</td><td>&quot;NTNVTPHLLAGMRLIAVQQPEDPLRVL&quot;</td><td>&quot;non&quot;</td></tr><tr><td>&quot;non-ACP_206&quot;</td><td>&quot;QTLVHNGGRLPPDLQLSAEDSSSTPS&quot;</td><td>&quot;non&quot;</td></tr></tbody></table></div>"
            ]
          },
          "metadata": {},
          "execution_count": 3
        }
      ]
    },
    {
      "cell_type": "markdown",
      "source": [
        "### Bag of Words\n",
        "\n"
      ],
      "metadata": {
        "id": "_QQqC-4IGNn9"
      }
    },
    {
      "cell_type": "markdown",
      "source": [
        "Aqui utilizamos a abordagem de Bag of Words, onde fazemos a contagem de aminoácidos nas sequências."
      ],
      "metadata": {
        "id": "2hFAEhNJUmjT"
      }
    },
    {
      "cell_type": "code",
      "source": [
        "chars = ['A', 'R', 'N', 'D', 'C', 'Q', 'E', 'G', 'H', 'I',\n",
        "            'L', 'K', 'M', 'F', 'P', 'S', 'T', 'W', 'Y', 'V', 'X']\n",
        "\n",
        "def dict_kmer(seq, k):\n",
        "    counts = {''.join(comb): 0 for comb in product(chars, repeat= k)}\n",
        "    L = len(seq)\n",
        "    for i in range(L - k + 1):\n",
        "        counts[seq[i:i+k]] += 1\n",
        "\n",
        "    return counts\n",
        "\n",
        "df_seqs_bow = df_seqs.with_columns(pl.col(\"sequence\").map_elements(lambda x: dict_kmer(x, 1)).alias(\"aac\")).unnest(\"aac\")\n",
        "df_seqs_bow"
      ],
      "metadata": {
        "id": "Rm6TDMloGV6P",
        "outputId": "4c031fa9-09b3-4a74-ef41-4da2cf360ae0",
        "colab": {
          "base_uri": "https://localhost:8080/",
          "height": 478
        }
      },
      "execution_count": 4,
      "outputs": [
        {
          "output_type": "stream",
          "name": "stderr",
          "text": [
            "sys:1: MapWithoutReturnDtypeWarning: Calling `map_elements` without specifying `return_dtype` can lead to unpredictable results. Specify `return_dtype` to silence this warning.\n",
            "sys:1: MapWithoutReturnDtypeWarning: Calling `map_elements` without specifying `return_dtype` can lead to unpredictable results. Specify `return_dtype` to silence this warning.\n"
          ]
        },
        {
          "output_type": "execute_result",
          "data": {
            "text/plain": [
              "shape: (344, 24)\n",
              "┌─────────────┬─────────────────────────────────┬────────────┬─────┬───┬─────┬─────┬─────┬─────┐\n",
              "│ header      ┆ sequence                        ┆ label      ┆ A   ┆ … ┆ W   ┆ Y   ┆ V   ┆ X   │\n",
              "│ ---         ┆ ---                             ┆ ---        ┆ --- ┆   ┆ --- ┆ --- ┆ --- ┆ --- │\n",
              "│ str         ┆ str                             ┆ str        ┆ i64 ┆   ┆ i64 ┆ i64 ┆ i64 ┆ i64 │\n",
              "╞═════════════╪═════════════════════════════════╪════════════╪═════╪═══╪═════╪═════╪═════╪═════╡\n",
              "│ ACP_1       ┆ GLWSKIKEVGKEAAKAAAKAAGKAALGAVS… ┆ anticancer ┆ 11  ┆ … ┆ 1   ┆ 0   ┆ 3   ┆ 0   │\n",
              "│ ACP_2       ┆ GLFDIIKKIAESI                   ┆ anticancer ┆ 1   ┆ … ┆ 0   ┆ 0   ┆ 0   ┆ 0   │\n",
              "│ ACP_3       ┆ GLLDIVKKVVGAFGSL                ┆ anticancer ┆ 1   ┆ … ┆ 0   ┆ 0   ┆ 3   ┆ 0   │\n",
              "│ ACP_4       ┆ GLFDIVKKVVGALGSL                ┆ anticancer ┆ 1   ┆ … ┆ 0   ┆ 0   ┆ 3   ┆ 0   │\n",
              "│ ACP_5       ┆ GLFDIVKKVVGTLAGL                ┆ anticancer ┆ 1   ┆ … ┆ 0   ┆ 0   ┆ 3   ┆ 0   │\n",
              "│ …           ┆ …                               ┆ …          ┆ …   ┆ … ┆ …   ┆ …   ┆ …   ┆ …   │\n",
              "│ non-ACP_202 ┆ TDTPLDLAIQQLQNLAIESIPDPPTNTPEA… ┆ non        ┆ 3   ┆ … ┆ 0   ┆ 0   ┆ 0   ┆ 0   │\n",
              "│ non-ACP_203 ┆ LRLIHFLHQTTDPYPQGPGTANQRRRR     ┆ non        ┆ 1   ┆ … ┆ 0   ┆ 1   ┆ 0   ┆ 0   │\n",
              "│ non-ACP_204 ┆ PVDTPLDLAIQQLQGLAIEELPDPPTSAPE… ┆ non        ┆ 3   ┆ … ┆ 0   ┆ 0   ┆ 2   ┆ 0   │\n",
              "│ non-ACP_205 ┆ NTNVTPHLLAGMRLIAVQQPEDPLRVL     ┆ non        ┆ 2   ┆ … ┆ 0   ┆ 0   ┆ 3   ┆ 0   │\n",
              "│ non-ACP_206 ┆ QTLVHNGGRLPPDLQLSAEDSSSTPS      ┆ non        ┆ 1   ┆ … ┆ 0   ┆ 0   ┆ 1   ┆ 0   │\n",
              "└─────────────┴─────────────────────────────────┴────────────┴─────┴───┴─────┴─────┴─────┴─────┘"
            ],
            "text/html": [
              "<div><style>\n",
              ".dataframe > thead > tr,\n",
              ".dataframe > tbody > tr {\n",
              "  text-align: right;\n",
              "  white-space: pre-wrap;\n",
              "}\n",
              "</style>\n",
              "<small>shape: (344, 24)</small><table border=\"1\" class=\"dataframe\"><thead><tr><th>header</th><th>sequence</th><th>label</th><th>A</th><th>R</th><th>N</th><th>D</th><th>C</th><th>Q</th><th>E</th><th>G</th><th>H</th><th>I</th><th>L</th><th>K</th><th>M</th><th>F</th><th>P</th><th>S</th><th>T</th><th>W</th><th>Y</th><th>V</th><th>X</th></tr><tr><td>str</td><td>str</td><td>str</td><td>i64</td><td>i64</td><td>i64</td><td>i64</td><td>i64</td><td>i64</td><td>i64</td><td>i64</td><td>i64</td><td>i64</td><td>i64</td><td>i64</td><td>i64</td><td>i64</td><td>i64</td><td>i64</td><td>i64</td><td>i64</td><td>i64</td><td>i64</td><td>i64</td></tr></thead><tbody><tr><td>&quot;ACP_1&quot;</td><td>&quot;GLWSKIKEVGKEAAKAAAKAAGKAALGAVS…</td><td>&quot;anticancer&quot;</td><td>11</td><td>0</td><td>0</td><td>0</td><td>0</td><td>0</td><td>3</td><td>4</td><td>0</td><td>1</td><td>2</td><td>6</td><td>0</td><td>0</td><td>0</td><td>2</td><td>0</td><td>1</td><td>0</td><td>3</td><td>0</td></tr><tr><td>&quot;ACP_2&quot;</td><td>&quot;GLFDIIKKIAESI&quot;</td><td>&quot;anticancer&quot;</td><td>1</td><td>0</td><td>0</td><td>1</td><td>0</td><td>0</td><td>1</td><td>1</td><td>0</td><td>4</td><td>1</td><td>2</td><td>0</td><td>1</td><td>0</td><td>1</td><td>0</td><td>0</td><td>0</td><td>0</td><td>0</td></tr><tr><td>&quot;ACP_3&quot;</td><td>&quot;GLLDIVKKVVGAFGSL&quot;</td><td>&quot;anticancer&quot;</td><td>1</td><td>0</td><td>0</td><td>1</td><td>0</td><td>0</td><td>0</td><td>3</td><td>0</td><td>1</td><td>3</td><td>2</td><td>0</td><td>1</td><td>0</td><td>1</td><td>0</td><td>0</td><td>0</td><td>3</td><td>0</td></tr><tr><td>&quot;ACP_4&quot;</td><td>&quot;GLFDIVKKVVGALGSL&quot;</td><td>&quot;anticancer&quot;</td><td>1</td><td>0</td><td>0</td><td>1</td><td>0</td><td>0</td><td>0</td><td>3</td><td>0</td><td>1</td><td>3</td><td>2</td><td>0</td><td>1</td><td>0</td><td>1</td><td>0</td><td>0</td><td>0</td><td>3</td><td>0</td></tr><tr><td>&quot;ACP_5&quot;</td><td>&quot;GLFDIVKKVVGTLAGL&quot;</td><td>&quot;anticancer&quot;</td><td>1</td><td>0</td><td>0</td><td>1</td><td>0</td><td>0</td><td>0</td><td>3</td><td>0</td><td>1</td><td>3</td><td>2</td><td>0</td><td>1</td><td>0</td><td>0</td><td>1</td><td>0</td><td>0</td><td>3</td><td>0</td></tr><tr><td>&hellip;</td><td>&hellip;</td><td>&hellip;</td><td>&hellip;</td><td>&hellip;</td><td>&hellip;</td><td>&hellip;</td><td>&hellip;</td><td>&hellip;</td><td>&hellip;</td><td>&hellip;</td><td>&hellip;</td><td>&hellip;</td><td>&hellip;</td><td>&hellip;</td><td>&hellip;</td><td>&hellip;</td><td>&hellip;</td><td>&hellip;</td><td>&hellip;</td><td>&hellip;</td><td>&hellip;</td><td>&hellip;</td><td>&hellip;</td></tr><tr><td>&quot;non-ACP_202&quot;</td><td>&quot;TDTPLDLAIQQLQNLAIESIPDPPTNTPEA…</td><td>&quot;non&quot;</td><td>3</td><td>0</td><td>2</td><td>4</td><td>1</td><td>3</td><td>2</td><td>0</td><td>0</td><td>3</td><td>5</td><td>0</td><td>0</td><td>0</td><td>5</td><td>1</td><td>4</td><td>0</td><td>0</td><td>0</td><td>0</td></tr><tr><td>&quot;non-ACP_203&quot;</td><td>&quot;LRLIHFLHQTTDPYPQGPGTANQRRRR&quot;</td><td>&quot;non&quot;</td><td>1</td><td>5</td><td>1</td><td>1</td><td>0</td><td>3</td><td>0</td><td>2</td><td>2</td><td>1</td><td>3</td><td>0</td><td>0</td><td>1</td><td>3</td><td>0</td><td>3</td><td>0</td><td>1</td><td>0</td><td>0</td></tr><tr><td>&quot;non-ACP_204&quot;</td><td>&quot;PVDTPLDLAIQQLQGLAIEELPDPPTSAPE…</td><td>&quot;non&quot;</td><td>3</td><td>0</td><td>1</td><td>4</td><td>0</td><td>3</td><td>3</td><td>1</td><td>0</td><td>2</td><td>6</td><td>0</td><td>0</td><td>0</td><td>7</td><td>1</td><td>2</td><td>0</td><td>0</td><td>2</td><td>0</td></tr><tr><td>&quot;non-ACP_205&quot;</td><td>&quot;NTNVTPHLLAGMRLIAVQQPEDPLRVL&quot;</td><td>&quot;non&quot;</td><td>2</td><td>2</td><td>2</td><td>1</td><td>0</td><td>2</td><td>1</td><td>1</td><td>1</td><td>1</td><td>5</td><td>0</td><td>1</td><td>0</td><td>3</td><td>0</td><td>2</td><td>0</td><td>0</td><td>3</td><td>0</td></tr><tr><td>&quot;non-ACP_206&quot;</td><td>&quot;QTLVHNGGRLPPDLQLSAEDSSSTPS&quot;</td><td>&quot;non&quot;</td><td>1</td><td>1</td><td>1</td><td>2</td><td>0</td><td>2</td><td>1</td><td>2</td><td>1</td><td>0</td><td>4</td><td>0</td><td>0</td><td>0</td><td>3</td><td>5</td><td>2</td><td>0</td><td>0</td><td>1</td><td>0</td></tr></tbody></table></div>"
            ]
          },
          "metadata": {},
          "execution_count": 4
        }
      ]
    },
    {
      "cell_type": "markdown",
      "source": [
        "Com a representação estruturada anterior, vamos utilizar o Optuna com o algoritmo SVM para maximizar a acurácia média usando 10-fold Cross-Validation."
      ],
      "metadata": {
        "id": "imUv8WZtUzDg"
      }
    },
    {
      "cell_type": "code",
      "source": [
        "def objective(trial):\n",
        "    C = trial.suggest_float(\"svm_C\", 1e-6, 1e3, log=True)\n",
        "    gamma = trial.suggest_categorical(\"svm_gamma\", [\"scale\", \"auto\"])\n",
        "    kernel = trial.suggest_categorical(\"svm_kernel\", [\"linear\", \"poly\", \"rbf\", \"sigmoid\"])\n",
        "\n",
        "    pipeline = Pipeline([\n",
        "        (\"scaler\", StandardScaler()),\n",
        "        (\"svm\", SVC(C=C, kernel=kernel, gamma=gamma, random_state=0))\n",
        "    ])\n",
        "\n",
        "    scores = cross_val_score(pipeline, X, y, cv=10, scoring=\"accuracy\")\n",
        "\n",
        "    return np.mean(scores)\n",
        "\n",
        "X, y = df_seqs_bow.select(pl.nth(range(3, len(df_seqs_bow.columns)))).to_numpy(), df_seqs_bow[\"label\"].to_numpy()\n",
        "\n",
        "sampler = optuna.samplers.TPESampler(seed=0)\n",
        "study = optuna.create_study(direction=\"maximize\", sampler=sampler)\n",
        "study.optimize(objective, n_trials=100)\n",
        "\n",
        "print(\"Best hyperparameters:\", study.best_params)\n",
        "print(f\"Best accuracy score: {study.best_value:.4f}\")"
      ],
      "metadata": {
        "colab": {
          "base_uri": "https://localhost:8080/"
        },
        "id": "JflPA3KesmJY",
        "outputId": "df17cec4-12a0-4ac8-af46-8d7fa5272486"
      },
      "execution_count": 5,
      "outputs": [
        {
          "output_type": "stream",
          "name": "stderr",
          "text": [
            "[I 2024-09-28 16:26:33,086] A new study created in memory with name: no-name-16682543-2bc7-47dd-b2e1-194fb4ea920c\n",
            "[I 2024-09-28 16:26:33,212] Trial 0 finished with value: 0.747563025210084 and parameters: {'svm_C': 0.0869604013210559, 'svm_gamma': 'scale', 'svm_kernel': 'rbf'}. Best is trial 0 with value: 0.747563025210084.\n",
            "[I 2024-09-28 16:26:33,278] Trial 1 finished with value: 0.7563865546218487 and parameters: {'svm_C': 106.15904599003998, 'svm_gamma': 'scale', 'svm_kernel': 'sigmoid'}. Best is trial 1 with value: 0.7563865546218487.\n",
            "[I 2024-09-28 16:26:33,373] Trial 2 finished with value: 0.5988235294117648 and parameters: {'svm_C': 4.35837428774127e-06, 'svm_gamma': 'scale', 'svm_kernel': 'sigmoid'}. Best is trial 1 with value: 0.7563865546218487.\n",
            "[I 2024-09-28 16:26:33,446] Trial 3 finished with value: 0.7564705882352941 and parameters: {'svm_C': 15.574964948467398, 'svm_gamma': 'auto', 'svm_kernel': 'sigmoid'}. Best is trial 3 with value: 0.7564705882352941.\n",
            "[I 2024-09-28 16:26:33,541] Trial 4 finished with value: 0.8521848739495799 and parameters: {'svm_C': 0.04973188214118056, 'svm_gamma': 'scale', 'svm_kernel': 'linear'}. Best is trial 4 with value: 0.8521848739495799.\n",
            "[I 2024-09-28 16:26:33,654] Trial 5 finished with value: 0.8464705882352941 and parameters: {'svm_C': 0.36200908827975287, 'svm_gamma': 'auto', 'svm_kernel': 'linear'}. Best is trial 4 with value: 0.8521848739495799.\n",
            "[I 2024-09-28 16:26:33,789] Trial 6 finished with value: 0.8405042016806723 and parameters: {'svm_C': 1.8996813686210312, 'svm_gamma': 'auto', 'svm_kernel': 'linear'}. Best is trial 4 with value: 0.8521848739495799.\n",
            "[I 2024-09-28 16:26:33,848] Trial 7 finished with value: 0.7244537815126051 and parameters: {'svm_C': 0.0018767090076326175, 'svm_gamma': 'scale', 'svm_kernel': 'linear'}. Best is trial 4 with value: 0.8521848739495799.\n",
            "[I 2024-09-28 16:26:33,928] Trial 8 finished with value: 0.8463025210084034 and parameters: {'svm_C': 0.7550486392036303, 'svm_gamma': 'auto', 'svm_kernel': 'sigmoid'}. Best is trial 4 with value: 0.8521848739495799.\n",
            "[I 2024-09-28 16:26:34,013] Trial 9 finished with value: 0.5988235294117648 and parameters: {'svm_C': 1.7524537381340202e-05, 'svm_gamma': 'auto', 'svm_kernel': 'rbf'}. Best is trial 4 with value: 0.8521848739495799.\n",
            "[I 2024-09-28 16:26:34,084] Trial 10 finished with value: 0.5988235294117648 and parameters: {'svm_C': 0.0010385054537707867, 'svm_gamma': 'scale', 'svm_kernel': 'poly'}. Best is trial 4 with value: 0.8521848739495799.\n",
            "[I 2024-09-28 16:26:34,207] Trial 11 finished with value: 0.8199159663865545 and parameters: {'svm_C': 0.006548758609353349, 'svm_gamma': 'auto', 'svm_kernel': 'linear'}. Best is trial 4 with value: 0.8521848739495799.\n",
            "[I 2024-09-28 16:26:34,309] Trial 12 finished with value: 0.8579831932773109 and parameters: {'svm_C': 0.09532988998950347, 'svm_gamma': 'scale', 'svm_kernel': 'linear'}. Best is trial 12 with value: 0.8579831932773109.\n",
            "[I 2024-09-28 16:27:11,486] Trial 13 finished with value: 0.8316806722689076 and parameters: {'svm_C': 881.602795767026, 'svm_gamma': 'scale', 'svm_kernel': 'linear'}. Best is trial 12 with value: 0.8579831932773109.\n",
            "[I 2024-09-28 16:27:11,558] Trial 14 finished with value: 0.5988235294117648 and parameters: {'svm_C': 0.0004780963451078007, 'svm_gamma': 'scale', 'svm_kernel': 'poly'}. Best is trial 12 with value: 0.8579831932773109.\n",
            "[I 2024-09-28 16:27:11,617] Trial 15 finished with value: 0.8549579831932773 and parameters: {'svm_C': 0.023482300853852254, 'svm_gamma': 'scale', 'svm_kernel': 'linear'}. Best is trial 12 with value: 0.8579831932773109.\n",
            "[I 2024-09-28 16:27:11,693] Trial 16 finished with value: 0.5988235294117648 and parameters: {'svm_C': 8.842048257024456e-05, 'svm_gamma': 'scale', 'svm_kernel': 'linear'}. Best is trial 12 with value: 0.8579831932773109.\n",
            "[I 2024-09-28 16:27:11,750] Trial 17 finished with value: 0.8579831932773109 and parameters: {'svm_C': 0.012208612047427311, 'svm_gamma': 'scale', 'svm_kernel': 'linear'}. Best is trial 12 with value: 0.8579831932773109.\n",
            "[I 2024-09-28 16:27:11,819] Trial 18 finished with value: 0.8926050420168068 and parameters: {'svm_C': 9.706265839484805, 'svm_gamma': 'scale', 'svm_kernel': 'rbf'}. Best is trial 18 with value: 0.8926050420168068.\n",
            "[I 2024-09-28 16:27:11,893] Trial 19 finished with value: 0.8926050420168068 and parameters: {'svm_C': 9.846297634585598, 'svm_gamma': 'scale', 'svm_kernel': 'rbf'}. Best is trial 18 with value: 0.8926050420168068.\n",
            "[I 2024-09-28 16:27:11,960] Trial 20 finished with value: 0.8868067226890757 and parameters: {'svm_C': 14.032753851650162, 'svm_gamma': 'scale', 'svm_kernel': 'rbf'}. Best is trial 18 with value: 0.8926050420168068.\n",
            "[I 2024-09-28 16:27:12,029] Trial 21 finished with value: 0.8926050420168068 and parameters: {'svm_C': 9.530714197783455, 'svm_gamma': 'scale', 'svm_kernel': 'rbf'}. Best is trial 18 with value: 0.8926050420168068.\n",
            "[I 2024-09-28 16:27:12,098] Trial 22 finished with value: 0.9101680672268907 and parameters: {'svm_C': 6.342851928104133, 'svm_gamma': 'scale', 'svm_kernel': 'rbf'}. Best is trial 22 with value: 0.9101680672268907.\n",
            "[I 2024-09-28 16:27:12,170] Trial 23 finished with value: 0.8781512605042018 and parameters: {'svm_C': 104.66632792380918, 'svm_gamma': 'scale', 'svm_kernel': 'rbf'}. Best is trial 22 with value: 0.9101680672268907.\n",
            "[I 2024-09-28 16:27:12,239] Trial 24 finished with value: 0.9130252100840336 and parameters: {'svm_C': 2.7349578198573177, 'svm_gamma': 'scale', 'svm_kernel': 'rbf'}. Best is trial 24 with value: 0.9130252100840336.\n",
            "[I 2024-09-28 16:27:12,311] Trial 25 finished with value: 0.9130252100840336 and parameters: {'svm_C': 2.2464489352175843, 'svm_gamma': 'scale', 'svm_kernel': 'rbf'}. Best is trial 24 with value: 0.9130252100840336.\n",
            "[I 2024-09-28 16:27:12,380] Trial 26 finished with value: 0.9073109243697479 and parameters: {'svm_C': 0.7219880339046477, 'svm_gamma': 'scale', 'svm_kernel': 'rbf'}. Best is trial 24 with value: 0.9130252100840336.\n",
            "[I 2024-09-28 16:27:12,449] Trial 27 finished with value: 0.8781512605042018 and parameters: {'svm_C': 104.32959766180497, 'svm_gamma': 'scale', 'svm_kernel': 'rbf'}. Best is trial 24 with value: 0.9130252100840336.\n",
            "[I 2024-09-28 16:27:12,518] Trial 28 finished with value: 0.9130252100840336 and parameters: {'svm_C': 2.2102821021966372, 'svm_gamma': 'scale', 'svm_kernel': 'rbf'}. Best is trial 24 with value: 0.9130252100840336.\n",
            "[I 2024-09-28 16:27:12,590] Trial 29 finished with value: 0.8636974789915965 and parameters: {'svm_C': 0.18776669557373088, 'svm_gamma': 'scale', 'svm_kernel': 'rbf'}. Best is trial 24 with value: 0.9130252100840336.\n",
            "[I 2024-09-28 16:27:12,656] Trial 30 finished with value: 0.8114285714285714 and parameters: {'svm_C': 1.4246916003192782, 'svm_gamma': 'scale', 'svm_kernel': 'poly'}. Best is trial 24 with value: 0.9130252100840336.\n",
            "[I 2024-09-28 16:27:12,736] Trial 31 finished with value: 0.9130252100840336 and parameters: {'svm_C': 2.8948146898107385, 'svm_gamma': 'scale', 'svm_kernel': 'rbf'}. Best is trial 24 with value: 0.9130252100840336.\n",
            "[I 2024-09-28 16:27:12,802] Trial 32 finished with value: 0.9130252100840336 and parameters: {'svm_C': 2.5914660456727976, 'svm_gamma': 'scale', 'svm_kernel': 'rbf'}. Best is trial 24 with value: 0.9130252100840336.\n",
            "[I 2024-09-28 16:27:12,876] Trial 33 finished with value: 0.8781512605042018 and parameters: {'svm_C': 51.11463709823597, 'svm_gamma': 'scale', 'svm_kernel': 'rbf'}. Best is trial 24 with value: 0.9130252100840336.\n",
            "[I 2024-09-28 16:27:12,954] Trial 34 finished with value: 0.8781512605042018 and parameters: {'svm_C': 493.5465512398874, 'svm_gamma': 'scale', 'svm_kernel': 'rbf'}. Best is trial 24 with value: 0.9130252100840336.\n",
            "[I 2024-09-28 16:27:13,023] Trial 35 finished with value: 0.8781512605042018 and parameters: {'svm_C': 40.18388542096043, 'svm_gamma': 'scale', 'svm_kernel': 'rbf'}. Best is trial 24 with value: 0.9130252100840336.\n",
            "[I 2024-09-28 16:27:13,106] Trial 36 finished with value: 0.8491596638655462 and parameters: {'svm_C': 0.26884242860928115, 'svm_gamma': 'scale', 'svm_kernel': 'sigmoid'}. Best is trial 24 with value: 0.9130252100840336.\n",
            "[I 2024-09-28 16:27:13,172] Trial 37 finished with value: 0.9130252100840336 and parameters: {'svm_C': 2.249280896539844, 'svm_gamma': 'auto', 'svm_kernel': 'rbf'}. Best is trial 24 with value: 0.9130252100840336.\n",
            "[I 2024-09-28 16:27:13,247] Trial 38 finished with value: 0.8057142857142857 and parameters: {'svm_C': 0.10544734104863042, 'svm_gamma': 'scale', 'svm_kernel': 'rbf'}. Best is trial 24 with value: 0.9130252100840336.\n",
            "[I 2024-09-28 16:27:13,310] Trial 39 finished with value: 0.7536134453781512 and parameters: {'svm_C': 288.29647463101054, 'svm_gamma': 'auto', 'svm_kernel': 'sigmoid'}. Best is trial 24 with value: 0.9130252100840336.\n",
            "[I 2024-09-28 16:27:13,378] Trial 40 finished with value: 0.8986554621848739 and parameters: {'svm_C': 0.6076941284266966, 'svm_gamma': 'scale', 'svm_kernel': 'rbf'}. Best is trial 24 with value: 0.9130252100840336.\n",
            "[I 2024-09-28 16:27:13,446] Trial 41 finished with value: 0.9130252100840336 and parameters: {'svm_C': 2.4277376997415137, 'svm_gamma': 'scale', 'svm_kernel': 'rbf'}. Best is trial 24 with value: 0.9130252100840336.\n",
            "[I 2024-09-28 16:27:13,526] Trial 42 finished with value: 0.5988235294117648 and parameters: {'svm_C': 1.0480627872643702e-06, 'svm_gamma': 'scale', 'svm_kernel': 'rbf'}. Best is trial 24 with value: 0.9130252100840336.\n",
            "[I 2024-09-28 16:27:13,593] Trial 43 finished with value: 0.9159663865546218 and parameters: {'svm_C': 3.9717358292734493, 'svm_gamma': 'scale', 'svm_kernel': 'rbf'}. Best is trial 43 with value: 0.9159663865546218.\n",
            "[I 2024-09-28 16:27:13,662] Trial 44 finished with value: 0.857563025210084 and parameters: {'svm_C': 32.92914345078309, 'svm_gamma': 'scale', 'svm_kernel': 'poly'}. Best is trial 43 with value: 0.9159663865546218.\n",
            "[I 2024-09-28 16:27:13,740] Trial 45 finished with value: 0.9159663865546218 and parameters: {'svm_C': 4.066546019578417, 'svm_gamma': 'auto', 'svm_kernel': 'rbf'}. Best is trial 43 with value: 0.9159663865546218.\n",
            "[I 2024-09-28 16:27:13,804] Trial 46 finished with value: 0.7796638655462185 and parameters: {'svm_C': 4.682965360184942, 'svm_gamma': 'auto', 'svm_kernel': 'sigmoid'}. Best is trial 43 with value: 0.9159663865546218.\n",
            "[I 2024-09-28 16:27:13,887] Trial 47 finished with value: 0.5988235294117648 and parameters: {'svm_C': 0.039503748641264366, 'svm_gamma': 'auto', 'svm_kernel': 'rbf'}. Best is trial 43 with value: 0.9159663865546218.\n",
            "[I 2024-09-28 16:27:13,967] Trial 48 finished with value: 0.8781512605042018 and parameters: {'svm_C': 25.092518897101694, 'svm_gamma': 'auto', 'svm_kernel': 'rbf'}. Best is trial 43 with value: 0.9159663865546218.\n",
            "[I 2024-09-28 16:27:14,034] Trial 49 finished with value: 0.7942016806722689 and parameters: {'svm_C': 1.139405950112564, 'svm_gamma': 'auto', 'svm_kernel': 'poly'}. Best is trial 43 with value: 0.9159663865546218.\n",
            "[I 2024-09-28 16:27:14,107] Trial 50 finished with value: 0.8871428571428572 and parameters: {'svm_C': 0.3164822760285831, 'svm_gamma': 'scale', 'svm_kernel': 'rbf'}. Best is trial 43 with value: 0.9159663865546218.\n",
            "[I 2024-09-28 16:27:14,177] Trial 51 finished with value: 0.9159663865546218 and parameters: {'svm_C': 3.48699541580416, 'svm_gamma': 'auto', 'svm_kernel': 'rbf'}. Best is trial 43 with value: 0.9159663865546218.\n",
            "[I 2024-09-28 16:27:14,243] Trial 52 finished with value: 0.904453781512605 and parameters: {'svm_C': 0.5219623476479502, 'svm_gamma': 'auto', 'svm_kernel': 'rbf'}. Best is trial 43 with value: 0.9159663865546218.\n",
            "[I 2024-09-28 16:27:14,316] Trial 53 finished with value: 0.9131092436974789 and parameters: {'svm_C': 5.725861356576, 'svm_gamma': 'auto', 'svm_kernel': 'rbf'}. Best is trial 43 with value: 0.9159663865546218.\n",
            "[I 2024-09-28 16:27:14,385] Trial 54 finished with value: 0.8781512605042018 and parameters: {'svm_C': 20.459092109227228, 'svm_gamma': 'auto', 'svm_kernel': 'rbf'}. Best is trial 43 with value: 0.9159663865546218.\n",
            "[I 2024-09-28 16:27:14,451] Trial 55 finished with value: 0.9101680672268907 and parameters: {'svm_C': 5.88415568550267, 'svm_gamma': 'auto', 'svm_kernel': 'rbf'}. Best is trial 43 with value: 0.9159663865546218.\n",
            "[I 2024-09-28 16:27:14,530] Trial 56 finished with value: 0.8520168067226891 and parameters: {'svm_C': 0.1538755483448945, 'svm_gamma': 'auto', 'svm_kernel': 'rbf'}. Best is trial 43 with value: 0.9159663865546218.\n",
            "[I 2024-09-28 16:27:14,595] Trial 57 finished with value: 0.7536974789915967 and parameters: {'svm_C': 193.02918240786653, 'svm_gamma': 'auto', 'svm_kernel': 'sigmoid'}. Best is trial 43 with value: 0.9159663865546218.\n",
            "[I 2024-09-28 16:27:14,663] Trial 58 finished with value: 0.8781512605042018 and parameters: {'svm_C': 59.14477593986632, 'svm_gamma': 'auto', 'svm_kernel': 'rbf'}. Best is trial 43 with value: 0.9159663865546218.\n",
            "[I 2024-09-28 16:27:14,729] Trial 59 finished with value: 0.91890756302521 and parameters: {'svm_C': 5.031188522375328, 'svm_gamma': 'auto', 'svm_kernel': 'rbf'}. Best is trial 59 with value: 0.91890756302521.\n",
            "[I 2024-09-28 16:27:14,802] Trial 60 finished with value: 0.872016806722689 and parameters: {'svm_C': 14.289923737125354, 'svm_gamma': 'auto', 'svm_kernel': 'poly'}. Best is trial 59 with value: 0.91890756302521.\n",
            "[I 2024-09-28 16:27:14,874] Trial 61 finished with value: 0.9073949579831933 and parameters: {'svm_C': 1.0853538935055518, 'svm_gamma': 'auto', 'svm_kernel': 'rbf'}. Best is trial 59 with value: 0.91890756302521.\n",
            "[I 2024-09-28 16:27:14,950] Trial 62 finished with value: 0.9159663865546218 and parameters: {'svm_C': 4.339610408047949, 'svm_gamma': 'auto', 'svm_kernel': 'rbf'}. Best is trial 59 with value: 0.91890756302521.\n",
            "[I 2024-09-28 16:27:15,016] Trial 63 finished with value: 0.9159663865546218 and parameters: {'svm_C': 4.539826444109574, 'svm_gamma': 'auto', 'svm_kernel': 'rbf'}. Best is trial 59 with value: 0.91890756302521.\n",
            "[I 2024-09-28 16:27:15,083] Trial 64 finished with value: 0.9101680672268907 and parameters: {'svm_C': 5.913542496153237, 'svm_gamma': 'auto', 'svm_kernel': 'rbf'}. Best is trial 59 with value: 0.91890756302521.\n",
            "[I 2024-09-28 16:27:15,431] Trial 65 finished with value: 0.8287394957983194 and parameters: {'svm_C': 11.91180633093119, 'svm_gamma': 'auto', 'svm_kernel': 'linear'}. Best is trial 59 with value: 0.91890756302521.\n",
            "[I 2024-09-28 16:27:15,510] Trial 66 finished with value: 0.5988235294117648 and parameters: {'svm_C': 0.003536516163784906, 'svm_gamma': 'auto', 'svm_kernel': 'rbf'}. Best is trial 59 with value: 0.91890756302521.\n",
            "[I 2024-09-28 16:27:15,577] Trial 67 finished with value: 0.9159663865546218 and parameters: {'svm_C': 4.37805097335811, 'svm_gamma': 'auto', 'svm_kernel': 'rbf'}. Best is trial 59 with value: 0.91890756302521.\n",
            "[I 2024-09-28 16:27:15,647] Trial 68 finished with value: 0.9073109243697479 and parameters: {'svm_C': 1.1969875269609997, 'svm_gamma': 'auto', 'svm_kernel': 'rbf'}. Best is trial 59 with value: 0.91890756302521.\n",
            "[I 2024-09-28 16:27:15,713] Trial 69 finished with value: 0.9159663865546218 and parameters: {'svm_C': 4.266523078759863, 'svm_gamma': 'auto', 'svm_kernel': 'rbf'}. Best is trial 59 with value: 0.91890756302521.\n",
            "[I 2024-09-28 16:27:15,791] Trial 70 finished with value: 0.8781512605042018 and parameters: {'svm_C': 81.56263514606181, 'svm_gamma': 'auto', 'svm_kernel': 'rbf'}. Best is trial 59 with value: 0.91890756302521.\n",
            "[I 2024-09-28 16:27:15,857] Trial 71 finished with value: 0.9159663865546218 and parameters: {'svm_C': 3.805319038673527, 'svm_gamma': 'auto', 'svm_kernel': 'rbf'}. Best is trial 59 with value: 0.91890756302521.\n",
            "[I 2024-09-28 16:27:15,933] Trial 72 finished with value: 0.8781512605042018 and parameters: {'svm_C': 23.746450768616167, 'svm_gamma': 'auto', 'svm_kernel': 'rbf'}. Best is trial 59 with value: 0.91890756302521.\n",
            "[I 2024-09-28 16:27:15,999] Trial 73 finished with value: 0.8926050420168068 and parameters: {'svm_C': 10.154571775402093, 'svm_gamma': 'auto', 'svm_kernel': 'rbf'}. Best is trial 59 with value: 0.91890756302521.\n",
            "[I 2024-09-28 16:27:16,075] Trial 74 finished with value: 0.8957983193277311 and parameters: {'svm_C': 0.454267562592778, 'svm_gamma': 'auto', 'svm_kernel': 'rbf'}. Best is trial 59 with value: 0.91890756302521.\n",
            "[I 2024-09-28 16:27:16,166] Trial 75 finished with value: 0.8432773109243697 and parameters: {'svm_C': 1.4413093243789519, 'svm_gamma': 'auto', 'svm_kernel': 'linear'}. Best is trial 59 with value: 0.91890756302521.\n",
            "[I 2024-09-28 16:27:16,241] Trial 76 finished with value: 0.5988235294117648 and parameters: {'svm_C': 0.00011748493494744965, 'svm_gamma': 'auto', 'svm_kernel': 'rbf'}. Best is trial 59 with value: 0.91890756302521.\n",
            "[I 2024-09-28 16:27:16,308] Trial 77 finished with value: 0.8985714285714286 and parameters: {'svm_C': 7.561740228838663, 'svm_gamma': 'auto', 'svm_kernel': 'rbf'}. Best is trial 59 with value: 0.91890756302521.\n",
            "[I 2024-09-28 16:27:16,387] Trial 78 finished with value: 0.642857142857143 and parameters: {'svm_C': 0.0611219788729708, 'svm_gamma': 'auto', 'svm_kernel': 'rbf'}. Best is trial 59 with value: 0.91890756302521.\n",
            "[I 2024-09-28 16:27:16,453] Trial 79 finished with value: 0.9131092436974789 and parameters: {'svm_C': 0.839083984421393, 'svm_gamma': 'auto', 'svm_kernel': 'rbf'}. Best is trial 59 with value: 0.91890756302521.\n",
            "[I 2024-09-28 16:27:16,519] Trial 80 finished with value: 0.7536974789915967 and parameters: {'svm_C': 186.25127773578504, 'svm_gamma': 'auto', 'svm_kernel': 'sigmoid'}. Best is trial 59 with value: 0.91890756302521.\n",
            "[I 2024-09-28 16:27:16,584] Trial 81 finished with value: 0.9130252100840336 and parameters: {'svm_C': 3.0655359282935954, 'svm_gamma': 'auto', 'svm_kernel': 'rbf'}. Best is trial 59 with value: 0.91890756302521.\n",
            "[I 2024-09-28 16:27:16,650] Trial 82 finished with value: 0.9159663865546218 and parameters: {'svm_C': 3.6486415237241148, 'svm_gamma': 'auto', 'svm_kernel': 'rbf'}. Best is trial 59 with value: 0.91890756302521.\n",
            "[I 2024-09-28 16:27:16,718] Trial 83 finished with value: 0.9159663865546218 and parameters: {'svm_C': 4.111584160076193, 'svm_gamma': 'auto', 'svm_kernel': 'rbf'}. Best is trial 59 with value: 0.91890756302521.\n",
            "[I 2024-09-28 16:27:16,796] Trial 84 finished with value: 0.8868067226890757 and parameters: {'svm_C': 14.516365663363137, 'svm_gamma': 'auto', 'svm_kernel': 'rbf'}. Best is trial 59 with value: 0.91890756302521.\n",
            "[I 2024-09-28 16:27:16,869] Trial 85 finished with value: 0.9188235294117646 and parameters: {'svm_C': 1.7024369736574865, 'svm_gamma': 'auto', 'svm_kernel': 'rbf'}. Best is trial 59 with value: 0.91890756302521.\n",
            "[I 2024-09-28 16:27:16,947] Trial 86 finished with value: 0.9188235294117646 and parameters: {'svm_C': 1.6919176909073135, 'svm_gamma': 'auto', 'svm_kernel': 'rbf'}. Best is trial 59 with value: 0.91890756302521.\n",
            "[I 2024-09-28 16:27:17,014] Trial 87 finished with value: 0.8200840336134453 and parameters: {'svm_C': 1.8282847757376353, 'svm_gamma': 'auto', 'svm_kernel': 'poly'}. Best is trial 59 with value: 0.91890756302521.\n",
            "[I 2024-09-28 16:27:17,083] Trial 88 finished with value: 0.8781512605042018 and parameters: {'svm_C': 28.883821736038744, 'svm_gamma': 'auto', 'svm_kernel': 'rbf'}. Best is trial 59 with value: 0.91890756302521.\n",
            "[I 2024-09-28 16:27:17,165] Trial 89 finished with value: 0.5988235294117648 and parameters: {'svm_C': 0.02405082320201011, 'svm_gamma': 'auto', 'svm_kernel': 'rbf'}. Best is trial 59 with value: 0.91890756302521.\n",
            "[I 2024-09-28 16:27:17,231] Trial 90 finished with value: 0.8434453781512605 and parameters: {'svm_C': 0.31128438222261184, 'svm_gamma': 'auto', 'svm_kernel': 'linear'}. Best is trial 59 with value: 0.91890756302521.\n",
            "[I 2024-09-28 16:27:17,299] Trial 91 finished with value: 0.8926890756302521 and parameters: {'svm_C': 8.673168419381964, 'svm_gamma': 'auto', 'svm_kernel': 'rbf'}. Best is trial 59 with value: 0.91890756302521.\n",
            "[I 2024-09-28 16:27:17,367] Trial 92 finished with value: 0.9158823529411764 and parameters: {'svm_C': 1.7970255619222837, 'svm_gamma': 'auto', 'svm_kernel': 'rbf'}. Best is trial 59 with value: 0.91890756302521.\n",
            "[I 2024-09-28 16:27:17,434] Trial 93 finished with value: 0.904453781512605 and parameters: {'svm_C': 0.8802081162106447, 'svm_gamma': 'auto', 'svm_kernel': 'rbf'}. Best is trial 59 with value: 0.91890756302521.\n",
            "[I 2024-09-28 16:27:17,503] Trial 94 finished with value: 0.8839495798319328 and parameters: {'svm_C': 18.134406364828326, 'svm_gamma': 'auto', 'svm_kernel': 'rbf'}. Best is trial 59 with value: 0.91890756302521.\n",
            "[I 2024-09-28 16:27:17,570] Trial 95 finished with value: 0.9073109243697479 and parameters: {'svm_C': 6.261214310909079, 'svm_gamma': 'auto', 'svm_kernel': 'rbf'}. Best is trial 59 with value: 0.91890756302521.\n",
            "[I 2024-09-28 16:27:17,643] Trial 96 finished with value: 0.8607563025210083 and parameters: {'svm_C': 0.17304147561481512, 'svm_gamma': 'auto', 'svm_kernel': 'rbf'}. Best is trial 59 with value: 0.91890756302521.\n",
            "[I 2024-09-28 16:27:17,710] Trial 97 finished with value: 0.9073949579831933 and parameters: {'svm_C': 0.6233377369546853, 'svm_gamma': 'auto', 'svm_kernel': 'rbf'}. Best is trial 59 with value: 0.91890756302521.\n",
            "[I 2024-09-28 16:27:17,776] Trial 98 finished with value: 0.9159663865546218 and parameters: {'svm_C': 4.035623267806739, 'svm_gamma': 'auto', 'svm_kernel': 'rbf'}. Best is trial 59 with value: 0.91890756302521.\n",
            "[I 2024-09-28 16:27:17,852] Trial 99 finished with value: 0.7564705882352942 and parameters: {'svm_C': 47.94325568993145, 'svm_gamma': 'auto', 'svm_kernel': 'sigmoid'}. Best is trial 59 with value: 0.91890756302521.\n"
          ]
        },
        {
          "output_type": "stream",
          "name": "stdout",
          "text": [
            "Best hyperparameters: {'svm_C': 5.031188522375328, 'svm_gamma': 'auto', 'svm_kernel': 'rbf'}\n",
            "Best accuracy score: 0.9189\n"
          ]
        }
      ]
    },
    {
      "cell_type": "markdown",
      "source": [
        "Usando os hiperparâmetros do melhor modelo encontrado, reproduzimos ele novamente para verificar outras métricas como F1-score, MCC, Sensitivity, Specificity."
      ],
      "metadata": {
        "id": "xJARuYczVHeO"
      }
    },
    {
      "cell_type": "code",
      "source": [
        "scoring = {\n",
        "    'accuracy': make_scorer(accuracy_score),\n",
        "    'f1': make_scorer(f1_score, pos_label='anticancer'),\n",
        "    'mcc': make_scorer(matthews_corrcoef),\n",
        "    'sensitivity': make_scorer(recall_score, pos_label='anticancer'),\n",
        "    'specificity': make_scorer(recall_score, pos_label='non')\n",
        "}\n",
        "\n",
        "best_params = study.best_params\n",
        "\n",
        "best_model = Pipeline([\n",
        "    (\"scaler\", StandardScaler()),\n",
        "    (\"svm\", SVC(C=best_params[\"svm_C\"], kernel=best_params[\"svm_kernel\"], gamma=best_params[\"svm_gamma\"]))\n",
        "])\n",
        "\n",
        "cv_results = cross_validate(best_model, X, y, cv=10, scoring=scoring)\n",
        "\n",
        "print(f\"Accuracy: {cv_results['test_accuracy'].mean():.4f} +- {cv_results['test_accuracy'].std():.4f}\")\n",
        "print(f\"F1-score: {cv_results['test_f1'].mean():.4f} +- {cv_results['test_f1'].std():.4f}\")\n",
        "print(f\"MCC: {cv_results['test_mcc'].mean():.4f} +- {cv_results['test_mcc'].std():.4f}\")\n",
        "print(f\"Sensitivity: {cv_results['test_sensitivity'].mean():.4f} +- {cv_results['test_sensitivity'].std():.4f}\")\n",
        "print(f\"Specificity: {cv_results['test_specificity'].mean():.4f} +- {cv_results['test_specificity'].std():.4f}\")"
      ],
      "metadata": {
        "colab": {
          "base_uri": "https://localhost:8080/"
        },
        "id": "OpTLeg9qhS7r",
        "outputId": "0125dde2-dad1-478e-ccde-8da910714c59"
      },
      "execution_count": 6,
      "outputs": [
        {
          "output_type": "stream",
          "name": "stdout",
          "text": [
            "Accuracy: 0.9189 +- 0.0507\n",
            "F1-score: 0.8955 +- 0.0620\n",
            "MCC: 0.8358 +- 0.1005\n",
            "Sensitivity: 0.8681 +- 0.0818\n",
            "Specificity: 0.9517 +- 0.0710\n"
          ]
        }
      ]
    },
    {
      "cell_type": "markdown",
      "source": [
        "### TF-IDF"
      ],
      "metadata": {
        "id": "OeUWyM2RhTKX"
      }
    },
    {
      "cell_type": "markdown",
      "source": [
        "Aqui utilizamos a abordagem com TF-IDF, considerando cada aminoácido como um token, usando Optuna e SVM novamente."
      ],
      "metadata": {
        "id": "usao3sGqZZTD"
      }
    },
    {
      "cell_type": "code",
      "source": [
        "def amino_acid_tokenizer(sequence):\n",
        "    return list(sequence)\n",
        "\n",
        "def objective(trial):\n",
        "    C = trial.suggest_float(\"svm_C\", 1e-6, 1e3, log=True)\n",
        "    gamma = trial.suggest_categorical(\"svm_gamma\", [\"scale\", \"auto\"])\n",
        "    kernel = trial.suggest_categorical(\"svm_kernel\", [\"linear\", \"poly\", \"rbf\", \"sigmoid\"])\n",
        "\n",
        "    pipeline = Pipeline([\n",
        "        (\"tfidf\", TfidfVectorizer(tokenizer=amino_acid_tokenizer, lowercase=False, token_pattern=None)),\n",
        "        (\"svm\", SVC(C=C, kernel=kernel, gamma=gamma, random_state=0))\n",
        "    ])\n",
        "\n",
        "    scores = cross_val_score(pipeline, X, y, cv=10, scoring=\"accuracy\")\n",
        "\n",
        "    return np.mean(scores)\n",
        "\n",
        "X, y = df_seqs[\"sequence\"].to_numpy(), df_seqs[\"label\"].to_list()\n",
        "\n",
        "sampler = optuna.samplers.TPESampler(seed=0)\n",
        "study = optuna.create_study(direction=\"maximize\", sampler=sampler)\n",
        "study.optimize(objective, n_trials=100)\n",
        "\n",
        "print(\"Best hyperparameters:\", study.best_params)\n",
        "print(f\"Best accuracy score: {study.best_value:.4f}\")"
      ],
      "metadata": {
        "colab": {
          "base_uri": "https://localhost:8080/"
        },
        "id": "29RvvvHyuR69",
        "outputId": "a8730a39-23a6-4e13-e31c-e1bde728aabe"
      },
      "execution_count": 7,
      "outputs": [
        {
          "output_type": "stream",
          "name": "stderr",
          "text": [
            "[I 2024-09-28 16:27:18,010] A new study created in memory with name: no-name-217eac65-6b9b-4a49-8984-13bff8028e9a\n",
            "[I 2024-09-28 16:27:18,180] Trial 0 finished with value: 0.8437815126050421 and parameters: {'svm_C': 0.0869604013210559, 'svm_gamma': 'scale', 'svm_kernel': 'rbf'}. Best is trial 0 with value: 0.8437815126050421.\n",
            "[I 2024-09-28 16:27:18,309] Trial 1 finished with value: 0.6750420168067227 and parameters: {'svm_C': 106.15904599003998, 'svm_gamma': 'scale', 'svm_kernel': 'sigmoid'}. Best is trial 0 with value: 0.8437815126050421.\n",
            "[I 2024-09-28 16:27:18,483] Trial 2 finished with value: 0.5988235294117648 and parameters: {'svm_C': 4.35837428774127e-06, 'svm_gamma': 'scale', 'svm_kernel': 'sigmoid'}. Best is trial 0 with value: 0.8437815126050421.\n",
            "[I 2024-09-28 16:27:18,611] Trial 3 finished with value: 0.8900840336134455 and parameters: {'svm_C': 15.574964948467398, 'svm_gamma': 'auto', 'svm_kernel': 'sigmoid'}. Best is trial 3 with value: 0.8900840336134455.\n",
            "[I 2024-09-28 16:27:18,791] Trial 4 finished with value: 0.765126050420168 and parameters: {'svm_C': 0.04973188214118056, 'svm_gamma': 'scale', 'svm_kernel': 'linear'}. Best is trial 3 with value: 0.8900840336134455.\n",
            "[I 2024-09-28 16:27:19,003] Trial 5 finished with value: 0.8872268907563026 and parameters: {'svm_C': 0.36200908827975287, 'svm_gamma': 'auto', 'svm_kernel': 'linear'}. Best is trial 3 with value: 0.8900840336134455.\n",
            "[I 2024-09-28 16:27:19,182] Trial 6 finished with value: 0.8899159663865547 and parameters: {'svm_C': 1.8996813686210312, 'svm_gamma': 'auto', 'svm_kernel': 'linear'}. Best is trial 3 with value: 0.8900840336134455.\n",
            "[I 2024-09-28 16:27:19,405] Trial 7 finished with value: 0.5988235294117648 and parameters: {'svm_C': 0.0018767090076326175, 'svm_gamma': 'scale', 'svm_kernel': 'linear'}. Best is trial 3 with value: 0.8900840336134455.\n",
            "[I 2024-09-28 16:27:19,635] Trial 8 finished with value: 0.6281512605042018 and parameters: {'svm_C': 0.7550486392036303, 'svm_gamma': 'auto', 'svm_kernel': 'sigmoid'}. Best is trial 3 with value: 0.8900840336134455.\n",
            "[I 2024-09-28 16:27:19,858] Trial 9 finished with value: 0.5988235294117648 and parameters: {'svm_C': 1.7524537381340202e-05, 'svm_gamma': 'auto', 'svm_kernel': 'rbf'}. Best is trial 3 with value: 0.8900840336134455.\n",
            "[I 2024-09-28 16:27:20,113] Trial 10 finished with value: 0.7301680672268909 and parameters: {'svm_C': 444.20042983010404, 'svm_gamma': 'auto', 'svm_kernel': 'poly'}. Best is trial 3 with value: 0.8900840336134455.\n",
            "[I 2024-09-28 16:27:20,347] Trial 11 finished with value: 0.5988235294117648 and parameters: {'svm_C': 4.8874857518808, 'svm_gamma': 'auto', 'svm_kernel': 'poly'}. Best is trial 3 with value: 0.8900840336134455.\n",
            "[I 2024-09-28 16:27:20,545] Trial 12 finished with value: 0.8638655462184873 and parameters: {'svm_C': 26.005118047816183, 'svm_gamma': 'auto', 'svm_kernel': 'linear'}. Best is trial 3 with value: 0.8900840336134455.\n",
            "[I 2024-09-28 16:27:20,794] Trial 13 finished with value: 0.5988235294117648 and parameters: {'svm_C': 0.002578932173593967, 'svm_gamma': 'auto', 'svm_kernel': 'sigmoid'}. Best is trial 3 with value: 0.8900840336134455.\n",
            "[I 2024-09-28 16:27:20,990] Trial 14 finished with value: 0.8726050420168067 and parameters: {'svm_C': 5.8107152042736, 'svm_gamma': 'auto', 'svm_kernel': 'linear'}. Best is trial 3 with value: 0.8900840336134455.\n",
            "[I 2024-09-28 16:27:21,231] Trial 15 finished with value: 0.8638655462184873 and parameters: {'svm_C': 892.5633804897228, 'svm_gamma': 'auto', 'svm_kernel': 'sigmoid'}. Best is trial 3 with value: 0.8900840336134455.\n",
            "[I 2024-09-28 16:27:21,468] Trial 16 finished with value: 0.5988235294117648 and parameters: {'svm_C': 0.0028800441626167803, 'svm_gamma': 'auto', 'svm_kernel': 'rbf'}. Best is trial 3 with value: 0.8900840336134455.\n",
            "[I 2024-09-28 16:27:21,633] Trial 17 finished with value: 0.5988235294117648 and parameters: {'svm_C': 3.0308514241798257, 'svm_gamma': 'auto', 'svm_kernel': 'poly'}. Best is trial 3 with value: 0.8900840336134455.\n",
            "[I 2024-09-28 16:27:21,768] Trial 18 finished with value: 0.8899159663865547 and parameters: {'svm_C': 41.52798696537559, 'svm_gamma': 'auto', 'svm_kernel': 'sigmoid'}. Best is trial 3 with value: 0.8900840336134455.\n",
            "[I 2024-09-28 16:27:21,933] Trial 19 finished with value: 0.5988235294117648 and parameters: {'svm_C': 0.00016144266528282078, 'svm_gamma': 'auto', 'svm_kernel': 'linear'}. Best is trial 3 with value: 0.8900840336134455.\n",
            "[I 2024-09-28 16:27:22,071] Trial 20 finished with value: 0.8957983193277311 and parameters: {'svm_C': 0.47286259734624975, 'svm_gamma': 'auto', 'svm_kernel': 'linear'}. Best is trial 20 with value: 0.8957983193277311.\n",
            "[I 2024-09-28 16:27:22,203] Trial 21 finished with value: 0.8872268907563026 and parameters: {'svm_C': 0.6431123715783287, 'svm_gamma': 'auto', 'svm_kernel': 'linear'}. Best is trial 20 with value: 0.8957983193277311.\n",
            "[I 2024-09-28 16:27:22,363] Trial 22 finished with value: 0.5988235294117648 and parameters: {'svm_C': 0.01993326530420566, 'svm_gamma': 'auto', 'svm_kernel': 'linear'}. Best is trial 20 with value: 0.8957983193277311.\n",
            "[I 2024-09-28 16:27:22,485] Trial 23 finished with value: 0.8610084033613445 and parameters: {'svm_C': 11.948804504793863, 'svm_gamma': 'auto', 'svm_kernel': 'linear'}. Best is trial 20 with value: 0.8957983193277311.\n",
            "[I 2024-09-28 16:27:22,617] Trial 24 finished with value: 0.8900840336134455 and parameters: {'svm_C': 0.4838979304475852, 'svm_gamma': 'auto', 'svm_kernel': 'linear'}. Best is trial 20 with value: 0.8957983193277311.\n",
            "[I 2024-09-28 16:27:22,784] Trial 25 finished with value: 0.5988235294117648 and parameters: {'svm_C': 0.2500532782956548, 'svm_gamma': 'auto', 'svm_kernel': 'sigmoid'}. Best is trial 20 with value: 0.8957983193277311.\n",
            "[I 2024-09-28 16:27:22,965] Trial 26 finished with value: 0.7942857142857143 and parameters: {'svm_C': 0.01171891828147679, 'svm_gamma': 'scale', 'svm_kernel': 'poly'}. Best is trial 20 with value: 0.8957983193277311.\n",
            "[I 2024-09-28 16:27:23,098] Trial 27 finished with value: 0.8610924369747899 and parameters: {'svm_C': 104.32959766180497, 'svm_gamma': 'auto', 'svm_kernel': 'rbf'}. Best is trial 20 with value: 0.8957983193277311.\n",
            "[I 2024-09-28 16:27:23,238] Trial 28 finished with value: 0.8842857142857143 and parameters: {'svm_C': 0.23614271397079697, 'svm_gamma': 'auto', 'svm_kernel': 'linear'}. Best is trial 20 with value: 0.8957983193277311.\n",
            "[I 2024-09-28 16:27:23,410] Trial 29 finished with value: 0.8437815126050421 and parameters: {'svm_C': 0.08775348794377263, 'svm_gamma': 'scale', 'svm_kernel': 'rbf'}. Best is trial 20 with value: 0.8957983193277311.\n",
            "[I 2024-09-28 16:27:23,577] Trial 30 finished with value: 0.8523529411764705 and parameters: {'svm_C': 1.3449978589793086, 'svm_gamma': 'auto', 'svm_kernel': 'sigmoid'}. Best is trial 20 with value: 0.8957983193277311.\n",
            "[I 2024-09-28 16:27:23,696] Trial 31 finished with value: 0.8784033613445377 and parameters: {'svm_C': 3.427211570184271, 'svm_gamma': 'auto', 'svm_kernel': 'linear'}. Best is trial 20 with value: 0.8957983193277311.\n",
            "[I 2024-09-28 16:27:23,843] Trial 32 finished with value: 0.8784873949579832 and parameters: {'svm_C': 0.10721080455207933, 'svm_gamma': 'auto', 'svm_kernel': 'linear'}. Best is trial 20 with value: 0.8957983193277311.\n",
            "[I 2024-09-28 16:27:24,038] Trial 33 finished with value: 0.8580672268907563 and parameters: {'svm_C': 158.20420375396108, 'svm_gamma': 'auto', 'svm_kernel': 'linear'}. Best is trial 20 with value: 0.8957983193277311.\n",
            "[I 2024-09-28 16:27:24,186] Trial 34 finished with value: 0.8581512605042017 and parameters: {'svm_C': 20.50131418562498, 'svm_gamma': 'scale', 'svm_kernel': 'linear'}. Best is trial 20 with value: 0.8957983193277311.\n",
            "[I 2024-09-28 16:27:24,316] Trial 35 finished with value: 0.8928571428571429 and parameters: {'svm_C': 1.7332326221655567, 'svm_gamma': 'auto', 'svm_kernel': 'linear'}. Best is trial 20 with value: 0.8957983193277311.\n",
            "[I 2024-09-28 16:27:24,500] Trial 36 finished with value: 0.5988235294117648 and parameters: {'svm_C': 0.008866014692511828, 'svm_gamma': 'scale', 'svm_kernel': 'sigmoid'}. Best is trial 20 with value: 0.8957983193277311.\n",
            "[I 2024-09-28 16:27:24,662] Trial 37 finished with value: 0.8320168067226892 and parameters: {'svm_C': 0.05772183043101902, 'svm_gamma': 'auto', 'svm_kernel': 'linear'}. Best is trial 20 with value: 0.8957983193277311.\n",
            "[I 2024-09-28 16:27:24,787] Trial 38 finished with value: 0.8814285714285715 and parameters: {'svm_C': 0.851417636118199, 'svm_gamma': 'auto', 'svm_kernel': 'linear'}. Best is trial 20 with value: 0.8957983193277311.\n",
            "[I 2024-09-28 16:27:24,924] Trial 39 finished with value: 0.6954621848739495 and parameters: {'svm_C': 76.8035541823713, 'svm_gamma': 'scale', 'svm_kernel': 'sigmoid'}. Best is trial 20 with value: 0.8957983193277311.\n",
            "[I 2024-09-28 16:27:25,042] Trial 40 finished with value: 0.8668067226890755 and parameters: {'svm_C': 10.286695851499005, 'svm_gamma': 'auto', 'svm_kernel': 'linear'}. Best is trial 20 with value: 0.8957983193277311.\n",
            "[I 2024-09-28 16:27:25,173] Trial 41 finished with value: 0.8928571428571429 and parameters: {'svm_C': 2.073356937267631, 'svm_gamma': 'auto', 'svm_kernel': 'linear'}. Best is trial 20 with value: 0.8957983193277311.\n",
            "[I 2024-09-28 16:27:25,309] Trial 42 finished with value: 0.8872268907563026 and parameters: {'svm_C': 0.2947478342564592, 'svm_gamma': 'auto', 'svm_kernel': 'linear'}. Best is trial 20 with value: 0.8957983193277311.\n",
            "[I 2024-09-28 16:27:25,430] Trial 43 finished with value: 0.8899159663865547 and parameters: {'svm_C': 1.6698779459453381, 'svm_gamma': 'auto', 'svm_kernel': 'linear'}. Best is trial 20 with value: 0.8957983193277311.\n",
            "[I 2024-09-28 16:27:25,562] Trial 44 finished with value: 0.8900840336134455 and parameters: {'svm_C': 0.5674491741465801, 'svm_gamma': 'auto', 'svm_kernel': 'linear'}. Best is trial 20 with value: 0.8957983193277311.\n",
            "[I 2024-09-28 16:27:25,727] Trial 45 finished with value: 0.5988235294117648 and parameters: {'svm_C': 7.182949344085789, 'svm_gamma': 'auto', 'svm_kernel': 'poly'}. Best is trial 20 with value: 0.8957983193277311.\n",
            "[I 2024-09-28 16:27:25,847] Trial 46 finished with value: 0.8928571428571429 and parameters: {'svm_C': 2.075008751874053, 'svm_gamma': 'auto', 'svm_kernel': 'linear'}. Best is trial 20 with value: 0.8957983193277311.\n",
            "[I 2024-09-28 16:27:26,004] Trial 47 finished with value: 0.8870588235294118 and parameters: {'svm_C': 1.8333055125548379, 'svm_gamma': 'auto', 'svm_kernel': 'rbf'}. Best is trial 20 with value: 0.8957983193277311.\n",
            "[I 2024-09-28 16:27:26,178] Trial 48 finished with value: 0.5988235294117648 and parameters: {'svm_C': 1.0111261518626358e-06, 'svm_gamma': 'auto', 'svm_kernel': 'sigmoid'}. Best is trial 20 with value: 0.8957983193277311.\n",
            "[I 2024-09-28 16:27:26,403] Trial 49 finished with value: 0.8580672268907563 and parameters: {'svm_C': 246.87487447243663, 'svm_gamma': 'auto', 'svm_kernel': 'linear'}. Best is trial 20 with value: 0.8957983193277311.\n",
            "[I 2024-09-28 16:27:26,551] Trial 50 finished with value: 0.8638655462184873 and parameters: {'svm_C': 40.91917171604644, 'svm_gamma': 'scale', 'svm_kernel': 'linear'}. Best is trial 20 with value: 0.8957983193277311.\n",
            "[I 2024-09-28 16:27:26,695] Trial 51 finished with value: 0.8870588235294118 and parameters: {'svm_C': 0.18388522357178, 'svm_gamma': 'auto', 'svm_kernel': 'linear'}. Best is trial 20 with value: 0.8957983193277311.\n",
            "[I 2024-09-28 16:27:26,817] Trial 52 finished with value: 0.8696638655462184 and parameters: {'svm_C': 4.448141981872825, 'svm_gamma': 'auto', 'svm_kernel': 'linear'}. Best is trial 20 with value: 0.8957983193277311.\n",
            "[I 2024-09-28 16:27:26,947] Trial 53 finished with value: 0.8638655462184873 and parameters: {'svm_C': 15.995379434456389, 'svm_gamma': 'auto', 'svm_kernel': 'linear'}. Best is trial 20 with value: 0.8957983193277311.\n",
            "[I 2024-09-28 16:27:27,073] Trial 54 finished with value: 0.8871428571428572 and parameters: {'svm_C': 0.9419636791604172, 'svm_gamma': 'auto', 'svm_kernel': 'linear'}. Best is trial 20 with value: 0.8957983193277311.\n",
            "[I 2024-09-28 16:27:27,243] Trial 55 finished with value: 0.5988235294117648 and parameters: {'svm_C': 2.7186039669467013, 'svm_gamma': 'auto', 'svm_kernel': 'poly'}. Best is trial 20 with value: 0.8957983193277311.\n",
            "[I 2024-09-28 16:27:27,416] Trial 56 finished with value: 0.5988235294117648 and parameters: {'svm_C': 0.04052647870675118, 'svm_gamma': 'auto', 'svm_kernel': 'sigmoid'}. Best is trial 20 with value: 0.8957983193277311.\n",
            "[I 2024-09-28 16:27:27,547] Trial 57 finished with value: 0.8929411764705882 and parameters: {'svm_C': 0.5186599031134435, 'svm_gamma': 'auto', 'svm_kernel': 'linear'}. Best is trial 20 with value: 0.8957983193277311.\n",
            "[I 2024-09-28 16:27:27,686] Trial 58 finished with value: 0.8638655462184873 and parameters: {'svm_C': 43.264659724031006, 'svm_gamma': 'auto', 'svm_kernel': 'linear'}. Best is trial 20 with value: 0.8957983193277311.\n",
            "[I 2024-09-28 16:27:27,849] Trial 59 finished with value: 0.5988235294117648 and parameters: {'svm_C': 0.00035543218037201337, 'svm_gamma': 'auto', 'svm_kernel': 'rbf'}. Best is trial 20 with value: 0.8957983193277311.\n",
            "[I 2024-09-28 16:27:28,002] Trial 60 finished with value: 0.89 and parameters: {'svm_C': 0.14075060518973756, 'svm_gamma': 'auto', 'svm_kernel': 'linear'}. Best is trial 20 with value: 0.8957983193277311.\n",
            "[I 2024-09-28 16:27:28,129] Trial 61 finished with value: 0.8900840336134455 and parameters: {'svm_C': 0.6109656770837991, 'svm_gamma': 'auto', 'svm_kernel': 'linear'}. Best is trial 20 with value: 0.8957983193277311.\n",
            "[I 2024-09-28 16:27:28,273] Trial 62 finished with value: 0.8872268907563026 and parameters: {'svm_C': 0.39162119076223423, 'svm_gamma': 'auto', 'svm_kernel': 'linear'}. Best is trial 20 with value: 0.8957983193277311.\n",
            "[I 2024-09-28 16:27:28,393] Trial 63 finished with value: 0.8696638655462184 and parameters: {'svm_C': 9.118356462644075, 'svm_gamma': 'auto', 'svm_kernel': 'linear'}. Best is trial 20 with value: 0.8957983193277311.\n",
            "[I 2024-09-28 16:27:28,516] Trial 64 finished with value: 0.89 and parameters: {'svm_C': 1.4922175938177307, 'svm_gamma': 'auto', 'svm_kernel': 'linear'}. Best is trial 20 with value: 0.8957983193277311.\n",
            "[I 2024-09-28 16:27:28,684] Trial 65 finished with value: 0.5988235294117648 and parameters: {'svm_C': 0.025027738183941557, 'svm_gamma': 'auto', 'svm_kernel': 'sigmoid'}. Best is trial 20 with value: 0.8957983193277311.\n",
            "[I 2024-09-28 16:27:28,802] Trial 66 finished with value: 0.8696638655462184 and parameters: {'svm_C': 4.606927126056375, 'svm_gamma': 'auto', 'svm_kernel': 'linear'}. Best is trial 20 with value: 0.8957983193277311.\n",
            "[I 2024-09-28 16:27:28,968] Trial 67 finished with value: 0.5988235294117648 and parameters: {'svm_C': 0.4068707234702952, 'svm_gamma': 'auto', 'svm_kernel': 'poly'}. Best is trial 20 with value: 0.8957983193277311.\n",
            "[I 2024-09-28 16:27:29,089] Trial 68 finished with value: 0.8928571428571429 and parameters: {'svm_C': 2.529241883417767, 'svm_gamma': 'auto', 'svm_kernel': 'linear'}. Best is trial 20 with value: 0.8957983193277311.\n",
            "[I 2024-09-28 16:27:29,223] Trial 69 finished with value: 0.8928571428571429 and parameters: {'svm_C': 2.372508742828675, 'svm_gamma': 'scale', 'svm_kernel': 'linear'}. Best is trial 20 with value: 0.8957983193277311.\n",
            "[I 2024-09-28 16:27:29,373] Trial 70 finished with value: 0.8871428571428572 and parameters: {'svm_C': 1.0078080365321374, 'svm_gamma': 'scale', 'svm_kernel': 'linear'}. Best is trial 20 with value: 0.8957983193277311.\n",
            "[I 2024-09-28 16:27:29,503] Trial 71 finished with value: 0.89 and parameters: {'svm_C': 2.5797119214692548, 'svm_gamma': 'scale', 'svm_kernel': 'linear'}. Best is trial 20 with value: 0.8957983193277311.\n",
            "[I 2024-09-28 16:27:29,643] Trial 72 finished with value: 0.8638655462184873 and parameters: {'svm_C': 25.506030288438076, 'svm_gamma': 'scale', 'svm_kernel': 'linear'}. Best is trial 20 with value: 0.8957983193277311.\n",
            "[I 2024-09-28 16:27:29,769] Trial 73 finished with value: 0.8696638655462184 and parameters: {'svm_C': 4.048672105466022, 'svm_gamma': 'scale', 'svm_kernel': 'linear'}. Best is trial 20 with value: 0.8957983193277311.\n",
            "[I 2024-09-28 16:27:29,906] Trial 74 finished with value: 0.7126890756302521 and parameters: {'svm_C': 7.554907949146858, 'svm_gamma': 'scale', 'svm_kernel': 'sigmoid'}. Best is trial 20 with value: 0.8957983193277311.\n",
            "[I 2024-09-28 16:27:30,030] Trial 75 finished with value: 0.8610084033613445 and parameters: {'svm_C': 14.164142361468244, 'svm_gamma': 'auto', 'svm_kernel': 'linear'}. Best is trial 20 with value: 0.8957983193277311.\n",
            "[I 2024-09-28 16:27:30,152] Trial 76 finished with value: 0.8928571428571429 and parameters: {'svm_C': 2.111596969231555, 'svm_gamma': 'auto', 'svm_kernel': 'linear'}. Best is trial 20 with value: 0.8957983193277311.\n",
            "[I 2024-09-28 16:27:30,321] Trial 77 finished with value: 0.8726890756302522 and parameters: {'svm_C': 0.07514875337165497, 'svm_gamma': 'scale', 'svm_kernel': 'linear'}. Best is trial 20 with value: 0.8957983193277311.\n",
            "[I 2024-09-28 16:27:30,441] Trial 78 finished with value: 0.8928571428571429 and parameters: {'svm_C': 2.252962966466046, 'svm_gamma': 'auto', 'svm_kernel': 'linear'}. Best is trial 20 with value: 0.8957983193277311.\n",
            "[I 2024-09-28 16:27:30,570] Trial 79 finished with value: 0.8871428571428572 and parameters: {'svm_C': 1.0981227804643405, 'svm_gamma': 'auto', 'svm_kernel': 'linear'}. Best is trial 20 with value: 0.8957983193277311.\n",
            "[I 2024-09-28 16:27:30,712] Trial 80 finished with value: 0.8870588235294118 and parameters: {'svm_C': 0.1735977639111681, 'svm_gamma': 'auto', 'svm_kernel': 'linear'}. Best is trial 20 with value: 0.8957983193277311.\n",
            "[I 2024-09-28 16:27:30,831] Trial 81 finished with value: 0.8928571428571429 and parameters: {'svm_C': 2.510729278997807, 'svm_gamma': 'auto', 'svm_kernel': 'linear'}. Best is trial 20 with value: 0.8957983193277311.\n",
            "[I 2024-09-28 16:27:30,963] Trial 82 finished with value: 0.8928571428571429 and parameters: {'svm_C': 1.5806519389692195, 'svm_gamma': 'auto', 'svm_kernel': 'linear'}. Best is trial 20 with value: 0.8957983193277311.\n",
            "[I 2024-09-28 16:27:31,087] Trial 83 finished with value: 0.8725210084033612 and parameters: {'svm_C': 6.665807795217306, 'svm_gamma': 'auto', 'svm_kernel': 'linear'}. Best is trial 20 with value: 0.8957983193277311.\n",
            "[I 2024-09-28 16:27:31,218] Trial 84 finished with value: 0.8900840336134455 and parameters: {'svm_C': 0.6967488085247379, 'svm_gamma': 'auto', 'svm_kernel': 'linear'}. Best is trial 20 with value: 0.8957983193277311.\n",
            "[I 2024-09-28 16:27:31,372] Trial 85 finished with value: 0.8813445378151261 and parameters: {'svm_C': 2.1730748615248228, 'svm_gamma': 'auto', 'svm_kernel': 'rbf'}. Best is trial 20 with value: 0.8957983193277311.\n",
            "[I 2024-09-28 16:27:31,543] Trial 86 finished with value: 0.8843697478991597 and parameters: {'svm_C': 0.32466082748929126, 'svm_gamma': 'auto', 'svm_kernel': 'linear'}. Best is trial 20 with value: 0.8957983193277311.\n",
            "[I 2024-09-28 16:27:31,724] Trial 87 finished with value: 0.8725210084033612 and parameters: {'svm_C': 3.8807242576464747, 'svm_gamma': 'auto', 'svm_kernel': 'linear'}. Best is trial 20 with value: 0.8957983193277311.\n",
            "[I 2024-09-28 16:27:31,916] Trial 88 finished with value: 0.8871428571428572 and parameters: {'svm_C': 0.9341142382498273, 'svm_gamma': 'scale', 'svm_kernel': 'linear'}. Best is trial 20 with value: 0.8957983193277311.\n",
            "[I 2024-09-28 16:27:32,109] Trial 89 finished with value: 0.8929411764705882 and parameters: {'svm_C': 0.5053853026137813, 'svm_gamma': 'auto', 'svm_kernel': 'linear'}. Best is trial 20 with value: 0.8957983193277311.\n",
            "[I 2024-09-28 16:27:32,334] Trial 90 finished with value: 0.8842857142857143 and parameters: {'svm_C': 0.11618894091920218, 'svm_gamma': 'auto', 'svm_kernel': 'linear'}. Best is trial 20 with value: 0.8957983193277311.\n",
            "[I 2024-09-28 16:27:32,520] Trial 91 finished with value: 0.8900840336134455 and parameters: {'svm_C': 0.6139416716678855, 'svm_gamma': 'auto', 'svm_kernel': 'linear'}. Best is trial 20 with value: 0.8957983193277311.\n",
            "[I 2024-09-28 16:27:32,716] Trial 92 finished with value: 0.8872268907563026 and parameters: {'svm_C': 0.2479340374996562, 'svm_gamma': 'auto', 'svm_kernel': 'linear'}. Best is trial 20 with value: 0.8957983193277311.\n",
            "[I 2024-09-28 16:27:32,906] Trial 93 finished with value: 0.8928571428571429 and parameters: {'svm_C': 1.450098124071993, 'svm_gamma': 'auto', 'svm_kernel': 'linear'}. Best is trial 20 with value: 0.8957983193277311.\n",
            "[I 2024-09-28 16:27:33,097] Trial 94 finished with value: 0.8900840336134455 and parameters: {'svm_C': 0.44047354889441553, 'svm_gamma': 'auto', 'svm_kernel': 'linear'}. Best is trial 20 with value: 0.8957983193277311.\n",
            "[I 2024-09-28 16:27:33,349] Trial 95 finished with value: 0.5988235294117648 and parameters: {'svm_C': 6.279813562112122, 'svm_gamma': 'auto', 'svm_kernel': 'poly'}. Best is trial 20 with value: 0.8957983193277311.\n",
            "[I 2024-09-28 16:27:33,536] Trial 96 finished with value: 0.8784033613445377 and parameters: {'svm_C': 3.130034702686479, 'svm_gamma': 'auto', 'svm_kernel': 'linear'}. Best is trial 20 with value: 0.8957983193277311.\n",
            "[I 2024-09-28 16:27:33,724] Trial 97 finished with value: 0.8928571428571429 and parameters: {'svm_C': 2.1772356457153013, 'svm_gamma': 'auto', 'svm_kernel': 'linear'}. Best is trial 20 with value: 0.8957983193277311.\n",
            "[I 2024-09-28 16:27:33,927] Trial 98 finished with value: 0.8639495798319328 and parameters: {'svm_C': 10.480919126131873, 'svm_gamma': 'auto', 'svm_kernel': 'linear'}. Best is trial 20 with value: 0.8957983193277311.\n",
            "[I 2024-09-28 16:27:34,145] Trial 99 finished with value: 0.8784873949579832 and parameters: {'svm_C': 1.0157381304242035, 'svm_gamma': 'auto', 'svm_kernel': 'rbf'}. Best is trial 20 with value: 0.8957983193277311.\n"
          ]
        },
        {
          "output_type": "stream",
          "name": "stdout",
          "text": [
            "Best hyperparameters: {'svm_C': 0.47286259734624975, 'svm_gamma': 'auto', 'svm_kernel': 'linear'}\n",
            "Best accuracy score: 0.8958\n"
          ]
        }
      ]
    },
    {
      "cell_type": "markdown",
      "source": [
        "Usando os hiperparâmetros do melhor modelo encontrado, reproduzimos ele novamente para verificar outras métricas como F1-score, MCC, Sensitivity, Specificity."
      ],
      "metadata": {
        "id": "7MOB6QP8ZjCr"
      }
    },
    {
      "cell_type": "code",
      "source": [
        "scoring = {\n",
        "    'accuracy': make_scorer(accuracy_score),\n",
        "    'f1': make_scorer(f1_score, pos_label='anticancer'),\n",
        "    'mcc': make_scorer(matthews_corrcoef),\n",
        "    'sensitivity': make_scorer(recall_score, pos_label='anticancer'),\n",
        "    'specificity': make_scorer(recall_score, pos_label='non')\n",
        "}\n",
        "\n",
        "best_params = study.best_params\n",
        "\n",
        "best_model = Pipeline([\n",
        "    (\"tfidf\", TfidfVectorizer(tokenizer=amino_acid_tokenizer, lowercase=False, token_pattern=None)),\n",
        "    (\"svm\", SVC(C=best_params[\"svm_C\"], kernel=best_params[\"svm_kernel\"], gamma=best_params[\"svm_gamma\"]))\n",
        "])\n",
        "\n",
        "cv_results = cross_validate(best_model, X, y, cv=10, scoring=scoring)\n",
        "\n",
        "print(f\"Accuracy: {cv_results['test_accuracy'].mean():.4f} +- {cv_results['test_accuracy'].std():.4f}\")\n",
        "print(f\"F1-score: {cv_results['test_f1'].mean():.4f} +- {cv_results['test_f1'].std():.4f}\")\n",
        "print(f\"MCC: {cv_results['test_mcc'].mean():.4f} +- {cv_results['test_mcc'].std():.4f}\")\n",
        "print(f\"Sensitivity: {cv_results['test_sensitivity'].mean():.4f} +- {cv_results['test_sensitivity'].std():.4f}\")\n",
        "print(f\"Specificity: {cv_results['test_specificity'].mean():.4f} +- {cv_results['test_specificity'].std():.4f}\")"
      ],
      "metadata": {
        "colab": {
          "base_uri": "https://localhost:8080/"
        },
        "id": "wkL1tEqjkwuY",
        "outputId": "0b9f57b6-481c-4981-eeac-caec1a4bca59"
      },
      "execution_count": 8,
      "outputs": [
        {
          "output_type": "stream",
          "name": "stdout",
          "text": [
            "Accuracy: 0.8958 +- 0.0495\n",
            "F1-score: 0.8583 +- 0.0742\n",
            "MCC: 0.7867 +- 0.1010\n",
            "Sensitivity: 0.8121 +- 0.1160\n",
            "Specificity: 0.9517 +- 0.0426\n"
          ]
        }
      ]
    },
    {
      "cell_type": "markdown",
      "source": [
        "### Embeddings"
      ],
      "metadata": {
        "id": "4PiZluUllFQv"
      }
    },
    {
      "cell_type": "markdown",
      "source": [
        "Aqui vamos utilizar da abordagem com embeddings. Para isso vamos utilizar de um modelo de linguagem para proteínas pré-treinado 2,1 bilhões de proteínas, o ProtT5-XL-U50. O modelo utiliza da arquitetura Transformer."
      ],
      "metadata": {
        "id": "OXZDO-zYZ-Tm"
      }
    },
    {
      "cell_type": "code",
      "source": [
        "tokenizer = T5Tokenizer.from_pretrained(\"Rostlab/prot_t5_xl_half_uniref50-enc\", do_lower_case=False)\n",
        "\n",
        "model = T5EncoderModel.from_pretrained(\"Rostlab/prot_t5_xl_half_uniref50-enc\")\n",
        "\n",
        "device = torch.device('cuda:0' if torch.cuda.is_available() else 'cpu')\n",
        "\n",
        "model = model.to(device)\n",
        "model = model.eval()\n",
        "\n",
        "def get_embeddings(sequence):\n",
        "    sequences = [\" \".join(list(re.sub(r\"[UZOB]\", \"X\", sequence)))]\n",
        "\n",
        "    ids = tokenizer.batch_encode_plus(sequences, add_special_tokens=True, pad_to_max_length=True)\n",
        "    input_ids = torch.tensor(ids['input_ids']).to(device)\n",
        "    attention_mask = torch.tensor(ids['attention_mask']).to(device)\n",
        "\n",
        "    with torch.no_grad():\n",
        "        embedding = model(input_ids=input_ids, attention_mask=attention_mask)[0]\n",
        "\n",
        "    embedding = embedding.cpu().numpy()\n",
        "\n",
        "    seq_len = (attention_mask[0] == 1).sum()\n",
        "    seq_emd = embedding[0][:seq_len-1]\n",
        "\n",
        "    avg_pool = seq_emd.mean(axis=0)\n",
        "\n",
        "    dict_embeddings = {f\"embedding_{i}\": embed for i, embed in enumerate(avg_pool)}\n",
        "\n",
        "    return dict_embeddings\n",
        "\n",
        "df_seqs_embeddings = df_seqs.with_columns(pl.col(\"sequence\").map_elements(lambda x: get_embeddings(x)).alias(\"embeddings\")).unnest(\"embeddings\")\n",
        "df_seqs_embeddings"
      ],
      "metadata": {
        "colab": {
          "base_uri": "https://localhost:8080/",
          "height": 810
        },
        "id": "HoQ75wAm7Veb",
        "outputId": "724eb3fc-15c9-4f82-8de8-697a107ad052"
      },
      "execution_count": 9,
      "outputs": [
        {
          "output_type": "stream",
          "name": "stderr",
          "text": [
            "/usr/local/lib/python3.10/dist-packages/huggingface_hub/utils/_token.py:89: UserWarning: \n",
            "The secret `HF_TOKEN` does not exist in your Colab secrets.\n",
            "To authenticate with the Hugging Face Hub, create a token in your settings tab (https://huggingface.co/settings/tokens), set it as secret in your Google Colab and restart your session.\n",
            "You will be able to reuse this secret in all of your notebooks.\n",
            "Please note that authentication is recommended but still optional to access public models or datasets.\n",
            "  warnings.warn(\n",
            "You are using the default legacy behaviour of the <class 'transformers.models.t5.tokenization_t5.T5Tokenizer'>. This is expected, and simply means that the `legacy` (previous) behavior will be used so nothing changes for you. If you want to use the new behaviour, set `legacy=False`. This should only be set if you understand what it means, and thoroughly read the reason why this was added as explained in https://github.com/huggingface/transformers/pull/24565\n",
            "/usr/local/lib/python3.10/dist-packages/transformers/tokenization_utils_base.py:1601: FutureWarning: `clean_up_tokenization_spaces` was not set. It will be set to `True` by default. This behavior will be depracted in transformers v4.45, and will be then set to `False` by default. For more details check this issue: https://github.com/huggingface/transformers/issues/31884\n",
            "  warnings.warn(\n",
            "sys:1: MapWithoutReturnDtypeWarning: Calling `map_elements` without specifying `return_dtype` can lead to unpredictable results. Specify `return_dtype` to silence this warning.\n",
            "/usr/local/lib/python3.10/dist-packages/transformers/tokenization_utils_base.py:2870: FutureWarning: The `pad_to_max_length` argument is deprecated and will be removed in a future version, use `padding=True` or `padding='longest'` to pad to the longest sequence in the batch, or use `padding='max_length'` to pad to a max length. In this case, you can give a specific length with `max_length` (e.g. `max_length=45`) or leave max_length to None to pad to the maximal input size of the model (e.g. 512 for Bert).\n",
            "  warnings.warn(\n",
            "sys:1: MapWithoutReturnDtypeWarning: Calling `map_elements` without specifying `return_dtype` can lead to unpredictable results. Specify `return_dtype` to silence this warning.\n",
            "/usr/local/lib/python3.10/dist-packages/transformers/tokenization_utils_base.py:2870: FutureWarning: The `pad_to_max_length` argument is deprecated and will be removed in a future version, use `padding=True` or `padding='longest'` to pad to the longest sequence in the batch, or use `padding='max_length'` to pad to a max length. In this case, you can give a specific length with `max_length` (e.g. `max_length=45`) or leave max_length to None to pad to the maximal input size of the model (e.g. 512 for Bert).\n",
            "  warnings.warn(\n"
          ]
        },
        {
          "output_type": "execute_result",
          "data": {
            "text/plain": [
              "shape: (344, 1_027)\n",
              "┌───────────┬───────────┬───────────┬───────────┬───┬───────────┬───────────┬───────────┬──────────┐\n",
              "│ header    ┆ sequence  ┆ label     ┆ embedding ┆ … ┆ embedding ┆ embedding ┆ embedding ┆ embeddin │\n",
              "│ ---       ┆ ---       ┆ ---       ┆ _0        ┆   ┆ _1020     ┆ _1021     ┆ _1022     ┆ g_1023   │\n",
              "│ str       ┆ str       ┆ str       ┆ ---       ┆   ┆ ---       ┆ ---       ┆ ---       ┆ ---      │\n",
              "│           ┆           ┆           ┆ f64       ┆   ┆ f64       ┆ f64       ┆ f64       ┆ f64      │\n",
              "╞═══════════╪═══════════╪═══════════╪═══════════╪═══╪═══════════╪═══════════╪═══════════╪══════════╡\n",
              "│ ACP_1     ┆ GLWSKIKEV ┆ anticance ┆ -0.019323 ┆ … ┆ -0.027492 ┆ 0.022106  ┆ -0.027702 ┆ -0.01458 │\n",
              "│           ┆ GKEAAKAAA ┆ r         ┆           ┆   ┆           ┆           ┆           ┆ 3        │\n",
              "│           ┆ KAAGKAALG ┆           ┆           ┆   ┆           ┆           ┆           ┆          │\n",
              "│           ┆ AVS…      ┆           ┆           ┆   ┆           ┆           ┆           ┆          │\n",
              "│ ACP_2     ┆ GLFDIIKKI ┆ anticance ┆ 0.026106  ┆ … ┆ 0.072851  ┆ 0.073174  ┆ -0.027636 ┆ -0.08174 │\n",
              "│           ┆ AESI      ┆ r         ┆           ┆   ┆           ┆           ┆           ┆ 5        │\n",
              "│ ACP_3     ┆ GLLDIVKKV ┆ anticance ┆ -0.04655  ┆ … ┆ -0.014502 ┆ 0.052977  ┆ -0.020669 ┆ -0.00018 │\n",
              "│           ┆ VGAFGSL   ┆ r         ┆           ┆   ┆           ┆           ┆           ┆ 6        │\n",
              "│ ACP_4     ┆ GLFDIVKKV ┆ anticance ┆ -0.050253 ┆ … ┆ -0.015229 ┆ 0.052926  ┆ -0.026794 ┆ 0.029529 │\n",
              "│           ┆ VGALGSL   ┆ r         ┆           ┆   ┆           ┆           ┆           ┆          │\n",
              "│ ACP_5     ┆ GLFDIVKKV ┆ anticance ┆ -0.023627 ┆ … ┆ -0.011678 ┆ 0.044418  ┆ -0.009174 ┆ 0.045671 │\n",
              "│           ┆ VGTLAGL   ┆ r         ┆           ┆   ┆           ┆           ┆           ┆          │\n",
              "│ …         ┆ …         ┆ …         ┆ …         ┆ … ┆ …         ┆ …         ┆ …         ┆ …        │\n",
              "│ non-ACP_2 ┆ TDTPLDLAI ┆ non       ┆ 0.050742  ┆ … ┆ -0.049747 ┆ 0.011665  ┆ 0.044846  ┆ -0.03115 │\n",
              "│ 02        ┆ QQLQNLAIE ┆           ┆           ┆   ┆           ┆           ┆           ┆ 6        │\n",
              "│           ┆ SIPDPPTNT ┆           ┆           ┆   ┆           ┆           ┆           ┆          │\n",
              "│           ┆ PEA…      ┆           ┆           ┆   ┆           ┆           ┆           ┆          │\n",
              "│ non-ACP_2 ┆ LRLIHFLHQ ┆ non       ┆ 0.02803   ┆ … ┆ -0.058679 ┆ 0.115736  ┆ -0.009271 ┆ 0.028007 │\n",
              "│ 03        ┆ TTDPYPQGP ┆           ┆           ┆   ┆           ┆           ┆           ┆          │\n",
              "│           ┆ GTANQRRRR ┆           ┆           ┆   ┆           ┆           ┆           ┆          │\n",
              "│ non-ACP_2 ┆ PVDTPLDLA ┆ non       ┆ 0.032758  ┆ … ┆ -0.039617 ┆ 0.016245  ┆ 0.069241  ┆ -0.02676 │\n",
              "│ 04        ┆ IQQLQGLAI ┆           ┆           ┆   ┆           ┆           ┆           ┆ 4        │\n",
              "│           ┆ EELPDPPTS ┆           ┆           ┆   ┆           ┆           ┆           ┆          │\n",
              "│           ┆ APE…      ┆           ┆           ┆   ┆           ┆           ┆           ┆          │\n",
              "│ non-ACP_2 ┆ NTNVTPHLL ┆ non       ┆ 0.055526  ┆ … ┆ 0.011945  ┆ -0.016161 ┆ -0.013265 ┆ 0.046174 │\n",
              "│ 05        ┆ AGMRLIAVQ ┆           ┆           ┆   ┆           ┆           ┆           ┆          │\n",
              "│           ┆ QPEDPLRVL ┆           ┆           ┆   ┆           ┆           ┆           ┆          │\n",
              "│ non-ACP_2 ┆ QTLVHNGGR ┆ non       ┆ 0.041004  ┆ … ┆ -0.023398 ┆ 0.017555  ┆ -0.034933 ┆ -0.04800 │\n",
              "│ 06        ┆ LPPDLQLSA ┆           ┆           ┆   ┆           ┆           ┆           ┆ 9        │\n",
              "│           ┆ EDSSSTPS  ┆           ┆           ┆   ┆           ┆           ┆           ┆          │\n",
              "└───────────┴───────────┴───────────┴───────────┴───┴───────────┴───────────┴───────────┴──────────┘"
            ],
            "text/html": [
              "<div><style>\n",
              ".dataframe > thead > tr,\n",
              ".dataframe > tbody > tr {\n",
              "  text-align: right;\n",
              "  white-space: pre-wrap;\n",
              "}\n",
              "</style>\n",
              "<small>shape: (344, 1_027)</small><table border=\"1\" class=\"dataframe\"><thead><tr><th>header</th><th>sequence</th><th>label</th><th>embedding_0</th><th>embedding_1</th><th>embedding_2</th><th>embedding_3</th><th>embedding_4</th><th>embedding_5</th><th>embedding_6</th><th>embedding_7</th><th>embedding_8</th><th>embedding_9</th><th>embedding_10</th><th>embedding_11</th><th>embedding_12</th><th>embedding_13</th><th>embedding_14</th><th>embedding_15</th><th>embedding_16</th><th>embedding_17</th><th>embedding_18</th><th>embedding_19</th><th>embedding_20</th><th>embedding_21</th><th>embedding_22</th><th>embedding_23</th><th>embedding_24</th><th>embedding_25</th><th>embedding_26</th><th>embedding_27</th><th>embedding_28</th><th>embedding_29</th><th>embedding_30</th><th>embedding_31</th><th>embedding_32</th><th>embedding_33</th><th>&hellip;</th><th>embedding_987</th><th>embedding_988</th><th>embedding_989</th><th>embedding_990</th><th>embedding_991</th><th>embedding_992</th><th>embedding_993</th><th>embedding_994</th><th>embedding_995</th><th>embedding_996</th><th>embedding_997</th><th>embedding_998</th><th>embedding_999</th><th>embedding_1000</th><th>embedding_1001</th><th>embedding_1002</th><th>embedding_1003</th><th>embedding_1004</th><th>embedding_1005</th><th>embedding_1006</th><th>embedding_1007</th><th>embedding_1008</th><th>embedding_1009</th><th>embedding_1010</th><th>embedding_1011</th><th>embedding_1012</th><th>embedding_1013</th><th>embedding_1014</th><th>embedding_1015</th><th>embedding_1016</th><th>embedding_1017</th><th>embedding_1018</th><th>embedding_1019</th><th>embedding_1020</th><th>embedding_1021</th><th>embedding_1022</th><th>embedding_1023</th></tr><tr><td>str</td><td>str</td><td>str</td><td>f64</td><td>f64</td><td>f64</td><td>f64</td><td>f64</td><td>f64</td><td>f64</td><td>f64</td><td>f64</td><td>f64</td><td>f64</td><td>f64</td><td>f64</td><td>f64</td><td>f64</td><td>f64</td><td>f64</td><td>f64</td><td>f64</td><td>f64</td><td>f64</td><td>f64</td><td>f64</td><td>f64</td><td>f64</td><td>f64</td><td>f64</td><td>f64</td><td>f64</td><td>f64</td><td>f64</td><td>f64</td><td>f64</td><td>f64</td><td>&hellip;</td><td>f64</td><td>f64</td><td>f64</td><td>f64</td><td>f64</td><td>f64</td><td>f64</td><td>f64</td><td>f64</td><td>f64</td><td>f64</td><td>f64</td><td>f64</td><td>f64</td><td>f64</td><td>f64</td><td>f64</td><td>f64</td><td>f64</td><td>f64</td><td>f64</td><td>f64</td><td>f64</td><td>f64</td><td>f64</td><td>f64</td><td>f64</td><td>f64</td><td>f64</td><td>f64</td><td>f64</td><td>f64</td><td>f64</td><td>f64</td><td>f64</td><td>f64</td><td>f64</td></tr></thead><tbody><tr><td>&quot;ACP_1&quot;</td><td>&quot;GLWSKIKEVGKEAAKAAAKAAGKAALGAVS…</td><td>&quot;anticancer&quot;</td><td>-0.019323</td><td>-0.002599</td><td>0.130414</td><td>-0.075928</td><td>0.001824</td><td>-0.20331</td><td>0.021721</td><td>-0.094691</td><td>-0.109846</td><td>-0.034279</td><td>-0.065482</td><td>-0.020153</td><td>-0.160478</td><td>-0.091489</td><td>0.064163</td><td>0.023135</td><td>0.098003</td><td>-0.030922</td><td>0.03341</td><td>-0.096055</td><td>-0.119683</td><td>0.048285</td><td>-0.073786</td><td>0.065923</td><td>0.117198</td><td>-0.054174</td><td>-0.102073</td><td>-0.11074</td><td>-0.150871</td><td>0.002395</td><td>-0.020469</td><td>-0.00795</td><td>-0.145422</td><td>-0.076635</td><td>&hellip;</td><td>0.106716</td><td>-0.073939</td><td>-0.002574</td><td>-0.040431</td><td>-0.061274</td><td>0.082331</td><td>-0.016459</td><td>-0.089693</td><td>0.027867</td><td>-0.041128</td><td>-0.088048</td><td>-0.152166</td><td>0.062855</td><td>0.010831</td><td>0.01739</td><td>0.043263</td><td>0.088654</td><td>0.130139</td><td>0.076391</td><td>0.0215</td><td>-0.083522</td><td>0.045705</td><td>-0.016612</td><td>0.074871</td><td>-0.106587</td><td>0.117661</td><td>-0.073917</td><td>-0.10261</td><td>0.076547</td><td>0.126747</td><td>-0.055616</td><td>-0.105252</td><td>-0.096375</td><td>-0.027492</td><td>0.022106</td><td>-0.027702</td><td>-0.014583</td></tr><tr><td>&quot;ACP_2&quot;</td><td>&quot;GLFDIIKKIAESI&quot;</td><td>&quot;anticancer&quot;</td><td>0.026106</td><td>-0.047088</td><td>0.055684</td><td>-0.054381</td><td>0.095308</td><td>-0.104832</td><td>-0.059624</td><td>-0.166802</td><td>-0.064655</td><td>0.000479</td><td>0.021701</td><td>-0.006763</td><td>-0.272851</td><td>0.044901</td><td>0.057929</td><td>0.210747</td><td>0.189701</td><td>-0.035808</td><td>0.030314</td><td>-0.137399</td><td>-0.149178</td><td>0.163169</td><td>-0.037329</td><td>-0.028955</td><td>0.13306</td><td>-0.084929</td><td>-0.093998</td><td>-0.047631</td><td>-0.166771</td><td>-0.099899</td><td>0.146678</td><td>-0.03236</td><td>-0.170556</td><td>0.06241</td><td>&hellip;</td><td>0.083569</td><td>0.011731</td><td>0.025899</td><td>0.018802</td><td>-0.103451</td><td>0.117415</td><td>0.01803</td><td>-0.060621</td><td>-0.091746</td><td>-0.153904</td><td>-0.122273</td><td>-0.318796</td><td>-0.070174</td><td>-0.110321</td><td>-0.056395</td><td>-0.194036</td><td>0.176199</td><td>0.132554</td><td>-0.004925</td><td>0.17127</td><td>-0.00089</td><td>0.21939</td><td>0.117478</td><td>0.035164</td><td>-0.002884</td><td>0.133629</td><td>0.126259</td><td>-0.019074</td><td>0.021489</td><td>0.126369</td><td>-0.264691</td><td>-0.016279</td><td>-0.070543</td><td>0.072851</td><td>0.073174</td><td>-0.027636</td><td>-0.081745</td></tr><tr><td>&quot;ACP_3&quot;</td><td>&quot;GLLDIVKKVVGAFGSL&quot;</td><td>&quot;anticancer&quot;</td><td>-0.04655</td><td>0.026907</td><td>0.093185</td><td>-0.013867</td><td>-0.006329</td><td>-0.096084</td><td>-0.089391</td><td>-0.117143</td><td>-0.077145</td><td>-0.048794</td><td>0.049056</td><td>0.001643</td><td>-0.316676</td><td>0.004841</td><td>0.094172</td><td>0.113139</td><td>0.191189</td><td>-0.063296</td><td>0.00156</td><td>-0.125597</td><td>-0.124917</td><td>0.159636</td><td>-0.036153</td><td>0.031103</td><td>0.055007</td><td>-0.073215</td><td>-0.056273</td><td>-0.015267</td><td>-0.056054</td><td>-0.162778</td><td>0.052015</td><td>-0.042006</td><td>-0.164715</td><td>0.017658</td><td>&hellip;</td><td>0.053228</td><td>0.037828</td><td>0.025897</td><td>0.030871</td><td>-0.058719</td><td>0.126066</td><td>0.009878</td><td>-0.063738</td><td>-0.135373</td><td>-0.139417</td><td>-0.070759</td><td>-0.282681</td><td>-0.07936</td><td>-0.060174</td><td>-0.122023</td><td>-0.234252</td><td>0.238804</td><td>0.131539</td><td>-0.006006</td><td>0.089226</td><td>-0.039177</td><td>0.095129</td><td>0.073832</td><td>0.094882</td><td>-0.079774</td><td>0.096696</td><td>0.184683</td><td>-0.072877</td><td>0.046215</td><td>0.039431</td><td>-0.210029</td><td>-0.121189</td><td>-0.03889</td><td>-0.014502</td><td>0.052977</td><td>-0.020669</td><td>-0.000186</td></tr><tr><td>&quot;ACP_4&quot;</td><td>&quot;GLFDIVKKVVGALGSL&quot;</td><td>&quot;anticancer&quot;</td><td>-0.050253</td><td>0.032823</td><td>0.086164</td><td>-0.02196</td><td>0.002551</td><td>-0.116478</td><td>-0.09336</td><td>-0.10176</td><td>-0.090515</td><td>-0.045479</td><td>0.059444</td><td>-0.004367</td><td>-0.323056</td><td>-0.012521</td><td>0.080398</td><td>0.136752</td><td>0.197317</td><td>-0.058988</td><td>0.016893</td><td>-0.101754</td><td>-0.141592</td><td>0.151487</td><td>-0.036233</td><td>0.009952</td><td>0.061943</td><td>-0.083107</td><td>-0.03802</td><td>-0.037597</td><td>-0.065409</td><td>-0.160795</td><td>0.03377</td><td>-0.041164</td><td>-0.163096</td><td>0.011319</td><td>&hellip;</td><td>0.064586</td><td>0.019812</td><td>-0.001945</td><td>0.023871</td><td>-0.069566</td><td>0.131595</td><td>-0.012397</td><td>-0.061908</td><td>-0.13541</td><td>-0.139694</td><td>-0.10826</td><td>-0.28004</td><td>-0.056485</td><td>-0.063998</td><td>-0.116124</td><td>-0.222508</td><td>0.243304</td><td>0.132536</td><td>0.006766</td><td>0.090709</td><td>-0.059587</td><td>0.107153</td><td>0.05713</td><td>0.107943</td><td>-0.097312</td><td>0.117711</td><td>0.185513</td><td>-0.054115</td><td>0.043497</td><td>0.037987</td><td>-0.211409</td><td>-0.135884</td><td>-0.035141</td><td>-0.015229</td><td>0.052926</td><td>-0.026794</td><td>0.029529</td></tr><tr><td>&quot;ACP_5&quot;</td><td>&quot;GLFDIVKKVVGTLAGL&quot;</td><td>&quot;anticancer&quot;</td><td>-0.023627</td><td>0.045314</td><td>0.087997</td><td>-0.039884</td><td>0.025747</td><td>-0.126297</td><td>-0.087218</td><td>-0.109523</td><td>-0.076332</td><td>-0.033944</td><td>0.065591</td><td>-0.027439</td><td>-0.331323</td><td>-0.030035</td><td>0.102651</td><td>0.108456</td><td>0.200853</td><td>-0.073057</td><td>-0.010352</td><td>-0.107437</td><td>-0.170394</td><td>0.129797</td><td>-0.029912</td><td>0.011345</td><td>0.066405</td><td>-0.066004</td><td>-0.0099</td><td>-0.027443</td><td>-0.041042</td><td>-0.16352</td><td>0.024214</td><td>-0.0478</td><td>-0.163505</td><td>0.020145</td><td>&hellip;</td><td>0.057572</td><td>0.004956</td><td>-0.037287</td><td>0.069639</td><td>-0.063601</td><td>0.128616</td><td>-0.024082</td><td>-0.050992</td><td>-0.156378</td><td>-0.116389</td><td>-0.106268</td><td>-0.288028</td><td>-0.088477</td><td>-0.091337</td><td>-0.07992</td><td>-0.227669</td><td>0.21035</td><td>0.132463</td><td>-0.013089</td><td>0.088801</td><td>-0.073826</td><td>0.083158</td><td>0.074469</td><td>0.111204</td><td>-0.082519</td><td>0.155004</td><td>0.167264</td><td>-0.036503</td><td>0.051366</td><td>0.056889</td><td>-0.206001</td><td>-0.126025</td><td>-0.028914</td><td>-0.011678</td><td>0.044418</td><td>-0.009174</td><td>0.045671</td></tr><tr><td>&hellip;</td><td>&hellip;</td><td>&hellip;</td><td>&hellip;</td><td>&hellip;</td><td>&hellip;</td><td>&hellip;</td><td>&hellip;</td><td>&hellip;</td><td>&hellip;</td><td>&hellip;</td><td>&hellip;</td><td>&hellip;</td><td>&hellip;</td><td>&hellip;</td><td>&hellip;</td><td>&hellip;</td><td>&hellip;</td><td>&hellip;</td><td>&hellip;</td><td>&hellip;</td><td>&hellip;</td><td>&hellip;</td><td>&hellip;</td><td>&hellip;</td><td>&hellip;</td><td>&hellip;</td><td>&hellip;</td><td>&hellip;</td><td>&hellip;</td><td>&hellip;</td><td>&hellip;</td><td>&hellip;</td><td>&hellip;</td><td>&hellip;</td><td>&hellip;</td><td>&hellip;</td><td>&hellip;</td><td>&hellip;</td><td>&hellip;</td><td>&hellip;</td><td>&hellip;</td><td>&hellip;</td><td>&hellip;</td><td>&hellip;</td><td>&hellip;</td><td>&hellip;</td><td>&hellip;</td><td>&hellip;</td><td>&hellip;</td><td>&hellip;</td><td>&hellip;</td><td>&hellip;</td><td>&hellip;</td><td>&hellip;</td><td>&hellip;</td><td>&hellip;</td><td>&hellip;</td><td>&hellip;</td><td>&hellip;</td><td>&hellip;</td><td>&hellip;</td><td>&hellip;</td><td>&hellip;</td><td>&hellip;</td><td>&hellip;</td><td>&hellip;</td><td>&hellip;</td><td>&hellip;</td><td>&hellip;</td><td>&hellip;</td><td>&hellip;</td><td>&hellip;</td><td>&hellip;</td><td>&hellip;</td></tr><tr><td>&quot;non-ACP_202&quot;</td><td>&quot;TDTPLDLAIQQLQNLAIESIPDPPTNTPEA…</td><td>&quot;non&quot;</td><td>0.050742</td><td>-0.059714</td><td>0.016372</td><td>-0.020049</td><td>0.042029</td><td>0.000091</td><td>0.034749</td><td>-0.033896</td><td>0.002914</td><td>-0.049319</td><td>-0.046869</td><td>0.04289</td><td>0.04548</td><td>0.025109</td><td>0.014048</td><td>0.031173</td><td>-0.035155</td><td>0.050002</td><td>-0.09718</td><td>-0.102892</td><td>0.021198</td><td>0.031281</td><td>-0.090418</td><td>0.085432</td><td>0.113974</td><td>-0.079859</td><td>-0.013431</td><td>-0.041602</td><td>-0.054379</td><td>-0.049968</td><td>0.101042</td><td>0.011318</td><td>-0.1613</td><td>-0.006619</td><td>&hellip;</td><td>-0.023743</td><td>-0.087017</td><td>0.01377</td><td>-0.087582</td><td>-0.050301</td><td>0.0894</td><td>-0.031598</td><td>0.031218</td><td>-0.049093</td><td>-0.129286</td><td>0.023503</td><td>-0.010029</td><td>-0.099032</td><td>-0.013515</td><td>0.07646</td><td>-0.127167</td><td>0.044473</td><td>0.14367</td><td>-0.016932</td><td>0.046787</td><td>-0.083339</td><td>-0.017095</td><td>0.064361</td><td>-0.076279</td><td>0.002779</td><td>0.069929</td><td>-0.019064</td><td>-0.007609</td><td>-0.007798</td><td>0.076769</td><td>-0.11821</td><td>0.057585</td><td>-0.01256</td><td>-0.049747</td><td>0.011665</td><td>0.044846</td><td>-0.031156</td></tr><tr><td>&quot;non-ACP_203&quot;</td><td>&quot;LRLIHFLHQTTDPYPQGPGTANQRRRR&quot;</td><td>&quot;non&quot;</td><td>0.02803</td><td>0.036604</td><td>-0.091647</td><td>-0.044611</td><td>0.043603</td><td>-0.022159</td><td>-0.026853</td><td>-0.111063</td><td>-0.035969</td><td>-0.014594</td><td>-0.014162</td><td>0.089065</td><td>-0.054728</td><td>-0.031313</td><td>0.043199</td><td>0.025919</td><td>-0.07761</td><td>0.009925</td><td>-0.037679</td><td>-0.053494</td><td>-0.125051</td><td>-0.040866</td><td>-0.044984</td><td>0.08078</td><td>0.052452</td><td>-0.023825</td><td>-0.061118</td><td>-0.059617</td><td>-0.017638</td><td>-0.060611</td><td>0.066968</td><td>-0.05079</td><td>-0.171635</td><td>-0.131143</td><td>&hellip;</td><td>-0.002923</td><td>-0.028772</td><td>0.035465</td><td>-0.025414</td><td>-0.01245</td><td>0.126289</td><td>-0.04858</td><td>0.101017</td><td>-0.049296</td><td>-0.136719</td><td>0.082758</td><td>-0.113213</td><td>-0.026212</td><td>-0.016412</td><td>0.049403</td><td>-0.163355</td><td>0.108071</td><td>0.143516</td><td>-0.026324</td><td>0.123617</td><td>0.031383</td><td>-0.070451</td><td>0.064663</td><td>-0.045421</td><td>-0.031978</td><td>0.116602</td><td>0.008426</td><td>-0.005496</td><td>0.038938</td><td>0.068255</td><td>-0.147706</td><td>-0.00726</td><td>-0.044979</td><td>-0.058679</td><td>0.115736</td><td>-0.009271</td><td>0.028007</td></tr><tr><td>&quot;non-ACP_204&quot;</td><td>&quot;PVDTPLDLAIQQLQGLAIEELPDPPTSAPE…</td><td>&quot;non&quot;</td><td>0.032758</td><td>-0.061579</td><td>0.0367</td><td>-0.026298</td><td>0.054131</td><td>-0.016103</td><td>0.035231</td><td>-0.036354</td><td>-0.00412</td><td>-0.029976</td><td>-0.009819</td><td>0.013979</td><td>0.006027</td><td>0.023361</td><td>0.029725</td><td>-0.012117</td><td>-0.039289</td><td>0.045128</td><td>-0.089149</td><td>-0.069391</td><td>0.00291</td><td>0.050829</td><td>-0.098885</td><td>0.090713</td><td>0.09728</td><td>-0.093768</td><td>-0.003327</td><td>-0.03654</td><td>-0.069333</td><td>-0.064352</td><td>0.095182</td><td>0.019191</td><td>-0.158955</td><td>0.012327</td><td>&hellip;</td><td>-0.036704</td><td>-0.04229</td><td>-0.019134</td><td>-0.025342</td><td>-0.041917</td><td>0.077848</td><td>-0.049748</td><td>0.033543</td><td>-0.029412</td><td>-0.129531</td><td>0.031265</td><td>-0.045039</td><td>-0.068032</td><td>0.031738</td><td>0.05199</td><td>-0.151383</td><td>0.112019</td><td>0.142814</td><td>-0.033489</td><td>0.020125</td><td>-0.077296</td><td>0.015719</td><td>0.069621</td><td>-0.088167</td><td>0.019959</td><td>0.066854</td><td>-0.003788</td><td>0.014421</td><td>0.008973</td><td>0.068116</td><td>-0.131336</td><td>0.02278</td><td>0.008647</td><td>-0.039617</td><td>0.016245</td><td>0.069241</td><td>-0.026764</td></tr><tr><td>&quot;non-ACP_205&quot;</td><td>&quot;NTNVTPHLLAGMRLIAVQQPEDPLRVL&quot;</td><td>&quot;non&quot;</td><td>0.055526</td><td>0.089413</td><td>-0.055178</td><td>-0.027356</td><td>-0.03772</td><td>-0.033324</td><td>-0.018848</td><td>-0.043817</td><td>0.013107</td><td>0.070539</td><td>-0.003536</td><td>0.02082</td><td>0.007038</td><td>0.110897</td><td>0.019737</td><td>-0.046077</td><td>0.006275</td><td>-0.00708</td><td>-0.069891</td><td>-0.039204</td><td>-0.081543</td><td>0.051694</td><td>-0.010941</td><td>0.027294</td><td>0.143106</td><td>-0.083454</td><td>-0.012298</td><td>-0.070407</td><td>-0.038823</td><td>-0.045801</td><td>0.062846</td><td>-0.035068</td><td>-0.15591</td><td>-0.021579</td><td>&hellip;</td><td>0.015802</td><td>-0.094142</td><td>0.005524</td><td>0.05276</td><td>0.008497</td><td>0.096758</td><td>0.049283</td><td>0.027458</td><td>-0.056929</td><td>-0.166345</td><td>-0.007202</td><td>-0.059847</td><td>-0.084699</td><td>0.050306</td><td>0.091511</td><td>-0.095444</td><td>0.129114</td><td>0.137334</td><td>0.000229</td><td>0.087269</td><td>-0.070135</td><td>-0.038336</td><td>0.050547</td><td>-0.117702</td><td>0.053361</td><td>0.041715</td><td>0.089981</td><td>-0.063646</td><td>0.012448</td><td>-0.036425</td><td>-0.052472</td><td>0.002024</td><td>-0.049243</td><td>0.011945</td><td>-0.016161</td><td>-0.013265</td><td>0.046174</td></tr><tr><td>&quot;non-ACP_206&quot;</td><td>&quot;QTLVHNGGRLPPDLQLSAEDSSSTPS&quot;</td><td>&quot;non&quot;</td><td>0.041004</td><td>0.013949</td><td>-0.00832</td><td>-0.032467</td><td>-0.006152</td><td>0.077953</td><td>-0.061303</td><td>0.017659</td><td>-0.032854</td><td>0.001959</td><td>-0.013169</td><td>0.012148</td><td>-0.074986</td><td>0.04208</td><td>0.00527</td><td>-0.028487</td><td>-0.09221</td><td>-0.067953</td><td>-0.051165</td><td>-0.122717</td><td>0.035327</td><td>0.08231</td><td>-0.079018</td><td>0.09142</td><td>0.082824</td><td>-0.091565</td><td>-0.092592</td><td>-0.103301</td><td>-0.09019</td><td>-0.062664</td><td>0.076906</td><td>-0.003111</td><td>-0.154137</td><td>-0.082609</td><td>&hellip;</td><td>0.055123</td><td>-0.027562</td><td>0.065465</td><td>-0.037197</td><td>-0.026741</td><td>0.116464</td><td>-0.006149</td><td>0.065437</td><td>0.013804</td><td>-0.176548</td><td>-0.017888</td><td>-0.111343</td><td>-0.044305</td><td>-0.010947</td><td>0.010301</td><td>-0.188559</td><td>0.160183</td><td>0.144286</td><td>-0.144545</td><td>0.074297</td><td>0.079816</td><td>-0.061255</td><td>0.103599</td><td>-0.062524</td><td>-0.037587</td><td>0.068787</td><td>0.034778</td><td>0.06377</td><td>0.015633</td><td>0.050251</td><td>-0.116418</td><td>0.074738</td><td>-0.092145</td><td>-0.023398</td><td>0.017555</td><td>-0.034933</td><td>-0.048009</td></tr></tbody></table></div>"
            ]
          },
          "metadata": {},
          "execution_count": 9
        }
      ]
    },
    {
      "cell_type": "markdown",
      "source": [
        "Com a representação em embeddings, vamos utilizar o Optuna com SVM para maximizar a acurácia média do 10-fold Cross-Validation."
      ],
      "metadata": {
        "id": "KnvG1uCBaSzs"
      }
    },
    {
      "cell_type": "code",
      "source": [
        "def objective(trial):\n",
        "    C = trial.suggest_float(\"svm_C\", 1e-6, 1e3, log=True)\n",
        "    gamma = trial.suggest_categorical(\"svm_gamma\", [\"scale\", \"auto\"])\n",
        "    kernel = trial.suggest_categorical(\"svm_kernel\", [\"linear\", \"poly\", \"rbf\", \"sigmoid\"])\n",
        "\n",
        "    pipeline = Pipeline([\n",
        "        (\"scaler\", StandardScaler()),\n",
        "        (\"svm\", SVC(C=C, kernel=kernel, gamma=gamma, random_state=0))\n",
        "    ])\n",
        "\n",
        "    scores = cross_val_score(pipeline, X, y, cv=10, scoring=\"accuracy\")\n",
        "\n",
        "    return np.mean(scores)\n",
        "\n",
        "X, y = df_seqs_embeddings.select(pl.nth(range(3, len(df_seqs_embeddings.columns)))).to_numpy(), df_seqs_embeddings[\"label\"].to_numpy()\n",
        "\n",
        "sampler = optuna.samplers.TPESampler(seed=0)\n",
        "study = optuna.create_study(direction=\"maximize\", sampler=sampler)\n",
        "study.optimize(objective, n_trials=100)\n",
        "\n",
        "print(\"Best hyperparameters:\", study.best_params)\n",
        "print(f\"Best accuracy score: {study.best_value:.4f}\")"
      ],
      "metadata": {
        "id": "EP5pUJQBDgft",
        "outputId": "e718aeef-0039-4844-a9a2-272c01aa1ab4",
        "colab": {
          "base_uri": "https://localhost:8080/"
        }
      },
      "execution_count": 10,
      "outputs": [
        {
          "output_type": "stream",
          "name": "stderr",
          "text": [
            "[I 2024-09-28 16:27:56,077] A new study created in memory with name: no-name-28deabe5-5e93-47e7-b18f-1bb89bf77c8f\n",
            "[I 2024-09-28 16:27:56,494] Trial 0 finished with value: 0.8603361344537814 and parameters: {'svm_C': 0.0869604013210559, 'svm_gamma': 'scale', 'svm_kernel': 'rbf'}. Best is trial 0 with value: 0.8603361344537814.\n",
            "[I 2024-09-28 16:27:56,632] Trial 1 finished with value: 0.8836974789915967 and parameters: {'svm_C': 106.15904599003998, 'svm_gamma': 'scale', 'svm_kernel': 'sigmoid'}. Best is trial 1 with value: 0.8836974789915967.\n",
            "[I 2024-09-28 16:27:57,094] Trial 2 finished with value: 0.5988235294117648 and parameters: {'svm_C': 4.35837428774127e-06, 'svm_gamma': 'scale', 'svm_kernel': 'sigmoid'}. Best is trial 1 with value: 0.8836974789915967.\n",
            "[I 2024-09-28 16:27:57,285] Trial 3 finished with value: 0.8926050420168066 and parameters: {'svm_C': 15.574964948467398, 'svm_gamma': 'auto', 'svm_kernel': 'sigmoid'}. Best is trial 3 with value: 0.8926050420168066.\n",
            "[I 2024-09-28 16:27:57,516] Trial 4 finished with value: 0.9099159663865546 and parameters: {'svm_C': 0.04973188214118056, 'svm_gamma': 'scale', 'svm_kernel': 'linear'}. Best is trial 4 with value: 0.9099159663865546.\n",
            "[I 2024-09-28 16:27:57,738] Trial 5 finished with value: 0.9099159663865546 and parameters: {'svm_C': 0.36200908827975287, 'svm_gamma': 'auto', 'svm_kernel': 'linear'}. Best is trial 4 with value: 0.9099159663865546.\n",
            "[I 2024-09-28 16:27:57,952] Trial 6 finished with value: 0.9099159663865546 and parameters: {'svm_C': 1.8996813686210312, 'svm_gamma': 'auto', 'svm_kernel': 'linear'}. Best is trial 4 with value: 0.9099159663865546.\n",
            "[I 2024-09-28 16:27:58,218] Trial 7 finished with value: 0.9242016806722688 and parameters: {'svm_C': 0.0018767090076326175, 'svm_gamma': 'scale', 'svm_kernel': 'linear'}. Best is trial 7 with value: 0.9242016806722688.\n",
            "[I 2024-09-28 16:27:58,484] Trial 8 finished with value: 0.927142857142857 and parameters: {'svm_C': 0.7550486392036303, 'svm_gamma': 'auto', 'svm_kernel': 'sigmoid'}. Best is trial 8 with value: 0.927142857142857.\n",
            "[I 2024-09-28 16:27:58,998] Trial 9 finished with value: 0.5988235294117648 and parameters: {'svm_C': 1.7524537381340202e-05, 'svm_gamma': 'auto', 'svm_kernel': 'rbf'}. Best is trial 8 with value: 0.927142857142857.\n",
            "[I 2024-09-28 16:27:59,511] Trial 10 finished with value: 0.5988235294117648 and parameters: {'svm_C': 0.0021890635640308144, 'svm_gamma': 'auto', 'svm_kernel': 'poly'}. Best is trial 8 with value: 0.927142857142857.\n",
            "[I 2024-09-28 16:27:59,990] Trial 11 finished with value: 0.5988235294117648 and parameters: {'svm_C': 0.0007354176796872915, 'svm_gamma': 'scale', 'svm_kernel': 'poly'}. Best is trial 8 with value: 0.927142857142857.\n",
            "[I 2024-09-28 16:28:00,242] Trial 12 finished with value: 0.9299999999999999 and parameters: {'svm_C': 0.0006863632332990355, 'svm_gamma': 'scale', 'svm_kernel': 'linear'}. Best is trial 12 with value: 0.9299999999999999.\n",
            "[I 2024-09-28 16:28:00,373] Trial 13 finished with value: 0.8778991596638654 and parameters: {'svm_C': 881.602795767026, 'svm_gamma': 'auto', 'svm_kernel': 'sigmoid'}. Best is trial 12 with value: 0.9299999999999999.\n",
            "[I 2024-09-28 16:28:00,667] Trial 14 finished with value: 0.912689075630252 and parameters: {'svm_C': 0.00010333747884006094, 'svm_gamma': 'scale', 'svm_kernel': 'linear'}. Best is trial 12 with value: 0.9299999999999999.\n",
            "[I 2024-09-28 16:28:00,839] Trial 15 finished with value: 0.9098319327731093 and parameters: {'svm_C': 2.579269593967601, 'svm_gamma': 'auto', 'svm_kernel': 'sigmoid'}. Best is trial 12 with value: 0.9299999999999999.\n",
            "[I 2024-09-28 16:28:01,295] Trial 16 finished with value: 0.5988235294117648 and parameters: {'svm_C': 0.01131869811475597, 'svm_gamma': 'scale', 'svm_kernel': 'rbf'}. Best is trial 12 with value: 0.9299999999999999.\n",
            "[I 2024-09-28 16:28:01,662] Trial 17 finished with value: 0.5988235294117648 and parameters: {'svm_C': 8.213024016690682e-05, 'svm_gamma': 'auto', 'svm_kernel': 'poly'}. Best is trial 12 with value: 0.9299999999999999.\n",
            "[I 2024-09-28 16:28:02,057] Trial 18 finished with value: 0.5988235294117648 and parameters: {'svm_C': 1.5471360491029225e-06, 'svm_gamma': 'auto', 'svm_kernel': 'sigmoid'}. Best is trial 12 with value: 0.9299999999999999.\n",
            "[I 2024-09-28 16:28:02,256] Trial 19 finished with value: 0.9099159663865546 and parameters: {'svm_C': 0.6313919492225154, 'svm_gamma': 'scale', 'svm_kernel': 'linear'}. Best is trial 12 with value: 0.9299999999999999.\n",
            "[I 2024-09-28 16:28:02,452] Trial 20 finished with value: 0.9099159663865546 and parameters: {'svm_C': 14.032753851650162, 'svm_gamma': 'scale', 'svm_kernel': 'linear'}. Best is trial 12 with value: 0.9299999999999999.\n",
            "[I 2024-09-28 16:28:02,648] Trial 21 finished with value: 0.9242016806722688 and parameters: {'svm_C': 0.0030741173549433823, 'svm_gamma': 'scale', 'svm_kernel': 'linear'}. Best is trial 12 with value: 0.9299999999999999.\n",
            "[I 2024-09-28 16:28:02,852] Trial 22 finished with value: 0.9099159663865546 and parameters: {'svm_C': 0.012593558783214333, 'svm_gamma': 'scale', 'svm_kernel': 'linear'}. Best is trial 12 with value: 0.9299999999999999.\n",
            "[I 2024-09-28 16:28:03,102] Trial 23 finished with value: 0.9300840336134453 and parameters: {'svm_C': 0.0002361810760149506, 'svm_gamma': 'scale', 'svm_kernel': 'linear'}. Best is trial 23 with value: 0.9300840336134453.\n",
            "[I 2024-09-28 16:28:03,399] Trial 24 finished with value: 0.9184873949579831 and parameters: {'svm_C': 0.00011860057677108302, 'svm_gamma': 'scale', 'svm_kernel': 'linear'}. Best is trial 23 with value: 0.9300840336134453.\n",
            "[I 2024-09-28 16:28:03,820] Trial 25 finished with value: 0.5988235294117648 and parameters: {'svm_C': 0.0004065716095397454, 'svm_gamma': 'scale', 'svm_kernel': 'sigmoid'}. Best is trial 23 with value: 0.9300840336134453.\n",
            "[I 2024-09-28 16:28:04,196] Trial 26 finished with value: 0.5988235294117648 and parameters: {'svm_C': 1.773432899281667e-05, 'svm_gamma': 'auto', 'svm_kernel': 'poly'}. Best is trial 23 with value: 0.9300840336134453.\n",
            "[I 2024-09-28 16:28:04,653] Trial 27 finished with value: 0.5988235294117648 and parameters: {'svm_C': 0.009424760238857693, 'svm_gamma': 'scale', 'svm_kernel': 'rbf'}. Best is trial 23 with value: 0.9300840336134453.\n",
            "[I 2024-09-28 16:28:04,834] Trial 28 finished with value: 0.9099159663865546 and parameters: {'svm_C': 0.0852454587136193, 'svm_gamma': 'auto', 'svm_kernel': 'linear'}. Best is trial 23 with value: 0.9300840336134453.\n",
            "[I 2024-09-28 16:28:05,293] Trial 29 finished with value: 0.5988235294117648 and parameters: {'svm_C': 0.0004243044431406369, 'svm_gamma': 'scale', 'svm_kernel': 'rbf'}. Best is trial 23 with value: 0.9300840336134453.\n",
            "[I 2024-09-28 16:28:05,535] Trial 30 finished with value: 0.927142857142857 and parameters: {'svm_C': 0.40351019951825745, 'svm_gamma': 'scale', 'svm_kernel': 'sigmoid'}. Best is trial 23 with value: 0.9300840336134453.\n",
            "[I 2024-09-28 16:28:05,782] Trial 31 finished with value: 0.9300840336134453 and parameters: {'svm_C': 0.27473466530075935, 'svm_gamma': 'scale', 'svm_kernel': 'sigmoid'}. Best is trial 23 with value: 0.9300840336134453.\n",
            "[I 2024-09-28 16:28:06,086] Trial 32 finished with value: 0.912689075630252 and parameters: {'svm_C': 0.12208259834979578, 'svm_gamma': 'scale', 'svm_kernel': 'sigmoid'}. Best is trial 23 with value: 0.9300840336134453.\n",
            "[I 2024-09-28 16:28:06,249] Trial 33 finished with value: 0.8895798319327731 and parameters: {'svm_C': 42.52874362728392, 'svm_gamma': 'scale', 'svm_kernel': 'sigmoid'}. Best is trial 23 with value: 0.9300840336134453.\n",
            "[I 2024-09-28 16:28:06,646] Trial 34 finished with value: 0.5988235294117648 and parameters: {'svm_C': 1.889889484828103e-05, 'svm_gamma': 'scale', 'svm_kernel': 'sigmoid'}. Best is trial 23 with value: 0.9300840336134453.\n",
            "[I 2024-09-28 16:28:06,830] Trial 35 finished with value: 0.9185714285714285 and parameters: {'svm_C': 1.6563807041585354, 'svm_gamma': 'scale', 'svm_kernel': 'sigmoid'}. Best is trial 23 with value: 0.9300840336134453.\n",
            "[I 2024-09-28 16:28:06,997] Trial 36 finished with value: 0.9131092436974789 and parameters: {'svm_C': 6.13497089857755, 'svm_gamma': 'scale', 'svm_kernel': 'sigmoid'}. Best is trial 23 with value: 0.9300840336134453.\n",
            "[I 2024-09-28 16:28:07,187] Trial 37 finished with value: 0.9099159663865546 and parameters: {'svm_C': 0.030425827121569902, 'svm_gamma': 'scale', 'svm_kernel': 'linear'}. Best is trial 23 with value: 0.9300840336134453.\n",
            "[I 2024-09-28 16:28:07,377] Trial 38 finished with value: 0.9099159663865546 and parameters: {'svm_C': 234.68900677890593, 'svm_gamma': 'auto', 'svm_kernel': 'linear'}. Best is trial 23 with value: 0.9300840336134453.\n",
            "[I 2024-09-28 16:28:07,679] Trial 39 finished with value: 0.9242016806722688 and parameters: {'svm_C': 0.1635850791338305, 'svm_gamma': 'scale', 'svm_kernel': 'sigmoid'}. Best is trial 23 with value: 0.9300840336134453.\n",
            "[I 2024-09-28 16:28:07,858] Trial 40 finished with value: 0.9099159663865546 and parameters: {'svm_C': 0.034472433595060054, 'svm_gamma': 'auto', 'svm_kernel': 'linear'}. Best is trial 23 with value: 0.9300840336134453.\n",
            "[I 2024-09-28 16:28:08,083] Trial 41 finished with value: 0.927142857142857 and parameters: {'svm_C': 0.5738251568136117, 'svm_gamma': 'scale', 'svm_kernel': 'sigmoid'}. Best is trial 23 with value: 0.9300840336134453.\n",
            "[I 2024-09-28 16:28:08,348] Trial 42 finished with value: 0.927142857142857 and parameters: {'svm_C': 0.24178216410366724, 'svm_gamma': 'scale', 'svm_kernel': 'sigmoid'}. Best is trial 23 with value: 0.9300840336134453.\n",
            "[I 2024-09-28 16:28:08,554] Trial 43 finished with value: 0.9213445378151259 and parameters: {'svm_C': 1.1706813019132791, 'svm_gamma': 'scale', 'svm_kernel': 'sigmoid'}. Best is trial 23 with value: 0.9300840336134453.\n",
            "[I 2024-09-28 16:28:08,728] Trial 44 finished with value: 0.9072268907563025 and parameters: {'svm_C': 4.676398707647407, 'svm_gamma': 'scale', 'svm_kernel': 'sigmoid'}. Best is trial 23 with value: 0.9300840336134453.\n",
            "[I 2024-09-28 16:28:09,150] Trial 45 finished with value: 0.5988235294117648 and parameters: {'svm_C': 0.0033576822071258784, 'svm_gamma': 'scale', 'svm_kernel': 'poly'}. Best is trial 23 with value: 0.9300840336134453.\n",
            "[I 2024-09-28 16:28:09,581] Trial 46 finished with value: 0.5988235294117648 and parameters: {'svm_C': 0.0011315940335892532, 'svm_gamma': 'auto', 'svm_kernel': 'sigmoid'}. Best is trial 23 with value: 0.9300840336134453.\n",
            "[I 2024-09-28 16:28:09,922] Trial 47 finished with value: 0.9126050420168067 and parameters: {'svm_C': 0.37594908524428083, 'svm_gamma': 'scale', 'svm_kernel': 'rbf'}. Best is trial 23 with value: 0.9300840336134453.\n",
            "[I 2024-09-28 16:28:10,406] Trial 48 finished with value: 0.5988235294117648 and parameters: {'svm_C': 4.484829551868669e-05, 'svm_gamma': 'auto', 'svm_kernel': 'sigmoid'}. Best is trial 23 with value: 0.9300840336134453.\n",
            "[I 2024-09-28 16:28:10,657] Trial 49 finished with value: 0.9099159663865546 and parameters: {'svm_C': 0.05142710227378682, 'svm_gamma': 'scale', 'svm_kernel': 'linear'}. Best is trial 23 with value: 0.9300840336134453.\n",
            "[I 2024-09-28 16:28:11,144] Trial 50 finished with value: 0.9040336134453781 and parameters: {'svm_C': 13.8741952260624, 'svm_gamma': 'scale', 'svm_kernel': 'poly'}. Best is trial 23 with value: 0.9300840336134453.\n",
            "[I 2024-09-28 16:28:11,431] Trial 51 finished with value: 0.9270588235294117 and parameters: {'svm_C': 0.8243858557310813, 'svm_gamma': 'scale', 'svm_kernel': 'sigmoid'}. Best is trial 23 with value: 0.9300840336134453.\n",
            "[I 2024-09-28 16:28:11,761] Trial 52 finished with value: 0.927142857142857 and parameters: {'svm_C': 0.38771646583336505, 'svm_gamma': 'scale', 'svm_kernel': 'sigmoid'}. Best is trial 23 with value: 0.9300840336134453.\n",
            "[I 2024-09-28 16:28:11,997] Trial 53 finished with value: 0.9012605042016805 and parameters: {'svm_C': 3.892394005677629, 'svm_gamma': 'scale', 'svm_kernel': 'sigmoid'}. Best is trial 23 with value: 0.9300840336134453.\n",
            "[I 2024-09-28 16:28:12,503] Trial 54 finished with value: 0.5988235294117648 and parameters: {'svm_C': 0.0003009801688621908, 'svm_gamma': 'scale', 'svm_kernel': 'sigmoid'}. Best is trial 23 with value: 0.9300840336134453.\n",
            "[I 2024-09-28 16:28:12,990] Trial 55 finished with value: 0.5988235294117648 and parameters: {'svm_C': 3.937742362785191e-06, 'svm_gamma': 'scale', 'svm_kernel': 'linear'}. Best is trial 23 with value: 0.9300840336134453.\n",
            "[I 2024-09-28 16:28:13,214] Trial 56 finished with value: 0.927142857142857 and parameters: {'svm_C': 0.5886636959043331, 'svm_gamma': 'auto', 'svm_kernel': 'sigmoid'}. Best is trial 23 with value: 0.9300840336134453.\n",
            "[I 2024-09-28 16:28:13,408] Trial 57 finished with value: 0.9155462184873949 and parameters: {'svm_C': 0.006116789383907927, 'svm_gamma': 'scale', 'svm_kernel': 'linear'}. Best is trial 23 with value: 0.9300840336134453.\n",
            "[I 2024-09-28 16:28:13,838] Trial 58 finished with value: 0.6452941176470588 and parameters: {'svm_C': 0.019048179292109193, 'svm_gamma': 'scale', 'svm_kernel': 'sigmoid'}. Best is trial 23 with value: 0.9300840336134453.\n",
            "[I 2024-09-28 16:28:14,243] Trial 59 finished with value: 0.8631932773109243 and parameters: {'svm_C': 0.1061942519204874, 'svm_gamma': 'auto', 'svm_kernel': 'rbf'}. Best is trial 23 with value: 0.9300840336134453.\n",
            "[I 2024-09-28 16:28:14,435] Trial 60 finished with value: 0.9099159663865546 and parameters: {'svm_C': 1.7800380513401193, 'svm_gamma': 'scale', 'svm_kernel': 'linear'}. Best is trial 23 with value: 0.9300840336134453.\n",
            "[I 2024-09-28 16:28:15,131] Trial 61 finished with value: 0.927142857142857 and parameters: {'svm_C': 0.22070899376390143, 'svm_gamma': 'scale', 'svm_kernel': 'sigmoid'}. Best is trial 23 with value: 0.9300840336134453.\n",
            "[I 2024-09-28 16:28:15,486] Trial 62 finished with value: 0.927142857142857 and parameters: {'svm_C': 0.3165565808885719, 'svm_gamma': 'scale', 'svm_kernel': 'sigmoid'}. Best is trial 23 with value: 0.9300840336134453.\n",
            "[I 2024-09-28 16:28:15,702] Trial 63 finished with value: 0.927142857142857 and parameters: {'svm_C': 0.6596663689585968, 'svm_gamma': 'scale', 'svm_kernel': 'sigmoid'}. Best is trial 23 with value: 0.9300840336134453.\n",
            "[I 2024-09-28 16:28:16,575] Trial 64 finished with value: 0.906890756302521 and parameters: {'svm_C': 0.07296003429937784, 'svm_gamma': 'scale', 'svm_kernel': 'sigmoid'}. Best is trial 23 with value: 0.9300840336134453.\n",
            "[I 2024-09-28 16:28:16,860] Trial 65 finished with value: 0.927142857142857 and parameters: {'svm_C': 0.20031080930406953, 'svm_gamma': 'scale', 'svm_kernel': 'sigmoid'}. Best is trial 23 with value: 0.9300840336134453.\n",
            "[I 2024-09-28 16:28:17,753] Trial 66 finished with value: 0.5988235294117648 and parameters: {'svm_C': 0.000198291868768987, 'svm_gamma': 'scale', 'svm_kernel': 'sigmoid'}. Best is trial 23 with value: 0.9300840336134453.\n",
            "[I 2024-09-28 16:28:18,161] Trial 67 finished with value: 0.5988235294117648 and parameters: {'svm_C': 0.000992555230067089, 'svm_gamma': 'auto', 'svm_kernel': 'poly'}. Best is trial 23 with value: 0.9300840336134453.\n",
            "[I 2024-09-28 16:28:18,361] Trial 68 finished with value: 0.9099159663865546 and parameters: {'svm_C': 8.96674614533689, 'svm_gamma': 'scale', 'svm_kernel': 'linear'}. Best is trial 23 with value: 0.9300840336134453.\n",
            "[I 2024-09-28 16:28:18,548] Trial 69 finished with value: 0.906890756302521 and parameters: {'svm_C': 2.6236517875420744, 'svm_gamma': 'scale', 'svm_kernel': 'sigmoid'}. Best is trial 23 with value: 0.9300840336134453.\n",
            "[I 2024-09-28 16:28:18,976] Trial 70 finished with value: 0.5988235294117648 and parameters: {'svm_C': 0.005699779925446787, 'svm_gamma': 'scale', 'svm_kernel': 'sigmoid'}. Best is trial 23 with value: 0.9300840336134453.\n",
            "[I 2024-09-28 16:28:19,213] Trial 71 finished with value: 0.927142857142857 and parameters: {'svm_C': 0.4862469851653835, 'svm_gamma': 'scale', 'svm_kernel': 'sigmoid'}. Best is trial 23 with value: 0.9300840336134453.\n",
            "[I 2024-09-28 16:28:19,479] Trial 72 finished with value: 0.927142857142857 and parameters: {'svm_C': 0.30253554830073215, 'svm_gamma': 'scale', 'svm_kernel': 'sigmoid'}. Best is trial 23 with value: 0.9300840336134453.\n",
            "[I 2024-09-28 16:28:19,697] Trial 73 finished with value: 0.9213445378151259 and parameters: {'svm_C': 1.3046932427618185, 'svm_gamma': 'scale', 'svm_kernel': 'sigmoid'}. Best is trial 23 with value: 0.9300840336134453.\n",
            "[I 2024-09-28 16:28:19,856] Trial 74 finished with value: 0.8895798319327731 and parameters: {'svm_C': 34.02838174096157, 'svm_gamma': 'scale', 'svm_kernel': 'sigmoid'}. Best is trial 23 with value: 0.9300840336134453.\n",
            "[I 2024-09-28 16:28:20,058] Trial 75 finished with value: 0.9099159663865546 and parameters: {'svm_C': 0.021195396198884865, 'svm_gamma': 'scale', 'svm_kernel': 'linear'}. Best is trial 23 with value: 0.9300840336134453.\n",
            "[I 2024-09-28 16:28:20,476] Trial 76 finished with value: 0.8081512605042016 and parameters: {'svm_C': 0.06770216868451769, 'svm_gamma': 'auto', 'svm_kernel': 'rbf'}. Best is trial 23 with value: 0.9300840336134453.\n",
            "[I 2024-09-28 16:28:20,756] Trial 77 finished with value: 0.9242016806722688 and parameters: {'svm_C': 0.16541632477742818, 'svm_gamma': 'scale', 'svm_kernel': 'sigmoid'}. Best is trial 23 with value: 0.9300840336134453.\n",
            "[I 2024-09-28 16:28:20,940] Trial 78 finished with value: 0.9040336134453781 and parameters: {'svm_C': 2.85645148136191, 'svm_gamma': 'scale', 'svm_kernel': 'sigmoid'}. Best is trial 23 with value: 0.9300840336134453.\n",
            "[I 2024-09-28 16:28:21,277] Trial 79 finished with value: 0.8952941176470588 and parameters: {'svm_C': 5.717807844048463e-05, 'svm_gamma': 'scale', 'svm_kernel': 'linear'}. Best is trial 23 with value: 0.9300840336134453.\n",
            "[I 2024-09-28 16:28:21,467] Trial 80 finished with value: 0.9242016806722688 and parameters: {'svm_C': 1.0683057423159976, 'svm_gamma': 'auto', 'svm_kernel': 'sigmoid'}. Best is trial 23 with value: 0.9300840336134453.\n",
            "[I 2024-09-28 16:28:21,690] Trial 81 finished with value: 0.927142857142857 and parameters: {'svm_C': 0.5847637186971676, 'svm_gamma': 'auto', 'svm_kernel': 'sigmoid'}. Best is trial 23 with value: 0.9300840336134453.\n",
            "[I 2024-09-28 16:28:21,928] Trial 82 finished with value: 0.927142857142857 and parameters: {'svm_C': 0.4179419881248939, 'svm_gamma': 'auto', 'svm_kernel': 'sigmoid'}. Best is trial 23 with value: 0.9300840336134453.\n",
            "[I 2024-09-28 16:28:22,243] Trial 83 finished with value: 0.912689075630252 and parameters: {'svm_C': 0.11061402096361556, 'svm_gamma': 'auto', 'svm_kernel': 'sigmoid'}. Best is trial 23 with value: 0.9300840336134453.\n",
            "[I 2024-09-28 16:28:22,642] Trial 84 finished with value: 0.8514285714285714 and parameters: {'svm_C': 0.037796958194705896, 'svm_gamma': 'auto', 'svm_kernel': 'sigmoid'}. Best is trial 23 with value: 0.9300840336134453.\n",
            "[I 2024-09-28 16:28:23,114] Trial 85 finished with value: 0.875126050420168 and parameters: {'svm_C': 0.8461905454985265, 'svm_gamma': 'auto', 'svm_kernel': 'poly'}. Best is trial 23 with value: 0.9300840336134453.\n",
            "[I 2024-09-28 16:28:23,434] Trial 86 finished with value: 0.9300840336134453 and parameters: {'svm_C': 0.27829799751462614, 'svm_gamma': 'scale', 'svm_kernel': 'sigmoid'}. Best is trial 23 with value: 0.9300840336134453.\n",
            "[I 2024-09-28 16:28:23,678] Trial 87 finished with value: 0.9099159663865546 and parameters: {'svm_C': 0.2577538924155922, 'svm_gamma': 'scale', 'svm_kernel': 'linear'}. Best is trial 23 with value: 0.9300840336134453.\n",
            "[I 2024-09-28 16:28:23,928] Trial 88 finished with value: 0.9157142857142857 and parameters: {'svm_C': 1.8800365972005197, 'svm_gamma': 'scale', 'svm_kernel': 'sigmoid'}. Best is trial 23 with value: 0.9300840336134453.\n",
            "[I 2024-09-28 16:28:24,297] Trial 89 finished with value: 0.9184033613445377 and parameters: {'svm_C': 0.1467619212054004, 'svm_gamma': 'scale', 'svm_kernel': 'sigmoid'}. Best is trial 23 with value: 0.9300840336134453.\n",
            "[I 2024-09-28 16:28:24,841] Trial 90 finished with value: 0.9184873949579831 and parameters: {'svm_C': 6.580491984475493, 'svm_gamma': 'scale', 'svm_kernel': 'rbf'}. Best is trial 23 with value: 0.9300840336134453.\n",
            "[I 2024-09-28 16:28:25,155] Trial 91 finished with value: 0.927142857142857 and parameters: {'svm_C': 0.4956997693907538, 'svm_gamma': 'scale', 'svm_kernel': 'sigmoid'}. Best is trial 23 with value: 0.9300840336134453.\n",
            "[I 2024-09-28 16:28:25,416] Trial 92 finished with value: 0.9242016806722688 and parameters: {'svm_C': 1.1443272942395664, 'svm_gamma': 'scale', 'svm_kernel': 'sigmoid'}. Best is trial 23 with value: 0.9300840336134453.\n",
            "[I 2024-09-28 16:28:25,896] Trial 93 finished with value: 0.5988235294117648 and parameters: {'svm_C': 3.170328781854873e-05, 'svm_gamma': 'auto', 'svm_kernel': 'sigmoid'}. Best is trial 23 with value: 0.9300840336134453.\n",
            "[I 2024-09-28 16:28:26,325] Trial 94 finished with value: 0.5988235294117648 and parameters: {'svm_C': 0.00013639234959420926, 'svm_gamma': 'scale', 'svm_kernel': 'sigmoid'}. Best is trial 23 with value: 0.9300840336134453.\n",
            "[I 2024-09-28 16:28:26,702] Trial 95 finished with value: 0.8864705882352941 and parameters: {'svm_C': 0.051110724181901684, 'svm_gamma': 'scale', 'svm_kernel': 'sigmoid'}. Best is trial 23 with value: 0.9300840336134453.\n",
            "[I 2024-09-28 16:28:26,895] Trial 96 finished with value: 0.9099159663865546 and parameters: {'svm_C': 0.30234038924019757, 'svm_gamma': 'scale', 'svm_kernel': 'linear'}. Best is trial 23 with value: 0.9300840336134453.\n",
            "[I 2024-09-28 16:28:27,230] Trial 97 finished with value: 0.9098319327731093 and parameters: {'svm_C': 0.0842792722837473, 'svm_gamma': 'auto', 'svm_kernel': 'sigmoid'}. Best is trial 23 with value: 0.9300840336134453.\n",
            "[I 2024-09-28 16:28:27,447] Trial 98 finished with value: 0.927142857142857 and parameters: {'svm_C': 0.7436513889428966, 'svm_gamma': 'scale', 'svm_kernel': 'sigmoid'}. Best is trial 23 with value: 0.9300840336134453.\n",
            "[I 2024-09-28 16:28:27,662] Trial 99 finished with value: 0.9299999999999999 and parameters: {'svm_C': 0.0006696262046475366, 'svm_gamma': 'scale', 'svm_kernel': 'linear'}. Best is trial 23 with value: 0.9300840336134453.\n"
          ]
        },
        {
          "output_type": "stream",
          "name": "stdout",
          "text": [
            "Best hyperparameters: {'svm_C': 0.0002361810760149506, 'svm_gamma': 'scale', 'svm_kernel': 'linear'}\n",
            "Best accuracy score: 0.9301\n"
          ]
        }
      ]
    },
    {
      "cell_type": "markdown",
      "source": [
        "Usando os hiperparâmetros do melhor modelo encontrado, reproduzimos ele novamente para verificar outras métricas como F1-score, MCC, Sensitivity, Specificity."
      ],
      "metadata": {
        "id": "9k2hhTDCaaTP"
      }
    },
    {
      "cell_type": "code",
      "source": [
        "scoring = {\n",
        "    'accuracy': make_scorer(accuracy_score),\n",
        "    'f1': make_scorer(f1_score, pos_label='anticancer'),\n",
        "    'mcc': make_scorer(matthews_corrcoef),\n",
        "    'sensitivity': make_scorer(recall_score, pos_label='anticancer'),\n",
        "    'specificity': make_scorer(recall_score, pos_label='non')\n",
        "}\n",
        "\n",
        "best_params = study.best_params\n",
        "\n",
        "best_model = Pipeline([\n",
        "    (\"scaler\", StandardScaler()),\n",
        "    (\"svm\", SVC(C=best_params[\"svm_C\"], kernel=best_params[\"svm_kernel\"], gamma=best_params[\"svm_gamma\"]))\n",
        "])\n",
        "\n",
        "cv_results = cross_validate(best_model, X, y, cv=10, scoring=scoring)\n",
        "\n",
        "print(f\"Accuracy: {cv_results['test_accuracy'].mean():.4f} +- {cv_results['test_accuracy'].std():.4f}\")\n",
        "print(f\"F1-score: {cv_results['test_f1'].mean():.4f} +- {cv_results['test_f1'].std():.4f}\")\n",
        "print(f\"MCC: {cv_results['test_mcc'].mean():.4f} +- {cv_results['test_mcc'].std():.4f}\")\n",
        "print(f\"Sensitivity: {cv_results['test_sensitivity'].mean():.4f} +- {cv_results['test_sensitivity'].std():.4f}\")\n",
        "print(f\"Specificity: {cv_results['test_specificity'].mean():.4f} +- {cv_results['test_specificity'].std():.4f}\")"
      ],
      "metadata": {
        "colab": {
          "base_uri": "https://localhost:8080/"
        },
        "id": "rZkM4e9RlP5Q",
        "outputId": "f40fd868-ee3d-4eed-cabb-3794cfedf5c2"
      },
      "execution_count": 11,
      "outputs": [
        {
          "output_type": "stream",
          "name": "stdout",
          "text": [
            "Accuracy: 0.9301 +- 0.0844\n",
            "F1-score: 0.8801 +- 0.1787\n",
            "MCC: 0.8581 +- 0.1728\n",
            "Sensitivity: 0.8209 +- 0.2209\n",
            "Specificity: 1.0000 +- 0.0000\n"
          ]
        }
      ]
    },
    {
      "cell_type": "markdown",
      "source": [
        "### Uso do Conhecimento"
      ],
      "metadata": {
        "id": "IVwMQax8ah2p"
      }
    },
    {
      "cell_type": "markdown",
      "source": [
        "Podemos fazer o deploy do nosso modelo mais robusto que utiliza em embeddings como uma aplicação em Streamlit. Vamos salvar o modelo que será usado na aplicação."
      ],
      "metadata": {
        "id": "hmtgelz7amqQ"
      }
    },
    {
      "cell_type": "code",
      "source": [
        "model = best_model.fit(X, y)\n",
        "\n",
        "joblib.dump(model, \"best_model.pkl\")"
      ],
      "metadata": {
        "colab": {
          "base_uri": "https://localhost:8080/"
        },
        "id": "Pqwfx0KVcTQh",
        "outputId": "b6d596f3-f5c0-46a0-eb69-a616e0c03029"
      },
      "execution_count": 12,
      "outputs": [
        {
          "output_type": "execute_result",
          "data": {
            "text/plain": [
              "['best_model.pkl']"
            ]
          },
          "metadata": {},
          "execution_count": 12
        }
      ]
    },
    {
      "cell_type": "markdown",
      "source": [
        "O código da aplicação a ser desenvolvido necessitará apenas de fazer a conversão para embeddings e utilizar o modelo para predição."
      ],
      "metadata": {
        "id": "sgP0QliWc0C7"
      }
    }
  ]
}
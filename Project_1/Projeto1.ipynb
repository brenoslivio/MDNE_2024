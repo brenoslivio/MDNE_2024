{
  "nbformat": 4,
  "nbformat_minor": 0,
  "metadata": {
    "colab": {
      "provenance": [],
      "authorship_tag": "ABX9TyM9H/l9o6mnY5ud5zeEvkT6",
      "include_colab_link": true
    },
    "kernelspec": {
      "name": "python3",
      "display_name": "Python 3"
    },
    "language_info": {
      "name": "python"
    }
  },
  "cells": [
    {
      "cell_type": "markdown",
      "metadata": {
        "id": "view-in-github",
        "colab_type": "text"
      },
      "source": [
        "<a href=\"https://colab.research.google.com/github/brenoslivio/MDNE_2024/blob/main/Project_1/Projeto1.ipynb\" target=\"_parent\"><img src=\"https://colab.research.google.com/assets/colab-badge.svg\" alt=\"Open In Colab\"/></a>"
      ]
    },
    {
      "cell_type": "markdown",
      "source": [
        "## SCC5920 - Mineração de Dados Não Estruturados (2024)\n"
      ],
      "metadata": {
        "id": "eq4GQ9cTE9cY"
      }
    },
    {
      "cell_type": "markdown",
      "source": [
        "**Projeto 1: Mineração de Textos - Classificação de Peptídeos Anti Câncer**\n",
        "\n",
        "Prof. Ricardo Marcacini\n",
        "\n",
        "**Aluno:** Breno Livio Silva de Almeida\n",
        "\n",
        "**NUSP:** 10276675\n",
        "\n",
        "---"
      ],
      "metadata": {
        "id": "1_CWesBKFAOP"
      }
    },
    {
      "cell_type": "code",
      "source": [
        "!pip install biopython"
      ],
      "metadata": {
        "colab": {
          "base_uri": "https://localhost:8080/"
        },
        "id": "AEwFn7ZvFjuy",
        "outputId": "7175cf05-8220-4928-8691-45df75868b2b"
      },
      "execution_count": 2,
      "outputs": [
        {
          "output_type": "stream",
          "name": "stdout",
          "text": [
            "Collecting biopython\n",
            "  Downloading biopython-1.84-cp310-cp310-manylinux_2_17_x86_64.manylinux2014_x86_64.whl.metadata (12 kB)\n",
            "Requirement already satisfied: numpy in /usr/local/lib/python3.10/dist-packages (from biopython) (1.26.4)\n",
            "Downloading biopython-1.84-cp310-cp310-manylinux_2_17_x86_64.manylinux2014_x86_64.whl (3.2 MB)\n",
            "\u001b[2K   \u001b[90m━━━━━━━━━━━━━━━━━━━━━━━━━━━━━━━━━━━━━━━━\u001b[0m \u001b[32m3.2/3.2 MB\u001b[0m \u001b[31m40.2 MB/s\u001b[0m eta \u001b[36m0:00:00\u001b[0m\n",
            "\u001b[?25hInstalling collected packages: biopython\n",
            "Successfully installed biopython-1.84\n"
          ]
        }
      ]
    },
    {
      "cell_type": "code",
      "source": [
        "from Bio import SeqIO\n",
        "import requests, io\n",
        "import polars as pl\n",
        "\n",
        "labels = [\"anticancer\", \"non\"]\n",
        "\n",
        "df_seqs = pl.DataFrame()\n",
        "\n",
        "for label in labels:\n",
        "  response = requests.get(f\"https://raw.githubusercontent.com/brenoslivio/MDNE_2024/refs/heads/main/Project_1/{label}.fasta\")\n",
        "\n",
        "  headers, seqs, labels = [], [], []\n",
        "\n",
        "  if response.status_code == 200:\n",
        "      handle = io.StringIO(response.text)\n",
        "      for record in SeqIO.parse(handle, \"fasta\"):\n",
        "          headers.append(record.description)\n",
        "          seqs.append(str(record.seq))\n",
        "  else:\n",
        "      print(f\"Failed to download file. Status code: {response.status_code}\")\n",
        "\n",
        "  df_seqs = pl.concat([df_seqs, pl.DataFrame({\"header\": headers, \"sequence\": seqs}).with_columns(label=pl.lit(label))])\n",
        "\n",
        "df_seqs"
      ],
      "metadata": {
        "colab": {
          "base_uri": "https://localhost:8080/",
          "height": 443
        },
        "id": "1zErt5pbFM5X",
        "outputId": "fbb16846-a57f-44b3-cd27-5c1baa0ab6e8"
      },
      "execution_count": 12,
      "outputs": [
        {
          "output_type": "execute_result",
          "data": {
            "text/plain": [
              "shape: (344, 3)\n",
              "┌─────────────┬─────────────────────────────────┬────────────┐\n",
              "│ header      ┆ sequence                        ┆ label      │\n",
              "│ ---         ┆ ---                             ┆ ---        │\n",
              "│ str         ┆ str                             ┆ str        │\n",
              "╞═════════════╪═════════════════════════════════╪════════════╡\n",
              "│ ACP_1       ┆ GLWSKIKEVGKEAAKAAAKAAGKAALGAVS… ┆ anticancer │\n",
              "│ ACP_2       ┆ GLFDIIKKIAESI                   ┆ anticancer │\n",
              "│ ACP_3       ┆ GLLDIVKKVVGAFGSL                ┆ anticancer │\n",
              "│ ACP_4       ┆ GLFDIVKKVVGALGSL                ┆ anticancer │\n",
              "│ ACP_5       ┆ GLFDIVKKVVGTLAGL                ┆ anticancer │\n",
              "│ …           ┆ …                               ┆ …          │\n",
              "│ non-ACP_202 ┆ TDTPLDLAIQQLQNLAIESIPDPPTNTPEA… ┆ non        │\n",
              "│ non-ACP_203 ┆ LRLIHFLHQTTDPYPQGPGTANQRRRR     ┆ non        │\n",
              "│ non-ACP_204 ┆ PVDTPLDLAIQQLQGLAIEELPDPPTSAPE… ┆ non        │\n",
              "│ non-ACP_205 ┆ NTNVTPHLLAGMRLIAVQQPEDPLRVL     ┆ non        │\n",
              "│ non-ACP_206 ┆ QTLVHNGGRLPPDLQLSAEDSSSTPS      ┆ non        │\n",
              "└─────────────┴─────────────────────────────────┴────────────┘"
            ],
            "text/html": [
              "<div><style>\n",
              ".dataframe > thead > tr,\n",
              ".dataframe > tbody > tr {\n",
              "  text-align: right;\n",
              "  white-space: pre-wrap;\n",
              "}\n",
              "</style>\n",
              "<small>shape: (344, 3)</small><table border=\"1\" class=\"dataframe\"><thead><tr><th>header</th><th>sequence</th><th>label</th></tr><tr><td>str</td><td>str</td><td>str</td></tr></thead><tbody><tr><td>&quot;ACP_1&quot;</td><td>&quot;GLWSKIKEVGKEAAKAAAKAAGKAALGAVS…</td><td>&quot;anticancer&quot;</td></tr><tr><td>&quot;ACP_2&quot;</td><td>&quot;GLFDIIKKIAESI&quot;</td><td>&quot;anticancer&quot;</td></tr><tr><td>&quot;ACP_3&quot;</td><td>&quot;GLLDIVKKVVGAFGSL&quot;</td><td>&quot;anticancer&quot;</td></tr><tr><td>&quot;ACP_4&quot;</td><td>&quot;GLFDIVKKVVGALGSL&quot;</td><td>&quot;anticancer&quot;</td></tr><tr><td>&quot;ACP_5&quot;</td><td>&quot;GLFDIVKKVVGTLAGL&quot;</td><td>&quot;anticancer&quot;</td></tr><tr><td>&hellip;</td><td>&hellip;</td><td>&hellip;</td></tr><tr><td>&quot;non-ACP_202&quot;</td><td>&quot;TDTPLDLAIQQLQNLAIESIPDPPTNTPEA…</td><td>&quot;non&quot;</td></tr><tr><td>&quot;non-ACP_203&quot;</td><td>&quot;LRLIHFLHQTTDPYPQGPGTANQRRRR&quot;</td><td>&quot;non&quot;</td></tr><tr><td>&quot;non-ACP_204&quot;</td><td>&quot;PVDTPLDLAIQQLQGLAIEELPDPPTSAPE…</td><td>&quot;non&quot;</td></tr><tr><td>&quot;non-ACP_205&quot;</td><td>&quot;NTNVTPHLLAGMRLIAVQQPEDPLRVL&quot;</td><td>&quot;non&quot;</td></tr><tr><td>&quot;non-ACP_206&quot;</td><td>&quot;QTLVHNGGRLPPDLQLSAEDSSSTPS&quot;</td><td>&quot;non&quot;</td></tr></tbody></table></div>"
            ]
          },
          "metadata": {},
          "execution_count": 12
        }
      ]
    },
    {
      "cell_type": "code",
      "source": [],
      "metadata": {
        "id": "x6mx--mpFMy3"
      },
      "execution_count": null,
      "outputs": []
    },
    {
      "cell_type": "code",
      "execution_count": null,
      "metadata": {
        "id": "sAm1KYySE8PK"
      },
      "outputs": [],
      "source": []
    },
    {
      "cell_type": "code",
      "source": [],
      "metadata": {
        "id": "rmCfHZodE_0u"
      },
      "execution_count": null,
      "outputs": []
    }
  ]
}
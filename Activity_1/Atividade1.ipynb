{
  "nbformat": 4,
  "nbformat_minor": 0,
  "metadata": {
    "colab": {
      "provenance": []
    },
    "kernelspec": {
      "name": "python3",
      "display_name": "Python 3"
    },
    "language_info": {
      "name": "python"
    }
  },
  "cells": [
    {
      "cell_type": "markdown",
      "source": [
        "## SCC5920 - Mineração de Dados Não Estruturados (2024)\n",
        "\n"
      ],
      "metadata": {
        "id": "6uq8IPgdg0C1"
      }
    },
    {
      "cell_type": "markdown",
      "source": [
        "**Atividade 1 - Nivelamento em Mineração de Dados**\n",
        "\n",
        "Prof. Ricardo Marcacini\n",
        "\n",
        "**Aluno:** Breno Livio Silva de Almeida\n",
        "\n",
        "**NUSP:** 10276675\n",
        "\n",
        "---"
      ],
      "metadata": {
        "id": "hIhern7GiDb7"
      }
    },
    {
      "cell_type": "markdown",
      "source": [
        "### Parte 1: Seleção da Base de Dados"
      ],
      "metadata": {
        "id": "W2dOQwMHh1jW"
      }
    },
    {
      "cell_type": "markdown",
      "source": [
        "A base de dados selecionada foi a *Students Performance Dataset* disponível na plataforma [Kaggle](https://www.kaggle.com/datasets/rabieelkharoua/students-performance-dataset). Esta base de dados contém informações abrangentes sobre 2.392 estudantes do ensino médio, detalhando aspectos demográficos, hábitos de estudo, envolvimento dos pais, atividades extracurriculares e desempenho acadêmico. A variável alvo, `GradeClass`, classifica as notas dos estudantes em diferentes categorias, fornecendo um conjunto de dados robusto para pesquisas educacionais, modelagem preditiva e análise estatística.\n",
        "\n",
        "Temos as seguintes variáveis:\n",
        "\n",
        "`StudentID`: Discreta e nominal — identificador único de cada estudante.\n",
        "\n",
        "`Age`: Contínua — idade dos estudantes, variando de 15 a 18 anos.\n",
        "\n",
        "`Gender`: Nominal — gênero dos estudantes, codificado como 0 (masculino) ou 1 (feminino).\n",
        "\n",
        "`Ethnicity`: Nominal — etnia dos estudantes, codificada como:\n",
        "\n",
        "    0: Caucasiano\n",
        "    1: Afro-Americano\n",
        "    2: Asiático\n",
        "    3: Outro\n",
        "\n",
        "`ParentalEducation`: Ordinal — nível de educação dos pais, codificado como:\n",
        "\n",
        "    0: Nenhum\n",
        "    1: Ensino Médio\n",
        "    2: Alguma Faculdade\n",
        "    3: Bacharelado\n",
        "    4: Superior\n",
        "\n",
        "`StudyTimeWeekly`: Contínua — tempo semanal de estudo em horas, variando de 0 a 20.\n",
        "\n",
        "`Absences`: Discreta — número de ausências durante o ano letivo, variando de 0 a 30.\n",
        "\n",
        "`Tutoring`: Nominal — status de tutoria, codificado como 0 (Não) ou 1 (Sim).\n",
        "\n",
        "`ParentalSupport`: Ordinal — nível de apoio dos pais, codificado como:\n",
        "\n",
        "    0: Nenhum\n",
        "    1: Baixo\n",
        "    2: Moderado\n",
        "    3: Alto\n",
        "    4: Muito Alto\n",
        "\n",
        "`Extracurricular`: Nominal — participação em atividades extracurriculares, codificado como 0 (Não) ou 1 (Sim).\n",
        "\n",
        "`Sports`: Nominal — participação em esportes, codificado como 0 (Não) ou 1 (Sim).\n",
        "\n",
        "`Music`: Nominal — participação em atividades musicais, codificado como 0 (Não) ou 1 (Sim).\n",
        "\n",
        "`Volunteering`: Nominal — participação em voluntariado, codificado como 0 (Não) ou 1 (Sim).\n",
        "\n",
        "`GPA`: Contínua — média das notas (GPA) em uma escala de 2,0 a 4,0.\n",
        "\n",
        "`GradeClass`: Ordinal — classificação das notas dos estudantes com base no GPA:\n",
        "\n",
        "    0: 'A' (GPA ≥ 3,5)\n",
        "    1: 'B' (3,0 ≤ GPA < 3,5)\n",
        "    2: 'C' (2,5 ≤ GPA < 3,0)\n",
        "    3: 'D' (2,0 ≤ GPA < 2,5)\n",
        "    4: 'F' (GPA < 2,0)\n",
        "\n",
        "---"
      ],
      "metadata": {
        "id": "s9kerSTjNxvm"
      }
    },
    {
      "cell_type": "markdown",
      "source": [
        "### Parte 2: Pré-processamento"
      ],
      "metadata": {
        "id": "i1jfqT4XRloL"
      }
    },
    {
      "cell_type": "markdown",
      "source": [
        "Para manipular nossa base de dados, iremos utilizar da ferramenta Polars. A variável `StudentID` será eliminada por ser apenas um identificador. Como queremos predizer a variável `GradeClass`, também vamos eliminar a variável `GPA` já que esta corresponde à mesma ideia."
      ],
      "metadata": {
        "id": "2f0NesgHX_b3"
      }
    },
    {
      "cell_type": "code",
      "execution_count": null,
      "metadata": {
        "id": "LU3xgJ57gv-Y",
        "colab": {
          "base_uri": "https://localhost:8080/",
          "height": 443
        },
        "outputId": "90bfbf79-c85a-48d2-fb94-1f9dd3600bb8"
      },
      "outputs": [
        {
          "output_type": "execute_result",
          "data": {
            "text/plain": [
              "shape: (2_392, 13)\n",
              "┌─────┬────────┬───────────┬───────────────────┬───┬────────┬───────┬──────────────┬────────────┐\n",
              "│ Age ┆ Gender ┆ Ethnicity ┆ ParentalEducation ┆ … ┆ Sports ┆ Music ┆ Volunteering ┆ GradeClass │\n",
              "│ --- ┆ ---    ┆ ---       ┆ ---               ┆   ┆ ---    ┆ ---   ┆ ---          ┆ ---        │\n",
              "│ i64 ┆ i64    ┆ i64       ┆ i64               ┆   ┆ i64    ┆ i64   ┆ i64          ┆ f64        │\n",
              "╞═════╪════════╪═══════════╪═══════════════════╪═══╪════════╪═══════╪══════════════╪════════════╡\n",
              "│ 17  ┆ 1      ┆ 0         ┆ 2                 ┆ … ┆ 0      ┆ 1     ┆ 0            ┆ 2.0        │\n",
              "│ 18  ┆ 0      ┆ 0         ┆ 1                 ┆ … ┆ 0      ┆ 0     ┆ 0            ┆ 1.0        │\n",
              "│ 15  ┆ 0      ┆ 2         ┆ 3                 ┆ … ┆ 0      ┆ 0     ┆ 0            ┆ 4.0        │\n",
              "│ 17  ┆ 1      ┆ 0         ┆ 3                 ┆ … ┆ 0      ┆ 0     ┆ 0            ┆ 3.0        │\n",
              "│ 17  ┆ 1      ┆ 0         ┆ 2                 ┆ … ┆ 0      ┆ 0     ┆ 0            ┆ 4.0        │\n",
              "│ …   ┆ …      ┆ …         ┆ …                 ┆ … ┆ …      ┆ …     ┆ …            ┆ …          │\n",
              "│ 18  ┆ 1      ┆ 0         ┆ 3                 ┆ … ┆ 0      ┆ 0     ┆ 0            ┆ 0.0        │\n",
              "│ 17  ┆ 0      ┆ 0         ┆ 1                 ┆ … ┆ 1      ┆ 0     ┆ 0            ┆ 4.0        │\n",
              "│ 16  ┆ 1      ┆ 0         ┆ 2                 ┆ … ┆ 0      ┆ 0     ┆ 1            ┆ 2.0        │\n",
              "│ 16  ┆ 1      ┆ 1         ┆ 0                 ┆ … ┆ 1      ┆ 1     ┆ 0            ┆ 1.0        │\n",
              "│ 16  ┆ 1      ┆ 0         ┆ 2                 ┆ … ┆ 0      ┆ 0     ┆ 1            ┆ 1.0        │\n",
              "└─────┴────────┴───────────┴───────────────────┴───┴────────┴───────┴──────────────┴────────────┘"
            ],
            "text/html": [
              "<div><style>\n",
              ".dataframe > thead > tr,\n",
              ".dataframe > tbody > tr {\n",
              "  text-align: right;\n",
              "  white-space: pre-wrap;\n",
              "}\n",
              "</style>\n",
              "<small>shape: (2_392, 13)</small><table border=\"1\" class=\"dataframe\"><thead><tr><th>Age</th><th>Gender</th><th>Ethnicity</th><th>ParentalEducation</th><th>StudyTimeWeekly</th><th>Absences</th><th>Tutoring</th><th>ParentalSupport</th><th>Extracurricular</th><th>Sports</th><th>Music</th><th>Volunteering</th><th>GradeClass</th></tr><tr><td>i64</td><td>i64</td><td>i64</td><td>i64</td><td>f64</td><td>i64</td><td>i64</td><td>i64</td><td>i64</td><td>i64</td><td>i64</td><td>i64</td><td>f64</td></tr></thead><tbody><tr><td>17</td><td>1</td><td>0</td><td>2</td><td>19.833723</td><td>7</td><td>1</td><td>2</td><td>0</td><td>0</td><td>1</td><td>0</td><td>2.0</td></tr><tr><td>18</td><td>0</td><td>0</td><td>1</td><td>15.408756</td><td>0</td><td>0</td><td>1</td><td>0</td><td>0</td><td>0</td><td>0</td><td>1.0</td></tr><tr><td>15</td><td>0</td><td>2</td><td>3</td><td>4.21057</td><td>26</td><td>0</td><td>2</td><td>0</td><td>0</td><td>0</td><td>0</td><td>4.0</td></tr><tr><td>17</td><td>1</td><td>0</td><td>3</td><td>10.028829</td><td>14</td><td>0</td><td>3</td><td>1</td><td>0</td><td>0</td><td>0</td><td>3.0</td></tr><tr><td>17</td><td>1</td><td>0</td><td>2</td><td>4.672495</td><td>17</td><td>1</td><td>3</td><td>0</td><td>0</td><td>0</td><td>0</td><td>4.0</td></tr><tr><td>&hellip;</td><td>&hellip;</td><td>&hellip;</td><td>&hellip;</td><td>&hellip;</td><td>&hellip;</td><td>&hellip;</td><td>&hellip;</td><td>&hellip;</td><td>&hellip;</td><td>&hellip;</td><td>&hellip;</td><td>&hellip;</td></tr><tr><td>18</td><td>1</td><td>0</td><td>3</td><td>10.680555</td><td>2</td><td>0</td><td>4</td><td>1</td><td>0</td><td>0</td><td>0</td><td>0.0</td></tr><tr><td>17</td><td>0</td><td>0</td><td>1</td><td>7.583217</td><td>4</td><td>1</td><td>4</td><td>0</td><td>1</td><td>0</td><td>0</td><td>4.0</td></tr><tr><td>16</td><td>1</td><td>0</td><td>2</td><td>6.8055</td><td>20</td><td>0</td><td>2</td><td>0</td><td>0</td><td>0</td><td>1</td><td>2.0</td></tr><tr><td>16</td><td>1</td><td>1</td><td>0</td><td>12.416653</td><td>17</td><td>0</td><td>2</td><td>0</td><td>1</td><td>1</td><td>0</td><td>1.0</td></tr><tr><td>16</td><td>1</td><td>0</td><td>2</td><td>17.819907</td><td>13</td><td>0</td><td>2</td><td>0</td><td>0</td><td>0</td><td>1</td><td>1.0</td></tr></tbody></table></div>"
            ]
          },
          "metadata": {},
          "execution_count": 8
        }
      ],
      "source": [
        "import polars as pl\n",
        "\n",
        "df_student = pl.read_csv(\"students.csv\")\n",
        "df_student = df_student.drop([\"StudentID\", \"GPA\"])\n",
        "df_student"
      ]
    },
    {
      "cell_type": "markdown",
      "source": [
        "Podemos checar o desbalanceamento de classes em nossa base de dados."
      ],
      "metadata": {
        "id": "Nk5aJVv7raTu"
      }
    },
    {
      "cell_type": "code",
      "source": [
        "df_student[\"GradeClass\"].value_counts()"
      ],
      "metadata": {
        "colab": {
          "base_uri": "https://localhost:8080/",
          "height": 255
        },
        "id": "AY5CHtZ7rBTn",
        "outputId": "b0290d44-b468-444b-adfb-7babe445b698"
      },
      "execution_count": null,
      "outputs": [
        {
          "output_type": "execute_result",
          "data": {
            "text/plain": [
              "shape: (5, 2)\n",
              "┌────────────┬───────┐\n",
              "│ GradeClass ┆ count │\n",
              "│ ---        ┆ ---   │\n",
              "│ f64        ┆ u32   │\n",
              "╞════════════╪═══════╡\n",
              "│ 0.0        ┆ 107   │\n",
              "│ 1.0        ┆ 269   │\n",
              "│ 3.0        ┆ 414   │\n",
              "│ 4.0        ┆ 1211  │\n",
              "│ 2.0        ┆ 391   │\n",
              "└────────────┴───────┘"
            ],
            "text/html": [
              "<div><style>\n",
              ".dataframe > thead > tr,\n",
              ".dataframe > tbody > tr {\n",
              "  text-align: right;\n",
              "  white-space: pre-wrap;\n",
              "}\n",
              "</style>\n",
              "<small>shape: (5, 2)</small><table border=\"1\" class=\"dataframe\"><thead><tr><th>GradeClass</th><th>count</th></tr><tr><td>f64</td><td>u32</td></tr></thead><tbody><tr><td>0.0</td><td>107</td></tr><tr><td>1.0</td><td>269</td></tr><tr><td>3.0</td><td>414</td></tr><tr><td>4.0</td><td>1211</td></tr><tr><td>2.0</td><td>391</td></tr></tbody></table></div>"
            ]
          },
          "metadata": {},
          "execution_count": 9
        }
      ]
    },
    {
      "cell_type": "markdown",
      "source": [
        "Agora podemos padronizar e selecionar características de maior relevância para a tarefa de classificação. Para isso, podemos utilizar do módulo `Pipeline` do scikit-learn que permite a inserção de etapas como essas. Para padronizar nossos dados, vamos utilizar do `StandardScaler` e para a seleção de cacterísticas, do método `SelectKBest` utilizando do `f_classif`, que computa o valor F ANOVA. Ao final temos o nosso data set já transformado com a padronização e as 5 melhores características."
      ],
      "metadata": {
        "id": "GyAXe91idvj8"
      }
    },
    {
      "cell_type": "code",
      "source": [
        "from sklearn.pipeline import Pipeline\n",
        "from sklearn.preprocessing import StandardScaler\n",
        "from sklearn.feature_selection import SelectKBest, f_classif\n",
        "\n",
        "pipeline = Pipeline([\n",
        "    (\"scaler\", StandardScaler()),\n",
        "    (\"feature_selection\", SelectKBest(f_classif, k=5))\n",
        "])\n",
        "\n",
        "X, y = df_student.drop(\"GradeClass\"), df_student.select(\"GradeClass\")[\"GradeClass\"]\n",
        "feature_names = X.columns\n",
        "\n",
        "X_transformed = pipeline.fit_transform(X, y)\n",
        "\n",
        "X_transformed.shape"
      ],
      "metadata": {
        "colab": {
          "base_uri": "https://localhost:8080/"
        },
        "id": "lNQuMtUQPMHq",
        "outputId": "dab6f1da-aef8-449e-8349-67aae883a4d8"
      },
      "execution_count": null,
      "outputs": [
        {
          "output_type": "execute_result",
          "data": {
            "text/plain": [
              "(2392, 5)"
            ]
          },
          "metadata": {},
          "execution_count": 10
        }
      ]
    },
    {
      "cell_type": "markdown",
      "source": [
        "Também podemos visualizar as 5 características mais relevantes que foram escolhidas. Podemos ver que a característica referente às faltas dos alunos tem grande impacto no desempenho final."
      ],
      "metadata": {
        "id": "2jmzTc26fuG5"
      }
    },
    {
      "cell_type": "code",
      "source": [
        "import matplotlib.pyplot as plt\n",
        "import numpy as np\n",
        "\n",
        "select_k_best = pipeline.named_steps[\"feature_selection\"]\n",
        "\n",
        "selected_indices = select_k_best.get_support(indices=True)\n",
        "selected_scores = select_k_best.scores_[selected_indices]\n",
        "selected_feature_names = np.array(feature_names)[selected_indices]\n",
        "\n",
        "sorted_indices = np.argsort(selected_scores)[::-1]\n",
        "sorted_feature_names = selected_feature_names[sorted_indices]\n",
        "sorted_scores = selected_scores[sorted_indices]\n",
        "\n",
        "plt.figure(figsize=(10, 6))\n",
        "plt.barh(sorted_feature_names, sorted_scores)\n",
        "plt.xlabel(\"Importância da característica\")\n",
        "plt.ylabel(\"Características\")\n",
        "plt.title(\"Cinco melhores características\")\n",
        "plt.gca().invert_yaxis()\n",
        "plt.show()"
      ],
      "metadata": {
        "colab": {
          "base_uri": "https://localhost:8080/",
          "height": 565
        },
        "id": "mQkpvOPJfBdI",
        "outputId": "2d3b6948-3e0e-4811-a034-c700ac246087"
      },
      "execution_count": null,
      "outputs": [
        {
          "output_type": "display_data",
          "data": {
            "text/plain": [
              "<Figure size 1000x600 with 1 Axes>"
            ],
            "image/png": "[encoded data removed]"
          },
          "metadata": {}
        }
      ]
    },
    {
      "cell_type": "markdown",
      "source": [
        "---"
      ],
      "metadata": {
        "id": "7XP25oB9fCQS"
      }
    },
    {
      "cell_type": "markdown",
      "source": [
        "### Parte 3: Extração de Padrões e Pós-processamento\n"
      ],
      "metadata": {
        "id": "OXwpV13Gjb5B"
      }
    },
    {
      "cell_type": "markdown",
      "source": [
        "Nesta parte, prosseguimos para a classificação e clustering de nossa base de dados. Para evitar problemas como *data leak* na classificação vamos criar uma nova *pipeline* que faça todas as etapas desde padronização, seleção de características e classificação. Com isso, ao utilizar de *k-fold cross-validation*, as partes utilizadas para treino e teste serão lidadas de forma adequada. Vamos utilizar todas as características e o KNN como classificador utilizando hiperparâmetros padrões e obter o `cross_val_score`. Adicionalmente, como a base é multiclasse e desbalanceada, se torna importante a utilização de métricas como F1-Score usando a média micro para avaliar o desempenho. De padrão, muitos métodos de validação cruzada no scikit-learn já utilizam a divisão estratificada dos dados."
      ],
      "metadata": {
        "id": "Erxme_5ijq5U"
      }
    },
    {
      "cell_type": "code",
      "source": [
        "from sklearn.neighbors import KNeighborsClassifier\n",
        "from sklearn.model_selection import cross_val_score\n",
        "\n",
        "pipeline = Pipeline([\n",
        "    (\"scaler\", StandardScaler()),\n",
        "    (\"feature_selection\", SelectKBest(f_classif, k=\"all\")),\n",
        "    (\"knn\", KNeighborsClassifier())\n",
        "])\n",
        "\n",
        "scores = cross_val_score(pipeline, X, y, cv=10, scoring=\"f1_micro\")\n",
        "\n",
        "print(f\"{np.mean(scores):.4f} +- {np.std(scores):.4f}\")"
      ],
      "metadata": {
        "colab": {
          "base_uri": "https://localhost:8080/"
        },
        "id": "j2bgkPg6iqTo",
        "outputId": "ed6f2299-7634-4c0e-d09d-2e5b8c3018e7"
      },
      "execution_count": null,
      "outputs": [
        {
          "output_type": "stream",
          "name": "stdout",
          "text": [
            "0.5723 +- 0.0462\n"
          ]
        }
      ]
    },
    {
      "cell_type": "markdown",
      "source": [
        "Note que ao considerar apenas as 5 melhores características, como fizemos antes, temos um desempenho consideravelmente superior."
      ],
      "metadata": {
        "id": "B-QzJKn67-EC"
      }
    },
    {
      "cell_type": "code",
      "source": [
        "pipeline = Pipeline([\n",
        "    (\"scaler\", StandardScaler()),\n",
        "    (\"feature_selection\", SelectKBest(f_classif, k=5)),\n",
        "    (\"knn\", KNeighborsClassifier())\n",
        "])\n",
        "\n",
        "scores = cross_val_score(pipeline, X, y, cv=10, scoring=\"f1_micro\")\n",
        "\n",
        "print(f\"{np.mean(scores):.4f} +- {np.std(scores):.4f}\")"
      ],
      "metadata": {
        "colab": {
          "base_uri": "https://localhost:8080/"
        },
        "id": "yI7kMNTK7475",
        "outputId": "8ba008f9-19ef-42a3-fe33-b0bb0d20d4c1"
      },
      "execution_count": null,
      "outputs": [
        {
          "output_type": "stream",
          "name": "stdout",
          "text": [
            "0.6864 +- 0.0810\n"
          ]
        }
      ]
    },
    {
      "cell_type": "markdown",
      "source": [
        "A validação cruzada mostrou que o modelo básico nos retorna um desempenho médio de 0.6864 +- 0.0810 em F1-Score média micro. Vamos fazer o mesmo agora variando o valor de *k* e a medida de similaridade para o classificador KNN com o `GridSearchCV`."
      ],
      "metadata": {
        "id": "I2y6Oq2um3hP"
      }
    },
    {
      "cell_type": "code",
      "source": [
        "from sklearn.model_selection import GridSearchCV\n",
        "from sklearn.model_selection import StratifiedKFold\n",
        "\n",
        "pipeline = Pipeline([\n",
        "    (\"scaler\", StandardScaler()),\n",
        "    (\"feature_selection\", SelectKBest(f_classif, k=5)),\n",
        "    (\"knn\", KNeighborsClassifier())\n",
        "])\n",
        "\n",
        "param_grid = {\n",
        "    \"knn__n_neighbors\": [3, 5, 7, 9, 11, 13, 15, 17, 19, 21, 23, 25],\n",
        "    \"knn__metric\": [\"euclidean\", \"manhattan\"]\n",
        "}\n",
        "\n",
        "grid_search = GridSearchCV(pipeline, param_grid, cv=10, scoring=\"f1_micro\", n_jobs=-1)\n",
        "\n",
        "grid_search.fit(X, y)\n",
        "\n",
        "print(f\"Melhores parâmetros: {grid_search.best_params_}\")\n",
        "print(f\"Melhor média 10-fold CV: {grid_search.best_score_:.4f}\")"
      ],
      "metadata": {
        "colab": {
          "base_uri": "https://localhost:8080/"
        },
        "id": "tpVBCLDJlavZ",
        "outputId": "6f02990b-93c0-4f63-cde4-457d2c729045"
      },
      "execution_count": null,
      "outputs": [
        {
          "output_type": "stream",
          "name": "stdout",
          "text": [
            "Melhores parâmetros: {'knn__metric': 'manhattan', 'knn__n_neighbors': 19}\n",
            "Melhor média 10-fold CV: 0.7032\n"
          ]
        }
      ]
    },
    {
      "cell_type": "markdown",
      "source": [
        "Podemos ver uma leve melhora ao se utilizar um modelo que utiliza KNN com k=19 e distância manhattan."
      ],
      "metadata": {
        "id": "GwdEzL5OtWDv"
      }
    },
    {
      "cell_type": "markdown",
      "source": [
        "Vamos para técnicas de clustering utilizando do algoritmo *k-means*. Vamos utilizar da medida de Silhouette para determinar o melhor número de grupos, variando o valor de *k* escolhido. O valor da medida tem como melhor valor 1 e o pior valor sendo -1. Valores próximos de 0 indicam clusters sobrepostos."
      ],
      "metadata": {
        "id": "4a9xVo6bupFa"
      }
    },
    {
      "cell_type": "code",
      "source": [
        "from sklearn.cluster import KMeans\n",
        "from sklearn.metrics import silhouette_score, rand_score\n",
        "\n",
        "silhouette_scores = []\n",
        "\n",
        "k_range = range(2, 10)\n",
        "\n",
        "for k in k_range:\n",
        "    kmeans = KMeans(n_clusters=k, n_init='auto', random_state=42)\n",
        "    cluster_labels = kmeans.fit_predict(X_transformed)\n",
        "    silhouette_avg = silhouette_score(X_transformed, cluster_labels, random_state=42)\n",
        "    silhouette_scores.append(silhouette_avg)\n",
        "    print(f\"Para k={k}, a medida de Silhouette é {silhouette_avg:.4f}\")\n",
        "\n",
        "best_k = k_range[np.argmax(silhouette_scores)]\n",
        "print(f\"O melhor número de clusters com base na medida de Silhouette é {best_k}\")\n",
        "\n",
        "plt.figure(figsize=(12, 5))\n",
        "\n",
        "plt.plot(k_range, silhouette_scores, marker='o')\n",
        "plt.title('Medida de Silhouette vs. Número de Clusters')\n",
        "plt.xlabel('Número de Clusters (k)')\n",
        "plt.ylabel('Medida de Silhouette')\n",
        "\n",
        "plt.tight_layout()\n",
        "plt.show()"
      ],
      "metadata": {
        "colab": {
          "base_uri": "https://localhost:8080/",
          "height": 668
        },
        "id": "2VDkzKhKvpHn",
        "outputId": "c96fdd79-f076-4646-bdfc-67b85a894c65"
      },
      "execution_count": null,
      "outputs": [
        {
          "output_type": "stream",
          "name": "stdout",
          "text": [
            "Para k=2, a medida de Silhouette é 0.2220\n",
            "Para k=3, a medida de Silhouette é 0.2425\n",
            "Para k=4, a medida de Silhouette é 0.2415\n",
            "Para k=5, a medida de Silhouette é 0.2060\n",
            "Para k=6, a medida de Silhouette é 0.2254\n",
            "Para k=7, a medida de Silhouette é 0.2325\n",
            "Para k=8, a medida de Silhouette é 0.2290\n",
            "Para k=9, a medida de Silhouette é 0.2239\n",
            "O melhor número de clusters com base na medida de Silhouette é 3\n"
          ]
        },
        {
          "output_type": "display_data",
          "data": {
            "text/plain": [
              "<Figure size 1200x500 with 1 Axes>"
            ],
            "image/png": "[encoded data removed]"
          },
          "metadata": {}
        }
      ]
    },
    {
      "cell_type": "markdown",
      "source": [
        "De acordo com os valores apresentados, o uso de 3 clusters se mostra como a configuração mais interessante para o cenário de agrupamento. Vamos agora avaliar a qualidade do agrupamento obtido com o Rand Index. Essa medida pode variar de 0 a 1."
      ],
      "metadata": {
        "id": "M8BZ59yS5v4s"
      }
    },
    {
      "cell_type": "code",
      "source": [
        "kmeans = KMeans(n_clusters=best_k, n_init='auto', random_state=42)\n",
        "cluster_labels = kmeans.fit_predict(X_transformed)\n",
        "\n",
        "rand_index = rand_score(y, cluster_labels)\n",
        "print(f\"A medida Rand Index é {rand_index:.4f}\")"
      ],
      "metadata": {
        "colab": {
          "base_uri": "https://localhost:8080/"
        },
        "id": "r7Rp88Cu0Ctp",
        "outputId": "08b44c0f-b225-4d33-9ca6-7b48a011dc1e"
      },
      "execution_count": null,
      "outputs": [
        {
          "output_type": "stream",
          "name": "stdout",
          "text": [
            "A medida Rand Index é 0.5587\n"
          ]
        }
      ]
    },
    {
      "cell_type": "markdown",
      "source": [
        "Esse valor pode indicar que o clustering capturou algumas das estruturas subjacentes nos dados, mas ainda são necessários ajustes significativos. Os valores de Silhouette já mostravam como o agrupamento desses dados pode ser considerado \"fraco\", necessitando possivelmente de técnicas de redução de dimensionalidade para alcançar um desempenho superior."
      ],
      "metadata": {
        "id": "b9Kbuynq6jJI"
      }
    }
  ]
}
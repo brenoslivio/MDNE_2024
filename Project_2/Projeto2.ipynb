{
  "nbformat": 4,
  "nbformat_minor": 0,
  "metadata": {
    "colab": {
      "provenance": [],
      "gpuType": "T4",
      "authorship_tag": "ABX9TyMMKgPdDSahhdueEJsj7FMJ",
      "include_colab_link": true
    },
    "kernelspec": {
      "name": "python3",
      "display_name": "Python 3"
    },
    "language_info": {
      "name": "python"
    },
    "accelerator": "GPU"
  },
  "cells": [
    {
      "cell_type": "markdown",
      "metadata": {
        "id": "view-in-github",
        "colab_type": "text"
      },
      "source": [
        "<a href=\"https://colab.research.google.com/github/brenoslivio/MDNE_2024/blob/main/Project_2/Projeto2.ipynb\" target=\"_parent\"><img src=\"https://colab.research.google.com/assets/colab-badge.svg\" alt=\"Open In Colab\"/></a>"
      ]
    },
    {
      "cell_type": "markdown",
      "source": [
        "## SCC5920 - Mineração de Dados Não Estruturados (2024)"
      ],
      "metadata": {
        "id": "915VwkH06-d4"
      }
    },
    {
      "cell_type": "markdown",
      "source": [
        "**Projeto 2: Mineração de Imagens - Classificação de Abelhas e Vespas**\n",
        "\n",
        "Prof. Ricardo Marcacini\n",
        "\n",
        "**Aluno:** Breno Livio Silva de Almeida\n",
        "\n",
        "**NUSP:** 10276675\n",
        "\n",
        "---"
      ],
      "metadata": {
        "id": "AuQ0r1XD7A9-"
      }
    },
    {
      "cell_type": "code",
      "execution_count": 1,
      "metadata": {
        "colab": {
          "base_uri": "https://localhost:8080/"
        },
        "id": "MXm2HUmv66W-",
        "outputId": "77dd2af6-008e-4813-d9a8-b98367f0e27d"
      },
      "outputs": [
        {
          "output_type": "stream",
          "name": "stdout",
          "text": [
            "Cloning into 'MDNE_2024'...\n",
            "remote: Enumerating objects: 11511, done.\u001b[K\n",
            "remote: Counting objects: 100% (80/80), done.\u001b[K\n",
            "remote: Compressing objects: 100% (39/39), done.\u001b[K\n",
            "remote: Total 11511 (delta 40), reused 69 (delta 37), pack-reused 11431 (from 1)\u001b[K\n",
            "Receiving objects: 100% (11511/11511), 558.50 MiB | 15.13 MiB/s, done.\n",
            "Resolving deltas: 100% (42/42), done.\n",
            "Updating files: 100% (11435/11435), done.\n"
          ]
        }
      ],
      "source": [
        "!git clone https://github.com/brenoslivio/MDNE_2024.git"
      ]
    },
    {
      "cell_type": "code",
      "source": [
        "!pip install mahotas\n",
        "!pip install optuna\n",
        "import mahotas as mt\n",
        "import polars as pl\n",
        "import cv2\n",
        "import cv2 as cv\n",
        "import numpy as np\n",
        "import os\n",
        "import glob\n",
        "import optuna\n",
        "from google.colab.patches import cv2_imshow\n",
        "from skimage import io\n",
        "from PIL import Image\n",
        "import matplotlib.pylab as plt\n",
        "import torch\n",
        "import torch.nn as nn\n",
        "import torchvision.models as models\n",
        "import torchvision.transforms as transforms\n",
        "from torch.autograd import Variable\n",
        "from sklearn.svm import SVC\n",
        "from sklearn.model_selection import cross_val_score\n",
        "from sklearn.pipeline import Pipeline\n",
        "from sklearn.preprocessing import StandardScaler\n",
        "from sklearn.model_selection import cross_validate\n",
        "from sklearn.metrics import make_scorer, accuracy_score, f1_score, matthews_corrcoef, recall_score, confusion_matrix\n",
        "from sklearn.metrics import classification_report\n",
        "from sklearn.model_selection import cross_val_predict"
      ],
      "metadata": {
        "colab": {
          "base_uri": "https://localhost:8080/"
        },
        "id": "1RFcHW6opx0m",
        "outputId": "dcb7ab2c-0422-4a9d-98c0-e4d2fd69faba"
      },
      "execution_count": 2,
      "outputs": [
        {
          "output_type": "stream",
          "name": "stdout",
          "text": [
            "Collecting mahotas\n",
            "  Downloading mahotas-1.4.18-cp310-cp310-manylinux_2_17_x86_64.manylinux2014_x86_64.whl.metadata (14 kB)\n",
            "Requirement already satisfied: numpy in /usr/local/lib/python3.10/dist-packages (from mahotas) (1.26.4)\n",
            "Downloading mahotas-1.4.18-cp310-cp310-manylinux_2_17_x86_64.manylinux2014_x86_64.whl (5.8 MB)\n",
            "\u001b[2K   \u001b[90m━━━━━━━━━━━━━━━━━━━━━━━━━━━━━━━━━━━━━━━━\u001b[0m \u001b[32m5.8/5.8 MB\u001b[0m \u001b[31m60.8 MB/s\u001b[0m eta \u001b[36m0:00:00\u001b[0m\n",
            "\u001b[?25hInstalling collected packages: mahotas\n",
            "Successfully installed mahotas-1.4.18\n",
            "Collecting optuna\n",
            "  Downloading optuna-4.0.0-py3-none-any.whl.metadata (16 kB)\n",
            "Collecting alembic>=1.5.0 (from optuna)\n",
            "  Downloading alembic-1.13.3-py3-none-any.whl.metadata (7.4 kB)\n",
            "Collecting colorlog (from optuna)\n",
            "  Downloading colorlog-6.8.2-py3-none-any.whl.metadata (10 kB)\n",
            "Requirement already satisfied: numpy in /usr/local/lib/python3.10/dist-packages (from optuna) (1.26.4)\n",
            "Requirement already satisfied: packaging>=20.0 in /usr/local/lib/python3.10/dist-packages (from optuna) (24.1)\n",
            "Requirement already satisfied: sqlalchemy>=1.3.0 in /usr/local/lib/python3.10/dist-packages (from optuna) (2.0.35)\n",
            "Requirement already satisfied: tqdm in /usr/local/lib/python3.10/dist-packages (from optuna) (4.66.5)\n",
            "Requirement already satisfied: PyYAML in /usr/local/lib/python3.10/dist-packages (from optuna) (6.0.2)\n",
            "Collecting Mako (from alembic>=1.5.0->optuna)\n",
            "  Downloading Mako-1.3.5-py3-none-any.whl.metadata (2.9 kB)\n",
            "Requirement already satisfied: typing-extensions>=4 in /usr/local/lib/python3.10/dist-packages (from alembic>=1.5.0->optuna) (4.12.2)\n",
            "Requirement already satisfied: greenlet!=0.4.17 in /usr/local/lib/python3.10/dist-packages (from sqlalchemy>=1.3.0->optuna) (3.1.1)\n",
            "Requirement already satisfied: MarkupSafe>=0.9.2 in /usr/local/lib/python3.10/dist-packages (from Mako->alembic>=1.5.0->optuna) (2.1.5)\n",
            "Downloading optuna-4.0.0-py3-none-any.whl (362 kB)\n",
            "\u001b[2K   \u001b[90m━━━━━━━━━━━━━━━━━━━━━━━━━━━━━━━━━━━━━━━━\u001b[0m \u001b[32m362.8/362.8 kB\u001b[0m \u001b[31m11.5 MB/s\u001b[0m eta \u001b[36m0:00:00\u001b[0m\n",
            "\u001b[?25hDownloading alembic-1.13.3-py3-none-any.whl (233 kB)\n",
            "\u001b[2K   \u001b[90m━━━━━━━━━━━━━━━━━━━━━━━━━━━━━━━━━━━━━━━━\u001b[0m \u001b[32m233.2/233.2 kB\u001b[0m \u001b[31m20.7 MB/s\u001b[0m eta \u001b[36m0:00:00\u001b[0m\n",
            "\u001b[?25hDownloading colorlog-6.8.2-py3-none-any.whl (11 kB)\n",
            "Downloading Mako-1.3.5-py3-none-any.whl (78 kB)\n",
            "\u001b[2K   \u001b[90m━━━━━━━━━━━━━━━━━━━━━━━━━━━━━━━━━━━━━━━━\u001b[0m \u001b[32m78.6/78.6 kB\u001b[0m \u001b[31m7.8 MB/s\u001b[0m eta \u001b[36m0:00:00\u001b[0m\n",
            "\u001b[?25hInstalling collected packages: Mako, colorlog, alembic, optuna\n",
            "Successfully installed Mako-1.3.5 alembic-1.13.3 colorlog-6.8.2 optuna-4.0.0\n"
          ]
        }
      ]
    },
    {
      "cell_type": "code",
      "source": [
        "dataset_path = \"MDNE_2024/Project_2/dataset\"\n",
        "\n",
        "df_bees = pl.read_csv(os.path.join(dataset_path, \"labels.csv\")).filter((pl.col(\"label\") == \"bee\") | (pl.col(\"label\") == \"wasp\") & (pl.col(\"photo_quality\") == 1) & (pl.col(\"path\") != \"wasp1\\\\image.png\"))\n",
        "\n",
        "df_train = df_bees.filter(pl.col(\"is_final_validation\") == 0)\n",
        "df_val = df_bees.filter((pl.col(\"is_validation\") == 0) & (pl.col(\"is_final_validation\") == 1))\n",
        "\n",
        "image = io.imread(os.path.join(dataset_path, df_train[\"path\"].sample(1).item().replace(\"\\\\\", \"/\")))\n",
        "cv2_imshow(cv2.cvtColor(image, cv2.COLOR_BGR2RGB))"
      ],
      "metadata": {
        "colab": {
          "base_uri": "https://localhost:8080/",
          "height": 219
        },
        "id": "fkO-TkaNxU9d",
        "outputId": "4998244a-b715-4e92-ff83-ee54f0f5b892"
      },
      "execution_count": 3,
      "outputs": [
        {
          "output_type": "display_data",
          "data": {
            "text/plain": [
              "<PIL.Image.Image image mode=RGB size=240x202>"
            ],
            "image/png": "[encoded data removed]",
            "image/jpeg": "[encoded data removed]"
          },
          "metadata": {}
        }
      ]
    },
    {
      "cell_type": "code",
      "source": [
        "df_train[\"label\"].value_counts()"
      ],
      "metadata": {
        "colab": {
          "base_uri": "https://localhost:8080/",
          "height": 161
        },
        "id": "Ha-z4AQn1kav",
        "outputId": "46c48382-fb2a-4f19-a8d5-bc7f280ad343"
      },
      "execution_count": 4,
      "outputs": [
        {
          "output_type": "execute_result",
          "data": {
            "text/plain": [
              "shape: (2, 2)\n",
              "┌───────┬───────┐\n",
              "│ label ┆ count │\n",
              "│ ---   ┆ ---   │\n",
              "│ str   ┆ u32   │\n",
              "╞═══════╪═══════╡\n",
              "│ wasp  ┆ 1798  │\n",
              "│ bee   ┆ 2679  │\n",
              "└───────┴───────┘"
            ],
            "text/html": [
              "<div><style>\n",
              ".dataframe > thead > tr,\n",
              ".dataframe > tbody > tr {\n",
              "  text-align: right;\n",
              "  white-space: pre-wrap;\n",
              "}\n",
              "</style>\n",
              "<small>shape: (2, 2)</small><table border=\"1\" class=\"dataframe\"><thead><tr><th>label</th><th>count</th></tr><tr><td>str</td><td>u32</td></tr></thead><tbody><tr><td>&quot;wasp&quot;</td><td>1798</td></tr><tr><td>&quot;bee&quot;</td><td>2679</td></tr></tbody></table></div>"
            ]
          },
          "metadata": {},
          "execution_count": 4
        }
      ]
    },
    {
      "cell_type": "code",
      "source": [
        "df_val[\"label\"].value_counts()"
      ],
      "metadata": {
        "colab": {
          "base_uri": "https://localhost:8080/",
          "height": 161
        },
        "id": "IFFy3tgn1emL",
        "outputId": "44c87522-f02b-4ea9-a7f0-0dbc90a95da1"
      },
      "execution_count": 5,
      "outputs": [
        {
          "output_type": "execute_result",
          "data": {
            "text/plain": [
              "shape: (2, 2)\n",
              "┌───────┬───────┐\n",
              "│ label ┆ count │\n",
              "│ ---   ┆ ---   │\n",
              "│ str   ┆ u32   │\n",
              "╞═══════╪═══════╡\n",
              "│ wasp  ┆ 328   │\n",
              "│ bee   ┆ 504   │\n",
              "└───────┴───────┘"
            ],
            "text/html": [
              "<div><style>\n",
              ".dataframe > thead > tr,\n",
              ".dataframe > tbody > tr {\n",
              "  text-align: right;\n",
              "  white-space: pre-wrap;\n",
              "}\n",
              "</style>\n",
              "<small>shape: (2, 2)</small><table border=\"1\" class=\"dataframe\"><thead><tr><th>label</th><th>count</th></tr><tr><td>str</td><td>u32</td></tr></thead><tbody><tr><td>&quot;wasp&quot;</td><td>328</td></tr><tr><td>&quot;bee&quot;</td><td>504</td></tr></tbody></table></div>"
            ]
          },
          "metadata": {},
          "execution_count": 5
        }
      ]
    },
    {
      "cell_type": "markdown",
      "source": [
        "### Características de Texturas"
      ],
      "metadata": {
        "id": "DtXwvlFf7s-U"
      }
    },
    {
      "cell_type": "code",
      "source": [
        "def extract_haralick(img_path):\n",
        "  image = io.imread(os.path.join(dataset_path, img_path.replace(\"\\\\\", \"/\")))\n",
        "  image = cv2.cvtColor(image, cv2.COLOR_BGR2RGB)\n",
        "  textures = mt.features.haralick(image)\n",
        "  features = {}\n",
        "\n",
        "  ht_mean = textures.mean(axis=0)\n",
        "\n",
        "  for i, feature in enumerate(mt.features.texture.haralick_labels[:-1]):\n",
        "    features[feature] = ht_mean[i]\n",
        "\n",
        "  return features\n",
        "\n",
        "df_train_haralick = df_train.with_columns(pl.col(\"path\").map_elements(lambda x: extract_haralick(x)).alias(\"features\")).unnest(\"features\")\n",
        "df_train_haralick"
      ],
      "metadata": {
        "colab": {
          "base_uri": "https://localhost:8080/",
          "height": 550
        },
        "id": "BFApZaA1rr5R",
        "outputId": "05eff915-d7d2-48e7-fbfd-d96daf74ec97"
      },
      "execution_count": 6,
      "outputs": [
        {
          "output_type": "stream",
          "name": "stderr",
          "text": [
            "sys:1: MapWithoutReturnDtypeWarning: Calling `map_elements` without specifying `return_dtype` can lead to unpredictable results. Specify `return_dtype` to silence this warning.\n",
            "sys:1: MapWithoutReturnDtypeWarning: Calling `map_elements` without specifying `return_dtype` can lead to unpredictable results. Specify `return_dtype` to silence this warning.\n"
          ]
        },
        {
          "output_type": "execute_result",
          "data": {
            "text/plain": [
              "shape: (4_477, 23)\n",
              "┌──────┬─────────────┬────────┬─────────┬───┬─────────────┬─────────────┬─────────────┬────────────┐\n",
              "│ id   ┆ path        ┆ is_bee ┆ is_wasp ┆ … ┆ Difference  ┆ Difference  ┆ Information ┆ Informatio │\n",
              "│ ---  ┆ ---         ┆ ---    ┆ ---     ┆   ┆ Variance    ┆ Entropy     ┆ Measure of  ┆ n Measure  │\n",
              "│ i64  ┆ str         ┆ i64    ┆ i64     ┆   ┆ ---         ┆ ---         ┆ Correla…    ┆ of         │\n",
              "│      ┆             ┆        ┆         ┆   ┆ f64         ┆ f64         ┆ ---         ┆ Correla…   │\n",
              "│      ┆             ┆        ┆         ┆   ┆             ┆             ┆ f64         ┆ ---        │\n",
              "│      ┆             ┆        ┆         ┆   ┆             ┆             ┆             ┆ f64        │\n",
              "╞══════╪═════════════╪════════╪═════════╪═══╪═════════════╪═════════════╪═════════════╪════════════╡\n",
              "│ 1    ┆ bee1\\100071 ┆ 1      ┆ 0       ┆ … ┆ 0.000146    ┆ 6.025976    ┆ -0.22159    ┆ 0.94823    │\n",
              "│      ┆ 54554_02641 ┆        ┆         ┆   ┆             ┆             ┆             ┆            │\n",
              "│      ┆ 7cfd0_n.…   ┆        ┆         ┆   ┆             ┆             ┆             ┆            │\n",
              "│ 3    ┆ bee1\\100920 ┆ 1      ┆ 0       ┆ … ┆ 0.000143    ┆ 5.965364    ┆ -0.180153   ┆ 0.910828   │\n",
              "│      ┆ 43833_7306d ┆        ┆         ┆   ┆             ┆             ┆             ┆            │\n",
              "│      ┆ fd1f0_n.…   ┆        ┆         ┆   ┆             ┆             ┆             ┆            │\n",
              "│ 5    ┆ bee1\\101282 ┆ 1      ┆ 0       ┆ … ┆ 0.00014     ┆ 6.085442    ┆ -0.185808   ┆ 0.896628   │\n",
              "│      ┆ 35063_dca17 ┆        ┆         ┆   ┆             ┆             ┆             ┆            │\n",
              "│      ┆ db76c_n.…   ┆        ┆         ┆   ┆             ┆             ┆             ┆            │\n",
              "│ 6    ┆ bee1\\101307 ┆ 1      ┆ 0       ┆ … ┆ 0.00032     ┆ 4.922086    ┆ -0.32292    ┆ 0.991448   │\n",
              "│      ┆ 29734_f6873 ┆        ┆         ┆   ┆             ┆             ┆             ┆            │\n",
              "│      ┆ 8333e_w.…   ┆        ┆         ┆   ┆             ┆             ┆             ┆            │\n",
              "│ 7    ┆ bee1\\101664 ┆ 1      ┆ 0       ┆ … ┆ 0.000458    ┆ 4.760354    ┆ -0.30617    ┆ 0.967111   │\n",
              "│      ┆ 85783_9cd67 ┆        ┆         ┆   ┆             ┆             ┆             ┆            │\n",
              "│      ┆ 06c72_n.…   ┆        ┆         ┆   ┆             ┆             ┆             ┆            │\n",
              "│ …    ┆ …           ┆ …      ┆ …       ┆ … ┆ …           ┆ …           ┆ …           ┆ …          │\n",
              "│ 5303 ┆ wasp1\\99310 ┆ 0      ┆ 1       ┆ … ┆ 0.000169    ┆ 5.504822    ┆ -0.213269   ┆ 0.950939   │\n",
              "│      ┆ 84786_6c1de ┆        ┆         ┆   ┆             ┆             ┆             ┆            │\n",
              "│      ┆ 01c56_m.…   ┆        ┆         ┆   ┆             ┆             ┆             ┆            │\n",
              "│ 5304 ┆ wasp1\\99749 ┆ 0      ┆ 1       ┆ … ┆ 0.000136    ┆ 6.073983    ┆ -0.194133   ┆ 0.938016   │\n",
              "│      ┆ 13676_226ca ┆        ┆         ┆   ┆             ┆             ┆             ┆            │\n",
              "│      ┆ c235d_n.…   ┆        ┆         ┆   ┆             ┆             ┆             ┆            │\n",
              "│ 5305 ┆ wasp1\\99828 ┆ 0      ┆ 1       ┆ … ┆ 0.000103    ┆ 6.103158    ┆ -0.200999   ┆ 0.960762   │\n",
              "│      ┆ 29004_31a27 ┆        ┆         ┆   ┆             ┆             ┆             ┆            │\n",
              "│      ┆ d7db7_n.…   ┆        ┆         ┆   ┆             ┆             ┆             ┆            │\n",
              "│ 5306 ┆ wasp1\\99829 ┆ 0      ┆ 1       ┆ … ┆ 0.000115    ┆ 5.859918    ┆ -0.227208   ┆ 0.972237   │\n",
              "│      ┆ 10983_46ea8 ┆        ┆         ┆   ┆             ┆             ┆             ┆            │\n",
              "│      ┆ 1d4e9_n.…   ┆        ┆         ┆   ┆             ┆             ┆             ┆            │\n",
              "│ 5308 ┆ wasp1\\99829 ┆ 0      ┆ 1       ┆ … ┆ 0.000285    ┆ 5.281011    ┆ -0.248369   ┆ 0.95691    │\n",
              "│      ┆ 46253_ff569 ┆        ┆         ┆   ┆             ┆             ┆             ┆            │\n",
              "│      ┆ c6125_n.…   ┆        ┆         ┆   ┆             ┆             ┆             ┆            │\n",
              "└──────┴─────────────┴────────┴─────────┴───┴─────────────┴─────────────┴─────────────┴────────────┘"
            ],
            "text/html": [
              "<div><style>\n",
              ".dataframe > thead > tr,\n",
              ".dataframe > tbody > tr {\n",
              "  text-align: right;\n",
              "  white-space: pre-wrap;\n",
              "}\n",
              "</style>\n",
              "<small>shape: (4_477, 23)</small><table border=\"1\" class=\"dataframe\"><thead><tr><th>id</th><th>path</th><th>is_bee</th><th>is_wasp</th><th>is_otherinsect</th><th>is_other</th><th>photo_quality</th><th>is_validation</th><th>is_final_validation</th><th>label</th><th>Angular Second Moment</th><th>Contrast</th><th>Correlation</th><th>Sum of Squares: Variance</th><th>Inverse Difference Moment</th><th>Sum Average</th><th>Sum Variance</th><th>Sum Entropy</th><th>Entropy</th><th>Difference Variance</th><th>Difference Entropy</th><th>Information Measure of Correlation 1</th><th>Information Measure of Correlation 2</th></tr><tr><td>i64</td><td>str</td><td>i64</td><td>i64</td><td>i64</td><td>i64</td><td>i64</td><td>i64</td><td>i64</td><td>str</td><td>f64</td><td>f64</td><td>f64</td><td>f64</td><td>f64</td><td>f64</td><td>f64</td><td>f64</td><td>f64</td><td>f64</td><td>f64</td><td>f64</td><td>f64</td></tr></thead><tbody><tr><td>1</td><td>&quot;bee1\\10007154554_026417cfd0_n.…</td><td>1</td><td>0</td><td>0</td><td>0</td><td>1</td><td>0</td><td>0</td><td>&quot;bee&quot;</td><td>0.008061</td><td>3948.304822</td><td>0.653884</td><td>5909.264871</td><td>0.171371</td><td>208.881818</td><td>19688.754663</td><td>8.40521</td><td>13.224486</td><td>0.000146</td><td>6.025976</td><td>-0.22159</td><td>0.94823</td></tr><tr><td>3</td><td>&quot;bee1\\10092043833_7306dfd1f0_n.…</td><td>1</td><td>0</td><td>0</td><td>0</td><td>1</td><td>1</td><td>0</td><td>&quot;bee&quot;</td><td>0.00014</td><td>2245.1284</td><td>0.704201</td><td>3862.044483</td><td>0.111504</td><td>212.728164</td><td>13203.049532</td><td>8.767122</td><td>14.241819</td><td>0.000143</td><td>5.965364</td><td>-0.180153</td><td>0.910828</td></tr><tr><td>5</td><td>&quot;bee1\\10128235063_dca17db76c_n.…</td><td>1</td><td>0</td><td>0</td><td>0</td><td>1</td><td>0</td><td>0</td><td>&quot;bee&quot;</td><td>0.000122</td><td>3777.430951</td><td>0.560447</td><td>4354.136061</td><td>0.100561</td><td>246.535115</td><td>13639.113294</td><td>8.76776</td><td>14.289513</td><td>0.00014</td><td>6.085442</td><td>-0.185808</td><td>0.896628</td></tr><tr><td>6</td><td>&quot;bee1\\10130729734_f68738333e_w.…</td><td>1</td><td>0</td><td>0</td><td>0</td><td>1</td><td>0</td><td>0</td><td>&quot;bee&quot;</td><td>0.000803</td><td>1168.905381</td><td>0.855969</td><td>4128.8372</td><td>0.262922</td><td>292.066784</td><td>15346.443418</td><td>8.589249</td><td>12.65934</td><td>0.00032</td><td>4.922086</td><td>-0.32292</td><td>0.991448</td></tr><tr><td>7</td><td>&quot;bee1\\10166485783_9cd6706c72_n.…</td><td>1</td><td>0</td><td>0</td><td>0</td><td>1</td><td>0</td><td>0</td><td>&quot;bee&quot;</td><td>0.001138</td><td>910.963828</td><td>0.492477</td><td>932.590832</td><td>0.206791</td><td>248.978818</td><td>2819.399501</td><td>7.651895</td><td>11.669624</td><td>0.000458</td><td>4.760354</td><td>-0.30617</td><td>0.967111</td></tr><tr><td>&hellip;</td><td>&hellip;</td><td>&hellip;</td><td>&hellip;</td><td>&hellip;</td><td>&hellip;</td><td>&hellip;</td><td>&hellip;</td><td>&hellip;</td><td>&hellip;</td><td>&hellip;</td><td>&hellip;</td><td>&hellip;</td><td>&hellip;</td><td>&hellip;</td><td>&hellip;</td><td>&hellip;</td><td>&hellip;</td><td>&hellip;</td><td>&hellip;</td><td>&hellip;</td><td>&hellip;</td><td>&hellip;</td></tr><tr><td>5303</td><td>&quot;wasp1\\9931084786_6c1de01c56_m.…</td><td>0</td><td>1</td><td>0</td><td>0</td><td>1</td><td>0</td><td>0</td><td>&quot;wasp&quot;</td><td>0.000254</td><td>1028.118485</td><td>0.78687</td><td>2448.327669</td><td>0.11835</td><td>230.883562</td><td>8765.192192</td><td>8.379834</td><td>13.477788</td><td>0.000169</td><td>5.504822</td><td>-0.213269</td><td>0.950939</td></tr><tr><td>5304</td><td>&quot;wasp1\\9974913676_226cac235d_n.…</td><td>0</td><td>1</td><td>0</td><td>0</td><td>1</td><td>0</td><td>0</td><td>&quot;wasp&quot;</td><td>0.000245</td><td>3457.096761</td><td>0.475368</td><td>3350.864457</td><td>0.112277</td><td>212.752544</td><td>9946.361066</td><td>8.502058</td><td>13.880918</td><td>0.000136</td><td>6.073983</td><td>-0.194133</td><td>0.938016</td></tr><tr><td>5305</td><td>&quot;wasp1\\9982829004_31a27d7db7_n.…</td><td>0</td><td>1</td><td>0</td><td>0</td><td>1</td><td>0</td><td>0</td><td>&quot;wasp&quot;</td><td>0.000125</td><td>3670.520116</td><td>0.530473</td><td>3961.4218</td><td>0.088983</td><td>253.841527</td><td>12175.167083</td><td>8.635778</td><td>13.957525</td><td>0.000103</td><td>6.103158</td><td>-0.200999</td><td>0.960762</td></tr><tr><td>5306</td><td>&quot;wasp1\\9982910983_46ea81d4e9_n.…</td><td>0</td><td>1</td><td>0</td><td>0</td><td>1</td><td>0</td><td>0</td><td>&quot;wasp&quot;</td><td>0.000483</td><td>1732.347562</td><td>0.686547</td><td>2722.652372</td><td>0.086015</td><td>219.316761</td><td>9158.261927</td><td>8.217429</td><td>13.152061</td><td>0.000115</td><td>5.859918</td><td>-0.227208</td><td>0.972237</td></tr><tr><td>5308</td><td>&quot;wasp1\\9982946253_ff569c6125_n.…</td><td>0</td><td>1</td><td>0</td><td>0</td><td>1</td><td>1</td><td>0</td><td>&quot;wasp&quot;</td><td>0.001126</td><td>1012.54702</td><td>0.57526</td><td>1232.037245</td><td>0.193602</td><td>219.473716</td><td>3915.601962</td><td>7.800659</td><td>12.238791</td><td>0.000285</td><td>5.281011</td><td>-0.248369</td><td>0.95691</td></tr></tbody></table></div>"
            ]
          },
          "metadata": {},
          "execution_count": 6
        }
      ]
    },
    {
      "cell_type": "code",
      "source": [
        "def objective(trial):\n",
        "    C = trial.suggest_float(\"svm_C\", 1e-6, 1e1, log=True)\n",
        "    gamma = trial.suggest_categorical(\"svm_gamma\", [\"scale\", \"auto\"])\n",
        "    kernel = trial.suggest_categorical(\"svm_kernel\", [\"linear\", \"poly\", \"rbf\", \"sigmoid\"])\n",
        "\n",
        "    pipeline = Pipeline([\n",
        "        (\"scaler\", StandardScaler()),\n",
        "        (\"svm\", SVC(C=C, kernel=kernel, gamma=gamma, random_state=0))\n",
        "    ])\n",
        "\n",
        "    scores = cross_val_score(pipeline, X_train, y_train, cv=10, scoring=make_scorer(f1_score, pos_label=\"bee\"))\n",
        "\n",
        "    return np.mean(scores)\n",
        "\n",
        "X_train, y_train = df_train_haralick.select(pl.nth(range(10, len(df_train_haralick.columns)))).to_numpy(), df_train_haralick[\"label\"].to_numpy()\n",
        "\n",
        "sampler = optuna.samplers.TPESampler(seed=0)\n",
        "study1 = optuna.create_study(direction=\"maximize\", sampler=sampler)\n",
        "study1.optimize(objective, n_trials=100)\n",
        "\n",
        "print(\"Best hyperparameters:\", study1.best_params)\n",
        "print(f\"Best F1-score: {study1.best_value:.4f}\")"
      ],
      "metadata": {
        "colab": {
          "base_uri": "https://localhost:8080/"
        },
        "id": "dE9nFXzyAUBN",
        "outputId": "26b7ff37-e954-433f-ae30-1eced5430d14"
      },
      "execution_count": 7,
      "outputs": [
        {
          "output_type": "stream",
          "name": "stderr",
          "text": [
            "[I 2024-10-06 20:09:15,167] A new study created in memory with name: no-name-20d574f1-c00b-4b3e-a51f-0a2a01aa47f8\n",
            "[I 2024-10-06 20:09:22,941] Trial 0 finished with value: 0.7487423322651715 and parameters: {'svm_C': 0.006945356257424776, 'svm_gamma': 'scale', 'svm_kernel': 'rbf'}. Best is trial 0 with value: 0.7487423322651715.\n",
            "[I 2024-10-06 20:09:29,557] Trial 1 finished with value: 0.5240138971004098 and parameters: {'svm_C': 1.7474751375465036, 'svm_gamma': 'scale', 'svm_kernel': 'sigmoid'}. Best is trial 0 with value: 0.7487423322651715.\n",
            "[I 2024-10-06 20:09:39,674] Trial 2 finished with value: 0.7487423322651715 and parameters: {'svm_C': 3.1423344550041226e-06, 'svm_gamma': 'scale', 'svm_kernel': 'sigmoid'}. Best is trial 0 with value: 0.7487423322651715.\n",
            "[I 2024-10-06 20:09:47,507] Trial 3 finished with value: 0.5261034094201459 and parameters: {'svm_C': 0.3927443531634939, 'svm_gamma': 'auto', 'svm_kernel': 'sigmoid'}. Best is trial 0 with value: 0.7487423322651715.\n",
            "[I 2024-10-06 20:09:52,835] Trial 4 finished with value: 0.7639287557462086 and parameters: {'svm_C': 0.004497159099879467, 'svm_gamma': 'scale', 'svm_kernel': 'linear'}. Best is trial 4 with value: 0.7639287557462086.\n",
            "[I 2024-10-06 20:09:59,155] Trial 5 finished with value: 0.76252740965695 and parameters: {'svm_C': 0.02105952054524662, 'svm_gamma': 'auto', 'svm_kernel': 'linear'}. Best is trial 4 with value: 0.7639287557462086.\n",
            "[I 2024-10-06 20:10:05,106] Trial 6 finished with value: 0.7610328081491726 and parameters: {'svm_C': 0.07645719685939689, 'svm_gamma': 'auto', 'svm_kernel': 'linear'}. Best is trial 4 with value: 0.7639287557462086.\n",
            "[I 2024-10-06 20:10:11,583] Trial 7 finished with value: 0.7511596500758244 and parameters: {'svm_C': 0.0003515405246922031, 'svm_gamma': 'scale', 'svm_kernel': 'linear'}. Best is trial 4 with value: 0.7639287557462086.\n",
            "[I 2024-10-06 20:10:20,869] Trial 8 finished with value: 0.5718425655523107 and parameters: {'svm_C': 0.03730424702045822, 'svm_gamma': 'auto', 'svm_kernel': 'sigmoid'}. Best is trial 4 with value: 0.7639287557462086.\n",
            "[I 2024-10-06 20:10:28,299] Trial 9 finished with value: 0.7487423322651715 and parameters: {'svm_C': 9.274289735409131e-06, 'svm_gamma': 'auto', 'svm_kernel': 'rbf'}. Best is trial 4 with value: 0.7639287557462086.\n",
            "[I 2024-10-06 20:10:35,467] Trial 10 finished with value: 0.7519001382055452 and parameters: {'svm_C': 0.00022186853668169278, 'svm_gamma': 'scale', 'svm_kernel': 'poly'}. Best is trial 4 with value: 0.7639287557462086.\n",
            "[I 2024-10-06 20:10:42,286] Trial 11 finished with value: 0.755961102489969 and parameters: {'svm_C': 0.0009292309211494176, 'svm_gamma': 'auto', 'svm_kernel': 'linear'}. Best is trial 4 with value: 0.7639287557462086.\n",
            "[I 2024-10-06 20:10:47,596] Trial 12 finished with value: 0.7629554300940178 and parameters: {'svm_C': 0.007459912578970614, 'svm_gamma': 'scale', 'svm_kernel': 'linear'}. Best is trial 4 with value: 0.7639287557462086.\n",
            "[I 2024-10-06 20:11:13,994] Trial 13 finished with value: 0.7561711540698222 and parameters: {'svm_C': 9.066392645734219, 'svm_gamma': 'scale', 'svm_kernel': 'linear'}. Best is trial 4 with value: 0.7639287557462086.\n",
            "[I 2024-10-06 20:11:21,969] Trial 14 finished with value: 0.7513712157244689 and parameters: {'svm_C': 0.00012135776000534525, 'svm_gamma': 'scale', 'svm_kernel': 'poly'}. Best is trial 4 with value: 0.7639287557462086.\n",
            "[I 2024-10-06 20:11:27,086] Trial 15 finished with value: 0.7639679926825622 and parameters: {'svm_C': 0.002508793688170304, 'svm_gamma': 'scale', 'svm_kernel': 'linear'}. Best is trial 15 with value: 0.7639679926825622.\n",
            "[I 2024-10-06 20:11:33,535] Trial 16 finished with value: 0.7487423322651715 and parameters: {'svm_C': 3.0345970110649793e-05, 'svm_gamma': 'scale', 'svm_kernel': 'linear'}. Best is trial 15 with value: 0.7639679926825622.\n",
            "[I 2024-10-06 20:11:38,953] Trial 17 finished with value: 0.7638426562302383 and parameters: {'svm_C': 0.0021587028577006546, 'svm_gamma': 'scale', 'svm_kernel': 'linear'}. Best is trial 15 with value: 0.7639679926825622.\n",
            "[I 2024-10-06 20:11:45,411] Trial 18 finished with value: 0.7820884231882974 and parameters: {'svm_C': 0.26948071222426945, 'svm_gamma': 'scale', 'svm_kernel': 'rbf'}. Best is trial 18 with value: 0.7820884231882974.\n",
            "[I 2024-10-06 20:11:50,666] Trial 19 finished with value: 0.7818036421357373 and parameters: {'svm_C': 0.2351501789847126, 'svm_gamma': 'scale', 'svm_kernel': 'rbf'}. Best is trial 18 with value: 0.7820884231882974.\n",
            "[I 2024-10-06 20:11:57,030] Trial 20 finished with value: 0.7817335805821778 and parameters: {'svm_C': 0.3621503655580596, 'svm_gamma': 'scale', 'svm_kernel': 'rbf'}. Best is trial 18 with value: 0.7820884231882974.\n",
            "[I 2024-10-06 20:12:02,159] Trial 21 finished with value: 0.7817335805821778 and parameters: {'svm_C': 0.3630126613398921, 'svm_gamma': 'scale', 'svm_kernel': 'rbf'}. Best is trial 18 with value: 0.7820884231882974.\n",
            "[I 2024-10-06 20:12:07,939] Trial 22 finished with value: 0.7778996716267081 and parameters: {'svm_C': 0.19404960478409003, 'svm_gamma': 'scale', 'svm_kernel': 'rbf'}. Best is trial 18 with value: 0.7820884231882974.\n",
            "[I 2024-10-06 20:12:13,847] Trial 23 finished with value: 0.7909860956549597 and parameters: {'svm_C': 1.7210083768862503, 'svm_gamma': 'scale', 'svm_kernel': 'rbf'}. Best is trial 23 with value: 0.7909860956549597.\n",
            "[I 2024-10-06 20:12:19,116] Trial 24 finished with value: 0.7892512551361555 and parameters: {'svm_C': 3.176122586578769, 'svm_gamma': 'scale', 'svm_kernel': 'rbf'}. Best is trial 23 with value: 0.7909860956549597.\n",
            "[I 2024-10-06 20:12:26,193] Trial 25 finished with value: 0.788458262854491 and parameters: {'svm_C': 8.114631969774479, 'svm_gamma': 'scale', 'svm_kernel': 'rbf'}. Best is trial 23 with value: 0.7909860956549597.\n",
            "[I 2024-10-06 20:12:32,278] Trial 26 finished with value: 0.7890580430960663 and parameters: {'svm_C': 9.605320078114506, 'svm_gamma': 'scale', 'svm_kernel': 'rbf'}. Best is trial 23 with value: 0.7909860956549597.\n",
            "[I 2024-10-06 20:12:38,578] Trial 27 finished with value: 0.7899952470937133 and parameters: {'svm_C': 1.8351373402693691, 'svm_gamma': 'scale', 'svm_kernel': 'rbf'}. Best is trial 23 with value: 0.7909860956549597.\n",
            "[I 2024-10-06 20:12:43,711] Trial 28 finished with value: 0.7896440398526492 and parameters: {'svm_C': 2.026935003119853, 'svm_gamma': 'scale', 'svm_kernel': 'rbf'}. Best is trial 23 with value: 0.7909860956549597.\n",
            "[I 2024-10-06 20:12:50,082] Trial 29 finished with value: 0.7901774675658993 and parameters: {'svm_C': 1.3359060029336787, 'svm_gamma': 'scale', 'svm_kernel': 'rbf'}. Best is trial 23 with value: 0.7909860956549597.\n",
            "[I 2024-10-06 20:12:59,289] Trial 30 finished with value: 0.7767226739907513 and parameters: {'svm_C': 1.095539501528681, 'svm_gamma': 'scale', 'svm_kernel': 'poly'}. Best is trial 23 with value: 0.7909860956549597.\n",
            "[I 2024-10-06 20:13:05,459] Trial 31 finished with value: 0.7902682041404463 and parameters: {'svm_C': 1.301687346872629, 'svm_gamma': 'scale', 'svm_kernel': 'rbf'}. Best is trial 23 with value: 0.7909860956549597.\n",
            "[I 2024-10-06 20:13:10,518] Trial 32 finished with value: 0.7893875457781945 and parameters: {'svm_C': 1.0183872878232862, 'svm_gamma': 'scale', 'svm_kernel': 'rbf'}. Best is trial 23 with value: 0.7909860956549597.\n",
            "[I 2024-10-06 20:13:17,076] Trial 33 finished with value: 0.7883048444925501 and parameters: {'svm_C': 3.5945495615010437, 'svm_gamma': 'scale', 'svm_kernel': 'rbf'}. Best is trial 23 with value: 0.7909860956549597.\n",
            "[I 2024-10-06 20:13:22,571] Trial 34 finished with value: 0.7752018170169278 and parameters: {'svm_C': 0.07683552800884404, 'svm_gamma': 'scale', 'svm_kernel': 'rbf'}. Best is trial 23 with value: 0.7909860956549597.\n",
            "[I 2024-10-06 20:13:28,842] Trial 35 finished with value: 0.7909560840771682 and parameters: {'svm_C': 1.396972471261041, 'svm_gamma': 'scale', 'svm_kernel': 'rbf'}. Best is trial 23 with value: 0.7909860956549597.\n",
            "[I 2024-10-06 20:13:35,299] Trial 36 finished with value: 0.5247093168365045 and parameters: {'svm_C': 0.7436477435865014, 'svm_gamma': 'scale', 'svm_kernel': 'sigmoid'}. Best is trial 23 with value: 0.7909860956549597.\n",
            "[I 2024-10-06 20:13:42,164] Trial 37 finished with value: 0.7742123997834667 and parameters: {'svm_C': 0.055142835474306186, 'svm_gamma': 'auto', 'svm_kernel': 'rbf'}. Best is trial 23 with value: 0.7909860956549597.\n",
            "[I 2024-10-06 20:13:48,355] Trial 38 finished with value: 0.7501421200787793 and parameters: {'svm_C': 0.008924339591752326, 'svm_gamma': 'scale', 'svm_kernel': 'rbf'}. Best is trial 23 with value: 0.7909860956549597.\n",
            "[I 2024-10-06 20:13:56,592] Trial 39 finished with value: 0.5364755916864816 and parameters: {'svm_C': 0.1255458042686443, 'svm_gamma': 'auto', 'svm_kernel': 'sigmoid'}. Best is trial 23 with value: 0.7909860956549597.\n",
            "[I 2024-10-06 20:14:01,696] Trial 40 finished with value: 0.7887052780857103 and parameters: {'svm_C': 0.8563019994554601, 'svm_gamma': 'scale', 'svm_kernel': 'rbf'}. Best is trial 23 with value: 0.7909860956549597.\n",
            "[I 2024-10-06 20:14:08,144] Trial 41 finished with value: 0.7886308393680482 and parameters: {'svm_C': 3.349504059864805, 'svm_gamma': 'scale', 'svm_kernel': 'rbf'}. Best is trial 23 with value: 0.7909860956549597.\n",
            "[I 2024-10-06 20:14:13,978] Trial 42 finished with value: 0.7487423322651715 and parameters: {'svm_C': 1.0371863432972003e-06, 'svm_gamma': 'scale', 'svm_kernel': 'rbf'}. Best is trial 23 with value: 0.7909860956549597.\n",
            "[I 2024-10-06 20:14:21,288] Trial 43 finished with value: 0.7718077736396737 and parameters: {'svm_C': 0.023450396810011306, 'svm_gamma': 'scale', 'svm_kernel': 'rbf'}. Best is trial 23 with value: 0.7909860956549597.\n",
            "[I 2024-10-06 20:14:30,765] Trial 44 finished with value: 0.7800711394794094 and parameters: {'svm_C': 1.9470279525053296, 'svm_gamma': 'scale', 'svm_kernel': 'poly'}. Best is trial 23 with value: 0.7909860956549597.\n",
            "[I 2024-10-06 20:14:36,922] Trial 45 finished with value: 0.7852197179331039 and parameters: {'svm_C': 0.5483716850164753, 'svm_gamma': 'auto', 'svm_kernel': 'rbf'}. Best is trial 23 with value: 0.7909860956549597.\n",
            "[I 2024-10-06 20:14:43,213] Trial 46 finished with value: 0.5250433466134664 and parameters: {'svm_C': 4.233267290484814, 'svm_gamma': 'scale', 'svm_kernel': 'sigmoid'}. Best is trial 23 with value: 0.7909860956549597.\n",
            "[I 2024-10-06 20:14:49,566] Trial 47 finished with value: 0.7908793587177071 and parameters: {'svm_C': 1.4870369606413436, 'svm_gamma': 'scale', 'svm_kernel': 'rbf'}. Best is trial 23 with value: 0.7909860956549597.\n",
            "[I 2024-10-06 20:14:54,976] Trial 48 finished with value: 0.7760628109227983 and parameters: {'svm_C': 0.11671396808664845, 'svm_gamma': 'auto', 'svm_kernel': 'rbf'}. Best is trial 23 with value: 0.7909860956549597.\n",
            "[I 2024-10-06 20:15:07,533] Trial 49 finished with value: 0.785307218787741 and parameters: {'svm_C': 5.400460964765881, 'svm_gamma': 'scale', 'svm_kernel': 'poly'}. Best is trial 23 with value: 0.7909860956549597.\n",
            "[I 2024-10-06 20:15:13,823] Trial 50 finished with value: 0.7899519508122731 and parameters: {'svm_C': 1.3318528568286814, 'svm_gamma': 'scale', 'svm_kernel': 'rbf'}. Best is trial 23 with value: 0.7909860956549597.\n",
            "[I 2024-10-06 20:15:18,959] Trial 51 finished with value: 0.7904850981104099 and parameters: {'svm_C': 1.7584503955562447, 'svm_gamma': 'scale', 'svm_kernel': 'rbf'}. Best is trial 23 with value: 0.7909860956549597.\n",
            "[I 2024-10-06 20:15:25,240] Trial 52 finished with value: 0.784959660714219 and parameters: {'svm_C': 0.5284581850926076, 'svm_gamma': 'scale', 'svm_kernel': 'rbf'}. Best is trial 23 with value: 0.7909860956549597.\n",
            "[I 2024-10-06 20:15:30,514] Trial 53 finished with value: 0.7894517648690713 and parameters: {'svm_C': 2.193151689089264, 'svm_gamma': 'scale', 'svm_kernel': 'rbf'}. Best is trial 23 with value: 0.7909860956549597.\n",
            "[I 2024-10-06 20:15:35,840] Trial 54 finished with value: 0.7849910573989948 and parameters: {'svm_C': 0.541955781169337, 'svm_gamma': 'scale', 'svm_kernel': 'rbf'}. Best is trial 23 with value: 0.7909860956549597.\n",
            "[I 2024-10-06 20:15:42,576] Trial 55 finished with value: 0.7872916162817626 and parameters: {'svm_C': 6.061636342336185, 'svm_gamma': 'scale', 'svm_kernel': 'rbf'}. Best is trial 23 with value: 0.7909860956549597.\n",
            "[I 2024-10-06 20:15:47,861] Trial 56 finished with value: 0.7786084821797667 and parameters: {'svm_C': 0.18550270502746716, 'svm_gamma': 'scale', 'svm_kernel': 'rbf'}. Best is trial 23 with value: 0.7909860956549597.\n",
            "[I 2024-10-06 20:15:55,248] Trial 57 finished with value: 0.5240386638646551 and parameters: {'svm_C': 1.3118000102653853, 'svm_gamma': 'scale', 'svm_kernel': 'sigmoid'}. Best is trial 23 with value: 0.7909860956549597.\n",
            "[I 2024-10-06 20:16:01,155] Trial 58 finished with value: 0.7487423322651715 and parameters: {'svm_C': 3.861692249760643e-05, 'svm_gamma': 'scale', 'svm_kernel': 'rbf'}. Best is trial 23 with value: 0.7909860956549597.\n",
            "[I 2024-10-06 20:16:07,600] Trial 59 finished with value: 0.7820009295067304 and parameters: {'svm_C': 0.3663398403320563, 'svm_gamma': 'auto', 'svm_kernel': 'rbf'}. Best is trial 23 with value: 0.7909860956549597.\n",
            "[I 2024-10-06 20:16:18,819] Trial 60 finished with value: 0.7840664672877683 and parameters: {'svm_C': 3.154692244866389, 'svm_gamma': 'scale', 'svm_kernel': 'poly'}. Best is trial 23 with value: 0.7909860956549597.\n",
            "[I 2024-10-06 20:16:23,905] Trial 61 finished with value: 0.7902109270246956 and parameters: {'svm_C': 1.8160512879319488, 'svm_gamma': 'scale', 'svm_kernel': 'rbf'}. Best is trial 23 with value: 0.7909860956549597.\n",
            "[I 2024-10-06 20:16:30,063] Trial 62 finished with value: 0.7891142368439619 and parameters: {'svm_C': 0.8086451657609828, 'svm_gamma': 'scale', 'svm_kernel': 'rbf'}. Best is trial 23 with value: 0.7909860956549597.\n",
            "[I 2024-10-06 20:16:35,307] Trial 63 finished with value: 0.7896440398526492 and parameters: {'svm_C': 2.0196189700007268, 'svm_gamma': 'scale', 'svm_kernel': 'rbf'}. Best is trial 23 with value: 0.7909860956549597.\n",
            "[I 2024-10-06 20:16:42,138] Trial 64 finished with value: 0.7892767341792337 and parameters: {'svm_C': 9.971014824616168, 'svm_gamma': 'scale', 'svm_kernel': 'rbf'}. Best is trial 23 with value: 0.7909860956549597.\n",
            "[I 2024-10-06 20:17:02,386] Trial 65 finished with value: 0.7559431072616168 and parameters: {'svm_C': 5.204171690238021, 'svm_gamma': 'scale', 'svm_kernel': 'linear'}. Best is trial 23 with value: 0.7909860956549597.\n",
            "[I 2024-10-06 20:17:09,790] Trial 66 finished with value: 0.7487423322651715 and parameters: {'svm_C': 0.0005754442850712335, 'svm_gamma': 'scale', 'svm_kernel': 'rbf'}. Best is trial 23 with value: 0.7909860956549597.\n",
            "[I 2024-10-06 20:17:14,972] Trial 67 finished with value: 0.782014884445326 and parameters: {'svm_C': 0.2603270711919371, 'svm_gamma': 'scale', 'svm_kernel': 'rbf'}. Best is trial 23 with value: 0.7909860956549597.\n",
            "[I 2024-10-06 20:17:20,512] Trial 68 finished with value: 0.7902039163745227 and parameters: {'svm_C': 1.2895836439615729, 'svm_gamma': 'scale', 'svm_kernel': 'rbf'}. Best is trial 23 with value: 0.7909860956549597.\n",
            "[I 2024-10-06 20:17:26,495] Trial 69 finished with value: 0.7891428592201749 and parameters: {'svm_C': 2.865832266453002, 'svm_gamma': 'scale', 'svm_kernel': 'rbf'}. Best is trial 23 with value: 0.7909860956549597.\n",
            "[I 2024-10-06 20:17:31,844] Trial 70 finished with value: 0.77639136553582 and parameters: {'svm_C': 0.12633530124832076, 'svm_gamma': 'scale', 'svm_kernel': 'rbf'}. Best is trial 23 with value: 0.7909860956549597.\n",
            "[I 2024-10-06 20:17:38,202] Trial 71 finished with value: 0.7904841407126654 and parameters: {'svm_C': 1.3802461693100687, 'svm_gamma': 'scale', 'svm_kernel': 'rbf'}. Best is trial 23 with value: 0.7909860956549597.\n",
            "[I 2024-10-06 20:17:43,360] Trial 72 finished with value: 0.7872685497762639 and parameters: {'svm_C': 0.5984210263568591, 'svm_gamma': 'scale', 'svm_kernel': 'rbf'}. Best is trial 23 with value: 0.7909860956549597.\n",
            "[I 2024-10-06 20:17:49,655] Trial 73 finished with value: 0.7903383757220969 and parameters: {'svm_C': 1.2685847008729414, 'svm_gamma': 'scale', 'svm_kernel': 'rbf'}. Best is trial 23 with value: 0.7909860956549597.\n",
            "[I 2024-10-06 20:17:55,239] Trial 74 finished with value: 0.7886856268820489 and parameters: {'svm_C': 5.924318391097145, 'svm_gamma': 'scale', 'svm_kernel': 'rbf'}. Best is trial 23 with value: 0.7909860956549597.\n",
            "[I 2024-10-06 20:18:09,238] Trial 75 finished with value: 0.7568689014599432 and parameters: {'svm_C': 2.747870027593454, 'svm_gamma': 'scale', 'svm_kernel': 'linear'}. Best is trial 23 with value: 0.7909860956549597.\n",
            "[I 2024-10-06 20:18:15,589] Trial 76 finished with value: 0.7890582692154137 and parameters: {'svm_C': 0.9216979220372842, 'svm_gamma': 'scale', 'svm_kernel': 'rbf'}. Best is trial 23 with value: 0.7909860956549597.\n",
            "[I 2024-10-06 20:18:20,715] Trial 77 finished with value: 0.7908980327293035 and parameters: {'svm_C': 1.5619606923670906, 'svm_gamma': 'scale', 'svm_kernel': 'rbf'}. Best is trial 23 with value: 0.7909860956549597.\n",
            "[I 2024-10-06 20:18:28,418] Trial 78 finished with value: 0.5245780561815404 and parameters: {'svm_C': 0.3259238366632783, 'svm_gamma': 'auto', 'svm_kernel': 'sigmoid'}. Best is trial 23 with value: 0.7909860956549597.\n",
            "[I 2024-10-06 20:18:33,544] Trial 79 finished with value: 0.7839347599813689 and parameters: {'svm_C': 0.500020791051578, 'svm_gamma': 'scale', 'svm_kernel': 'rbf'}. Best is trial 23 with value: 0.7909860956549597.\n",
            "[I 2024-10-06 20:18:39,336] Trial 80 finished with value: 0.7883137170355021 and parameters: {'svm_C': 0.7521059083433402, 'svm_gamma': 'scale', 'svm_kernel': 'rbf'}. Best is trial 23 with value: 0.7909860956549597.\n",
            "[I 2024-10-06 20:18:44,968] Trial 81 finished with value: 0.7901595493458554 and parameters: {'svm_C': 1.6515346518859373, 'svm_gamma': 'scale', 'svm_kernel': 'rbf'}. Best is trial 23 with value: 0.7909860956549597.\n",
            "[I 2024-10-06 20:18:50,146] Trial 82 finished with value: 0.7898831735771756 and parameters: {'svm_C': 2.153180599164918, 'svm_gamma': 'scale', 'svm_kernel': 'rbf'}. Best is trial 23 with value: 0.7909860956549597.\n",
            "[I 2024-10-06 20:18:56,656] Trial 83 finished with value: 0.7884041346533658 and parameters: {'svm_C': 3.9143663432870737, 'svm_gamma': 'scale', 'svm_kernel': 'rbf'}. Best is trial 23 with value: 0.7909860956549597.\n",
            "[I 2024-10-06 20:19:01,695] Trial 84 finished with value: 0.7905373347699494 and parameters: {'svm_C': 1.0759094119770256, 'svm_gamma': 'scale', 'svm_kernel': 'rbf'}. Best is trial 23 with value: 0.7909860956549597.\n",
            "[I 2024-10-06 20:19:11,533] Trial 85 finished with value: 0.7775257491233231 and parameters: {'svm_C': 1.2182021622288852, 'svm_gamma': 'scale', 'svm_kernel': 'poly'}. Best is trial 23 with value: 0.7909860956549597.\n",
            "[I 2024-10-06 20:19:17,618] Trial 86 finished with value: 0.7873453976188262 and parameters: {'svm_C': 6.358863757819865, 'svm_gamma': 'scale', 'svm_kernel': 'rbf'}. Best is trial 23 with value: 0.7909860956549597.\n",
            "[I 2024-10-06 20:19:23,797] Trial 87 finished with value: 0.7784567790914227 and parameters: {'svm_C': 0.15701879594819695, 'svm_gamma': 'scale', 'svm_kernel': 'rbf'}. Best is trial 23 with value: 0.7909860956549597.\n",
            "[I 2024-10-06 20:19:28,846] Trial 88 finished with value: 0.7893800468852576 and parameters: {'svm_C': 0.929287118459302, 'svm_gamma': 'scale', 'svm_kernel': 'rbf'}. Best is trial 23 with value: 0.7909860956549597.\n",
            "[I 2024-10-06 20:19:35,243] Trial 89 finished with value: 0.7833605500904753 and parameters: {'svm_C': 0.41079729545178434, 'svm_gamma': 'scale', 'svm_kernel': 'rbf'}. Best is trial 23 with value: 0.7909860956549597.\n",
            "[I 2024-10-06 20:19:40,589] Trial 90 finished with value: 0.7611158077221379 and parameters: {'svm_C': 0.04316647553833324, 'svm_gamma': 'auto', 'svm_kernel': 'linear'}. Best is trial 23 with value: 0.7909860956549597.\n",
            "[I 2024-10-06 20:19:46,871] Trial 91 finished with value: 0.7909532243470438 and parameters: {'svm_C': 1.502876026461435, 'svm_gamma': 'scale', 'svm_kernel': 'rbf'}. Best is trial 23 with value: 0.7909860956549597.\n",
            "[I 2024-10-06 20:19:52,108] Trial 92 finished with value: 0.7891428592201749 and parameters: {'svm_C': 2.8548652188322223, 'svm_gamma': 'scale', 'svm_kernel': 'rbf'}. Best is trial 23 with value: 0.7909860956549597.\n",
            "[I 2024-10-06 20:19:58,077] Trial 93 finished with value: 0.7908793587177071 and parameters: {'svm_C': 1.4839258313859263, 'svm_gamma': 'scale', 'svm_kernel': 'rbf'}. Best is trial 23 with value: 0.7909860956549597.\n",
            "[I 2024-10-06 20:20:04,473] Trial 94 finished with value: 0.7487423322651715 and parameters: {'svm_C': 0.0048042772751778215, 'svm_gamma': 'scale', 'svm_kernel': 'rbf'}. Best is trial 23 with value: 0.7909860956549597.\n",
            "[I 2024-10-06 20:20:10,138] Trial 95 finished with value: 0.7878439104818441 and parameters: {'svm_C': 0.6894361411044375, 'svm_gamma': 'scale', 'svm_kernel': 'rbf'}. Best is trial 23 with value: 0.7909860956549597.\n",
            "[I 2024-10-06 20:20:16,180] Trial 96 finished with value: 0.7873883516747251 and parameters: {'svm_C': 4.680844203852362, 'svm_gamma': 'scale', 'svm_kernel': 'rbf'}. Best is trial 23 with value: 0.7909860956549597.\n",
            "[I 2024-10-06 20:20:21,271] Trial 97 finished with value: 0.7901595493458554 and parameters: {'svm_C': 1.644499697592529, 'svm_gamma': 'scale', 'svm_kernel': 'rbf'}. Best is trial 23 with value: 0.7909860956549597.\n",
            "[I 2024-10-06 20:20:28,562] Trial 98 finished with value: 0.5242704690238763 and parameters: {'svm_C': 7.480589568669215, 'svm_gamma': 'scale', 'svm_kernel': 'sigmoid'}. Best is trial 23 with value: 0.7909860956549597.\n",
            "[I 2024-10-06 20:20:33,765] Trial 99 finished with value: 0.7815074643333093 and parameters: {'svm_C': 0.23268144504594301, 'svm_gamma': 'scale', 'svm_kernel': 'rbf'}. Best is trial 23 with value: 0.7909860956549597.\n"
          ]
        },
        {
          "output_type": "stream",
          "name": "stdout",
          "text": [
            "Best hyperparameters: {'svm_C': 1.7210083768862503, 'svm_gamma': 'scale', 'svm_kernel': 'rbf'}\n",
            "Best F1-score: 0.7910\n"
          ]
        }
      ]
    },
    {
      "cell_type": "code",
      "source": [
        "df_val_haralick = df_val.with_columns(pl.col(\"path\").map_elements(lambda x: extract_haralick(x)).alias(\"features\")).unnest(\"features\")\n",
        "df_val_haralick"
      ],
      "metadata": {
        "colab": {
          "base_uri": "https://localhost:8080/",
          "height": 550
        },
        "id": "jgD0bbYa52Oz",
        "outputId": "114a993c-092d-4e05-a2b3-d421c3e5591a"
      },
      "execution_count": 8,
      "outputs": [
        {
          "output_type": "stream",
          "name": "stderr",
          "text": [
            "sys:1: MapWithoutReturnDtypeWarning: Calling `map_elements` without specifying `return_dtype` can lead to unpredictable results. Specify `return_dtype` to silence this warning.\n",
            "sys:1: MapWithoutReturnDtypeWarning: Calling `map_elements` without specifying `return_dtype` can lead to unpredictable results. Specify `return_dtype` to silence this warning.\n"
          ]
        },
        {
          "output_type": "execute_result",
          "data": {
            "text/plain": [
              "shape: (832, 23)\n",
              "┌──────┬─────────────┬────────┬─────────┬───┬─────────────┬─────────────┬─────────────┬────────────┐\n",
              "│ id   ┆ path        ┆ is_bee ┆ is_wasp ┆ … ┆ Difference  ┆ Difference  ┆ Information ┆ Informatio │\n",
              "│ ---  ┆ ---         ┆ ---    ┆ ---     ┆   ┆ Variance    ┆ Entropy     ┆ Measure of  ┆ n Measure  │\n",
              "│ i64  ┆ str         ┆ i64    ┆ i64     ┆   ┆ ---         ┆ ---         ┆ Correla…    ┆ of         │\n",
              "│      ┆             ┆        ┆         ┆   ┆ f64         ┆ f64         ┆ ---         ┆ Correla…   │\n",
              "│      ┆             ┆        ┆         ┆   ┆             ┆             ┆ f64         ┆ ---        │\n",
              "│      ┆             ┆        ┆         ┆   ┆             ┆             ┆             ┆ f64        │\n",
              "╞══════╪═════════════╪════════╪═════════╪═══╪═════════════╪═════════════╪═════════════╪════════════╡\n",
              "│ 2    ┆ bee1\\100248 ┆ 1      ┆ 0       ┆ … ┆ 0.000141    ┆ 6.355873    ┆ -0.217756   ┆ 0.951756   │\n",
              "│      ┆ 64894_6dc54 ┆        ┆         ┆   ┆             ┆             ┆             ┆            │\n",
              "│      ┆ d4b34_n.…   ┆        ┆         ┆   ┆             ┆             ┆             ┆            │\n",
              "│ 4    ┆ bee1\\101194 ┆ 1      ┆ 0       ┆ … ┆ 0.000169    ┆ 5.414926    ┆ -0.23928    ┆ 0.980368   │\n",
              "│      ┆ 8979_fc3637 ┆        ┆         ┆   ┆             ┆             ┆             ┆            │\n",
              "│      ┆ e779_w.j…   ┆        ┆         ┆   ┆             ┆             ┆             ┆            │\n",
              "│ 23   ┆ bee1\\104446 ┆ 1      ┆ 0       ┆ … ┆ 0.00011     ┆ 6.350426    ┆ -0.195994   ┆ 0.939822   │\n",
              "│      ┆ 7943_594f56 ┆        ┆         ┆   ┆             ┆             ┆             ┆            │\n",
              "│      ┆ bd36_n.j…   ┆        ┆         ┆   ┆             ┆             ┆             ┆            │\n",
              "│ 37   ┆ bee1\\115443 ┆ 1      ┆ 0       ┆ … ┆ 0.000083    ┆ 5.739722    ┆ -0.160995   ┆ 0.951708   │\n",
              "│      ┆ 8668_037d50 ┆        ┆         ┆   ┆             ┆             ┆             ┆            │\n",
              "│      ┆ 3906_m.j…   ┆        ┆         ┆   ┆             ┆             ┆             ┆            │\n",
              "│ 40   ┆ bee1\\116092 ┆ 1      ┆ 0       ┆ … ┆ 0.000143    ┆ 5.90609     ┆ -0.179303   ┆ 0.897315   │\n",
              "│      ┆ 48916_80ea6 ┆        ┆         ┆   ┆             ┆             ┆             ┆            │\n",
              "│      ┆ 30895_n.…   ┆        ┆         ┆   ┆             ┆             ┆             ┆            │\n",
              "│ …    ┆ …           ┆ …      ┆ …       ┆ … ┆ …           ┆ …           ┆ …           ┆ …          │\n",
              "│ 5280 ┆ wasp1\\96099 ┆ 0      ┆ 1       ┆ … ┆ 0.000284    ┆ 4.945424    ┆ -0.331919   ┆ 0.992951   │\n",
              "│      ┆ 35234_7bd49 ┆        ┆         ┆   ┆             ┆             ┆             ┆            │\n",
              "│      ┆ 09970_m.…   ┆        ┆         ┆   ┆             ┆             ┆             ┆            │\n",
              "│ 5286 ┆ wasp1\\96515 ┆ 0      ┆ 1       ┆ … ┆ 0.000131    ┆ 5.453691    ┆ -0.245763   ┆ 0.98736    │\n",
              "│      ┆ 10344_fe786 ┆        ┆         ┆   ┆             ┆             ┆             ┆            │\n",
              "│      ┆ ed064_n.…   ┆        ┆         ┆   ┆             ┆             ┆             ┆            │\n",
              "│ 5301 ┆ wasp1\\98461 ┆ 0      ┆ 1       ┆ … ┆ 0.000196    ┆ 5.556098    ┆ -0.168827   ┆ 0.888721   │\n",
              "│      ┆ 64973_4245d ┆        ┆         ┆   ┆             ┆             ┆             ┆            │\n",
              "│      ┆ ecd39_w.…   ┆        ┆         ┆   ┆             ┆             ┆             ┆            │\n",
              "│ 5307 ┆ wasp1\\99829 ┆ 0      ┆ 1       ┆ … ┆ 0.000103    ┆ 6.042356    ┆ -0.184856   ┆ 0.946145   │\n",
              "│      ┆ 41523_98296 ┆        ┆         ┆   ┆             ┆             ┆             ┆            │\n",
              "│      ┆ 7238c_n.…   ┆        ┆         ┆   ┆             ┆             ┆             ┆            │\n",
              "│ 5309 ┆ wasp1\\99829 ┆ 0      ┆ 1       ┆ … ┆ 0.000248    ┆ 5.37622     ┆ -0.234193   ┆ 0.949319   │\n",
              "│      ┆ 47853_6a7a8 ┆        ┆         ┆   ┆             ┆             ┆             ┆            │\n",
              "│      ┆ 59cd6_n.…   ┆        ┆         ┆   ┆             ┆             ┆             ┆            │\n",
              "└──────┴─────────────┴────────┴─────────┴───┴─────────────┴─────────────┴─────────────┴────────────┘"
            ],
            "text/html": [
              "<div><style>\n",
              ".dataframe > thead > tr,\n",
              ".dataframe > tbody > tr {\n",
              "  text-align: right;\n",
              "  white-space: pre-wrap;\n",
              "}\n",
              "</style>\n",
              "<small>shape: (832, 23)</small><table border=\"1\" class=\"dataframe\"><thead><tr><th>id</th><th>path</th><th>is_bee</th><th>is_wasp</th><th>is_otherinsect</th><th>is_other</th><th>photo_quality</th><th>is_validation</th><th>is_final_validation</th><th>label</th><th>Angular Second Moment</th><th>Contrast</th><th>Correlation</th><th>Sum of Squares: Variance</th><th>Inverse Difference Moment</th><th>Sum Average</th><th>Sum Variance</th><th>Sum Entropy</th><th>Entropy</th><th>Difference Variance</th><th>Difference Entropy</th><th>Information Measure of Correlation 1</th><th>Information Measure of Correlation 2</th></tr><tr><td>i64</td><td>str</td><td>i64</td><td>i64</td><td>i64</td><td>i64</td><td>i64</td><td>i64</td><td>i64</td><td>str</td><td>f64</td><td>f64</td><td>f64</td><td>f64</td><td>f64</td><td>f64</td><td>f64</td><td>f64</td><td>f64</td><td>f64</td><td>f64</td><td>f64</td><td>f64</td></tr></thead><tbody><tr><td>2</td><td>&quot;bee1\\10024864894_6dc54d4b34_n.…</td><td>1</td><td>0</td><td>0</td><td>0</td><td>1</td><td>0</td><td>1</td><td>&quot;bee&quot;</td><td>0.00085</td><td>5899.638137</td><td>0.479574</td><td>5939.060905</td><td>0.113345</td><td>224.754955</td><td>17856.605484</td><td>8.535219</td><td>13.433414</td><td>0.000141</td><td>6.355873</td><td>-0.217756</td><td>0.951756</td></tr><tr><td>4</td><td>&quot;bee1\\1011948979_fc3637e779_w.j…</td><td>1</td><td>0</td><td>0</td><td>0</td><td>1</td><td>0</td><td>1</td><td>&quot;bee&quot;</td><td>0.000256</td><td>903.109332</td><td>0.917788</td><td>5495.223697</td><td>0.147249</td><td>192.472889</td><td>21077.785456</td><td>8.597804</td><td>13.410387</td><td>0.000169</td><td>5.414926</td><td>-0.23928</td><td>0.980368</td></tr><tr><td>23</td><td>&quot;bee1\\1044467943_594f56bd36_n.j…</td><td>1</td><td>0</td><td>0</td><td>0</td><td>1</td><td>0</td><td>1</td><td>&quot;bee&quot;</td><td>0.00214</td><td>5288.186123</td><td>0.560274</td><td>6208.563251</td><td>0.109996</td><td>172.56559</td><td>19546.066881</td><td>8.394622</td><td>12.961501</td><td>0.00011</td><td>6.350426</td><td>-0.195994</td><td>0.939822</td></tr><tr><td>37</td><td>&quot;bee1\\1154438668_037d503906_m.j…</td><td>1</td><td>0</td><td>0</td><td>0</td><td>1</td><td>0</td><td>1</td><td>&quot;bee&quot;</td><td>0.000077</td><td>777.101868</td><td>0.853983</td><td>2663.23709</td><td>0.061898</td><td>249.243076</td><td>9875.846491</td><td>8.613202</td><td>14.117887</td><td>0.000083</td><td>5.739722</td><td>-0.160995</td><td>0.951708</td></tr><tr><td>40</td><td>&quot;bee1\\11609248916_80ea630895_n.…</td><td>1</td><td>0</td><td>0</td><td>0</td><td>1</td><td>0</td><td>1</td><td>&quot;bee&quot;</td><td>0.000191</td><td>2049.046481</td><td>0.647137</td><td>2880.766025</td><td>0.100261</td><td>229.932181</td><td>9474.017619</td><td>8.512633</td><td>13.938231</td><td>0.000143</td><td>5.90609</td><td>-0.179303</td><td>0.897315</td></tr><tr><td>&hellip;</td><td>&hellip;</td><td>&hellip;</td><td>&hellip;</td><td>&hellip;</td><td>&hellip;</td><td>&hellip;</td><td>&hellip;</td><td>&hellip;</td><td>&hellip;</td><td>&hellip;</td><td>&hellip;</td><td>&hellip;</td><td>&hellip;</td><td>&hellip;</td><td>&hellip;</td><td>&hellip;</td><td>&hellip;</td><td>&hellip;</td><td>&hellip;</td><td>&hellip;</td><td>&hellip;</td><td>&hellip;</td></tr><tr><td>5280</td><td>&quot;wasp1\\9609935234_7bd4909970_m.…</td><td>0</td><td>1</td><td>0</td><td>0</td><td>1</td><td>0</td><td>1</td><td>&quot;wasp&quot;</td><td>0.000476</td><td>870.232582</td><td>0.914593</td><td>5188.661688</td><td>0.16018</td><td>271.823308</td><td>19884.414168</td><td>8.337198</td><td>12.473341</td><td>0.000284</td><td>4.945424</td><td>-0.331919</td><td>0.992951</td></tr><tr><td>5286</td><td>&quot;wasp1\\9651510344_fe786ed064_n.…</td><td>0</td><td>1</td><td>0</td><td>0</td><td>1</td><td>0</td><td>1</td><td>&quot;wasp&quot;</td><td>0.000756</td><td>756.17444</td><td>0.933571</td><td>5679.594721</td><td>0.134631</td><td>254.555266</td><td>21962.204445</td><td>8.861404</td><td>13.786164</td><td>0.000131</td><td>5.453691</td><td>-0.245763</td><td>0.98736</td></tr><tr><td>5301</td><td>&quot;wasp1\\9846164973_4245decd39_w.…</td><td>0</td><td>1</td><td>0</td><td>0</td><td>1</td><td>0</td><td>1</td><td>&quot;wasp&quot;</td><td>0.000507</td><td>1384.240648</td><td>0.552956</td><td>1561.219168</td><td>0.156423</td><td>136.851552</td><td>4860.636026</td><td>7.93391</td><td>12.826891</td><td>0.000196</td><td>5.556098</td><td>-0.168827</td><td>0.888721</td></tr><tr><td>5307</td><td>&quot;wasp1\\9982941523_982967238c_n.…</td><td>0</td><td>1</td><td>0</td><td>0</td><td>1</td><td>0</td><td>1</td><td>&quot;wasp&quot;</td><td>0.000128</td><td>3298.23831</td><td>0.514341</td><td>3441.409667</td><td>0.089231</td><td>250.304433</td><td>10467.400356</td><td>8.529034</td><td>13.847709</td><td>0.000103</td><td>6.042356</td><td>-0.184856</td><td>0.946145</td></tr><tr><td>5309</td><td>&quot;wasp1\\9982947853_6a7a859cd6_n.…</td><td>0</td><td>1</td><td>0</td><td>0</td><td>1</td><td>0</td><td>1</td><td>&quot;wasp&quot;</td><td>0.001103</td><td>1142.434104</td><td>0.581329</td><td>1412.28837</td><td>0.181034</td><td>244.137179</td><td>4506.719378</td><td>7.890174</td><td>12.404033</td><td>0.000248</td><td>5.37622</td><td>-0.234193</td><td>0.949319</td></tr></tbody></table></div>"
            ]
          },
          "metadata": {},
          "execution_count": 8
        }
      ]
    },
    {
      "cell_type": "code",
      "source": [
        "best_params = study1.best_params\n",
        "\n",
        "best_model = Pipeline([\n",
        "    (\"scaler\", StandardScaler()),\n",
        "    (\"svm\", SVC(C=best_params[\"svm_C\"], kernel=best_params[\"svm_kernel\"], gamma=best_params[\"svm_gamma\"]))\n",
        "])\n",
        "\n",
        "X_test, y_test = df_val_haralick.select(pl.nth(range(10, len(df_val_haralick.columns)))).to_numpy(), df_val_haralick[\"label\"].to_numpy()\n",
        "\n",
        "best_model.fit(X_train, y_train)\n",
        "\n",
        "y_pred = best_model.predict(X_test)\n",
        "\n",
        "print(classification_report(y_test, y_pred))"
      ],
      "metadata": {
        "colab": {
          "base_uri": "https://localhost:8080/"
        },
        "id": "ZLdm6bZj46g2",
        "outputId": "62852709-a8bb-40e9-e756-d0cb59e36b1c"
      },
      "execution_count": 9,
      "outputs": [
        {
          "output_type": "stream",
          "name": "stdout",
          "text": [
            "              precision    recall  f1-score   support\n",
            "\n",
            "         bee       0.76      0.87      0.81       504\n",
            "        wasp       0.74      0.58      0.65       328\n",
            "\n",
            "    accuracy                           0.75       832\n",
            "   macro avg       0.75      0.72      0.73       832\n",
            "weighted avg       0.75      0.75      0.75       832\n",
            "\n"
          ]
        }
      ]
    },
    {
      "cell_type": "markdown",
      "source": [
        "### Características de Cores"
      ],
      "metadata": {
        "id": "6-Ij1uq2AEie"
      }
    },
    {
      "cell_type": "code",
      "source": [
        "def extract_colors(img_path):\n",
        "  color = ('b','g','r')\n",
        "  dataset_hist_r = []\n",
        "  dataset_hist_g = []\n",
        "  dataset_hist_b = []\n",
        "\n",
        "  image = io.imread(os.path.join(dataset_path, img_path.replace(\"\\\\\", \"/\")))\n",
        "  image = cv2.cvtColor(image, cv2.COLOR_BGR2RGB)\n",
        "  hists = {}\n",
        "\n",
        "  for i, col in enumerate(color):\n",
        "    histr = cv.calcHist([image],[i],None,[4],[0,256])\n",
        "    if col == 'r': dataset_hist_r.append(histr)\n",
        "    if col == 'g': dataset_hist_g.append(histr)\n",
        "    if col == 'b': dataset_hist_b.append(histr)\n",
        "\n",
        "  X_r = np.array(dataset_hist_r)\n",
        "  X_g = np.array(dataset_hist_g)\n",
        "  X_b = np.array(dataset_hist_b)\n",
        "\n",
        "  X_colors = np.concatenate((X_r,X_g,X_b),axis=1).reshape(1, 12)\n",
        "\n",
        "  colors_features = {}\n",
        "\n",
        "  for i, feature in enumerate(X_colors[0]):\n",
        "    colors_features[f\"feature_{i}\"] = feature\n",
        "\n",
        "  return colors_features\n",
        "\n",
        "df_train_colors = df_train.with_columns(pl.col(\"path\").map_elements(lambda x: extract_colors(x)).alias(\"features\")).unnest(\"features\")\n",
        "df_train_colors"
      ],
      "metadata": {
        "colab": {
          "base_uri": "https://localhost:8080/",
          "height": 498
        },
        "id": "oF08oLF2n2V-",
        "outputId": "e10c2c91-b943-4059-c7a0-2a216b940e63"
      },
      "execution_count": 10,
      "outputs": [
        {
          "output_type": "stream",
          "name": "stderr",
          "text": [
            "sys:1: MapWithoutReturnDtypeWarning: Calling `map_elements` without specifying `return_dtype` can lead to unpredictable results. Specify `return_dtype` to silence this warning.\n",
            "sys:1: MapWithoutReturnDtypeWarning: Calling `map_elements` without specifying `return_dtype` can lead to unpredictable results. Specify `return_dtype` to silence this warning.\n"
          ]
        },
        {
          "output_type": "execute_result",
          "data": {
            "text/plain": [
              "shape: (4_477, 22)\n",
              "┌──────┬──────────────────┬────────┬─────────┬───┬───────────┬───────────┬────────────┬────────────┐\n",
              "│ id   ┆ path             ┆ is_bee ┆ is_wasp ┆ … ┆ feature_8 ┆ feature_9 ┆ feature_10 ┆ feature_11 │\n",
              "│ ---  ┆ ---              ┆ ---    ┆ ---     ┆   ┆ ---       ┆ ---       ┆ ---        ┆ ---        │\n",
              "│ i64  ┆ str              ┆ i64    ┆ i64     ┆   ┆ f64       ┆ f64       ┆ f64        ┆ f64        │\n",
              "╞══════╪══════════════════╪════════╪═════════╪═══╪═══════════╪═══════════╪════════════╪════════════╡\n",
              "│ 1    ┆ bee1\\10007154554 ┆ 1      ┆ 0       ┆ … ┆ 33418.0   ┆ 18236.0   ┆ 16437.0    ┆ 69.0       │\n",
              "│      ┆ _026417cfd0_n.…  ┆        ┆         ┆   ┆           ┆           ┆            ┆            │\n",
              "│ 3    ┆ bee1\\10092043833 ┆ 1      ┆ 0       ┆ … ┆ 53969.0   ┆ 23812.0   ┆ 6113.0     ┆ 1226.0     │\n",
              "│      ┆ _7306dfd1f0_n.…  ┆        ┆         ┆   ┆           ┆           ┆            ┆            │\n",
              "│ 5    ┆ bee1\\10128235063 ┆ 1      ┆ 0       ┆ … ┆ 33180.0   ┆ 43332.0   ┆ 5285.0     ┆ 123.0      │\n",
              "│      ┆ _dca17db76c_n.…  ┆        ┆         ┆   ┆           ┆           ┆            ┆            │\n",
              "│ 6    ┆ bee1\\10130729734 ┆ 1      ┆ 0       ┆ … ┆ 28578.0   ┆ 17982.0   ┆ 32554.0    ┆ 26486.0    │\n",
              "│      ┆ _f68738333e_w.…  ┆        ┆         ┆   ┆           ┆           ┆            ┆            │\n",
              "│ 7    ┆ bee1\\10166485783 ┆ 1      ┆ 0       ┆ … ┆ 4134.0    ┆ 61330.0   ┆ 1903.0     ┆ 580.0      │\n",
              "│      ┆ _9cd6706c72_n.…  ┆        ┆         ┆   ┆           ┆           ┆            ┆            │\n",
              "│ …    ┆ …                ┆ …      ┆ …       ┆ … ┆ …         ┆ …         ┆ …          ┆ …          │\n",
              "│ 5303 ┆ wasp1\\9931084786 ┆ 0      ┆ 1       ┆ … ┆ 13672.0   ┆ 28502.0   ┆ 10253.0    ┆ 5173.0     │\n",
              "│      ┆ _6c1de01c56_m.…  ┆        ┆         ┆   ┆           ┆           ┆            ┆            │\n",
              "│ 5304 ┆ wasp1\\9974913676 ┆ 0      ┆ 1       ┆ … ┆ 42176.0   ┆ 25290.0   ┆ 688.0      ┆ 6.0        │\n",
              "│      ┆ _226cac235d_n.…  ┆        ┆         ┆   ┆           ┆           ┆            ┆            │\n",
              "│ 5305 ┆ wasp1\\9982829004 ┆ 0      ┆ 1       ┆ … ┆ 46848.0   ┆ 34754.0   ┆ 291.0      ┆ 27.0       │\n",
              "│      ┆ _31a27d7db7_n.…  ┆        ┆         ┆   ┆           ┆           ┆            ┆            │\n",
              "│ 5306 ┆ wasp1\\9982910983 ┆ 0      ┆ 1       ┆ … ┆ 36649.0   ┆ 42408.0   ┆ 2821.0     ┆ 42.0       │\n",
              "│      ┆ _46ea81d4e9_n.…  ┆        ┆         ┆   ┆           ┆           ┆            ┆            │\n",
              "│ 5308 ┆ wasp1\\9982946253 ┆ 0      ┆ 1       ┆ … ┆ 30492.0   ┆ 44564.0   ┆ 6827.0     ┆ 37.0       │\n",
              "│      ┆ _ff569c6125_n.…  ┆        ┆         ┆   ┆           ┆           ┆            ┆            │\n",
              "└──────┴──────────────────┴────────┴─────────┴───┴───────────┴───────────┴────────────┴────────────┘"
            ],
            "text/html": [
              "<div><style>\n",
              ".dataframe > thead > tr,\n",
              ".dataframe > tbody > tr {\n",
              "  text-align: right;\n",
              "  white-space: pre-wrap;\n",
              "}\n",
              "</style>\n",
              "<small>shape: (4_477, 22)</small><table border=\"1\" class=\"dataframe\"><thead><tr><th>id</th><th>path</th><th>is_bee</th><th>is_wasp</th><th>is_otherinsect</th><th>is_other</th><th>photo_quality</th><th>is_validation</th><th>is_final_validation</th><th>label</th><th>feature_0</th><th>feature_1</th><th>feature_2</th><th>feature_3</th><th>feature_4</th><th>feature_5</th><th>feature_6</th><th>feature_7</th><th>feature_8</th><th>feature_9</th><th>feature_10</th><th>feature_11</th></tr><tr><td>i64</td><td>str</td><td>i64</td><td>i64</td><td>i64</td><td>i64</td><td>i64</td><td>i64</td><td>i64</td><td>str</td><td>f64</td><td>f64</td><td>f64</td><td>f64</td><td>f64</td><td>f64</td><td>f64</td><td>f64</td><td>f64</td><td>f64</td><td>f64</td><td>f64</td></tr></thead><tbody><tr><td>1</td><td>&quot;bee1\\10007154554_026417cfd0_n.…</td><td>1</td><td>0</td><td>0</td><td>0</td><td>1</td><td>0</td><td>0</td><td>&quot;bee&quot;</td><td>11066.0</td><td>7226.0</td><td>11167.0</td><td>38701.0</td><td>25249.0</td><td>22957.0</td><td>19703.0</td><td>251.0</td><td>33418.0</td><td>18236.0</td><td>16437.0</td><td>69.0</td></tr><tr><td>3</td><td>&quot;bee1\\10092043833_7306dfd1f0_n.…</td><td>1</td><td>0</td><td>0</td><td>0</td><td>1</td><td>1</td><td>0</td><td>&quot;bee&quot;</td><td>12590.0</td><td>28181.0</td><td>26282.0</td><td>18067.0</td><td>13483.0</td><td>31867.0</td><td>32113.0</td><td>7657.0</td><td>53969.0</td><td>23812.0</td><td>6113.0</td><td>1226.0</td></tr><tr><td>5</td><td>&quot;bee1\\10128235063_dca17db76c_n.…</td><td>1</td><td>0</td><td>0</td><td>0</td><td>1</td><td>0</td><td>0</td><td>&quot;bee&quot;</td><td>1662.0</td><td>4267.0</td><td>32744.0</td><td>43247.0</td><td>17347.0</td><td>31117.0</td><td>21553.0</td><td>11903.0</td><td>33180.0</td><td>43332.0</td><td>5285.0</td><td>123.0</td></tr><tr><td>6</td><td>&quot;bee1\\10130729734_f68738333e_w.…</td><td>1</td><td>0</td><td>0</td><td>0</td><td>1</td><td>0</td><td>0</td><td>&quot;bee&quot;</td><td>9805.0</td><td>18147.0</td><td>46777.0</td><td>30871.0</td><td>9690.0</td><td>14976.0</td><td>49500.0</td><td>31434.0</td><td>28578.0</td><td>17982.0</td><td>32554.0</td><td>26486.0</td></tr><tr><td>7</td><td>&quot;bee1\\10166485783_9cd6706c72_n.…</td><td>1</td><td>0</td><td>0</td><td>0</td><td>1</td><td>0</td><td>0</td><td>&quot;bee&quot;</td><td>392.0</td><td>9791.0</td><td>56478.0</td><td>1286.0</td><td>1534.0</td><td>25888.0</td><td>40207.0</td><td>318.0</td><td>4134.0</td><td>61330.0</td><td>1903.0</td><td>580.0</td></tr><tr><td>&hellip;</td><td>&hellip;</td><td>&hellip;</td><td>&hellip;</td><td>&hellip;</td><td>&hellip;</td><td>&hellip;</td><td>&hellip;</td><td>&hellip;</td><td>&hellip;</td><td>&hellip;</td><td>&hellip;</td><td>&hellip;</td><td>&hellip;</td><td>&hellip;</td><td>&hellip;</td><td>&hellip;</td><td>&hellip;</td><td>&hellip;</td><td>&hellip;</td><td>&hellip;</td><td>&hellip;</td></tr><tr><td>5303</td><td>&quot;wasp1\\9931084786_6c1de01c56_m.…</td><td>0</td><td>1</td><td>0</td><td>0</td><td>1</td><td>0</td><td>0</td><td>&quot;wasp&quot;</td><td>3862.0</td><td>31392.0</td><td>16058.0</td><td>6288.0</td><td>3509.0</td><td>34429.0</td><td>14992.0</td><td>4670.0</td><td>13672.0</td><td>28502.0</td><td>10253.0</td><td>5173.0</td></tr><tr><td>5304</td><td>&quot;wasp1\\9974913676_226cac235d_n.…</td><td>0</td><td>1</td><td>0</td><td>0</td><td>1</td><td>0</td><td>0</td><td>&quot;wasp&quot;</td><td>7915.0</td><td>30079.0</td><td>20230.0</td><td>9936.0</td><td>6343.0</td><td>27740.0</td><td>26763.0</td><td>7314.0</td><td>42176.0</td><td>25290.0</td><td>688.0</td><td>6.0</td></tr><tr><td>5305</td><td>&quot;wasp1\\9982829004_31a27d7db7_n.…</td><td>0</td><td>1</td><td>0</td><td>0</td><td>1</td><td>0</td><td>0</td><td>&quot;wasp&quot;</td><td>5174.0</td><td>21130.0</td><td>27587.0</td><td>28029.0</td><td>4898.0</td><td>21431.0</td><td>31232.0</td><td>24359.0</td><td>46848.0</td><td>34754.0</td><td>291.0</td><td>27.0</td></tr><tr><td>5306</td><td>&quot;wasp1\\9982910983_46ea81d4e9_n.…</td><td>0</td><td>1</td><td>0</td><td>0</td><td>1</td><td>0</td><td>0</td><td>&quot;wasp&quot;</td><td>18972.0</td><td>22680.0</td><td>39555.0</td><td>713.0</td><td>10269.0</td><td>25689.0</td><td>39355.0</td><td>6607.0</td><td>36649.0</td><td>42408.0</td><td>2821.0</td><td>42.0</td></tr><tr><td>5308</td><td>&quot;wasp1\\9982946253_ff569c6125_n.…</td><td>0</td><td>1</td><td>0</td><td>0</td><td>1</td><td>1</td><td>0</td><td>&quot;wasp&quot;</td><td>1536.0</td><td>46392.0</td><td>32170.0</td><td>1822.0</td><td>2076.0</td><td>56899.0</td><td>22450.0</td><td>495.0</td><td>30492.0</td><td>44564.0</td><td>6827.0</td><td>37.0</td></tr></tbody></table></div>"
            ]
          },
          "metadata": {},
          "execution_count": 10
        }
      ]
    },
    {
      "cell_type": "code",
      "source": [
        "def objective(trial):\n",
        "    C = trial.suggest_float(\"svm_C\", 1e-6, 1e1, log=True)\n",
        "    gamma = trial.suggest_categorical(\"svm_gamma\", [\"scale\", \"auto\"])\n",
        "    kernel = trial.suggest_categorical(\"svm_kernel\", [\"linear\", \"poly\", \"rbf\", \"sigmoid\"])\n",
        "\n",
        "    pipeline = Pipeline([\n",
        "        (\"scaler\", StandardScaler()),\n",
        "        (\"svm\", SVC(C=C, kernel=kernel, gamma=gamma, random_state=0))\n",
        "    ])\n",
        "\n",
        "    scores = cross_val_score(pipeline, X_train, y_train, cv=10, scoring=make_scorer(f1_score, pos_label=\"bee\"))\n",
        "\n",
        "    return np.mean(scores)\n",
        "\n",
        "X_train, y_train = df_train_colors.select(pl.nth(range(10, len(df_train_colors.columns)))).to_numpy(), df_train_colors[\"label\"].to_numpy()\n",
        "\n",
        "sampler = optuna.samplers.TPESampler(seed=0)\n",
        "study2 = optuna.create_study(direction=\"maximize\", sampler=sampler)\n",
        "study2.optimize(objective, n_trials=100)\n",
        "\n",
        "print(\"Best hyperparameters:\", study2.best_params)\n",
        "print(f\"Best F1-score: {study2.best_value:.4f}\")"
      ],
      "metadata": {
        "colab": {
          "base_uri": "https://localhost:8080/"
        },
        "id": "NHhD_1A1qKOr",
        "outputId": "0eadbeac-b5ac-419d-fc97-121d34ae55d9"
      },
      "execution_count": 11,
      "outputs": [
        {
          "output_type": "stream",
          "name": "stderr",
          "text": [
            "[I 2024-10-06 20:22:34,317] A new study created in memory with name: no-name-aca79785-fc48-48f0-ba44-7883d97163e1\n",
            "[I 2024-10-06 20:22:41,839] Trial 0 finished with value: 0.7487423322651715 and parameters: {'svm_C': 0.006945356257424776, 'svm_gamma': 'scale', 'svm_kernel': 'rbf'}. Best is trial 0 with value: 0.7487423322651715.\n",
            "[I 2024-10-06 20:22:47,973] Trial 1 finished with value: 0.5591428177281692 and parameters: {'svm_C': 1.7474751375465036, 'svm_gamma': 'scale', 'svm_kernel': 'sigmoid'}. Best is trial 0 with value: 0.7487423322651715.\n",
            "[I 2024-10-06 20:22:57,474] Trial 2 finished with value: 0.7487423322651715 and parameters: {'svm_C': 3.1423344550041226e-06, 'svm_gamma': 'scale', 'svm_kernel': 'sigmoid'}. Best is trial 0 with value: 0.7487423322651715.\n",
            "[I 2024-10-06 20:23:05,010] Trial 3 finished with value: 0.5945959408543768 and parameters: {'svm_C': 0.3927443531634939, 'svm_gamma': 'auto', 'svm_kernel': 'sigmoid'}. Best is trial 0 with value: 0.7487423322651715.\n",
            "[I 2024-10-06 20:23:09,207] Trial 4 finished with value: 0.7490027424430077 and parameters: {'svm_C': 0.004497159099879467, 'svm_gamma': 'scale', 'svm_kernel': 'linear'}. Best is trial 4 with value: 0.7490027424430077.\n",
            "[I 2024-10-06 20:23:13,819] Trial 5 finished with value: 0.7442217821636604 and parameters: {'svm_C': 0.02105952054524662, 'svm_gamma': 'auto', 'svm_kernel': 'linear'}. Best is trial 4 with value: 0.7490027424430077.\n",
            "[I 2024-10-06 20:23:20,374] Trial 6 finished with value: 0.7437688755740796 and parameters: {'svm_C': 0.07645719685939689, 'svm_gamma': 'auto', 'svm_kernel': 'linear'}. Best is trial 4 with value: 0.7490027424430077.\n",
            "[I 2024-10-06 20:23:24,870] Trial 7 finished with value: 0.7488822921274473 and parameters: {'svm_C': 0.0003515405246922031, 'svm_gamma': 'scale', 'svm_kernel': 'linear'}. Best is trial 4 with value: 0.7490027424430077.\n",
            "[I 2024-10-06 20:23:34,858] Trial 8 finished with value: 0.6973360629797865 and parameters: {'svm_C': 0.03730424702045822, 'svm_gamma': 'auto', 'svm_kernel': 'sigmoid'}. Best is trial 4 with value: 0.7490027424430077.\n",
            "[I 2024-10-06 20:23:41,369] Trial 9 finished with value: 0.7487423322651715 and parameters: {'svm_C': 9.274289735409131e-06, 'svm_gamma': 'auto', 'svm_kernel': 'rbf'}. Best is trial 4 with value: 0.7490027424430077.\n",
            "[I 2024-10-06 20:23:47,490] Trial 10 finished with value: 0.7503855957589147 and parameters: {'svm_C': 0.00022186853668169278, 'svm_gamma': 'scale', 'svm_kernel': 'poly'}. Best is trial 10 with value: 0.7503855957589147.\n",
            "[I 2024-10-06 20:23:53,458] Trial 11 finished with value: 0.7514779939430138 and parameters: {'svm_C': 0.0002796144351130273, 'svm_gamma': 'scale', 'svm_kernel': 'poly'}. Best is trial 11 with value: 0.7514779939430138.\n",
            "[I 2024-10-06 20:23:59,919] Trial 12 finished with value: 0.7493349769633001 and parameters: {'svm_C': 0.00014414158686131375, 'svm_gamma': 'scale', 'svm_kernel': 'poly'}. Best is trial 11 with value: 0.7514779939430138.\n",
            "[I 2024-10-06 20:24:05,531] Trial 13 finished with value: 0.7503855957589147 and parameters: {'svm_C': 0.00022052943799453866, 'svm_gamma': 'scale', 'svm_kernel': 'poly'}. Best is trial 11 with value: 0.7514779939430138.\n",
            "[I 2024-10-06 20:24:12,264] Trial 14 finished with value: 0.7487423322651715 and parameters: {'svm_C': 2.8751013792077462e-05, 'svm_gamma': 'scale', 'svm_kernel': 'poly'}. Best is trial 11 with value: 0.7514779939430138.\n",
            "[I 2024-10-06 20:24:17,034] Trial 15 finished with value: 0.7487423322651715 and parameters: {'svm_C': 1.031420387204825e-06, 'svm_gamma': 'scale', 'svm_kernel': 'poly'}. Best is trial 11 with value: 0.7514779939430138.\n",
            "[I 2024-10-06 20:24:23,927] Trial 16 finished with value: 0.754711512784519 and parameters: {'svm_C': 0.0007780521098883272, 'svm_gamma': 'scale', 'svm_kernel': 'poly'}. Best is trial 16 with value: 0.754711512784519.\n",
            "[I 2024-10-06 20:24:29,560] Trial 17 finished with value: 0.7557589155424582 and parameters: {'svm_C': 0.0012171174953432282, 'svm_gamma': 'scale', 'svm_kernel': 'poly'}. Best is trial 17 with value: 0.7557589155424582.\n",
            "[I 2024-10-06 20:24:36,113] Trial 18 finished with value: 0.7572564962216831 and parameters: {'svm_C': 0.0024896480920797623, 'svm_gamma': 'scale', 'svm_kernel': 'poly'}. Best is trial 18 with value: 0.7572564962216831.\n",
            "[I 2024-10-06 20:24:50,236] Trial 19 finished with value: 0.7780286883929574 and parameters: {'svm_C': 7.3615430053289765, 'svm_gamma': 'scale', 'svm_kernel': 'poly'}. Best is trial 19 with value: 0.7780286883929574.\n",
            "[I 2024-10-06 20:24:55,837] Trial 20 finished with value: 0.7835754733461878 and parameters: {'svm_C': 5.370194420107329, 'svm_gamma': 'scale', 'svm_kernel': 'rbf'}. Best is trial 20 with value: 0.7835754733461878.\n",
            "[I 2024-10-06 20:25:03,301] Trial 21 finished with value: 0.7825491458058332 and parameters: {'svm_C': 9.535101713139868, 'svm_gamma': 'scale', 'svm_kernel': 'rbf'}. Best is trial 20 with value: 0.7835754733461878.\n",
            "[I 2024-10-06 20:25:09,474] Trial 22 finished with value: 0.7827143675037058 and parameters: {'svm_C': 8.347279691117802, 'svm_gamma': 'scale', 'svm_kernel': 'rbf'}. Best is trial 20 with value: 0.7835754733461878.\n",
            "[I 2024-10-06 20:25:16,084] Trial 23 finished with value: 0.7832655169930028 and parameters: {'svm_C': 4.7691813476213065, 'svm_gamma': 'scale', 'svm_kernel': 'rbf'}. Best is trial 20 with value: 0.7835754733461878.\n",
            "[I 2024-10-06 20:25:21,131] Trial 24 finished with value: 0.7789359312391481 and parameters: {'svm_C': 0.6490785335510605, 'svm_gamma': 'scale', 'svm_kernel': 'rbf'}. Best is trial 20 with value: 0.7835754733461878.\n",
            "[I 2024-10-06 20:25:27,361] Trial 25 finished with value: 0.7814004116144251 and parameters: {'svm_C': 2.1505842943404185, 'svm_gamma': 'scale', 'svm_kernel': 'rbf'}. Best is trial 20 with value: 0.7835754733461878.\n",
            "[I 2024-10-06 20:25:32,572] Trial 26 finished with value: 0.7643474232550316 and parameters: {'svm_C': 0.1968089787550776, 'svm_gamma': 'auto', 'svm_kernel': 'rbf'}. Best is trial 20 with value: 0.7835754733461878.\n",
            "[I 2024-10-06 20:25:38,502] Trial 27 finished with value: 0.7808491232639212 and parameters: {'svm_C': 2.381379183863654, 'svm_gamma': 'scale', 'svm_kernel': 'rbf'}. Best is trial 20 with value: 0.7835754733461878.\n",
            "[I 2024-10-06 20:25:43,771] Trial 28 finished with value: 0.7811230641988219 and parameters: {'svm_C': 0.8058137806147301, 'svm_gamma': 'scale', 'svm_kernel': 'rbf'}. Best is trial 20 with value: 0.7835754733461878.\n",
            "[I 2024-10-06 20:25:49,062] Trial 29 finished with value: 0.7601326771209191 and parameters: {'svm_C': 0.13807549915825856, 'svm_gamma': 'scale', 'svm_kernel': 'rbf'}. Best is trial 20 with value: 0.7835754733461878.\n",
            "[I 2024-10-06 20:25:56,190] Trial 30 finished with value: 0.7837572175318608 and parameters: {'svm_C': 6.951102804103286, 'svm_gamma': 'scale', 'svm_kernel': 'rbf'}. Best is trial 30 with value: 0.7837572175318608.\n",
            "[I 2024-10-06 20:26:01,547] Trial 31 finished with value: 0.7825114138907583 and parameters: {'svm_C': 4.0485480754652166, 'svm_gamma': 'scale', 'svm_kernel': 'rbf'}. Best is trial 30 with value: 0.7837572175318608.\n",
            "[I 2024-10-06 20:26:07,698] Trial 32 finished with value: 0.7812842085828027 and parameters: {'svm_C': 1.0437720217312563, 'svm_gamma': 'scale', 'svm_kernel': 'rbf'}. Best is trial 30 with value: 0.7837572175318608.\n",
            "[I 2024-10-06 20:26:13,011] Trial 33 finished with value: 0.7822130462118408 and parameters: {'svm_C': 3.81468493217943, 'svm_gamma': 'scale', 'svm_kernel': 'rbf'}. Best is trial 30 with value: 0.7837572175318608.\n",
            "[I 2024-10-06 20:26:20,460] Trial 34 finished with value: 0.7822769411915104 and parameters: {'svm_C': 9.058584494055992, 'svm_gamma': 'scale', 'svm_kernel': 'rbf'}. Best is trial 30 with value: 0.7837572175318608.\n",
            "[I 2024-10-06 20:26:25,473] Trial 35 finished with value: 0.7695949034158288 and parameters: {'svm_C': 0.3472287121078401, 'svm_gamma': 'scale', 'svm_kernel': 'rbf'}. Best is trial 30 with value: 0.7837572175318608.\n",
            "[I 2024-10-06 20:26:32,617] Trial 36 finished with value: 0.5620458292567085 and parameters: {'svm_C': 1.601269273498864, 'svm_gamma': 'scale', 'svm_kernel': 'sigmoid'}. Best is trial 30 with value: 0.7837572175318608.\n",
            "[I 2024-10-06 20:26:37,914] Trial 37 finished with value: 0.7818575073524648 and parameters: {'svm_C': 3.6319057970851976, 'svm_gamma': 'auto', 'svm_kernel': 'rbf'}. Best is trial 30 with value: 0.7837572175318608.\n",
            "[I 2024-10-06 20:26:44,110] Trial 38 finished with value: 0.7703376237467401 and parameters: {'svm_C': 0.3622916640278056, 'svm_gamma': 'scale', 'svm_kernel': 'rbf'}. Best is trial 30 with value: 0.7837572175318608.\n",
            "[I 2024-10-06 20:26:48,399] Trial 39 finished with value: 0.7437934020883835 and parameters: {'svm_C': 0.011353610206203565, 'svm_gamma': 'auto', 'svm_kernel': 'linear'}. Best is trial 30 with value: 0.7837572175318608.\n",
            "[I 2024-10-06 20:26:57,478] Trial 40 finished with value: 0.6460711287711601 and parameters: {'svm_C': 0.09963512581296412, 'svm_gamma': 'scale', 'svm_kernel': 'sigmoid'}. Best is trial 30 with value: 0.7837572175318608.\n",
            "[I 2024-10-06 20:27:03,570] Trial 41 finished with value: 0.7820921649589039 and parameters: {'svm_C': 7.750112204383688, 'svm_gamma': 'scale', 'svm_kernel': 'rbf'}. Best is trial 30 with value: 0.7837572175318608.\n",
            "[I 2024-10-06 20:27:10,721] Trial 42 finished with value: 0.782838950871817 and parameters: {'svm_C': 7.118772800510772, 'svm_gamma': 'scale', 'svm_kernel': 'rbf'}. Best is trial 30 with value: 0.7837572175318608.\n",
            "[I 2024-10-06 20:27:15,713] Trial 43 finished with value: 0.7802451668917135 and parameters: {'svm_C': 1.4449556423421972, 'svm_gamma': 'scale', 'svm_kernel': 'rbf'}. Best is trial 30 with value: 0.7837572175318608.\n",
            "[I 2024-10-06 20:27:21,639] Trial 44 finished with value: 0.7824852704766443 and parameters: {'svm_C': 3.944595815053776, 'svm_gamma': 'scale', 'svm_kernel': 'rbf'}. Best is trial 30 with value: 0.7837572175318608.\n",
            "[I 2024-10-06 20:27:27,200] Trial 45 finished with value: 0.7443538576063429 and parameters: {'svm_C': 0.049644635739832695, 'svm_gamma': 'auto', 'svm_kernel': 'linear'}. Best is trial 30 with value: 0.7837572175318608.\n",
            "[I 2024-10-06 20:27:32,250] Trial 46 finished with value: 0.7750166343895353 and parameters: {'svm_C': 0.5460756456488686, 'svm_gamma': 'scale', 'svm_kernel': 'rbf'}. Best is trial 30 with value: 0.7837572175318608.\n",
            "[I 2024-10-06 20:27:38,946] Trial 47 finished with value: 0.7831799544946548 and parameters: {'svm_C': 4.681754848535873, 'svm_gamma': 'scale', 'svm_kernel': 'rbf'}. Best is trial 30 with value: 0.7837572175318608.\n",
            "[I 2024-10-06 20:27:46,110] Trial 48 finished with value: 0.6193076929594394 and parameters: {'svm_C': 0.21701011230248046, 'svm_gamma': 'scale', 'svm_kernel': 'sigmoid'}. Best is trial 30 with value: 0.7837572175318608.\n",
            "[I 2024-10-06 20:27:52,321] Trial 49 finished with value: 0.7817345645347935 and parameters: {'svm_C': 1.0951867059403877, 'svm_gamma': 'scale', 'svm_kernel': 'rbf'}. Best is trial 30 with value: 0.7837572175318608.\n",
            "[I 2024-10-06 20:28:08,223] Trial 50 finished with value: 0.7444449616188932 and parameters: {'svm_C': 2.364866787974396, 'svm_gamma': 'scale', 'svm_kernel': 'linear'}. Best is trial 30 with value: 0.7837572175318608.\n",
            "[I 2024-10-06 20:28:14,728] Trial 51 finished with value: 0.782890967410914 and parameters: {'svm_C': 4.82332361707746, 'svm_gamma': 'scale', 'svm_kernel': 'rbf'}. Best is trial 30 with value: 0.7837572175318608.\n",
            "[I 2024-10-06 20:28:20,365] Trial 52 finished with value: 0.7826122441371168 and parameters: {'svm_C': 4.534198225139662, 'svm_gamma': 'scale', 'svm_kernel': 'rbf'}. Best is trial 30 with value: 0.7837572175318608.\n",
            "[I 2024-10-06 20:28:25,618] Trial 53 finished with value: 0.7815977125627598 and parameters: {'svm_C': 1.914587820581039, 'svm_gamma': 'scale', 'svm_kernel': 'rbf'}. Best is trial 30 with value: 0.7837572175318608.\n",
            "[I 2024-10-06 20:28:32,090] Trial 54 finished with value: 0.782890967410914 and parameters: {'svm_C': 4.824098862360514, 'svm_gamma': 'scale', 'svm_kernel': 'rbf'}. Best is trial 30 with value: 0.7837572175318608.\n",
            "[I 2024-10-06 20:28:37,094] Trial 55 finished with value: 0.7817360774275999 and parameters: {'svm_C': 0.7896798461910078, 'svm_gamma': 'scale', 'svm_kernel': 'rbf'}. Best is trial 30 with value: 0.7837572175318608.\n",
            "[I 2024-10-06 20:28:43,707] Trial 56 finished with value: 0.7823537968881885 and parameters: {'svm_C': 4.513349146748453, 'svm_gamma': 'auto', 'svm_kernel': 'rbf'}. Best is trial 30 with value: 0.7837572175318608.\n",
            "[I 2024-10-06 20:28:49,512] Trial 57 finished with value: 0.7487423322651715 and parameters: {'svm_C': 3.80774522832663e-05, 'svm_gamma': 'scale', 'svm_kernel': 'rbf'}. Best is trial 30 with value: 0.7837572175318608.\n",
            "[I 2024-10-06 20:28:57,006] Trial 58 finished with value: 0.7572644726911248 and parameters: {'svm_C': 0.02102194659264724, 'svm_gamma': 'scale', 'svm_kernel': 'rbf'}. Best is trial 30 with value: 0.7837572175318608.\n",
            "[I 2024-10-06 20:29:03,577] Trial 59 finished with value: 0.587525646229001 and parameters: {'svm_C': 0.453526166415959, 'svm_gamma': 'scale', 'svm_kernel': 'sigmoid'}. Best is trial 30 with value: 0.7837572175318608.\n",
            "[I 2024-10-06 20:29:09,902] Trial 60 finished with value: 0.7802958504789922 and parameters: {'svm_C': 2.6099329753797282, 'svm_gamma': 'scale', 'svm_kernel': 'rbf'}. Best is trial 30 with value: 0.7837572175318608.\n",
            "[I 2024-10-06 20:29:15,548] Trial 61 finished with value: 0.7826198086595894 and parameters: {'svm_C': 5.572197976156097, 'svm_gamma': 'scale', 'svm_kernel': 'rbf'}. Best is trial 30 with value: 0.7837572175318608.\n",
            "[I 2024-10-06 20:29:23,155] Trial 62 finished with value: 0.7822079112184562 and parameters: {'svm_C': 9.972816510534974, 'svm_gamma': 'scale', 'svm_kernel': 'rbf'}. Best is trial 30 with value: 0.7837572175318608.\n",
            "[I 2024-10-06 20:29:28,138] Trial 63 finished with value: 0.779288302916969 and parameters: {'svm_C': 1.240973881910851, 'svm_gamma': 'scale', 'svm_kernel': 'rbf'}. Best is trial 30 with value: 0.7837572175318608.\n",
            "[I 2024-10-06 20:29:34,567] Trial 64 finished with value: 0.7805541238038052 and parameters: {'svm_C': 2.705311805442223, 'svm_gamma': 'scale', 'svm_kernel': 'rbf'}. Best is trial 30 with value: 0.7837572175318608.\n",
            "[I 2024-10-06 20:29:40,197] Trial 65 finished with value: 0.783340094023356 and parameters: {'svm_C': 5.381746034321561, 'svm_gamma': 'scale', 'svm_kernel': 'rbf'}. Best is trial 30 with value: 0.7837572175318608.\n",
            "[I 2024-10-06 20:29:46,948] Trial 66 finished with value: 0.7833069238339907 and parameters: {'svm_C': 5.234826368629186, 'svm_gamma': 'scale', 'svm_kernel': 'rbf'}. Best is trial 30 with value: 0.7837572175318608.\n",
            "[I 2024-10-06 20:30:00,642] Trial 67 finished with value: 0.7446680690284803 and parameters: {'svm_C': 1.6334469635980255, 'svm_gamma': 'scale', 'svm_kernel': 'linear'}. Best is trial 30 with value: 0.7837572175318608.\n",
            "[I 2024-10-06 20:30:05,848] Trial 68 finished with value: 0.781959093731283 and parameters: {'svm_C': 2.8506354509127636, 'svm_gamma': 'auto', 'svm_kernel': 'rbf'}. Best is trial 30 with value: 0.7837572175318608.\n",
            "[I 2024-10-06 20:30:11,973] Trial 69 finished with value: 0.7810793900905462 and parameters: {'svm_C': 0.8792541906980842, 'svm_gamma': 'scale', 'svm_kernel': 'rbf'}. Best is trial 30 with value: 0.7837572175318608.\n",
            "[I 2024-10-06 20:30:17,208] Trial 70 finished with value: 0.764659331376018 and parameters: {'svm_C': 0.2191669215031273, 'svm_gamma': 'scale', 'svm_kernel': 'rbf'}. Best is trial 30 with value: 0.7837572175318608.\n",
            "[I 2024-10-06 20:30:23,307] Trial 71 finished with value: 0.7827970301688629 and parameters: {'svm_C': 5.536549835104754, 'svm_gamma': 'scale', 'svm_kernel': 'rbf'}. Best is trial 30 with value: 0.7837572175318608.\n",
            "[I 2024-10-06 20:30:29,667] Trial 72 finished with value: 0.7831100624489584 and parameters: {'svm_C': 5.404128515269966, 'svm_gamma': 'scale', 'svm_kernel': 'rbf'}. Best is trial 30 with value: 0.7837572175318608.\n",
            "[I 2024-10-06 20:30:35,728] Trial 73 finished with value: 0.7823128624064204 and parameters: {'svm_C': 6.465944443818789, 'svm_gamma': 'scale', 'svm_kernel': 'rbf'}. Best is trial 30 with value: 0.7837572175318608.\n",
            "[I 2024-10-06 20:30:42,988] Trial 74 finished with value: 0.7825491458058332 and parameters: {'svm_C': 9.57879478907375, 'svm_gamma': 'scale', 'svm_kernel': 'rbf'}. Best is trial 30 with value: 0.7837572175318608.\n",
            "[I 2024-10-06 20:30:48,262] Trial 75 finished with value: 0.7823215328577394 and parameters: {'svm_C': 3.0842156778347456, 'svm_gamma': 'scale', 'svm_kernel': 'rbf'}. Best is trial 30 with value: 0.7837572175318608.\n",
            "[I 2024-10-06 20:30:56,947] Trial 76 finished with value: 0.7747391013571764 and parameters: {'svm_C': 1.810091043016663, 'svm_gamma': 'scale', 'svm_kernel': 'poly'}. Best is trial 30 with value: 0.7837572175318608.\n",
            "[I 2024-10-06 20:31:04,385] Trial 77 finished with value: 0.7487423322651715 and parameters: {'svm_C': 0.0034320815823090174, 'svm_gamma': 'scale', 'svm_kernel': 'rbf'}. Best is trial 30 with value: 0.7837572175318608.\n",
            "[I 2024-10-06 20:31:10,148] Trial 78 finished with value: 0.7835973194729944 and parameters: {'svm_C': 5.988288972537779, 'svm_gamma': 'scale', 'svm_kernel': 'rbf'}. Best is trial 30 with value: 0.7837572175318608.\n",
            "[I 2024-10-06 20:31:17,341] Trial 79 finished with value: 0.5651887394167249 and parameters: {'svm_C': 1.2898018627848566, 'svm_gamma': 'scale', 'svm_kernel': 'sigmoid'}. Best is trial 30 with value: 0.7837572175318608.\n",
            "[I 2024-10-06 20:31:22,441] Trial 80 finished with value: 0.7796850039222665 and parameters: {'svm_C': 0.7129202779449678, 'svm_gamma': 'auto', 'svm_kernel': 'rbf'}. Best is trial 30 with value: 0.7837572175318608.\n",
            "[I 2024-10-06 20:31:28,809] Trial 81 finished with value: 0.7833496431194985 and parameters: {'svm_C': 5.9322132242920205, 'svm_gamma': 'scale', 'svm_kernel': 'rbf'}. Best is trial 30 with value: 0.7837572175318608.\n",
            "[I 2024-10-06 20:31:35,636] Trial 82 finished with value: 0.7823535235955082 and parameters: {'svm_C': 9.912799041363797, 'svm_gamma': 'scale', 'svm_kernel': 'rbf'}. Best is trial 30 with value: 0.7837572175318608.\n",
            "[I 2024-10-06 20:31:41,377] Trial 83 finished with value: 0.7822259873255376 and parameters: {'svm_C': 3.121205877134013, 'svm_gamma': 'scale', 'svm_kernel': 'rbf'}. Best is trial 30 with value: 0.7837572175318608.\n",
            "[I 2024-10-06 20:31:47,610] Trial 84 finished with value: 0.7828825431098146 and parameters: {'svm_C': 5.487783291925886, 'svm_gamma': 'scale', 'svm_kernel': 'rbf'}. Best is trial 30 with value: 0.7837572175318608.\n",
            "[I 2024-10-06 20:31:52,696] Trial 85 finished with value: 0.7814795707433461 and parameters: {'svm_C': 2.158714030352093, 'svm_gamma': 'scale', 'svm_kernel': 'rbf'}. Best is trial 30 with value: 0.7837572175318608.\n",
            "[I 2024-10-06 20:32:21,646] Trial 86 finished with value: 0.7447514439837898 and parameters: {'svm_C': 6.771125574488286, 'svm_gamma': 'scale', 'svm_kernel': 'linear'}. Best is trial 30 with value: 0.7837572175318608.\n",
            "[I 2024-10-06 20:32:31,294] Trial 87 finished with value: 0.7763448284903649 and parameters: {'svm_C': 3.555710704317158, 'svm_gamma': 'scale', 'svm_kernel': 'poly'}. Best is trial 30 with value: 0.7837572175318608.\n",
            "[I 2024-10-06 20:32:38,737] Trial 88 finished with value: 0.7487423322651715 and parameters: {'svm_C': 0.000857822684461253, 'svm_gamma': 'scale', 'svm_kernel': 'rbf'}. Best is trial 30 with value: 0.7837572175318608.\n",
            "[I 2024-10-06 20:32:43,706] Trial 89 finished with value: 0.7800889014263538 and parameters: {'svm_C': 1.4100942181450011, 'svm_gamma': 'scale', 'svm_kernel': 'rbf'}. Best is trial 30 with value: 0.7837572175318608.\n",
            "[I 2024-10-06 20:32:50,767] Trial 90 finished with value: 0.7829091460247048 and parameters: {'svm_C': 6.752013070525983, 'svm_gamma': 'scale', 'svm_kernel': 'rbf'}. Best is trial 30 with value: 0.7837572175318608.\n",
            "[I 2024-10-06 20:32:56,684] Trial 91 finished with value: 0.782308439333925 and parameters: {'svm_C': 6.549967657502659, 'svm_gamma': 'scale', 'svm_kernel': 'rbf'}. Best is trial 30 with value: 0.7837572175318608.\n",
            "[I 2024-10-06 20:33:03,150] Trial 92 finished with value: 0.7825214675021265 and parameters: {'svm_C': 3.3488389635103553, 'svm_gamma': 'scale', 'svm_kernel': 'rbf'}. Best is trial 30 with value: 0.7837572175318608.\n",
            "[I 2024-10-06 20:33:09,031] Trial 93 finished with value: 0.7831534986011112 and parameters: {'svm_C': 6.8145673102532385, 'svm_gamma': 'scale', 'svm_kernel': 'rbf'}. Best is trial 30 with value: 0.7837572175318608.\n",
            "[I 2024-10-06 20:33:15,311] Trial 94 finished with value: 0.7815448846991407 and parameters: {'svm_C': 1.88085114972835, 'svm_gamma': 'scale', 'svm_kernel': 'rbf'}. Best is trial 30 with value: 0.7837572175318608.\n",
            "[I 2024-10-06 20:33:20,681] Trial 95 finished with value: 0.7825944887211188 and parameters: {'svm_C': 3.9553632240058563, 'svm_gamma': 'scale', 'svm_kernel': 'rbf'}. Best is trial 30 with value: 0.7837572175318608.\n",
            "[I 2024-10-06 20:33:27,744] Trial 96 finished with value: 0.7487423322651715 and parameters: {'svm_C': 3.465382980530826e-06, 'svm_gamma': 'scale', 'svm_kernel': 'rbf'}. Best is trial 30 with value: 0.7837572175318608.\n",
            "[I 2024-10-06 20:33:32,871] Trial 97 finished with value: 0.7805890855703839 and parameters: {'svm_C': 2.392028153400561, 'svm_gamma': 'scale', 'svm_kernel': 'rbf'}. Best is trial 30 with value: 0.7837572175318608.\n",
            "[I 2024-10-06 20:33:39,624] Trial 98 finished with value: 0.5572056133874649 and parameters: {'svm_C': 4.5608793245937385, 'svm_gamma': 'auto', 'svm_kernel': 'sigmoid'}. Best is trial 30 with value: 0.7837572175318608.\n",
            "[I 2024-10-06 20:33:44,698] Trial 99 finished with value: 0.7813357595987365 and parameters: {'svm_C': 0.956033988187095, 'svm_gamma': 'scale', 'svm_kernel': 'rbf'}. Best is trial 30 with value: 0.7837572175318608.\n"
          ]
        },
        {
          "output_type": "stream",
          "name": "stdout",
          "text": [
            "Best hyperparameters: {'svm_C': 6.951102804103286, 'svm_gamma': 'scale', 'svm_kernel': 'rbf'}\n",
            "Best F1-score: 0.7838\n"
          ]
        }
      ]
    },
    {
      "cell_type": "code",
      "source": [
        "df_val_colors = df_val.with_columns(pl.col(\"path\").map_elements(lambda x: extract_colors(x)).alias(\"features\")).unnest(\"features\")\n",
        "df_val_colors"
      ],
      "metadata": {
        "colab": {
          "base_uri": "https://localhost:8080/",
          "height": 498
        },
        "id": "GW77CFcGBf-C",
        "outputId": "2a8992fa-9688-4faf-d774-78ced9afdaa5"
      },
      "execution_count": 12,
      "outputs": [
        {
          "output_type": "stream",
          "name": "stderr",
          "text": [
            "sys:1: MapWithoutReturnDtypeWarning: Calling `map_elements` without specifying `return_dtype` can lead to unpredictable results. Specify `return_dtype` to silence this warning.\n",
            "sys:1: MapWithoutReturnDtypeWarning: Calling `map_elements` without specifying `return_dtype` can lead to unpredictable results. Specify `return_dtype` to silence this warning.\n"
          ]
        },
        {
          "output_type": "execute_result",
          "data": {
            "text/plain": [
              "shape: (832, 22)\n",
              "┌──────┬──────────────────┬────────┬─────────┬───┬───────────┬───────────┬────────────┬────────────┐\n",
              "│ id   ┆ path             ┆ is_bee ┆ is_wasp ┆ … ┆ feature_8 ┆ feature_9 ┆ feature_10 ┆ feature_11 │\n",
              "│ ---  ┆ ---              ┆ ---    ┆ ---     ┆   ┆ ---       ┆ ---       ┆ ---        ┆ ---        │\n",
              "│ i64  ┆ str              ┆ i64    ┆ i64     ┆   ┆ f64       ┆ f64       ┆ f64        ┆ f64        │\n",
              "╞══════╪══════════════════╪════════╪═════════╪═══╪═══════════╪═══════════╪════════════╪════════════╡\n",
              "│ 2    ┆ bee1\\10024864894 ┆ 1      ┆ 0       ┆ … ┆ 52353.0   ┆ 13619.0   ┆ 1861.0     ┆ 114.0      │\n",
              "│      ┆ _6dc54d4b34_n.…  ┆        ┆         ┆   ┆           ┆           ┆            ┆            │\n",
              "│ 4    ┆ bee1\\1011948979_ ┆ 1      ┆ 0       ┆ … ┆ 47099.0   ┆ 18011.0   ┆ 29521.0    ┆ 12169.0    │\n",
              "│      ┆ fc3637e779_w.j…  ┆        ┆         ┆   ┆           ┆           ┆            ┆            │\n",
              "│ 23   ┆ bee1\\1044467943_ ┆ 1      ┆ 0       ┆ … ┆ 78503.0   ┆ 2047.0    ┆ 343.0      ┆ 67.0       │\n",
              "│      ┆ 594f56bd36_n.j…  ┆        ┆         ┆   ┆           ┆           ┆            ┆            │\n",
              "│ 37   ┆ bee1\\1154438668_ ┆ 1      ┆ 0       ┆ … ┆ 10282.0   ┆ 16827.0   ┆ 12895.0    ┆ 6076.0     │\n",
              "│      ┆ 037d503906_m.j…  ┆        ┆         ┆   ┆           ┆           ┆            ┆            │\n",
              "│ 40   ┆ bee1\\11609248916 ┆ 1      ┆ 0       ┆ … ┆ 25986.0   ┆ 37594.0   ┆ 11469.0    ┆ 1751.0     │\n",
              "│      ┆ _80ea630895_n.…  ┆        ┆         ┆   ┆           ┆           ┆            ┆            │\n",
              "│ …    ┆ …                ┆ …      ┆ …       ┆ … ┆ …         ┆ …         ┆ …          ┆ …          │\n",
              "│ 5280 ┆ wasp1\\9609935234 ┆ 0      ┆ 1       ┆ … ┆ 29726.0   ┆ 3440.0    ┆ 3307.0     ┆ 21127.0    │\n",
              "│      ┆ _7bd4909970_m.…  ┆        ┆         ┆   ┆           ┆           ┆            ┆            │\n",
              "│ 5286 ┆ wasp1\\9651510344 ┆ 0      ┆ 1       ┆ … ┆ 18676.0   ┆ 21589.0   ┆ 13908.0    ┆ 12707.0    │\n",
              "│      ┆ _fe786ed064_n.…  ┆        ┆         ┆   ┆           ┆           ┆            ┆            │\n",
              "│ 5301 ┆ wasp1\\9846164973 ┆ 0      ┆ 1       ┆ … ┆ 99410.0   ┆ 6300.0    ┆ 907.0      ┆ 183.0      │\n",
              "│      ┆ _4245decd39_w.…  ┆        ┆         ┆   ┆           ┆           ┆            ┆            │\n",
              "│ 5307 ┆ wasp1\\9982941523 ┆ 0      ┆ 1       ┆ … ┆ 45554.0   ┆ 36119.0   ┆ 221.0      ┆ 26.0       │\n",
              "│      ┆ _982967238c_n.…  ┆        ┆         ┆   ┆           ┆           ┆            ┆            │\n",
              "│ 5309 ┆ wasp1\\9982947853 ┆ 0      ┆ 1       ┆ … ┆ 19028.0   ┆ 51808.0   ┆ 11019.0    ┆ 65.0       │\n",
              "│      ┆ _6a7a859cd6_n.…  ┆        ┆         ┆   ┆           ┆           ┆            ┆            │\n",
              "└──────┴──────────────────┴────────┴─────────┴───┴───────────┴───────────┴────────────┴────────────┘"
            ],
            "text/html": [
              "<div><style>\n",
              ".dataframe > thead > tr,\n",
              ".dataframe > tbody > tr {\n",
              "  text-align: right;\n",
              "  white-space: pre-wrap;\n",
              "}\n",
              "</style>\n",
              "<small>shape: (832, 22)</small><table border=\"1\" class=\"dataframe\"><thead><tr><th>id</th><th>path</th><th>is_bee</th><th>is_wasp</th><th>is_otherinsect</th><th>is_other</th><th>photo_quality</th><th>is_validation</th><th>is_final_validation</th><th>label</th><th>feature_0</th><th>feature_1</th><th>feature_2</th><th>feature_3</th><th>feature_4</th><th>feature_5</th><th>feature_6</th><th>feature_7</th><th>feature_8</th><th>feature_9</th><th>feature_10</th><th>feature_11</th></tr><tr><td>i64</td><td>str</td><td>i64</td><td>i64</td><td>i64</td><td>i64</td><td>i64</td><td>i64</td><td>i64</td><td>str</td><td>f64</td><td>f64</td><td>f64</td><td>f64</td><td>f64</td><td>f64</td><td>f64</td><td>f64</td><td>f64</td><td>f64</td><td>f64</td><td>f64</td></tr></thead><tbody><tr><td>2</td><td>&quot;bee1\\10024864894_6dc54d4b34_n.…</td><td>1</td><td>0</td><td>0</td><td>0</td><td>1</td><td>0</td><td>1</td><td>&quot;bee&quot;</td><td>6427.0</td><td>22205.0</td><td>5874.0</td><td>33441.0</td><td>8185.0</td><td>32805.0</td><td>16503.0</td><td>10454.0</td><td>52353.0</td><td>13619.0</td><td>1861.0</td><td>114.0</td></tr><tr><td>4</td><td>&quot;bee1\\1011948979_fc3637e779_w.j…</td><td>1</td><td>0</td><td>0</td><td>0</td><td>1</td><td>0</td><td>1</td><td>&quot;bee&quot;</td><td>41439.0</td><td>22879.0</td><td>22545.0</td><td>19937.0</td><td>56253.0</td><td>13177.0</td><td>22140.0</td><td>15230.0</td><td>47099.0</td><td>18011.0</td><td>29521.0</td><td>12169.0</td></tr><tr><td>23</td><td>&quot;bee1\\1044467943_594f56bd36_n.j…</td><td>1</td><td>0</td><td>0</td><td>0</td><td>1</td><td>0</td><td>1</td><td>&quot;bee&quot;</td><td>12684.0</td><td>23242.0</td><td>18312.0</td><td>26722.0</td><td>27978.0</td><td>24880.0</td><td>24085.0</td><td>4017.0</td><td>78503.0</td><td>2047.0</td><td>343.0</td><td>67.0</td></tr><tr><td>37</td><td>&quot;bee1\\1154438668_037d503906_m.j…</td><td>1</td><td>0</td><td>0</td><td>0</td><td>1</td><td>0</td><td>1</td><td>&quot;bee&quot;</td><td>2862.0</td><td>18968.0</td><td>19862.0</td><td>4388.0</td><td>4924.0</td><td>19854.0</td><td>14902.0</td><td>6400.0</td><td>10282.0</td><td>16827.0</td><td>12895.0</td><td>6076.0</td></tr><tr><td>40</td><td>&quot;bee1\\11609248916_80ea630895_n.…</td><td>1</td><td>0</td><td>0</td><td>0</td><td>1</td><td>0</td><td>1</td><td>&quot;bee&quot;</td><td>12050.0</td><td>38937.0</td><td>23508.0</td><td>2305.0</td><td>7573.0</td><td>16367.0</td><td>44640.0</td><td>8220.0</td><td>25986.0</td><td>37594.0</td><td>11469.0</td><td>1751.0</td></tr><tr><td>&hellip;</td><td>&hellip;</td><td>&hellip;</td><td>&hellip;</td><td>&hellip;</td><td>&hellip;</td><td>&hellip;</td><td>&hellip;</td><td>&hellip;</td><td>&hellip;</td><td>&hellip;</td><td>&hellip;</td><td>&hellip;</td><td>&hellip;</td><td>&hellip;</td><td>&hellip;</td><td>&hellip;</td><td>&hellip;</td><td>&hellip;</td><td>&hellip;</td><td>&hellip;</td><td>&hellip;</td></tr><tr><td>5280</td><td>&quot;wasp1\\9609935234_7bd4909970_m.…</td><td>0</td><td>1</td><td>0</td><td>0</td><td>1</td><td>0</td><td>1</td><td>&quot;wasp&quot;</td><td>2639.0</td><td>28585.0</td><td>5195.0</td><td>21181.0</td><td>3024.0</td><td>27669.0</td><td>6083.0</td><td>20824.0</td><td>29726.0</td><td>3440.0</td><td>3307.0</td><td>21127.0</td></tr><tr><td>5286</td><td>&quot;wasp1\\9651510344_fe786ed064_n.…</td><td>0</td><td>1</td><td>0</td><td>0</td><td>1</td><td>0</td><td>1</td><td>&quot;wasp&quot;</td><td>15173.0</td><td>15726.0</td><td>19218.0</td><td>16763.0</td><td>17452.0</td><td>14232.0</td><td>17893.0</td><td>17303.0</td><td>18676.0</td><td>21589.0</td><td>13908.0</td><td>12707.0</td></tr><tr><td>5301</td><td>&quot;wasp1\\9846164973_4245decd39_w.…</td><td>0</td><td>1</td><td>0</td><td>0</td><td>1</td><td>0</td><td>1</td><td>&quot;wasp&quot;</td><td>23219.0</td><td>75593.0</td><td>5352.0</td><td>2636.0</td><td>34444.0</td><td>67583.0</td><td>4018.0</td><td>755.0</td><td>99410.0</td><td>6300.0</td><td>907.0</td><td>183.0</td></tr><tr><td>5307</td><td>&quot;wasp1\\9982941523_982967238c_n.…</td><td>0</td><td>1</td><td>0</td><td>0</td><td>1</td><td>0</td><td>1</td><td>&quot;wasp&quot;</td><td>5503.0</td><td>20634.0</td><td>32071.0</td><td>23712.0</td><td>4654.0</td><td>21372.0</td><td>37050.0</td><td>18844.0</td><td>45554.0</td><td>36119.0</td><td>221.0</td><td>26.0</td></tr><tr><td>5309</td><td>&quot;wasp1\\9982947853_6a7a859cd6_n.…</td><td>0</td><td>1</td><td>0</td><td>0</td><td>1</td><td>0</td><td>1</td><td>&quot;wasp&quot;</td><td>1465.0</td><td>23200.0</td><td>53767.0</td><td>3488.0</td><td>1893.0</td><td>28901.0</td><td>50057.0</td><td>1069.0</td><td>19028.0</td><td>51808.0</td><td>11019.0</td><td>65.0</td></tr></tbody></table></div>"
            ]
          },
          "metadata": {},
          "execution_count": 12
        }
      ]
    },
    {
      "cell_type": "code",
      "source": [
        "best_params = study2.best_params\n",
        "\n",
        "best_model = Pipeline([\n",
        "    (\"scaler\", StandardScaler()),\n",
        "    (\"svm\", SVC(C=best_params[\"svm_C\"], kernel=best_params[\"svm_kernel\"], gamma=best_params[\"svm_gamma\"]))\n",
        "])\n",
        "\n",
        "X_test, y_test = df_val_colors.select(pl.nth(range(10, len(df_val_colors.columns)))).to_numpy(), df_val_colors[\"label\"].to_numpy()\n",
        "\n",
        "best_model.fit(X_train, y_train)\n",
        "\n",
        "y_pred = best_model.predict(X_test)\n",
        "\n",
        "print(classification_report(y_test, y_pred))"
      ],
      "metadata": {
        "colab": {
          "base_uri": "https://localhost:8080/"
        },
        "id": "p8bRpLqrBnhj",
        "outputId": "4b96f919-f32f-4120-d42c-aac12a668e88"
      },
      "execution_count": 13,
      "outputs": [
        {
          "output_type": "stream",
          "name": "stdout",
          "text": [
            "              precision    recall  f1-score   support\n",
            "\n",
            "         bee       0.80      0.81      0.81       504\n",
            "        wasp       0.71      0.69      0.70       328\n",
            "\n",
            "    accuracy                           0.76       832\n",
            "   macro avg       0.75      0.75      0.75       832\n",
            "weighted avg       0.76      0.76      0.76       832\n",
            "\n"
          ]
        }
      ]
    },
    {
      "cell_type": "markdown",
      "source": [
        "### Características de Texturas e Cores"
      ],
      "metadata": {
        "id": "eupcFRaQ8jMk"
      }
    },
    {
      "cell_type": "code",
      "source": [
        "def objective(trial):\n",
        "    C = trial.suggest_float(\"svm_C\", 1e-6, 1e1, log=True)\n",
        "    gamma = trial.suggest_categorical(\"svm_gamma\", [\"scale\", \"auto\"])\n",
        "    kernel = trial.suggest_categorical(\"svm_kernel\", [\"linear\", \"poly\", \"rbf\", \"sigmoid\"])\n",
        "\n",
        "    pipeline = Pipeline([\n",
        "        (\"scaler\", StandardScaler()),\n",
        "        (\"svm\", SVC(C=C, kernel=kernel, gamma=gamma, random_state=0))\n",
        "    ])\n",
        "\n",
        "    scores = cross_val_score(pipeline, X_train, y_train, cv=10, scoring=make_scorer(f1_score, pos_label=\"bee\"))\n",
        "\n",
        "    return np.mean(scores)\n",
        "\n",
        "df_concat = pl.concat([df_train_colors.select(pl.nth(range(10, len(df_train_colors.columns)))), df_train_haralick.select(pl.nth(range(10, len(df_train_haralick.columns))))], how=\"horizontal\")\n",
        "\n",
        "X_train, y_train = df_concat.to_numpy(), df_train_colors[\"label\"].to_numpy()\n",
        "\n",
        "sampler = optuna.samplers.TPESampler(seed=0)\n",
        "study3 = optuna.create_study(direction=\"maximize\", sampler=sampler)\n",
        "study3.optimize(objective, n_trials=100)\n",
        "\n",
        "print(\"Best hyperparameters:\", study3.best_params)\n",
        "print(f\"Best F1-score: {study3.best_value:.4f}\")"
      ],
      "metadata": {
        "colab": {
          "base_uri": "https://localhost:8080/"
        },
        "id": "GymYewkS8nzo",
        "outputId": "0ff3432a-5fa4-40d8-f765-d195339ff201"
      },
      "execution_count": 20,
      "outputs": [
        {
          "output_type": "stream",
          "name": "stderr",
          "text": [
            "[I 2024-10-06 20:41:45,528] A new study created in memory with name: no-name-c88aa2fd-4179-40a9-8303-63ed099d2a35\n",
            "[I 2024-10-06 20:41:52,739] Trial 0 finished with value: 0.7487423322651715 and parameters: {'svm_C': 0.006945356257424776, 'svm_gamma': 'scale', 'svm_kernel': 'rbf'}. Best is trial 0 with value: 0.7487423322651715.\n",
            "[I 2024-10-06 20:42:00,145] Trial 1 finished with value: 0.5491739919954272 and parameters: {'svm_C': 1.7474751375465036, 'svm_gamma': 'scale', 'svm_kernel': 'sigmoid'}. Best is trial 0 with value: 0.7487423322651715.\n",
            "[I 2024-10-06 20:42:10,770] Trial 2 finished with value: 0.7487423322651715 and parameters: {'svm_C': 3.1423344550041226e-06, 'svm_gamma': 'scale', 'svm_kernel': 'sigmoid'}. Best is trial 0 with value: 0.7487423322651715.\n",
            "[I 2024-10-06 20:42:17,654] Trial 3 finished with value: 0.5497132700390855 and parameters: {'svm_C': 0.3927443531634939, 'svm_gamma': 'auto', 'svm_kernel': 'sigmoid'}. Best is trial 0 with value: 0.7487423322651715.\n",
            "[I 2024-10-06 20:42:23,593] Trial 4 finished with value: 0.7611139074462165 and parameters: {'svm_C': 0.004497159099879467, 'svm_gamma': 'scale', 'svm_kernel': 'linear'}. Best is trial 4 with value: 0.7611139074462165.\n",
            "[I 2024-10-06 20:42:28,205] Trial 5 finished with value: 0.7632330137406255 and parameters: {'svm_C': 0.02105952054524662, 'svm_gamma': 'auto', 'svm_kernel': 'linear'}. Best is trial 5 with value: 0.7632330137406255.\n",
            "[I 2024-10-06 20:42:34,325] Trial 6 finished with value: 0.7619627780311098 and parameters: {'svm_C': 0.07645719685939689, 'svm_gamma': 'auto', 'svm_kernel': 'linear'}. Best is trial 5 with value: 0.7632330137406255.\n",
            "[I 2024-10-06 20:42:39,762] Trial 7 finished with value: 0.7604815723555214 and parameters: {'svm_C': 0.0003515405246922031, 'svm_gamma': 'scale', 'svm_kernel': 'linear'}. Best is trial 5 with value: 0.7632330137406255.\n",
            "[I 2024-10-06 20:42:50,380] Trial 8 finished with value: 0.7164802596667195 and parameters: {'svm_C': 0.03730424702045822, 'svm_gamma': 'auto', 'svm_kernel': 'sigmoid'}. Best is trial 5 with value: 0.7632330137406255.\n",
            "[I 2024-10-06 20:42:57,141] Trial 9 finished with value: 0.7487423322651715 and parameters: {'svm_C': 9.274289735409131e-06, 'svm_gamma': 'auto', 'svm_kernel': 'rbf'}. Best is trial 5 with value: 0.7632330137406255.\n",
            "[I 2024-10-06 20:43:04,649] Trial 10 finished with value: 0.7515837692692537 and parameters: {'svm_C': 0.00027231518067866845, 'svm_gamma': 'auto', 'svm_kernel': 'poly'}. Best is trial 5 with value: 0.7632330137406255.\n",
            "[I 2024-10-06 20:43:10,255] Trial 11 finished with value: 0.7624319229084134 and parameters: {'svm_C': 0.12960000416882134, 'svm_gamma': 'auto', 'svm_kernel': 'linear'}. Best is trial 5 with value: 0.7632330137406255.\n",
            "[I 2024-10-06 20:43:24,902] Trial 12 finished with value: 0.765346378956854 and parameters: {'svm_C': 1.7310082121497743, 'svm_gamma': 'auto', 'svm_kernel': 'linear'}. Best is trial 12 with value: 0.765346378956854.\n",
            "[I 2024-10-06 20:44:02,972] Trial 13 finished with value: 0.7649544517985256 and parameters: {'svm_C': 9.066392645734219, 'svm_gamma': 'auto', 'svm_kernel': 'linear'}. Best is trial 12 with value: 0.765346378956854.\n",
            "[I 2024-10-06 20:44:14,797] Trial 14 finished with value: 0.8011541312812996 and parameters: {'svm_C': 9.874248066550761, 'svm_gamma': 'auto', 'svm_kernel': 'poly'}. Best is trial 14 with value: 0.8011541312812996.\n",
            "[I 2024-10-06 20:44:26,892] Trial 15 finished with value: 0.8016543943142442 and parameters: {'svm_C': 9.235239845255258, 'svm_gamma': 'auto', 'svm_kernel': 'poly'}. Best is trial 15 with value: 0.8016543943142442.\n",
            "[I 2024-10-06 20:44:37,540] Trial 16 finished with value: 0.8001438165220677 and parameters: {'svm_C': 6.616465868178626, 'svm_gamma': 'auto', 'svm_kernel': 'poly'}. Best is trial 15 with value: 0.8016543943142442.\n",
            "[I 2024-10-06 20:44:44,977] Trial 17 finished with value: 0.7925639242828446 and parameters: {'svm_C': 0.6372630489886149, 'svm_gamma': 'auto', 'svm_kernel': 'poly'}. Best is trial 15 with value: 0.8016543943142442.\n",
            "[I 2024-10-06 20:44:51,254] Trial 18 finished with value: 0.7524291557956178 and parameters: {'svm_C': 0.0004178596572920624, 'svm_gamma': 'auto', 'svm_kernel': 'poly'}. Best is trial 15 with value: 0.8016543943142442.\n",
            "[I 2024-10-06 20:44:59,466] Trial 19 finished with value: 0.7994641227657705 and parameters: {'svm_C': 2.2592684514036248, 'svm_gamma': 'auto', 'svm_kernel': 'poly'}. Best is trial 15 with value: 0.8016543943142442.\n",
            "[I 2024-10-06 20:45:05,778] Trial 20 finished with value: 0.7859239485811345 and parameters: {'svm_C': 0.3621503655580596, 'svm_gamma': 'auto', 'svm_kernel': 'poly'}. Best is trial 15 with value: 0.8016543943142442.\n",
            "[I 2024-10-06 20:45:17,522] Trial 21 finished with value: 0.801516210215464 and parameters: {'svm_C': 9.56035359876977, 'svm_gamma': 'auto', 'svm_kernel': 'poly'}. Best is trial 15 with value: 0.8016543943142442.\n",
            "[I 2024-10-06 20:45:28,828] Trial 22 finished with value: 0.8020590777675751 and parameters: {'svm_C': 8.452499632621667, 'svm_gamma': 'auto', 'svm_kernel': 'poly'}. Best is trial 22 with value: 0.8020590777675751.\n",
            "[I 2024-10-06 20:45:36,780] Trial 23 finished with value: 0.7994385469663945 and parameters: {'svm_C': 1.9472583294404733, 'svm_gamma': 'auto', 'svm_kernel': 'poly'}. Best is trial 22 with value: 0.8020590777675751.\n",
            "[I 2024-10-06 20:45:43,201] Trial 24 finished with value: 0.7837854773114441 and parameters: {'svm_C': 0.24322304232985645, 'svm_gamma': 'auto', 'svm_kernel': 'poly'}. Best is trial 22 with value: 0.8020590777675751.\n",
            "[I 2024-10-06 20:45:52,262] Trial 25 finished with value: 0.7966443973159484 and parameters: {'svm_C': 3.652933767300714, 'svm_gamma': 'auto', 'svm_kernel': 'poly'}. Best is trial 22 with value: 0.8020590777675751.\n",
            "[I 2024-10-06 20:45:57,791] Trial 26 finished with value: 0.8090504480831303 and parameters: {'svm_C': 0.7342071368026469, 'svm_gamma': 'scale', 'svm_kernel': 'rbf'}. Best is trial 26 with value: 0.8090504480831303.\n",
            "[I 2024-10-06 20:46:04,479] Trial 27 finished with value: 0.8102691267721834 and parameters: {'svm_C': 0.9191934416251725, 'svm_gamma': 'scale', 'svm_kernel': 'rbf'}. Best is trial 27 with value: 0.8102691267721834.\n",
            "[I 2024-10-06 20:46:11,814] Trial 28 finished with value: 0.7487423322651715 and parameters: {'svm_C': 0.0015736539891728159, 'svm_gamma': 'scale', 'svm_kernel': 'rbf'}. Best is trial 27 with value: 0.8102691267721834.\n",
            "[I 2024-10-06 20:46:20,370] Trial 29 finished with value: 0.7624870787961803 and parameters: {'svm_C': 0.014887975237429171, 'svm_gamma': 'scale', 'svm_kernel': 'rbf'}. Best is trial 27 with value: 0.8102691267721834.\n",
            "[I 2024-10-06 20:46:26,303] Trial 30 finished with value: 0.8090575485196533 and parameters: {'svm_C': 0.754858715538862, 'svm_gamma': 'scale', 'svm_kernel': 'rbf'}. Best is trial 27 with value: 0.8102691267721834.\n",
            "[I 2024-10-06 20:46:32,652] Trial 31 finished with value: 0.8108639826593794 and parameters: {'svm_C': 0.8697222828961383, 'svm_gamma': 'scale', 'svm_kernel': 'rbf'}. Best is trial 31 with value: 0.8108639826593794.\n",
            "[I 2024-10-06 20:46:38,191] Trial 32 finished with value: 0.809831919015297 and parameters: {'svm_C': 0.7318759256611839, 'svm_gamma': 'scale', 'svm_kernel': 'rbf'}. Best is trial 31 with value: 0.8108639826593794.\n",
            "[I 2024-10-06 20:46:45,552] Trial 33 finished with value: 0.7805482096437623 and parameters: {'svm_C': 0.10930370923589361, 'svm_gamma': 'scale', 'svm_kernel': 'rbf'}. Best is trial 31 with value: 0.8108639826593794.\n",
            "[I 2024-10-06 20:46:51,061] Trial 34 finished with value: 0.8097719190872308 and parameters: {'svm_C': 1.0575618941547789, 'svm_gamma': 'scale', 'svm_kernel': 'rbf'}. Best is trial 31 with value: 0.8108639826593794.\n",
            "[I 2024-10-06 20:46:58,163] Trial 35 finished with value: 0.7925617979487527 and parameters: {'svm_C': 0.19336560177166734, 'svm_gamma': 'scale', 'svm_kernel': 'rbf'}. Best is trial 31 with value: 0.8108639826593794.\n",
            "[I 2024-10-06 20:47:03,688] Trial 36 finished with value: 0.8111721747150581 and parameters: {'svm_C': 1.215118664078288, 'svm_gamma': 'scale', 'svm_kernel': 'rbf'}. Best is trial 36 with value: 0.8111721747150581.\n",
            "[I 2024-10-06 20:47:11,789] Trial 37 finished with value: 0.7707119363332064 and parameters: {'svm_C': 0.039350293997860726, 'svm_gamma': 'scale', 'svm_kernel': 'rbf'}. Best is trial 36 with value: 0.8111721747150581.\n",
            "[I 2024-10-06 20:47:20,049] Trial 38 finished with value: 0.7487423322651715 and parameters: {'svm_C': 0.008068735745940202, 'svm_gamma': 'scale', 'svm_kernel': 'rbf'}. Best is trial 36 with value: 0.8111721747150581.\n",
            "[I 2024-10-06 20:47:27,042] Trial 39 finished with value: 0.7721520676342131 and parameters: {'svm_C': 0.048579324293383026, 'svm_gamma': 'scale', 'svm_kernel': 'rbf'}. Best is trial 36 with value: 0.8111721747150581.\n",
            "[I 2024-10-06 20:47:37,684] Trial 40 finished with value: 0.7487423322651715 and parameters: {'svm_C': 2.2181417811009914e-05, 'svm_gamma': 'scale', 'svm_kernel': 'sigmoid'}. Best is trial 36 with value: 0.8111721747150581.\n",
            "[I 2024-10-06 20:47:43,108] Trial 41 finished with value: 0.8109820394026878 and parameters: {'svm_C': 1.1598317090948327, 'svm_gamma': 'scale', 'svm_kernel': 'rbf'}. Best is trial 36 with value: 0.8111721747150581.\n",
            "[I 2024-10-06 20:47:49,765] Trial 42 finished with value: 0.8182231000040889 and parameters: {'svm_C': 2.360798369387129, 'svm_gamma': 'scale', 'svm_kernel': 'rbf'}. Best is trial 42 with value: 0.8182231000040889.\n",
            "[I 2024-10-06 20:47:55,295] Trial 43 finished with value: 0.819468849055886 and parameters: {'svm_C': 3.0454146403470403, 'svm_gamma': 'scale', 'svm_kernel': 'rbf'}. Best is trial 43 with value: 0.819468849055886.\n",
            "[I 2024-10-06 20:48:01,980] Trial 44 finished with value: 0.8191707820494931 and parameters: {'svm_C': 3.101808247557814, 'svm_gamma': 'scale', 'svm_kernel': 'rbf'}. Best is trial 43 with value: 0.819468849055886.\n",
            "[I 2024-10-06 20:48:07,588] Trial 45 finished with value: 0.8197456603375682 and parameters: {'svm_C': 4.086664550450747, 'svm_gamma': 'scale', 'svm_kernel': 'rbf'}. Best is trial 45 with value: 0.8197456603375682.\n",
            "[I 2024-10-06 20:48:14,811] Trial 46 finished with value: 0.5466078956047578 and parameters: {'svm_C': 3.9261829979372216, 'svm_gamma': 'scale', 'svm_kernel': 'sigmoid'}. Best is trial 45 with value: 0.8197456603375682.\n",
            "[I 2024-10-06 20:48:20,332] Trial 47 finished with value: 0.8181530987534413 and parameters: {'svm_C': 2.4026140432683207, 'svm_gamma': 'scale', 'svm_kernel': 'rbf'}. Best is trial 45 with value: 0.8197456603375682.\n",
            "[I 2024-10-06 20:48:27,078] Trial 48 finished with value: 0.8199989448068996 and parameters: {'svm_C': 3.5921467759868375, 'svm_gamma': 'scale', 'svm_kernel': 'rbf'}. Best is trial 48 with value: 0.8199989448068996.\n",
            "[I 2024-10-06 20:48:32,663] Trial 49 finished with value: 0.8200673812368422 and parameters: {'svm_C': 3.6908250462789676, 'svm_gamma': 'scale', 'svm_kernel': 'rbf'}. Best is trial 49 with value: 0.8200673812368422.\n",
            "[I 2024-10-06 20:48:39,480] Trial 50 finished with value: 0.8205809926024434 and parameters: {'svm_C': 4.4359836477182135, 'svm_gamma': 'scale', 'svm_kernel': 'rbf'}. Best is trial 50 with value: 0.8205809926024434.\n",
            "[I 2024-10-06 20:48:45,069] Trial 51 finished with value: 0.8196892415485694 and parameters: {'svm_C': 3.97246962404797, 'svm_gamma': 'scale', 'svm_kernel': 'rbf'}. Best is trial 50 with value: 0.8205809926024434.\n",
            "[I 2024-10-06 20:48:51,884] Trial 52 finished with value: 0.8207279528850945 and parameters: {'svm_C': 4.449289930133641, 'svm_gamma': 'scale', 'svm_kernel': 'rbf'}. Best is trial 52 with value: 0.8207279528850945.\n",
            "[I 2024-10-06 20:48:57,618] Trial 53 finished with value: 0.8208938286078331 and parameters: {'svm_C': 4.677950525296626, 'svm_gamma': 'scale', 'svm_kernel': 'rbf'}. Best is trial 53 with value: 0.8208938286078331.\n",
            "[I 2024-10-06 20:49:04,422] Trial 54 finished with value: 0.8005833022090968 and parameters: {'svm_C': 0.3911899212605047, 'svm_gamma': 'scale', 'svm_kernel': 'rbf'}. Best is trial 53 with value: 0.8208938286078331.\n",
            "[I 2024-10-06 20:49:28,513] Trial 55 finished with value: 0.7651675009002703 and parameters: {'svm_C': 4.624830041560091, 'svm_gamma': 'scale', 'svm_kernel': 'linear'}. Best is trial 53 with value: 0.8208938286078331.\n",
            "[I 2024-10-06 20:49:35,194] Trial 56 finished with value: 0.5461519401420071 and parameters: {'svm_C': 5.298750326305486, 'svm_gamma': 'scale', 'svm_kernel': 'sigmoid'}. Best is trial 53 with value: 0.8208938286078331.\n",
            "[I 2024-10-06 20:49:41,276] Trial 57 finished with value: 0.7993698398106522 and parameters: {'svm_C': 0.3838648829654124, 'svm_gamma': 'scale', 'svm_kernel': 'rbf'}. Best is trial 53 with value: 0.8208938286078331.\n",
            "[I 2024-10-06 20:49:47,428] Trial 58 finished with value: 0.8145851538627031 and parameters: {'svm_C': 1.5490521492102514, 'svm_gamma': 'scale', 'svm_kernel': 'rbf'}. Best is trial 53 with value: 0.8208938286078331.\n",
            "[I 2024-10-06 20:49:55,643] Trial 59 finished with value: 0.7487423322651715 and parameters: {'svm_C': 9.636557415899356e-05, 'svm_gamma': 'scale', 'svm_kernel': 'rbf'}. Best is trial 53 with value: 0.8208938286078331.\n",
            "[I 2024-10-06 20:50:01,718] Trial 60 finished with value: 0.8192868226692592 and parameters: {'svm_C': 5.3476084594023545, 'svm_gamma': 'scale', 'svm_kernel': 'rbf'}. Best is trial 53 with value: 0.8208938286078331.\n",
            "[I 2024-10-06 20:50:08,435] Trial 61 finished with value: 0.8189913555880658 and parameters: {'svm_C': 5.3335323708655675, 'svm_gamma': 'scale', 'svm_kernel': 'rbf'}. Best is trial 53 with value: 0.8208938286078331.\n",
            "[I 2024-10-06 20:50:15,524] Trial 62 finished with value: 0.7487423322651715 and parameters: {'svm_C': 1.1475409438710732e-06, 'svm_gamma': 'scale', 'svm_kernel': 'rbf'}. Best is trial 53 with value: 0.8208938286078331.\n",
            "[I 2024-10-06 20:50:30,015] Trial 63 finished with value: 0.765215951942382 and parameters: {'svm_C': 1.7428354401654313, 'svm_gamma': 'scale', 'svm_kernel': 'linear'}. Best is trial 53 with value: 0.8208938286078331.\n",
            "[I 2024-10-06 20:50:37,740] Trial 64 finished with value: 0.812399335790378 and parameters: {'svm_C': 9.989139384133388, 'svm_gamma': 'scale', 'svm_kernel': 'rbf'}. Best is trial 53 with value: 0.8208938286078331.\n",
            "[I 2024-10-06 20:50:43,492] Trial 65 finished with value: 0.7950752179574687 and parameters: {'svm_C': 0.2377910792343357, 'svm_gamma': 'scale', 'svm_kernel': 'rbf'}. Best is trial 53 with value: 0.8208938286078331.\n",
            "[I 2024-10-06 20:50:50,199] Trial 66 finished with value: 0.8192664635862572 and parameters: {'svm_C': 3.3401251763696065, 'svm_gamma': 'scale', 'svm_kernel': 'rbf'}. Best is trial 53 with value: 0.8208938286078331.\n",
            "[I 2024-10-06 20:50:56,245] Trial 67 finished with value: 0.8174289954312617 and parameters: {'svm_C': 6.4931803191928275, 'svm_gamma': 'scale', 'svm_kernel': 'rbf'}. Best is trial 53 with value: 0.8208938286078331.\n",
            "[I 2024-10-06 20:51:03,617] Trial 68 finished with value: 0.549668160744559 and parameters: {'svm_C': 1.6244605349262622, 'svm_gamma': 'scale', 'svm_kernel': 'sigmoid'}. Best is trial 53 with value: 0.8208938286078331.\n",
            "[I 2024-10-06 20:51:09,246] Trial 69 finished with value: 0.8043126397669432 and parameters: {'svm_C': 0.49428053013211815, 'svm_gamma': 'scale', 'svm_kernel': 'rbf'}. Best is trial 53 with value: 0.8208938286078331.\n",
            "[I 2024-10-06 20:51:28,418] Trial 70 finished with value: 0.7649023172770283 and parameters: {'svm_C': 2.8836782037050215, 'svm_gamma': 'scale', 'svm_kernel': 'linear'}. Best is trial 53 with value: 0.8208938286078331.\n",
            "[I 2024-10-06 20:51:34,090] Trial 71 finished with value: 0.8205819430398134 and parameters: {'svm_C': 4.336734373322955, 'svm_gamma': 'scale', 'svm_kernel': 'rbf'}. Best is trial 53 with value: 0.8208938286078331.\n",
            "[I 2024-10-06 20:51:41,284] Trial 72 finished with value: 0.8163582769486041 and parameters: {'svm_C': 6.9743923955315426, 'svm_gamma': 'scale', 'svm_kernel': 'rbf'}. Best is trial 53 with value: 0.8208938286078331.\n",
            "[I 2024-10-06 20:51:47,053] Trial 73 finished with value: 0.8198729570513439 and parameters: {'svm_C': 4.881653835945326, 'svm_gamma': 'scale', 'svm_kernel': 'rbf'}. Best is trial 53 with value: 0.8208938286078331.\n",
            "[I 2024-10-06 20:51:53,737] Trial 74 finished with value: 0.8141986718920139 and parameters: {'svm_C': 1.517948465915808, 'svm_gamma': 'scale', 'svm_kernel': 'rbf'}. Best is trial 53 with value: 0.8208938286078331.\n",
            "[I 2024-10-06 20:51:59,848] Trial 75 finished with value: 0.8170312814166645 and parameters: {'svm_C': 6.746115399118619, 'svm_gamma': 'scale', 'svm_kernel': 'rbf'}. Best is trial 53 with value: 0.8208938286078331.\n",
            "[I 2024-10-06 20:52:06,524] Trial 76 finished with value: 0.8177378207973052 and parameters: {'svm_C': 2.2581030081950906, 'svm_gamma': 'scale', 'svm_kernel': 'rbf'}. Best is trial 53 with value: 0.8208938286078331.\n",
            "[I 2024-10-06 20:52:12,002] Trial 77 finished with value: 0.8092483476915042 and parameters: {'svm_C': 1.0784838572719633, 'svm_gamma': 'scale', 'svm_kernel': 'rbf'}. Best is trial 53 with value: 0.8208938286078331.\n",
            "[I 2024-10-06 20:52:18,507] Trial 78 finished with value: 0.8205809926024434 and parameters: {'svm_C': 4.410859367344398, 'svm_gamma': 'scale', 'svm_kernel': 'rbf'}. Best is trial 53 with value: 0.8208938286078331.\n",
            "[I 2024-10-06 20:52:25,287] Trial 79 finished with value: 0.8142027172192214 and parameters: {'svm_C': 9.201043109232824, 'svm_gamma': 'scale', 'svm_kernel': 'rbf'}. Best is trial 53 with value: 0.8208938286078331.\n",
            "[I 2024-10-06 20:52:31,887] Trial 80 finished with value: 0.8060057346723252 and parameters: {'svm_C': 0.5782236243337447, 'svm_gamma': 'scale', 'svm_kernel': 'rbf'}. Best is trial 53 with value: 0.8208938286078331.\n",
            "[I 2024-10-06 20:52:37,781] Trial 81 finished with value: 0.8208938286078331 and parameters: {'svm_C': 4.642787861325382, 'svm_gamma': 'scale', 'svm_kernel': 'rbf'}. Best is trial 53 with value: 0.8208938286078331.\n",
            "[I 2024-10-06 20:52:43,850] Trial 82 finished with value: 0.8172757780270576 and parameters: {'svm_C': 2.235007331460473, 'svm_gamma': 'scale', 'svm_kernel': 'rbf'}. Best is trial 53 with value: 0.8208938286078331.\n",
            "[I 2024-10-06 20:52:50,282] Trial 83 finished with value: 0.8192396732826636 and parameters: {'svm_C': 5.56274680840999, 'svm_gamma': 'scale', 'svm_kernel': 'rbf'}. Best is trial 53 with value: 0.8208938286078331.\n",
            "[I 2024-10-06 20:52:58,637] Trial 84 finished with value: 0.7487423322651715 and parameters: {'svm_C': 0.0009099727909251598, 'svm_gamma': 'scale', 'svm_kernel': 'rbf'}. Best is trial 53 with value: 0.8208938286078331.\n",
            "[I 2024-10-06 20:53:04,166] Trial 85 finished with value: 0.8191151393625995 and parameters: {'svm_C': 3.1964633139335628, 'svm_gamma': 'scale', 'svm_kernel': 'rbf'}. Best is trial 53 with value: 0.8208938286078331.\n",
            "[I 2024-10-06 20:53:10,401] Trial 86 finished with value: 0.8142506530203872 and parameters: {'svm_C': 1.4774327443839406, 'svm_gamma': 'scale', 'svm_kernel': 'rbf'}. Best is trial 53 with value: 0.8208938286078331.\n",
            "[I 2024-10-06 20:53:16,334] Trial 87 finished with value: 0.8093090695046505 and parameters: {'svm_C': 0.8298431976548, 'svm_gamma': 'scale', 'svm_kernel': 'rbf'}. Best is trial 53 with value: 0.8208938286078331.\n",
            "[I 2024-10-06 20:53:23,036] Trial 88 finished with value: 0.546290029682663 and parameters: {'svm_C': 9.873692279721853, 'svm_gamma': 'scale', 'svm_kernel': 'sigmoid'}. Best is trial 53 with value: 0.8208938286078331.\n",
            "[I 2024-10-06 20:53:29,283] Trial 89 finished with value: 0.8204178416996637 and parameters: {'svm_C': 4.547646714286193, 'svm_gamma': 'scale', 'svm_kernel': 'rbf'}. Best is trial 53 with value: 0.8208938286078331.\n",
            "[I 2024-10-06 20:53:44,686] Trial 90 finished with value: 0.7654453498312883 and parameters: {'svm_C': 2.201989602879863, 'svm_gamma': 'scale', 'svm_kernel': 'linear'}. Best is trial 53 with value: 0.8208938286078331.\n",
            "[I 2024-10-06 20:53:51,473] Trial 91 finished with value: 0.820429830556335 and parameters: {'svm_C': 4.328116228640653, 'svm_gamma': 'scale', 'svm_kernel': 'rbf'}. Best is trial 53 with value: 0.8208938286078331.\n",
            "[I 2024-10-06 20:53:57,108] Trial 92 finished with value: 0.8194453875857514 and parameters: {'svm_C': 3.9603131695431766, 'svm_gamma': 'scale', 'svm_kernel': 'rbf'}. Best is trial 53 with value: 0.8208938286078331.\n",
            "[I 2024-10-06 20:54:04,301] Trial 93 finished with value: 0.8164330205007321 and parameters: {'svm_C': 6.884252304597092, 'svm_gamma': 'scale', 'svm_kernel': 'rbf'}. Best is trial 53 with value: 0.8208938286078331.\n",
            "[I 2024-10-06 20:54:09,793] Trial 94 finished with value: 0.8193638575863149 and parameters: {'svm_C': 2.6180817956657996, 'svm_gamma': 'scale', 'svm_kernel': 'rbf'}. Best is trial 53 with value: 0.8208938286078331.\n",
            "[I 2024-10-06 20:54:16,387] Trial 95 finished with value: 0.8111938606678132 and parameters: {'svm_C': 1.1664064022405782, 'svm_gamma': 'auto', 'svm_kernel': 'rbf'}. Best is trial 53 with value: 0.8208938286078331.\n",
            "[I 2024-10-06 20:54:22,066] Trial 96 finished with value: 0.8203460713495778 and parameters: {'svm_C': 4.123447428967776, 'svm_gamma': 'scale', 'svm_kernel': 'rbf'}. Best is trial 53 with value: 0.8208938286078331.\n",
            "[I 2024-10-06 20:54:29,302] Trial 97 finished with value: 0.8163582769486041 and parameters: {'svm_C': 7.063209488151704, 'svm_gamma': 'scale', 'svm_kernel': 'rbf'}. Best is trial 53 with value: 0.8208938286078331.\n",
            "[I 2024-10-06 20:54:34,988] Trial 98 finished with value: 0.8205809926024434 and parameters: {'svm_C': 4.400354434104559, 'svm_gamma': 'scale', 'svm_kernel': 'rbf'}. Best is trial 53 with value: 0.8208938286078331.\n",
            "[I 2024-10-06 20:54:42,963] Trial 99 finished with value: 0.798011221192241 and parameters: {'svm_C': 1.744977563984213, 'svm_gamma': 'scale', 'svm_kernel': 'poly'}. Best is trial 53 with value: 0.8208938286078331.\n"
          ]
        },
        {
          "output_type": "stream",
          "name": "stdout",
          "text": [
            "Best hyperparameters: {'svm_C': 4.677950525296626, 'svm_gamma': 'scale', 'svm_kernel': 'rbf'}\n",
            "Best F1-score: 0.8209\n"
          ]
        }
      ]
    },
    {
      "cell_type": "code",
      "source": [
        "best_params = study3.best_params\n",
        "\n",
        "best_model = Pipeline([\n",
        "    (\"scaler\", StandardScaler()),\n",
        "    (\"svm\", SVC(C=best_params[\"svm_C\"], kernel=best_params[\"svm_kernel\"], gamma=best_params[\"svm_gamma\"]))\n",
        "])\n",
        "\n",
        "df_concat_test = pl.concat([df_val_colors.select(pl.nth(range(10, len(df_val_colors.columns)))), df_val_haralick.select(pl.nth(range(10, len(df_val_haralick.columns))))], how=\"horizontal\")\n",
        "\n",
        "X_test, y_test = df_concat_test.to_numpy(), df_val_colors[\"label\"].to_numpy()\n",
        "\n",
        "best_model.fit(X_train, y_train)\n",
        "\n",
        "y_pred = best_model.predict(X_test)\n",
        "\n",
        "print(classification_report(y_test, y_pred))"
      ],
      "metadata": {
        "colab": {
          "base_uri": "https://localhost:8080/"
        },
        "id": "zawHQtN1roie",
        "outputId": "49eca72a-b663-4a2e-cedf-24dc71a08dd4"
      },
      "execution_count": 23,
      "outputs": [
        {
          "output_type": "stream",
          "name": "stdout",
          "text": [
            "              precision    recall  f1-score   support\n",
            "\n",
            "         bee       0.84      0.83      0.83       504\n",
            "        wasp       0.74      0.75      0.75       328\n",
            "\n",
            "    accuracy                           0.80       832\n",
            "   macro avg       0.79      0.79      0.79       832\n",
            "weighted avg       0.80      0.80      0.80       832\n",
            "\n"
          ]
        }
      ]
    },
    {
      "cell_type": "markdown",
      "source": [
        "### Embeddings"
      ],
      "metadata": {
        "id": "YQrOe2EEsIYq"
      }
    },
    {
      "cell_type": "code",
      "source": [
        "model = models.resnet18(pretrained=True)\n",
        "\n",
        "layer = model._modules.get('avgpool')\n",
        "model.eval()"
      ],
      "metadata": {
        "colab": {
          "base_uri": "https://localhost:8080/"
        },
        "id": "WfwJixoDfZhx",
        "outputId": "770e38c2-750f-45bc-ace9-d559d3c1bafb"
      },
      "execution_count": 24,
      "outputs": [
        {
          "output_type": "stream",
          "name": "stderr",
          "text": [
            "/usr/local/lib/python3.10/dist-packages/torchvision/models/_utils.py:208: UserWarning: The parameter 'pretrained' is deprecated since 0.13 and may be removed in the future, please use 'weights' instead.\n",
            "  warnings.warn(\n",
            "/usr/local/lib/python3.10/dist-packages/torchvision/models/_utils.py:223: UserWarning: Arguments other than a weight enum or `None` for 'weights' are deprecated since 0.13 and may be removed in the future. The current behavior is equivalent to passing `weights=ResNet18_Weights.IMAGENET1K_V1`. You can also use `weights=ResNet18_Weights.DEFAULT` to get the most up-to-date weights.\n",
            "  warnings.warn(msg)\n",
            "Downloading: \"https://download.pytorch.org/models/resnet18-f37072fd.pth\" to /root/.cache/torch/hub/checkpoints/resnet18-f37072fd.pth\n",
            "100%|██████████| 44.7M/44.7M [00:00<00:00, 75.1MB/s]\n"
          ]
        },
        {
          "output_type": "execute_result",
          "data": {
            "text/plain": [
              "ResNet(\n",
              "  (conv1): Conv2d(3, 64, kernel_size=(7, 7), stride=(2, 2), padding=(3, 3), bias=False)\n",
              "  (bn1): BatchNorm2d(64, eps=1e-05, momentum=0.1, affine=True, track_running_stats=True)\n",
              "  (relu): ReLU(inplace=True)\n",
              "  (maxpool): MaxPool2d(kernel_size=3, stride=2, padding=1, dilation=1, ceil_mode=False)\n",
              "  (layer1): Sequential(\n",
              "    (0): BasicBlock(\n",
              "      (conv1): Conv2d(64, 64, kernel_size=(3, 3), stride=(1, 1), padding=(1, 1), bias=False)\n",
              "      (bn1): BatchNorm2d(64, eps=1e-05, momentum=0.1, affine=True, track_running_stats=True)\n",
              "      (relu): ReLU(inplace=True)\n",
              "      (conv2): Conv2d(64, 64, kernel_size=(3, 3), stride=(1, 1), padding=(1, 1), bias=False)\n",
              "      (bn2): BatchNorm2d(64, eps=1e-05, momentum=0.1, affine=True, track_running_stats=True)\n",
              "    )\n",
              "    (1): BasicBlock(\n",
              "      (conv1): Conv2d(64, 64, kernel_size=(3, 3), stride=(1, 1), padding=(1, 1), bias=False)\n",
              "      (bn1): BatchNorm2d(64, eps=1e-05, momentum=0.1, affine=True, track_running_stats=True)\n",
              "      (relu): ReLU(inplace=True)\n",
              "      (conv2): Conv2d(64, 64, kernel_size=(3, 3), stride=(1, 1), padding=(1, 1), bias=False)\n",
              "      (bn2): BatchNorm2d(64, eps=1e-05, momentum=0.1, affine=True, track_running_stats=True)\n",
              "    )\n",
              "  )\n",
              "  (layer2): Sequential(\n",
              "    (0): BasicBlock(\n",
              "      (conv1): Conv2d(64, 128, kernel_size=(3, 3), stride=(2, 2), padding=(1, 1), bias=False)\n",
              "      (bn1): BatchNorm2d(128, eps=1e-05, momentum=0.1, affine=True, track_running_stats=True)\n",
              "      (relu): ReLU(inplace=True)\n",
              "      (conv2): Conv2d(128, 128, kernel_size=(3, 3), stride=(1, 1), padding=(1, 1), bias=False)\n",
              "      (bn2): BatchNorm2d(128, eps=1e-05, momentum=0.1, affine=True, track_running_stats=True)\n",
              "      (downsample): Sequential(\n",
              "        (0): Conv2d(64, 128, kernel_size=(1, 1), stride=(2, 2), bias=False)\n",
              "        (1): BatchNorm2d(128, eps=1e-05, momentum=0.1, affine=True, track_running_stats=True)\n",
              "      )\n",
              "    )\n",
              "    (1): BasicBlock(\n",
              "      (conv1): Conv2d(128, 128, kernel_size=(3, 3), stride=(1, 1), padding=(1, 1), bias=False)\n",
              "      (bn1): BatchNorm2d(128, eps=1e-05, momentum=0.1, affine=True, track_running_stats=True)\n",
              "      (relu): ReLU(inplace=True)\n",
              "      (conv2): Conv2d(128, 128, kernel_size=(3, 3), stride=(1, 1), padding=(1, 1), bias=False)\n",
              "      (bn2): BatchNorm2d(128, eps=1e-05, momentum=0.1, affine=True, track_running_stats=True)\n",
              "    )\n",
              "  )\n",
              "  (layer3): Sequential(\n",
              "    (0): BasicBlock(\n",
              "      (conv1): Conv2d(128, 256, kernel_size=(3, 3), stride=(2, 2), padding=(1, 1), bias=False)\n",
              "      (bn1): BatchNorm2d(256, eps=1e-05, momentum=0.1, affine=True, track_running_stats=True)\n",
              "      (relu): ReLU(inplace=True)\n",
              "      (conv2): Conv2d(256, 256, kernel_size=(3, 3), stride=(1, 1), padding=(1, 1), bias=False)\n",
              "      (bn2): BatchNorm2d(256, eps=1e-05, momentum=0.1, affine=True, track_running_stats=True)\n",
              "      (downsample): Sequential(\n",
              "        (0): Conv2d(128, 256, kernel_size=(1, 1), stride=(2, 2), bias=False)\n",
              "        (1): BatchNorm2d(256, eps=1e-05, momentum=0.1, affine=True, track_running_stats=True)\n",
              "      )\n",
              "    )\n",
              "    (1): BasicBlock(\n",
              "      (conv1): Conv2d(256, 256, kernel_size=(3, 3), stride=(1, 1), padding=(1, 1), bias=False)\n",
              "      (bn1): BatchNorm2d(256, eps=1e-05, momentum=0.1, affine=True, track_running_stats=True)\n",
              "      (relu): ReLU(inplace=True)\n",
              "      (conv2): Conv2d(256, 256, kernel_size=(3, 3), stride=(1, 1), padding=(1, 1), bias=False)\n",
              "      (bn2): BatchNorm2d(256, eps=1e-05, momentum=0.1, affine=True, track_running_stats=True)\n",
              "    )\n",
              "  )\n",
              "  (layer4): Sequential(\n",
              "    (0): BasicBlock(\n",
              "      (conv1): Conv2d(256, 512, kernel_size=(3, 3), stride=(2, 2), padding=(1, 1), bias=False)\n",
              "      (bn1): BatchNorm2d(512, eps=1e-05, momentum=0.1, affine=True, track_running_stats=True)\n",
              "      (relu): ReLU(inplace=True)\n",
              "      (conv2): Conv2d(512, 512, kernel_size=(3, 3), stride=(1, 1), padding=(1, 1), bias=False)\n",
              "      (bn2): BatchNorm2d(512, eps=1e-05, momentum=0.1, affine=True, track_running_stats=True)\n",
              "      (downsample): Sequential(\n",
              "        (0): Conv2d(256, 512, kernel_size=(1, 1), stride=(2, 2), bias=False)\n",
              "        (1): BatchNorm2d(512, eps=1e-05, momentum=0.1, affine=True, track_running_stats=True)\n",
              "      )\n",
              "    )\n",
              "    (1): BasicBlock(\n",
              "      (conv1): Conv2d(512, 512, kernel_size=(3, 3), stride=(1, 1), padding=(1, 1), bias=False)\n",
              "      (bn1): BatchNorm2d(512, eps=1e-05, momentum=0.1, affine=True, track_running_stats=True)\n",
              "      (relu): ReLU(inplace=True)\n",
              "      (conv2): Conv2d(512, 512, kernel_size=(3, 3), stride=(1, 1), padding=(1, 1), bias=False)\n",
              "      (bn2): BatchNorm2d(512, eps=1e-05, momentum=0.1, affine=True, track_running_stats=True)\n",
              "    )\n",
              "  )\n",
              "  (avgpool): AdaptiveAvgPool2d(output_size=(1, 1))\n",
              "  (fc): Linear(in_features=512, out_features=1000, bias=True)\n",
              ")"
            ]
          },
          "metadata": {},
          "execution_count": 24
        }
      ]
    },
    {
      "cell_type": "code",
      "source": [
        "scaler = transforms.Resize((224, 224))\n",
        "normalize = transforms.Normalize(mean=[0.485, 0.456, 0.406], std=[0.229, 0.224, 0.225])\n",
        "to_tensor = transforms.ToTensor()\n",
        "\n",
        "def extract_embeddings(img_path):\n",
        "    img = Image.open(os.path.join(dataset_path, img_path.replace(\"\\\\\", \"/\")))\n",
        "    img = Variable(normalize(to_tensor(scaler(img))).unsqueeze(0))\n",
        "\n",
        "    embedding = torch.zeros(512)\n",
        "\n",
        "    def capture_embedding(m, i, o):\n",
        "        embedding.copy_(o.data.reshape(o.data.size(1)))\n",
        "\n",
        "    h = layer.register_forward_hook(capture_embedding)\n",
        "    model(img)\n",
        "\n",
        "    h.remove()\n",
        "\n",
        "    embeddings_feat = {}\n",
        "\n",
        "    for i, feature in enumerate(np.array(embedding)):\n",
        "      embeddings_feat[f\"embedding_{i}\"] = feature\n",
        "\n",
        "    return embeddings_feat\n",
        "\n",
        "df_train_embed = df_train.with_columns(pl.col(\"path\").map_elements(lambda x: extract_embeddings(x)).alias(\"features\")).unnest(\"features\").drop_nulls()\n",
        "df_train_embed"
      ],
      "metadata": {
        "colab": {
          "base_uri": "https://localhost:8080/",
          "height": 498
        },
        "id": "Llsq6AEijDII",
        "outputId": "ffb4f4a1-a920-4948-ecb0-9dbc2d20e88e"
      },
      "execution_count": 27,
      "outputs": [
        {
          "output_type": "stream",
          "name": "stderr",
          "text": [
            "sys:1: MapWithoutReturnDtypeWarning: Calling `map_elements` without specifying `return_dtype` can lead to unpredictable results. Specify `return_dtype` to silence this warning.\n",
            "sys:1: MapWithoutReturnDtypeWarning: Calling `map_elements` without specifying `return_dtype` can lead to unpredictable results. Specify `return_dtype` to silence this warning.\n"
          ]
        },
        {
          "output_type": "execute_result",
          "data": {
            "text/plain": [
              "shape: (4_476, 522)\n",
              "┌──────┬─────────────┬────────┬─────────┬───┬─────────────┬─────────────┬─────────────┬────────────┐\n",
              "│ id   ┆ path        ┆ is_bee ┆ is_wasp ┆ … ┆ embedding_5 ┆ embedding_5 ┆ embedding_5 ┆ embedding_ │\n",
              "│ ---  ┆ ---         ┆ ---    ┆ ---     ┆   ┆ 08          ┆ 09          ┆ 10          ┆ 511        │\n",
              "│ i64  ┆ str         ┆ i64    ┆ i64     ┆   ┆ ---         ┆ ---         ┆ ---         ┆ ---        │\n",
              "│      ┆             ┆        ┆         ┆   ┆ f64         ┆ f64         ┆ f64         ┆ f64        │\n",
              "╞══════╪═════════════╪════════╪═════════╪═══╪═════════════╪═════════════╪═════════════╪════════════╡\n",
              "│ 1    ┆ bee1\\100071 ┆ 1      ┆ 0       ┆ … ┆ 0.000963    ┆ 1.079044    ┆ 0.15149     ┆ 0.488572   │\n",
              "│      ┆ 54554_02641 ┆        ┆         ┆   ┆             ┆             ┆             ┆            │\n",
              "│      ┆ 7cfd0_n.…   ┆        ┆         ┆   ┆             ┆             ┆             ┆            │\n",
              "│ 3    ┆ bee1\\100920 ┆ 1      ┆ 0       ┆ … ┆ 0.59499     ┆ 0.312187    ┆ 0.277257    ┆ 0.060973   │\n",
              "│      ┆ 43833_7306d ┆        ┆         ┆   ┆             ┆             ┆             ┆            │\n",
              "│      ┆ fd1f0_n.…   ┆        ┆         ┆   ┆             ┆             ┆             ┆            │\n",
              "│ 5    ┆ bee1\\101282 ┆ 1      ┆ 0       ┆ … ┆ 0.0         ┆ 1.005452    ┆ 0.173616    ┆ 0.75655    │\n",
              "│      ┆ 35063_dca17 ┆        ┆         ┆   ┆             ┆             ┆             ┆            │\n",
              "│      ┆ db76c_n.…   ┆        ┆         ┆   ┆             ┆             ┆             ┆            │\n",
              "│ 6    ┆ bee1\\101307 ┆ 1      ┆ 0       ┆ … ┆ 0.122868    ┆ 0.719731    ┆ 0.193919    ┆ 0.350997   │\n",
              "│      ┆ 29734_f6873 ┆        ┆         ┆   ┆             ┆             ┆             ┆            │\n",
              "│      ┆ 8333e_w.…   ┆        ┆         ┆   ┆             ┆             ┆             ┆            │\n",
              "│ 7    ┆ bee1\\101664 ┆ 1      ┆ 0       ┆ … ┆ 0.319855    ┆ 0.298072    ┆ 0.007574    ┆ 0.030495   │\n",
              "│      ┆ 85783_9cd67 ┆        ┆         ┆   ┆             ┆             ┆             ┆            │\n",
              "│      ┆ 06c72_n.…   ┆        ┆         ┆   ┆             ┆             ┆             ┆            │\n",
              "│ …    ┆ …           ┆ …      ┆ …       ┆ … ┆ …           ┆ …           ┆ …           ┆ …          │\n",
              "│ 5303 ┆ wasp1\\99310 ┆ 0      ┆ 1       ┆ … ┆ 0.716796    ┆ 0.171797    ┆ 0.003564    ┆ 0.216326   │\n",
              "│      ┆ 84786_6c1de ┆        ┆         ┆   ┆             ┆             ┆             ┆            │\n",
              "│      ┆ 01c56_m.…   ┆        ┆         ┆   ┆             ┆             ┆             ┆            │\n",
              "│ 5304 ┆ wasp1\\99749 ┆ 0      ┆ 1       ┆ … ┆ 0.562361    ┆ 0.148863    ┆ 0.202285    ┆ 0.241322   │\n",
              "│      ┆ 13676_226ca ┆        ┆         ┆   ┆             ┆             ┆             ┆            │\n",
              "│      ┆ c235d_n.…   ┆        ┆         ┆   ┆             ┆             ┆             ┆            │\n",
              "│ 5305 ┆ wasp1\\99828 ┆ 0      ┆ 1       ┆ … ┆ 0.897605    ┆ 0.141853    ┆ 0.043015    ┆ 0.702699   │\n",
              "│      ┆ 29004_31a27 ┆        ┆         ┆   ┆             ┆             ┆             ┆            │\n",
              "│      ┆ d7db7_n.…   ┆        ┆         ┆   ┆             ┆             ┆             ┆            │\n",
              "│ 5306 ┆ wasp1\\99829 ┆ 0      ┆ 1       ┆ … ┆ 0.380311    ┆ 1.537709    ┆ 0.0         ┆ 0.995887   │\n",
              "│      ┆ 10983_46ea8 ┆        ┆         ┆   ┆             ┆             ┆             ┆            │\n",
              "│      ┆ 1d4e9_n.…   ┆        ┆         ┆   ┆             ┆             ┆             ┆            │\n",
              "│ 5308 ┆ wasp1\\99829 ┆ 0      ┆ 1       ┆ … ┆ 0.285045    ┆ 0.477568    ┆ 0.186411    ┆ 1.443935   │\n",
              "│      ┆ 46253_ff569 ┆        ┆         ┆   ┆             ┆             ┆             ┆            │\n",
              "│      ┆ c6125_n.…   ┆        ┆         ┆   ┆             ┆             ┆             ┆            │\n",
              "└──────┴─────────────┴────────┴─────────┴───┴─────────────┴─────────────┴─────────────┴────────────┘"
            ],
            "text/html": [
              "<div><style>\n",
              ".dataframe > thead > tr,\n",
              ".dataframe > tbody > tr {\n",
              "  text-align: right;\n",
              "  white-space: pre-wrap;\n",
              "}\n",
              "</style>\n",
              "<small>shape: (4_476, 522)</small><table border=\"1\" class=\"dataframe\"><thead><tr><th>id</th><th>path</th><th>is_bee</th><th>is_wasp</th><th>is_otherinsect</th><th>is_other</th><th>photo_quality</th><th>is_validation</th><th>is_final_validation</th><th>label</th><th>embedding_0</th><th>embedding_1</th><th>embedding_2</th><th>embedding_3</th><th>embedding_4</th><th>embedding_5</th><th>embedding_6</th><th>embedding_7</th><th>embedding_8</th><th>embedding_9</th><th>embedding_10</th><th>embedding_11</th><th>embedding_12</th><th>embedding_13</th><th>embedding_14</th><th>embedding_15</th><th>embedding_16</th><th>embedding_17</th><th>embedding_18</th><th>embedding_19</th><th>embedding_20</th><th>embedding_21</th><th>embedding_22</th><th>embedding_23</th><th>embedding_24</th><th>embedding_25</th><th>embedding_26</th><th>&hellip;</th><th>embedding_475</th><th>embedding_476</th><th>embedding_477</th><th>embedding_478</th><th>embedding_479</th><th>embedding_480</th><th>embedding_481</th><th>embedding_482</th><th>embedding_483</th><th>embedding_484</th><th>embedding_485</th><th>embedding_486</th><th>embedding_487</th><th>embedding_488</th><th>embedding_489</th><th>embedding_490</th><th>embedding_491</th><th>embedding_492</th><th>embedding_493</th><th>embedding_494</th><th>embedding_495</th><th>embedding_496</th><th>embedding_497</th><th>embedding_498</th><th>embedding_499</th><th>embedding_500</th><th>embedding_501</th><th>embedding_502</th><th>embedding_503</th><th>embedding_504</th><th>embedding_505</th><th>embedding_506</th><th>embedding_507</th><th>embedding_508</th><th>embedding_509</th><th>embedding_510</th><th>embedding_511</th></tr><tr><td>i64</td><td>str</td><td>i64</td><td>i64</td><td>i64</td><td>i64</td><td>i64</td><td>i64</td><td>i64</td><td>str</td><td>f64</td><td>f64</td><td>f64</td><td>f64</td><td>f64</td><td>f64</td><td>f64</td><td>f64</td><td>f64</td><td>f64</td><td>f64</td><td>f64</td><td>f64</td><td>f64</td><td>f64</td><td>f64</td><td>f64</td><td>f64</td><td>f64</td><td>f64</td><td>f64</td><td>f64</td><td>f64</td><td>f64</td><td>f64</td><td>f64</td><td>f64</td><td>&hellip;</td><td>f64</td><td>f64</td><td>f64</td><td>f64</td><td>f64</td><td>f64</td><td>f64</td><td>f64</td><td>f64</td><td>f64</td><td>f64</td><td>f64</td><td>f64</td><td>f64</td><td>f64</td><td>f64</td><td>f64</td><td>f64</td><td>f64</td><td>f64</td><td>f64</td><td>f64</td><td>f64</td><td>f64</td><td>f64</td><td>f64</td><td>f64</td><td>f64</td><td>f64</td><td>f64</td><td>f64</td><td>f64</td><td>f64</td><td>f64</td><td>f64</td><td>f64</td><td>f64</td></tr></thead><tbody><tr><td>1</td><td>&quot;bee1\\10007154554_026417cfd0_n.…</td><td>1</td><td>0</td><td>0</td><td>0</td><td>1</td><td>0</td><td>0</td><td>&quot;bee&quot;</td><td>0.524756</td><td>0.137934</td><td>0.504504</td><td>2.463422</td><td>2.32809</td><td>0.700341</td><td>3.957559</td><td>1.158749</td><td>0.201952</td><td>0.91858</td><td>0.997762</td><td>0.170293</td><td>2.13391</td><td>1.423673</td><td>0.0</td><td>2.326156</td><td>0.367872</td><td>5.232022</td><td>3.530282</td><td>4.42499</td><td>0.270149</td><td>2.116823</td><td>0.405747</td><td>0.687779</td><td>1.963689</td><td>3.089981</td><td>2.47718</td><td>&hellip;</td><td>0.762231</td><td>0.099127</td><td>1.039393</td><td>0.124489</td><td>1.325196</td><td>0.509972</td><td>1.338629</td><td>0.036382</td><td>1.885274</td><td>0.462915</td><td>3.066356</td><td>0.15237</td><td>0.306421</td><td>1.898815</td><td>0.658978</td><td>1.521986</td><td>0.268302</td><td>0.108736</td><td>0.60749</td><td>0.951135</td><td>0.551487</td><td>1.825916</td><td>0.50952</td><td>0.744821</td><td>1.365584</td><td>0.14912</td><td>0.018674</td><td>1.048728</td><td>0.528552</td><td>0.454628</td><td>0.259594</td><td>5.733372</td><td>1.212839</td><td>0.000963</td><td>1.079044</td><td>0.15149</td><td>0.488572</td></tr><tr><td>3</td><td>&quot;bee1\\10092043833_7306dfd1f0_n.…</td><td>1</td><td>0</td><td>0</td><td>0</td><td>1</td><td>1</td><td>0</td><td>&quot;bee&quot;</td><td>0.163239</td><td>0.3565</td><td>1.220858</td><td>1.958052</td><td>1.139267</td><td>0.584579</td><td>2.109976</td><td>1.310277</td><td>0.612005</td><td>0.877366</td><td>0.485608</td><td>0.101202</td><td>1.527156</td><td>0.61388</td><td>0.913922</td><td>0.543131</td><td>2.240492</td><td>5.738441</td><td>2.707291</td><td>1.910688</td><td>1.901317</td><td>1.169019</td><td>0.089218</td><td>1.253331</td><td>1.008647</td><td>1.516608</td><td>1.855473</td><td>&hellip;</td><td>1.149607</td><td>0.622582</td><td>0.661147</td><td>0.22742</td><td>0.288197</td><td>0.146031</td><td>1.689142</td><td>0.093026</td><td>1.38278</td><td>0.356375</td><td>0.745603</td><td>1.871414</td><td>0.265956</td><td>3.062069</td><td>0.787671</td><td>5.807712</td><td>1.029242</td><td>0.086466</td><td>1.222842</td><td>0.9167</td><td>0.908046</td><td>1.467534</td><td>0.811366</td><td>0.413152</td><td>0.185794</td><td>0.977814</td><td>0.02374</td><td>0.87409</td><td>0.738553</td><td>0.093949</td><td>0.156035</td><td>4.045158</td><td>0.531819</td><td>0.59499</td><td>0.312187</td><td>0.277257</td><td>0.060973</td></tr><tr><td>5</td><td>&quot;bee1\\10128235063_dca17db76c_n.…</td><td>1</td><td>0</td><td>0</td><td>0</td><td>1</td><td>0</td><td>0</td><td>&quot;bee&quot;</td><td>0.640751</td><td>0.549574</td><td>0.305968</td><td>1.966504</td><td>2.055374</td><td>2.870138</td><td>2.589532</td><td>0.558018</td><td>0.49601</td><td>0.246089</td><td>0.653362</td><td>0.378269</td><td>1.02698</td><td>0.712124</td><td>0.019544</td><td>0.330511</td><td>0.339665</td><td>4.90518</td><td>1.385484</td><td>1.651021</td><td>1.27814</td><td>1.566634</td><td>0.833996</td><td>0.218337</td><td>1.205728</td><td>1.020644</td><td>0.310432</td><td>&hellip;</td><td>1.129666</td><td>0.707398</td><td>1.554407</td><td>1.404819</td><td>0.368669</td><td>0.276122</td><td>1.507758</td><td>0.0</td><td>1.129877</td><td>0.256574</td><td>2.076206</td><td>0.699231</td><td>0.598576</td><td>3.088332</td><td>0.141056</td><td>2.830253</td><td>0.037044</td><td>0.307626</td><td>0.006048</td><td>0.246721</td><td>0.013588</td><td>1.386741</td><td>0.550189</td><td>0.005462</td><td>1.201961</td><td>1.991937</td><td>0.038811</td><td>0.473947</td><td>0.854094</td><td>0.057953</td><td>0.341087</td><td>5.026529</td><td>0.369429</td><td>0.0</td><td>1.005452</td><td>0.173616</td><td>0.75655</td></tr><tr><td>6</td><td>&quot;bee1\\10130729734_f68738333e_w.…</td><td>1</td><td>0</td><td>0</td><td>0</td><td>1</td><td>0</td><td>0</td><td>&quot;bee&quot;</td><td>0.572083</td><td>1.532629</td><td>1.259645</td><td>1.567947</td><td>1.220703</td><td>1.175466</td><td>0.666279</td><td>0.699705</td><td>0.129576</td><td>0.291338</td><td>0.408902</td><td>0.077068</td><td>1.129687</td><td>0.438807</td><td>0.371769</td><td>1.103351</td><td>0.362817</td><td>4.832754</td><td>1.340513</td><td>1.06749</td><td>2.347697</td><td>2.236968</td><td>0.579783</td><td>0.930364</td><td>1.607203</td><td>0.987766</td><td>2.06377</td><td>&hellip;</td><td>0.868638</td><td>0.094648</td><td>0.747457</td><td>0.166156</td><td>0.340135</td><td>0.081914</td><td>1.298888</td><td>0.28549</td><td>1.128372</td><td>1.106089</td><td>3.083351</td><td>1.290821</td><td>0.114953</td><td>3.165868</td><td>1.450478</td><td>2.635823</td><td>0.253945</td><td>0.03424</td><td>0.841056</td><td>0.861179</td><td>0.82381</td><td>0.570423</td><td>0.279802</td><td>0.76784</td><td>0.436698</td><td>0.410146</td><td>0.288589</td><td>1.432088</td><td>0.414765</td><td>0.326828</td><td>0.181819</td><td>2.289162</td><td>1.734333</td><td>0.122868</td><td>0.719731</td><td>0.193919</td><td>0.350997</td></tr><tr><td>7</td><td>&quot;bee1\\10166485783_9cd6706c72_n.…</td><td>1</td><td>0</td><td>0</td><td>0</td><td>1</td><td>0</td><td>0</td><td>&quot;bee&quot;</td><td>0.148512</td><td>0.065854</td><td>0.274415</td><td>2.156327</td><td>0.559714</td><td>0.526638</td><td>2.241199</td><td>2.332423</td><td>0.174585</td><td>0.768669</td><td>0.489906</td><td>0.509619</td><td>0.03389</td><td>0.341512</td><td>0.772464</td><td>1.167564</td><td>0.241593</td><td>5.780016</td><td>0.857322</td><td>0.857316</td><td>0.264615</td><td>2.319298</td><td>0.089296</td><td>0.915037</td><td>0.532405</td><td>0.413115</td><td>0.548517</td><td>&hellip;</td><td>0.320259</td><td>0.440292</td><td>1.218145</td><td>0.181888</td><td>1.038371</td><td>0.556442</td><td>1.515404</td><td>0.349579</td><td>0.442444</td><td>0.60326</td><td>0.315575</td><td>1.270131</td><td>0.06582</td><td>3.616068</td><td>0.211853</td><td>2.659385</td><td>0.328487</td><td>0.426443</td><td>0.096915</td><td>0.113813</td><td>0.793077</td><td>0.1587</td><td>0.854208</td><td>0.027117</td><td>0.810084</td><td>1.127104</td><td>0.085354</td><td>1.32398</td><td>0.128572</td><td>0.002479</td><td>0.0</td><td>1.678893</td><td>1.222843</td><td>0.319855</td><td>0.298072</td><td>0.007574</td><td>0.030495</td></tr><tr><td>&hellip;</td><td>&hellip;</td><td>&hellip;</td><td>&hellip;</td><td>&hellip;</td><td>&hellip;</td><td>&hellip;</td><td>&hellip;</td><td>&hellip;</td><td>&hellip;</td><td>&hellip;</td><td>&hellip;</td><td>&hellip;</td><td>&hellip;</td><td>&hellip;</td><td>&hellip;</td><td>&hellip;</td><td>&hellip;</td><td>&hellip;</td><td>&hellip;</td><td>&hellip;</td><td>&hellip;</td><td>&hellip;</td><td>&hellip;</td><td>&hellip;</td><td>&hellip;</td><td>&hellip;</td><td>&hellip;</td><td>&hellip;</td><td>&hellip;</td><td>&hellip;</td><td>&hellip;</td><td>&hellip;</td><td>&hellip;</td><td>&hellip;</td><td>&hellip;</td><td>&hellip;</td><td>&hellip;</td><td>&hellip;</td><td>&hellip;</td><td>&hellip;</td><td>&hellip;</td><td>&hellip;</td><td>&hellip;</td><td>&hellip;</td><td>&hellip;</td><td>&hellip;</td><td>&hellip;</td><td>&hellip;</td><td>&hellip;</td><td>&hellip;</td><td>&hellip;</td><td>&hellip;</td><td>&hellip;</td><td>&hellip;</td><td>&hellip;</td><td>&hellip;</td><td>&hellip;</td><td>&hellip;</td><td>&hellip;</td><td>&hellip;</td><td>&hellip;</td><td>&hellip;</td><td>&hellip;</td><td>&hellip;</td><td>&hellip;</td><td>&hellip;</td><td>&hellip;</td><td>&hellip;</td><td>&hellip;</td><td>&hellip;</td><td>&hellip;</td><td>&hellip;</td><td>&hellip;</td><td>&hellip;</td></tr><tr><td>5303</td><td>&quot;wasp1\\9931084786_6c1de01c56_m.…</td><td>0</td><td>1</td><td>0</td><td>0</td><td>1</td><td>0</td><td>0</td><td>&quot;wasp&quot;</td><td>0.383145</td><td>0.801885</td><td>0.700019</td><td>3.325424</td><td>1.802177</td><td>0.468204</td><td>1.856282</td><td>1.137464</td><td>0.900697</td><td>0.897492</td><td>0.890969</td><td>0.204539</td><td>0.000294</td><td>0.875914</td><td>0.637632</td><td>0.642714</td><td>0.902701</td><td>8.929605</td><td>2.973671</td><td>1.30164</td><td>0.124756</td><td>0.771246</td><td>1.511498</td><td>1.22281</td><td>0.521826</td><td>1.166342</td><td>0.962099</td><td>&hellip;</td><td>0.55182</td><td>0.628595</td><td>0.290083</td><td>1.703494</td><td>1.214491</td><td>0.073345</td><td>1.138386</td><td>0.032742</td><td>1.123166</td><td>0.005701</td><td>1.057921</td><td>1.879175</td><td>0.265562</td><td>5.457775</td><td>2.055052</td><td>2.479427</td><td>0.220558</td><td>0.00462</td><td>0.732824</td><td>1.497609</td><td>0.225838</td><td>0.689748</td><td>0.429943</td><td>0.500836</td><td>1.29184</td><td>0.217477</td><td>0.0053</td><td>1.256886</td><td>0.848784</td><td>0.25501</td><td>0.056662</td><td>3.751037</td><td>0.946564</td><td>0.716796</td><td>0.171797</td><td>0.003564</td><td>0.216326</td></tr><tr><td>5304</td><td>&quot;wasp1\\9974913676_226cac235d_n.…</td><td>0</td><td>1</td><td>0</td><td>0</td><td>1</td><td>0</td><td>0</td><td>&quot;wasp&quot;</td><td>0.040074</td><td>0.229635</td><td>0.402067</td><td>1.130481</td><td>0.945331</td><td>0.006975</td><td>0.446532</td><td>0.039674</td><td>0.704741</td><td>0.702854</td><td>0.322631</td><td>0.0</td><td>0.022122</td><td>1.268264</td><td>0.799886</td><td>0.455272</td><td>0.206776</td><td>5.886968</td><td>1.068821</td><td>1.092412</td><td>0.073489</td><td>2.429948</td><td>0.348442</td><td>0.67573</td><td>1.710916</td><td>0.31325</td><td>0.307891</td><td>&hellip;</td><td>0.844509</td><td>0.06359</td><td>2.080414</td><td>0.305149</td><td>0.07089</td><td>0.436333</td><td>2.030925</td><td>0.309472</td><td>0.129038</td><td>0.021227</td><td>1.072992</td><td>0.493254</td><td>0.119403</td><td>3.229568</td><td>0.59764</td><td>3.574591</td><td>0.484143</td><td>0.666363</td><td>0.534452</td><td>0.0</td><td>0.029251</td><td>0.51461</td><td>0.036227</td><td>0.13506</td><td>0.007677</td><td>0.102057</td><td>0.802776</td><td>1.913473</td><td>0.008244</td><td>0.028206</td><td>0.018342</td><td>1.287171</td><td>0.049739</td><td>0.562361</td><td>0.148863</td><td>0.202285</td><td>0.241322</td></tr><tr><td>5305</td><td>&quot;wasp1\\9982829004_31a27d7db7_n.…</td><td>0</td><td>1</td><td>0</td><td>0</td><td>1</td><td>0</td><td>0</td><td>&quot;wasp&quot;</td><td>0.183849</td><td>0.234878</td><td>0.128523</td><td>3.043461</td><td>0.865637</td><td>1.256208</td><td>2.328476</td><td>0.443071</td><td>0.899181</td><td>0.700562</td><td>0.849957</td><td>0.190549</td><td>0.085886</td><td>1.962538</td><td>0.35952</td><td>0.596221</td><td>1.293405</td><td>4.447428</td><td>2.025254</td><td>2.657646</td><td>0.034609</td><td>1.358035</td><td>1.596118</td><td>0.478367</td><td>1.685105</td><td>1.350855</td><td>0.210174</td><td>&hellip;</td><td>1.800642</td><td>1.88703</td><td>2.49037</td><td>1.459805</td><td>1.134776</td><td>0.434219</td><td>0.588485</td><td>0.067246</td><td>0.916229</td><td>0.251038</td><td>0.789498</td><td>0.267997</td><td>1.145265</td><td>1.641056</td><td>0.564692</td><td>1.11839</td><td>2.480516</td><td>0.281623</td><td>1.332742</td><td>0.3771</td><td>0.765273</td><td>1.496089</td><td>2.74039</td><td>0.064492</td><td>0.227199</td><td>0.03319</td><td>0.504145</td><td>0.925371</td><td>0.576054</td><td>1.539918</td><td>0.593088</td><td>2.48663</td><td>0.232536</td><td>0.897605</td><td>0.141853</td><td>0.043015</td><td>0.702699</td></tr><tr><td>5306</td><td>&quot;wasp1\\9982910983_46ea81d4e9_n.…</td><td>0</td><td>1</td><td>0</td><td>0</td><td>1</td><td>0</td><td>0</td><td>&quot;wasp&quot;</td><td>0.104486</td><td>0.006585</td><td>0.889023</td><td>2.891045</td><td>1.719455</td><td>0.381841</td><td>3.341721</td><td>0.907143</td><td>1.873259</td><td>1.378443</td><td>0.827906</td><td>1.206306</td><td>0.086906</td><td>0.761997</td><td>0.492567</td><td>0.767637</td><td>0.645045</td><td>5.581657</td><td>2.506397</td><td>0.990233</td><td>0.040895</td><td>0.063038</td><td>0.996464</td><td>1.734429</td><td>0.549096</td><td>0.331781</td><td>0.652061</td><td>&hellip;</td><td>2.154223</td><td>1.253469</td><td>0.524311</td><td>0.967542</td><td>0.025002</td><td>0.65872</td><td>0.11036</td><td>0.34025</td><td>2.761465</td><td>0.709985</td><td>2.215667</td><td>0.584216</td><td>0.095075</td><td>3.878118</td><td>1.071155</td><td>0.800105</td><td>0.057412</td><td>0.617952</td><td>0.819105</td><td>3.126012</td><td>1.571732</td><td>1.074046</td><td>0.643603</td><td>0.189675</td><td>0.825262</td><td>1.407102</td><td>0.290885</td><td>0.996669</td><td>0.277803</td><td>0.259312</td><td>2.516798</td><td>3.774632</td><td>0.495741</td><td>0.380311</td><td>1.537709</td><td>0.0</td><td>0.995887</td></tr><tr><td>5308</td><td>&quot;wasp1\\9982946253_ff569c6125_n.…</td><td>0</td><td>1</td><td>0</td><td>0</td><td>1</td><td>1</td><td>0</td><td>&quot;wasp&quot;</td><td>0.248785</td><td>0.046326</td><td>0.052624</td><td>1.208507</td><td>1.759794</td><td>0.205058</td><td>2.262203</td><td>1.590598</td><td>0.333362</td><td>1.010783</td><td>1.342824</td><td>0.374736</td><td>0.282771</td><td>0.421715</td><td>0.456939</td><td>1.970937</td><td>0.44779</td><td>7.688323</td><td>0.532136</td><td>0.828532</td><td>1.322731</td><td>1.691172</td><td>0.18618</td><td>0.922375</td><td>1.622027</td><td>1.383595</td><td>2.599656</td><td>&hellip;</td><td>0.985639</td><td>1.045303</td><td>1.297411</td><td>0.710452</td><td>0.097378</td><td>0.569672</td><td>1.547365</td><td>0.044346</td><td>2.571262</td><td>0.104973</td><td>0.889756</td><td>2.410523</td><td>0.021653</td><td>2.703159</td><td>0.212721</td><td>2.022835</td><td>0.012728</td><td>0.012567</td><td>1.268982</td><td>1.429778</td><td>0.787171</td><td>1.572732</td><td>0.91519</td><td>0.639142</td><td>0.039015</td><td>0.410428</td><td>0.007108</td><td>1.657281</td><td>0.051737</td><td>0.006887</td><td>0.645521</td><td>1.696287</td><td>0.446913</td><td>0.285045</td><td>0.477568</td><td>0.186411</td><td>1.443935</td></tr></tbody></table></div>"
            ]
          },
          "metadata": {},
          "execution_count": 27
        }
      ]
    },
    {
      "cell_type": "code",
      "source": [
        "def objective(trial):\n",
        "    C = trial.suggest_float(\"svm_C\", 1e-6, 1e1, log=True)\n",
        "    gamma = trial.suggest_categorical(\"svm_gamma\", [\"scale\", \"auto\"])\n",
        "    kernel = trial.suggest_categorical(\"svm_kernel\", [\"linear\", \"poly\", \"rbf\", \"sigmoid\"])\n",
        "\n",
        "    pipeline = Pipeline([\n",
        "        (\"scaler\", StandardScaler()),\n",
        "        (\"svm\", SVC(C=C, kernel=kernel, gamma=gamma, random_state=0))\n",
        "    ])\n",
        "\n",
        "    scores = cross_val_score(pipeline, X_train, y_train, cv=10, scoring=make_scorer(f1_score, pos_label=\"bee\"))\n",
        "\n",
        "    return np.mean(scores)\n",
        "\n",
        "X_train, y_train = df_train_embed.select(pl.nth(range(10, len(df_train_embed.columns)))).to_numpy(), df_train_embed[\"label\"].to_numpy()\n",
        "\n",
        "sampler = optuna.samplers.TPESampler(seed=0)\n",
        "study4 = optuna.create_study(direction=\"maximize\", sampler=sampler)\n",
        "study4.optimize(objective, n_trials=100)\n",
        "\n",
        "print(\"Best hyperparameters:\", study4.best_params)\n",
        "print(f\"Best F1-score: {study4.best_value:.4f}\")"
      ],
      "metadata": {
        "colab": {
          "base_uri": "https://localhost:8080/"
        },
        "id": "tSDiTppCjPXT",
        "outputId": "7a2677f7-30d5-4800-f8e6-d9f47c7b0dac"
      },
      "execution_count": 28,
      "outputs": [
        {
          "output_type": "stream",
          "name": "stderr",
          "text": [
            "[I 2024-10-06 21:31:53,507] A new study created in memory with name: no-name-045da6a2-c715-4bc0-85ba-81e3f171859a\n",
            "[I 2024-10-06 21:32:23,761] Trial 0 finished with value: 0.7486719130360273 and parameters: {'svm_C': 0.006945356257424776, 'svm_gamma': 'scale', 'svm_kernel': 'rbf'}. Best is trial 0 with value: 0.7486719130360273.\n",
            "[I 2024-10-06 21:32:31,983] Trial 1 finished with value: 0.9204142251933399 and parameters: {'svm_C': 1.7474751375465036, 'svm_gamma': 'scale', 'svm_kernel': 'sigmoid'}. Best is trial 1 with value: 0.9204142251933399.\n",
            "[I 2024-10-06 21:33:01,572] Trial 2 finished with value: 0.7486719130360273 and parameters: {'svm_C': 3.1423344550041226e-06, 'svm_gamma': 'scale', 'svm_kernel': 'sigmoid'}. Best is trial 1 with value: 0.9204142251933399.\n",
            "[I 2024-10-06 21:33:11,917] Trial 3 finished with value: 0.9388628310922371 and parameters: {'svm_C': 0.3927443531634939, 'svm_gamma': 'auto', 'svm_kernel': 'sigmoid'}. Best is trial 3 with value: 0.9388628310922371.\n",
            "[I 2024-10-06 21:33:19,736] Trial 4 finished with value: 0.9399752433894228 and parameters: {'svm_C': 0.004497159099879467, 'svm_gamma': 'scale', 'svm_kernel': 'linear'}. Best is trial 4 with value: 0.9399752433894228.\n",
            "[I 2024-10-06 21:33:29,562] Trial 5 finished with value: 0.9313016848536015 and parameters: {'svm_C': 0.02105952054524662, 'svm_gamma': 'auto', 'svm_kernel': 'linear'}. Best is trial 4 with value: 0.9399752433894228.\n",
            "[I 2024-10-06 21:33:44,657] Trial 6 finished with value: 0.9204498264633104 and parameters: {'svm_C': 0.07645719685939689, 'svm_gamma': 'auto', 'svm_kernel': 'linear'}. Best is trial 4 with value: 0.9399752433894228.\n",
            "[I 2024-10-06 21:33:55,005] Trial 7 finished with value: 0.9446018562210865 and parameters: {'svm_C': 0.0003515405246922031, 'svm_gamma': 'scale', 'svm_kernel': 'linear'}. Best is trial 7 with value: 0.9446018562210865.\n",
            "[I 2024-10-06 21:34:11,941] Trial 8 finished with value: 0.9360625195401051 and parameters: {'svm_C': 0.03730424702045822, 'svm_gamma': 'auto', 'svm_kernel': 'sigmoid'}. Best is trial 7 with value: 0.9446018562210865.\n",
            "[I 2024-10-06 21:34:43,063] Trial 9 finished with value: 0.7486719130360273 and parameters: {'svm_C': 9.274289735409131e-06, 'svm_gamma': 'auto', 'svm_kernel': 'rbf'}. Best is trial 7 with value: 0.9446018562210865.\n",
            "[I 2024-10-06 21:35:08,434] Trial 10 finished with value: 0.7486719130360273 and parameters: {'svm_C': 0.0001510366676841748, 'svm_gamma': 'scale', 'svm_kernel': 'poly'}. Best is trial 7 with value: 0.9446018562210865.\n",
            "[I 2024-10-06 21:35:18,884] Trial 11 finished with value: 0.9435282420066639 and parameters: {'svm_C': 0.0002796144351130273, 'svm_gamma': 'scale', 'svm_kernel': 'linear'}. Best is trial 7 with value: 0.9446018562210865.\n",
            "[I 2024-10-06 21:35:30,854] Trial 12 finished with value: 0.9422400118752252 and parameters: {'svm_C': 0.000160771356293824, 'svm_gamma': 'scale', 'svm_kernel': 'linear'}. Best is trial 7 with value: 0.9446018562210865.\n",
            "[I 2024-10-06 21:35:41,350] Trial 13 finished with value: 0.9442341413008469 and parameters: {'svm_C': 0.0003155002004084782, 'svm_gamma': 'scale', 'svm_kernel': 'linear'}. Best is trial 7 with value: 0.9446018562210865.\n",
            "[I 2024-10-06 21:36:06,482] Trial 14 finished with value: 0.7486719130360273 and parameters: {'svm_C': 3.897666164529934e-05, 'svm_gamma': 'scale', 'svm_kernel': 'poly'}. Best is trial 7 with value: 0.9446018562210865.\n",
            "[I 2024-10-06 21:36:16,103] Trial 15 finished with value: 0.9435445000407521 and parameters: {'svm_C': 0.0005500644239575536, 'svm_gamma': 'scale', 'svm_kernel': 'linear'}. Best is trial 7 with value: 0.9446018562210865.\n",
            "[I 2024-10-06 21:36:24,330] Trial 16 finished with value: 0.9420276122440303 and parameters: {'svm_C': 0.0014221742641404706, 'svm_gamma': 'scale', 'svm_kernel': 'linear'}. Best is trial 7 with value: 0.9446018562210865.\n",
            "[I 2024-10-06 21:36:42,779] Trial 17 finished with value: 0.9317991040358642 and parameters: {'svm_C': 3.666278773923436e-05, 'svm_gamma': 'scale', 'svm_kernel': 'linear'}. Best is trial 7 with value: 0.9446018562210865.\n",
            "[I 2024-10-06 21:37:12,732] Trial 18 finished with value: 0.7486719130360273 and parameters: {'svm_C': 1.4041420967383356e-06, 'svm_gamma': 'scale', 'svm_kernel': 'rbf'}. Best is trial 7 with value: 0.9446018562210865.\n",
            "[I 2024-10-06 21:37:38,269] Trial 19 finished with value: 0.9375827709966277 and parameters: {'svm_C': 7.3615430053289765, 'svm_gamma': 'scale', 'svm_kernel': 'poly'}. Best is trial 7 with value: 0.9446018562210865.\n",
            "[I 2024-10-06 21:37:58,751] Trial 20 finished with value: 0.9284534674765073 and parameters: {'svm_C': 2.6960117521234358e-05, 'svm_gamma': 'scale', 'svm_kernel': 'linear'}. Best is trial 7 with value: 0.9446018562210865.\n",
            "[I 2024-10-06 21:38:07,240] Trial 21 finished with value: 0.9420666268664499 and parameters: {'svm_C': 0.0011336623132279168, 'svm_gamma': 'scale', 'svm_kernel': 'linear'}. Best is trial 7 with value: 0.9446018562210865.\n",
            "[I 2024-10-06 21:38:16,960] Trial 22 finished with value: 0.9439605749387203 and parameters: {'svm_C': 0.0005044799208260899, 'svm_gamma': 'scale', 'svm_kernel': 'linear'}. Best is trial 7 with value: 0.9446018562210865.\n",
            "[I 2024-10-06 21:38:25,250] Trial 23 finished with value: 0.9432579793642348 and parameters: {'svm_C': 0.0032030562854526426, 'svm_gamma': 'scale', 'svm_kernel': 'linear'}. Best is trial 7 with value: 0.9446018562210865.\n",
            "[I 2024-10-06 21:38:38,541] Trial 24 finished with value: 0.9385622122150659 and parameters: {'svm_C': 9.864493938560889e-05, 'svm_gamma': 'scale', 'svm_kernel': 'linear'}. Best is trial 7 with value: 0.9446018562210865.\n",
            "[I 2024-10-06 21:38:47,632] Trial 25 finished with value: 0.9422742261098221 and parameters: {'svm_C': 0.0007144367180649836, 'svm_gamma': 'scale', 'svm_kernel': 'linear'}. Best is trial 7 with value: 0.9446018562210865.\n",
            "[I 2024-10-06 21:39:12,820] Trial 26 finished with value: 0.8774717744320861 and parameters: {'svm_C': 9.487206538416392e-06, 'svm_gamma': 'auto', 'svm_kernel': 'linear'}. Best is trial 7 with value: 0.9446018562210865.\n",
            "[I 2024-10-06 21:39:38,896] Trial 27 finished with value: 0.7486719130360273 and parameters: {'svm_C': 0.007481591072564991, 'svm_gamma': 'scale', 'svm_kernel': 'poly'}. Best is trial 7 with value: 0.9446018562210865.\n",
            "[I 2024-10-06 21:40:09,014] Trial 28 finished with value: 0.7486719130360273 and parameters: {'svm_C': 0.0015736539891728159, 'svm_gamma': 'scale', 'svm_kernel': 'rbf'}. Best is trial 7 with value: 0.9446018562210865.\n",
            "[I 2024-10-06 21:40:39,041] Trial 29 finished with value: 0.7486719130360273 and parameters: {'svm_C': 7.498430544957969e-05, 'svm_gamma': 'scale', 'svm_kernel': 'rbf'}. Best is trial 7 with value: 0.9446018562210865.\n",
            "[I 2024-10-06 21:40:47,677] Trial 30 finished with value: 0.9385946960755642 and parameters: {'svm_C': 0.008602817699182096, 'svm_gamma': 'scale', 'svm_kernel': 'linear'}. Best is trial 7 with value: 0.9446018562210865.\n",
            "[I 2024-10-06 21:40:58,178] Trial 31 finished with value: 0.9442344660022777 and parameters: {'svm_C': 0.00030690697176736955, 'svm_gamma': 'scale', 'svm_kernel': 'linear'}. Best is trial 7 with value: 0.9446018562210865.\n",
            "[I 2024-10-06 21:41:07,584] Trial 32 finished with value: 0.9434269391567549 and parameters: {'svm_C': 0.0004419834516527977, 'svm_gamma': 'scale', 'svm_kernel': 'linear'}. Best is trial 7 with value: 0.9446018562210865.\n",
            "[I 2024-10-06 21:41:32,163] Trial 33 finished with value: 0.9148196986389896 and parameters: {'svm_C': 1.2760608608757846e-05, 'svm_gamma': 'scale', 'svm_kernel': 'linear'}. Best is trial 7 with value: 0.9446018562210865.\n",
            "[I 2024-10-06 21:42:01,875] Trial 34 finished with value: 0.7486719130360273 and parameters: {'svm_C': 0.0002779033456361558, 'svm_gamma': 'scale', 'svm_kernel': 'sigmoid'}. Best is trial 7 with value: 0.9446018562210865.\n",
            "[I 2024-10-06 21:42:10,025] Trial 35 finished with value: 0.9426674478708585 and parameters: {'svm_C': 0.002643862371367245, 'svm_gamma': 'scale', 'svm_kernel': 'linear'}. Best is trial 7 with value: 0.9446018562210865.\n",
            "[I 2024-10-06 21:42:32,095] Trial 36 finished with value: 0.9285848316284696 and parameters: {'svm_C': 0.016708703063987588, 'svm_gamma': 'scale', 'svm_kernel': 'sigmoid'}. Best is trial 7 with value: 0.9446018562210865.\n",
            "[I 2024-10-06 21:42:46,786] Trial 37 finished with value: 0.9378060913950037 and parameters: {'svm_C': 6.943515615071935e-05, 'svm_gamma': 'auto', 'svm_kernel': 'linear'}. Best is trial 7 with value: 0.9446018562210865.\n",
            "[I 2024-10-06 21:43:12,311] Trial 38 finished with value: 0.7486719130360273 and parameters: {'svm_C': 4.181873868265468e-06, 'svm_gamma': 'scale', 'svm_kernel': 'linear'}. Best is trial 7 with value: 0.9446018562210865.\n",
            "[I 2024-10-06 21:43:24,846] Trial 39 finished with value: 0.9408404475281882 and parameters: {'svm_C': 0.1255458042686443, 'svm_gamma': 'auto', 'svm_kernel': 'sigmoid'}. Best is trial 7 with value: 0.9446018562210865.\n",
            "[I 2024-10-06 21:43:35,818] Trial 40 finished with value: 0.9436780673489906 and parameters: {'svm_C': 0.00023557137441768393, 'svm_gamma': 'scale', 'svm_kernel': 'linear'}. Best is trial 7 with value: 0.9446018562210865.\n",
            "[I 2024-10-06 21:43:47,035] Trial 41 finished with value: 0.9433241591020745 and parameters: {'svm_C': 0.0002214788481054214, 'svm_gamma': 'scale', 'svm_kernel': 'linear'}. Best is trial 7 with value: 0.9446018562210865.\n",
            "[I 2024-10-06 21:43:55,708] Trial 42 finished with value: 0.9418981417269933 and parameters: {'svm_C': 0.0007905676453669379, 'svm_gamma': 'scale', 'svm_kernel': 'linear'}. Best is trial 7 with value: 0.9446018562210865.\n",
            "[I 2024-10-06 21:44:06,151] Trial 43 finished with value: 0.944583456337711 and parameters: {'svm_C': 0.00032147894206883775, 'svm_gamma': 'scale', 'svm_kernel': 'linear'}. Best is trial 7 with value: 0.9446018562210865.\n",
            "[I 2024-10-06 21:44:14,659] Trial 44 finished with value: 0.9421424063723375 and parameters: {'svm_C': 0.001957770461543269, 'svm_gamma': 'scale', 'svm_kernel': 'linear'}. Best is trial 7 with value: 0.9446018562210865.\n",
            "[I 2024-10-06 21:44:24,429] Trial 45 finished with value: 0.9432487297643263 and parameters: {'svm_C': 0.0004431926646149688, 'svm_gamma': 'auto', 'svm_kernel': 'linear'}. Best is trial 7 with value: 0.9446018562210865.\n",
            "[I 2024-10-06 21:44:51,009] Trial 46 finished with value: 0.7486719130360273 and parameters: {'svm_C': 0.0050671999466243055, 'svm_gamma': 'scale', 'svm_kernel': 'poly'}. Best is trial 7 with value: 0.9446018562210865.\n",
            "[I 2024-10-06 21:45:21,228] Trial 47 finished with value: 0.7486719130360273 and parameters: {'svm_C': 2.076820230927746e-05, 'svm_gamma': 'scale', 'svm_kernel': 'rbf'}. Best is trial 7 with value: 0.9446018562210865.\n",
            "[I 2024-10-06 21:45:34,342] Trial 48 finished with value: 0.9394132552466248 and parameters: {'svm_C': 0.00010649224841268212, 'svm_gamma': 'scale', 'svm_kernel': 'linear'}. Best is trial 7 with value: 0.9446018562210865.\n",
            "[I 2024-10-06 21:45:50,676] Trial 49 finished with value: 0.9349782611410559 and parameters: {'svm_C': 5.1216505032235296e-05, 'svm_gamma': 'auto', 'svm_kernel': 'linear'}. Best is trial 7 with value: 0.9446018562210865.\n",
            "[I 2024-10-06 21:46:03,127] Trial 50 finished with value: 0.9413674428427197 and parameters: {'svm_C': 0.00013919960384417158, 'svm_gamma': 'scale', 'svm_kernel': 'linear'}. Best is trial 7 with value: 0.9446018562210865.\n",
            "[I 2024-10-06 21:46:14,159] Trial 51 finished with value: 0.9436067780453936 and parameters: {'svm_C': 0.00025502032312282484, 'svm_gamma': 'scale', 'svm_kernel': 'linear'}. Best is trial 7 with value: 0.9446018562210865.\n",
            "[I 2024-10-06 21:46:24,027] Trial 52 finished with value: 0.9434269391567549 and parameters: {'svm_C': 0.0004416250553159643, 'svm_gamma': 'scale', 'svm_kernel': 'linear'}. Best is trial 7 with value: 0.9446018562210865.\n",
            "[I 2024-10-06 21:46:32,733] Trial 53 finished with value: 0.9414499222050307 and parameters: {'svm_C': 0.0009085553873159435, 'svm_gamma': 'scale', 'svm_kernel': 'linear'}. Best is trial 7 with value: 0.9446018562210865.\n",
            "[I 2024-10-06 21:46:44,830] Trial 54 finished with value: 0.9413626628373866 and parameters: {'svm_C': 0.0001465120844768888, 'svm_gamma': 'scale', 'svm_kernel': 'linear'}. Best is trial 7 with value: 0.9446018562210865.\n",
            "[I 2024-10-06 21:46:55,189] Trial 55 finished with value: 0.9447800202623684 and parameters: {'svm_C': 0.00033433901775421825, 'svm_gamma': 'scale', 'svm_kernel': 'linear'}. Best is trial 55 with value: 0.9447800202623684.\n",
            "[I 2024-10-06 21:47:24,863] Trial 56 finished with value: 0.7486719130360273 and parameters: {'svm_C': 0.0011022135952984031, 'svm_gamma': 'scale', 'svm_kernel': 'sigmoid'}. Best is trial 55 with value: 0.9447800202623684.\n",
            "[I 2024-10-06 21:47:51,573] Trial 57 finished with value: 0.7486719130360273 and parameters: {'svm_C': 0.003103883608253695, 'svm_gamma': 'scale', 'svm_kernel': 'poly'}. Best is trial 55 with value: 0.9447800202623684.\n",
            "[I 2024-10-06 21:48:09,458] Trial 58 finished with value: 0.9318343986123765 and parameters: {'svm_C': 4.0988137613176715e-05, 'svm_gamma': 'scale', 'svm_kernel': 'linear'}. Best is trial 55 with value: 0.9447800202623684.\n",
            "[I 2024-10-06 21:48:19,524] Trial 59 finished with value: 0.9434209015510966 and parameters: {'svm_C': 0.00042912473512219296, 'svm_gamma': 'scale', 'svm_kernel': 'linear'}. Best is trial 55 with value: 0.9447800202623684.\n",
            "[I 2024-10-06 21:48:33,852] Trial 60 finished with value: 0.9461044475785918 and parameters: {'svm_C': 1.4625071094626585, 'svm_gamma': 'scale', 'svm_kernel': 'rbf'}. Best is trial 60 with value: 0.9461044475785918.\n",
            "[I 2024-10-06 21:48:47,727] Trial 61 finished with value: 0.9479666808211025 and parameters: {'svm_C': 1.0827561501560012, 'svm_gamma': 'scale', 'svm_kernel': 'rbf'}. Best is trial 61 with value: 0.9479666808211025.\n",
            "[I 2024-10-06 21:49:02,006] Trial 62 finished with value: 0.9467026052254761 and parameters: {'svm_C': 1.3960906369171504, 'svm_gamma': 'scale', 'svm_kernel': 'rbf'}. Best is trial 61 with value: 0.9479666808211025.\n",
            "[I 2024-10-06 21:49:16,505] Trial 63 finished with value: 0.9464710786530246 and parameters: {'svm_C': 1.624185694491867, 'svm_gamma': 'scale', 'svm_kernel': 'rbf'}. Best is trial 61 with value: 0.9479666808211025.\n",
            "[I 2024-10-06 21:49:30,246] Trial 64 finished with value: 0.9479742595381901 and parameters: {'svm_C': 1.1135648678206314, 'svm_gamma': 'scale', 'svm_kernel': 'rbf'}. Best is trial 64 with value: 0.9479742595381901.\n",
            "[I 2024-10-06 21:49:44,432] Trial 65 finished with value: 0.9478109098822929 and parameters: {'svm_C': 1.2466814618686348, 'svm_gamma': 'scale', 'svm_kernel': 'rbf'}. Best is trial 64 with value: 0.9479742595381901.\n",
            "[I 2024-10-06 21:49:58,509] Trial 66 finished with value: 0.9479742595381901 and parameters: {'svm_C': 1.1058636255493777, 'svm_gamma': 'scale', 'svm_kernel': 'rbf'}. Best is trial 64 with value: 0.9479742595381901.\n",
            "[I 2024-10-06 21:50:12,548] Trial 67 finished with value: 0.9479742595381901 and parameters: {'svm_C': 1.1368856097941729, 'svm_gamma': 'scale', 'svm_kernel': 'rbf'}. Best is trial 64 with value: 0.9479742595381901.\n",
            "[I 2024-10-06 21:50:26,531] Trial 68 finished with value: 0.9479292038046466 and parameters: {'svm_C': 0.9461571874319514, 'svm_gamma': 'scale', 'svm_kernel': 'rbf'}. Best is trial 64 with value: 0.9479742595381901.\n",
            "[I 2024-10-06 21:50:40,341] Trial 69 finished with value: 0.9479969309886289 and parameters: {'svm_C': 0.6390280462160477, 'svm_gamma': 'auto', 'svm_kernel': 'rbf'}. Best is trial 69 with value: 0.9479969309886289.\n",
            "[I 2024-10-06 21:50:54,455] Trial 70 finished with value: 0.9482403337838259 and parameters: {'svm_C': 0.4976040926149963, 'svm_gamma': 'auto', 'svm_kernel': 'rbf'}. Best is trial 70 with value: 0.9482403337838259.\n",
            "[I 2024-10-06 21:51:08,352] Trial 71 finished with value: 0.9481746736567439 and parameters: {'svm_C': 0.6532800611941332, 'svm_gamma': 'auto', 'svm_kernel': 'rbf'}. Best is trial 70 with value: 0.9482403337838259.\n",
            "[I 2024-10-06 21:51:22,174] Trial 72 finished with value: 0.9478373851808429 and parameters: {'svm_C': 0.5409388907706149, 'svm_gamma': 'auto', 'svm_kernel': 'rbf'}. Best is trial 70 with value: 0.9482403337838259.\n",
            "[I 2024-10-06 21:51:38,704] Trial 73 finished with value: 0.9381671559039557 and parameters: {'svm_C': 5.098529546839718, 'svm_gamma': 'auto', 'svm_kernel': 'rbf'}. Best is trial 70 with value: 0.9482403337838259.\n",
            "[I 2024-10-06 21:51:53,495] Trial 74 finished with value: 0.9454364909058685 and parameters: {'svm_C': 0.2714951927528248, 'svm_gamma': 'auto', 'svm_kernel': 'rbf'}. Best is trial 70 with value: 0.9482403337838259.\n",
            "[I 2024-10-06 21:52:08,827] Trial 75 finished with value: 0.9404627037744184 and parameters: {'svm_C': 2.9464672093499353, 'svm_gamma': 'auto', 'svm_kernel': 'rbf'}. Best is trial 70 with value: 0.9482403337838259.\n",
            "[I 2024-10-06 21:52:22,934] Trial 76 finished with value: 0.9481746736567439 and parameters: {'svm_C': 0.6509309168764255, 'svm_gamma': 'auto', 'svm_kernel': 'rbf'}. Best is trial 70 with value: 0.9482403337838259.\n",
            "[I 2024-10-06 21:52:39,114] Trial 77 finished with value: 0.9438365491230035 and parameters: {'svm_C': 0.1876939207889397, 'svm_gamma': 'auto', 'svm_kernel': 'rbf'}. Best is trial 70 with value: 0.9482403337838259.\n",
            "[I 2024-10-06 21:52:52,806] Trial 78 finished with value: 0.9479688732976879 and parameters: {'svm_C': 0.686025208411041, 'svm_gamma': 'auto', 'svm_kernel': 'rbf'}. Best is trial 70 with value: 0.9482403337838259.\n",
            "[I 2024-10-06 21:53:06,562] Trial 79 finished with value: 0.9476378222517651 and parameters: {'svm_C': 0.5961618882488863, 'svm_gamma': 'auto', 'svm_kernel': 'rbf'}. Best is trial 70 with value: 0.9482403337838259.\n",
            "[I 2024-10-06 21:53:28,097] Trial 80 finished with value: 0.9364715991318457 and parameters: {'svm_C': 0.060984602882601976, 'svm_gamma': 'auto', 'svm_kernel': 'rbf'}. Best is trial 70 with value: 0.9482403337838259.\n",
            "[I 2024-10-06 21:53:44,615] Trial 81 finished with value: 0.9402981455250725 and parameters: {'svm_C': 3.2065435502756614, 'svm_gamma': 'auto', 'svm_kernel': 'rbf'}. Best is trial 70 with value: 0.9482403337838259.\n",
            "[I 2024-10-06 21:53:58,317] Trial 82 finished with value: 0.9475983201592783 and parameters: {'svm_C': 0.7619437389229784, 'svm_gamma': 'auto', 'svm_kernel': 'rbf'}. Best is trial 70 with value: 0.9482403337838259.\n",
            "[I 2024-10-06 21:54:13,188] Trial 83 finished with value: 0.9457852063088913 and parameters: {'svm_C': 0.29349834338176445, 'svm_gamma': 'auto', 'svm_kernel': 'rbf'}. Best is trial 70 with value: 0.9482403337838259.\n",
            "[I 2024-10-06 21:54:29,941] Trial 84 finished with value: 0.9371943201071591 and parameters: {'svm_C': 9.615329768869163, 'svm_gamma': 'auto', 'svm_kernel': 'rbf'}. Best is trial 70 with value: 0.9482403337838259.\n",
            "[I 2024-10-06 21:54:45,676] Trial 85 finished with value: 0.9402642708508626 and parameters: {'svm_C': 2.982068199653353, 'svm_gamma': 'auto', 'svm_kernel': 'rbf'}. Best is trial 70 with value: 0.9482403337838259.\n",
            "[I 2024-10-06 21:54:59,824] Trial 86 finished with value: 0.9484551505610062 and parameters: {'svm_C': 0.4343553719166765, 'svm_gamma': 'auto', 'svm_kernel': 'rbf'}. Best is trial 86 with value: 0.9484551505610062.\n",
            "[I 2024-10-06 21:55:14,125] Trial 87 finished with value: 0.9486292921962027 and parameters: {'svm_C': 0.44394541987881536, 'svm_gamma': 'auto', 'svm_kernel': 'rbf'}. Best is trial 87 with value: 0.9486292921962027.\n",
            "[I 2024-10-06 21:55:27,995] Trial 88 finished with value: 0.9486292921962027 and parameters: {'svm_C': 0.4509663100333305, 'svm_gamma': 'auto', 'svm_kernel': 'rbf'}. Best is trial 87 with value: 0.9486292921962027.\n",
            "[I 2024-10-06 21:55:45,100] Trial 89 finished with value: 0.940600543650332 and parameters: {'svm_C': 0.1282121755106199, 'svm_gamma': 'auto', 'svm_kernel': 'rbf'}. Best is trial 87 with value: 0.9486292921962027.\n",
            "[I 2024-10-06 21:55:59,282] Trial 90 finished with value: 0.9472881877547825 and parameters: {'svm_C': 0.35193296293149123, 'svm_gamma': 'auto', 'svm_kernel': 'rbf'}. Best is trial 87 with value: 0.9486292921962027.\n",
            "[I 2024-10-06 21:56:13,114] Trial 91 finished with value: 0.9486292921962027 and parameters: {'svm_C': 0.44470802750298266, 'svm_gamma': 'auto', 'svm_kernel': 'rbf'}. Best is trial 87 with value: 0.9486292921962027.\n",
            "[I 2024-10-06 21:56:27,051] Trial 92 finished with value: 0.948048752564182 and parameters: {'svm_C': 0.4651732579018425, 'svm_gamma': 'auto', 'svm_kernel': 'rbf'}. Best is trial 87 with value: 0.9486292921962027.\n",
            "[I 2024-10-06 21:56:40,976] Trial 93 finished with value: 0.9482562903182983 and parameters: {'svm_C': 0.40991922707983963, 'svm_gamma': 'auto', 'svm_kernel': 'rbf'}. Best is trial 87 with value: 0.9486292921962027.\n",
            "[I 2024-10-06 21:56:56,999] Trial 94 finished with value: 0.9438365491230035 and parameters: {'svm_C': 0.18771433174739416, 'svm_gamma': 'auto', 'svm_kernel': 'rbf'}. Best is trial 87 with value: 0.9486292921962027.\n",
            "[I 2024-10-06 21:57:19,054] Trial 95 finished with value: 0.9360675551394696 and parameters: {'svm_C': 0.05206185885216476, 'svm_gamma': 'auto', 'svm_kernel': 'rbf'}. Best is trial 87 with value: 0.9486292921962027.\n",
            "[I 2024-10-06 21:57:32,886] Trial 96 finished with value: 0.947827908887745 and parameters: {'svm_C': 0.5243478745065536, 'svm_gamma': 'auto', 'svm_kernel': 'rbf'}. Best is trial 87 with value: 0.9486292921962027.\n",
            "[I 2024-10-06 21:57:51,170] Trial 97 finished with value: 0.9404311761693502 and parameters: {'svm_C': 0.1094580494675529, 'svm_gamma': 'auto', 'svm_kernel': 'rbf'}. Best is trial 87 with value: 0.9486292921962027.\n",
            "[I 2024-10-06 21:58:05,062] Trial 98 finished with value: 0.9484551505610062 and parameters: {'svm_C': 0.43434517656391075, 'svm_gamma': 'auto', 'svm_kernel': 'rbf'}. Best is trial 87 with value: 0.9486292921962027.\n",
            "[I 2024-10-06 21:58:20,677] Trial 99 finished with value: 0.9443998479239462 and parameters: {'svm_C': 0.19893816338246256, 'svm_gamma': 'auto', 'svm_kernel': 'rbf'}. Best is trial 87 with value: 0.9486292921962027.\n"
          ]
        },
        {
          "output_type": "stream",
          "name": "stdout",
          "text": [
            "Best hyperparameters: {'svm_C': 0.44394541987881536, 'svm_gamma': 'auto', 'svm_kernel': 'rbf'}\n",
            "Best F1-score: 0.9486\n"
          ]
        }
      ]
    },
    {
      "cell_type": "code",
      "source": [
        "df_val_embed = df_val.with_columns(pl.col(\"path\").map_elements(lambda x: extract_embeddings(x)).alias(\"features\")).unnest(\"features\").drop_nulls()\n",
        "df_val_embed"
      ],
      "metadata": {
        "colab": {
          "base_uri": "https://localhost:8080/",
          "height": 498
        },
        "id": "YzatBvdt0McH",
        "outputId": "97c8c09f-1804-4e34-aee9-8c72bb316fe6"
      },
      "execution_count": 29,
      "outputs": [
        {
          "output_type": "stream",
          "name": "stderr",
          "text": [
            "sys:1: MapWithoutReturnDtypeWarning: Calling `map_elements` without specifying `return_dtype` can lead to unpredictable results. Specify `return_dtype` to silence this warning.\n",
            "sys:1: MapWithoutReturnDtypeWarning: Calling `map_elements` without specifying `return_dtype` can lead to unpredictable results. Specify `return_dtype` to silence this warning.\n"
          ]
        },
        {
          "output_type": "execute_result",
          "data": {
            "text/plain": [
              "shape: (831, 522)\n",
              "┌──────┬─────────────┬────────┬─────────┬───┬─────────────┬─────────────┬─────────────┬────────────┐\n",
              "│ id   ┆ path        ┆ is_bee ┆ is_wasp ┆ … ┆ embedding_5 ┆ embedding_5 ┆ embedding_5 ┆ embedding_ │\n",
              "│ ---  ┆ ---         ┆ ---    ┆ ---     ┆   ┆ 08          ┆ 09          ┆ 10          ┆ 511        │\n",
              "│ i64  ┆ str         ┆ i64    ┆ i64     ┆   ┆ ---         ┆ ---         ┆ ---         ┆ ---        │\n",
              "│      ┆             ┆        ┆         ┆   ┆ f64         ┆ f64         ┆ f64         ┆ f64        │\n",
              "╞══════╪═════════════╪════════╪═════════╪═══╪═════════════╪═════════════╪═════════════╪════════════╡\n",
              "│ 2    ┆ bee1\\100248 ┆ 1      ┆ 0       ┆ … ┆ 0.967262    ┆ 0.833654    ┆ 1.297753    ┆ 0.087224   │\n",
              "│      ┆ 64894_6dc54 ┆        ┆         ┆   ┆             ┆             ┆             ┆            │\n",
              "│      ┆ d4b34_n.…   ┆        ┆         ┆   ┆             ┆             ┆             ┆            │\n",
              "│ 4    ┆ bee1\\101194 ┆ 1      ┆ 0       ┆ … ┆ 0.463996    ┆ 0.819731    ┆ 0.975368    ┆ 0.845312   │\n",
              "│      ┆ 8979_fc3637 ┆        ┆         ┆   ┆             ┆             ┆             ┆            │\n",
              "│      ┆ e779_w.j…   ┆        ┆         ┆   ┆             ┆             ┆             ┆            │\n",
              "│ 23   ┆ bee1\\104446 ┆ 1      ┆ 0       ┆ … ┆ 0.07358     ┆ 1.368383    ┆ 0.142858    ┆ 0.786005   │\n",
              "│      ┆ 7943_594f56 ┆        ┆         ┆   ┆             ┆             ┆             ┆            │\n",
              "│      ┆ bd36_n.j…   ┆        ┆         ┆   ┆             ┆             ┆             ┆            │\n",
              "│ 37   ┆ bee1\\115443 ┆ 1      ┆ 0       ┆ … ┆ 0.748775    ┆ 0.609049    ┆ 1.559367    ┆ 1.745637   │\n",
              "│      ┆ 8668_037d50 ┆        ┆         ┆   ┆             ┆             ┆             ┆            │\n",
              "│      ┆ 3906_m.j…   ┆        ┆         ┆   ┆             ┆             ┆             ┆            │\n",
              "│ 40   ┆ bee1\\116092 ┆ 1      ┆ 0       ┆ … ┆ 0.402339    ┆ 1.691239    ┆ 0.149192    ┆ 0.180902   │\n",
              "│      ┆ 48916_80ea6 ┆        ┆         ┆   ┆             ┆             ┆             ┆            │\n",
              "│      ┆ 30895_n.…   ┆        ┆         ┆   ┆             ┆             ┆             ┆            │\n",
              "│ …    ┆ …           ┆ …      ┆ …       ┆ … ┆ …           ┆ …           ┆ …           ┆ …          │\n",
              "│ 5280 ┆ wasp1\\96099 ┆ 0      ┆ 1       ┆ … ┆ 0.10747     ┆ 1.012924    ┆ 0.016317    ┆ 0.142098   │\n",
              "│      ┆ 35234_7bd49 ┆        ┆         ┆   ┆             ┆             ┆             ┆            │\n",
              "│      ┆ 09970_m.…   ┆        ┆         ┆   ┆             ┆             ┆             ┆            │\n",
              "│ 5286 ┆ wasp1\\96515 ┆ 0      ┆ 1       ┆ … ┆ 0.166403    ┆ 1.31256     ┆ 0.070672    ┆ 1.174302   │\n",
              "│      ┆ 10344_fe786 ┆        ┆         ┆   ┆             ┆             ┆             ┆            │\n",
              "│      ┆ ed064_n.…   ┆        ┆         ┆   ┆             ┆             ┆             ┆            │\n",
              "│ 5301 ┆ wasp1\\98461 ┆ 0      ┆ 1       ┆ … ┆ 0.034968    ┆ 0.279005    ┆ 0.239049    ┆ 0.791294   │\n",
              "│      ┆ 64973_4245d ┆        ┆         ┆   ┆             ┆             ┆             ┆            │\n",
              "│      ┆ ecd39_w.…   ┆        ┆         ┆   ┆             ┆             ┆             ┆            │\n",
              "│ 5307 ┆ wasp1\\99829 ┆ 0      ┆ 1       ┆ … ┆ 0.447994    ┆ 0.929855    ┆ 0.092321    ┆ 1.028683   │\n",
              "│      ┆ 41523_98296 ┆        ┆         ┆   ┆             ┆             ┆             ┆            │\n",
              "│      ┆ 7238c_n.…   ┆        ┆         ┆   ┆             ┆             ┆             ┆            │\n",
              "│ 5309 ┆ wasp1\\99829 ┆ 0      ┆ 1       ┆ … ┆ 0.243801    ┆ 0.829241    ┆ 0.0         ┆ 0.163886   │\n",
              "│      ┆ 47853_6a7a8 ┆        ┆         ┆   ┆             ┆             ┆             ┆            │\n",
              "│      ┆ 59cd6_n.…   ┆        ┆         ┆   ┆             ┆             ┆             ┆            │\n",
              "└──────┴─────────────┴────────┴─────────┴───┴─────────────┴─────────────┴─────────────┴────────────┘"
            ],
            "text/html": [
              "<div><style>\n",
              ".dataframe > thead > tr,\n",
              ".dataframe > tbody > tr {\n",
              "  text-align: right;\n",
              "  white-space: pre-wrap;\n",
              "}\n",
              "</style>\n",
              "<small>shape: (831, 522)</small><table border=\"1\" class=\"dataframe\"><thead><tr><th>id</th><th>path</th><th>is_bee</th><th>is_wasp</th><th>is_otherinsect</th><th>is_other</th><th>photo_quality</th><th>is_validation</th><th>is_final_validation</th><th>label</th><th>embedding_0</th><th>embedding_1</th><th>embedding_2</th><th>embedding_3</th><th>embedding_4</th><th>embedding_5</th><th>embedding_6</th><th>embedding_7</th><th>embedding_8</th><th>embedding_9</th><th>embedding_10</th><th>embedding_11</th><th>embedding_12</th><th>embedding_13</th><th>embedding_14</th><th>embedding_15</th><th>embedding_16</th><th>embedding_17</th><th>embedding_18</th><th>embedding_19</th><th>embedding_20</th><th>embedding_21</th><th>embedding_22</th><th>embedding_23</th><th>embedding_24</th><th>embedding_25</th><th>embedding_26</th><th>&hellip;</th><th>embedding_475</th><th>embedding_476</th><th>embedding_477</th><th>embedding_478</th><th>embedding_479</th><th>embedding_480</th><th>embedding_481</th><th>embedding_482</th><th>embedding_483</th><th>embedding_484</th><th>embedding_485</th><th>embedding_486</th><th>embedding_487</th><th>embedding_488</th><th>embedding_489</th><th>embedding_490</th><th>embedding_491</th><th>embedding_492</th><th>embedding_493</th><th>embedding_494</th><th>embedding_495</th><th>embedding_496</th><th>embedding_497</th><th>embedding_498</th><th>embedding_499</th><th>embedding_500</th><th>embedding_501</th><th>embedding_502</th><th>embedding_503</th><th>embedding_504</th><th>embedding_505</th><th>embedding_506</th><th>embedding_507</th><th>embedding_508</th><th>embedding_509</th><th>embedding_510</th><th>embedding_511</th></tr><tr><td>i64</td><td>str</td><td>i64</td><td>i64</td><td>i64</td><td>i64</td><td>i64</td><td>i64</td><td>i64</td><td>str</td><td>f64</td><td>f64</td><td>f64</td><td>f64</td><td>f64</td><td>f64</td><td>f64</td><td>f64</td><td>f64</td><td>f64</td><td>f64</td><td>f64</td><td>f64</td><td>f64</td><td>f64</td><td>f64</td><td>f64</td><td>f64</td><td>f64</td><td>f64</td><td>f64</td><td>f64</td><td>f64</td><td>f64</td><td>f64</td><td>f64</td><td>f64</td><td>&hellip;</td><td>f64</td><td>f64</td><td>f64</td><td>f64</td><td>f64</td><td>f64</td><td>f64</td><td>f64</td><td>f64</td><td>f64</td><td>f64</td><td>f64</td><td>f64</td><td>f64</td><td>f64</td><td>f64</td><td>f64</td><td>f64</td><td>f64</td><td>f64</td><td>f64</td><td>f64</td><td>f64</td><td>f64</td><td>f64</td><td>f64</td><td>f64</td><td>f64</td><td>f64</td><td>f64</td><td>f64</td><td>f64</td><td>f64</td><td>f64</td><td>f64</td><td>f64</td><td>f64</td></tr></thead><tbody><tr><td>2</td><td>&quot;bee1\\10024864894_6dc54d4b34_n.…</td><td>1</td><td>0</td><td>0</td><td>0</td><td>1</td><td>0</td><td>1</td><td>&quot;bee&quot;</td><td>0.073299</td><td>0.694999</td><td>1.460509</td><td>2.136838</td><td>3.199918</td><td>0.057925</td><td>1.363664</td><td>1.177955</td><td>0.681428</td><td>0.151512</td><td>0.369274</td><td>0.151505</td><td>1.034565</td><td>1.953622</td><td>0.127675</td><td>0.53738</td><td>0.527236</td><td>5.859966</td><td>2.0459</td><td>3.227757</td><td>1.041126</td><td>1.313829</td><td>0.694117</td><td>1.402865</td><td>0.226312</td><td>0.776973</td><td>0.745277</td><td>&hellip;</td><td>1.400436</td><td>0.13506</td><td>1.991893</td><td>0.387704</td><td>0.526591</td><td>0.694013</td><td>2.515328</td><td>0.305568</td><td>0.438602</td><td>0.078973</td><td>3.023655</td><td>0.399506</td><td>0.169691</td><td>2.591746</td><td>0.546189</td><td>3.107877</td><td>1.132302</td><td>0.190776</td><td>0.043817</td><td>1.375714</td><td>0.036293</td><td>0.630286</td><td>0.267296</td><td>0.053811</td><td>0.969558</td><td>0.414063</td><td>0.097452</td><td>0.419993</td><td>0.242121</td><td>0.344299</td><td>0.08222</td><td>3.898883</td><td>0.674654</td><td>0.967262</td><td>0.833654</td><td>1.297753</td><td>0.087224</td></tr><tr><td>4</td><td>&quot;bee1\\1011948979_fc3637e779_w.j…</td><td>1</td><td>0</td><td>0</td><td>0</td><td>1</td><td>0</td><td>1</td><td>&quot;bee&quot;</td><td>0.725574</td><td>0.85331</td><td>0.63183</td><td>1.766578</td><td>1.526712</td><td>0.732412</td><td>2.464982</td><td>2.474766</td><td>0.556928</td><td>0.062938</td><td>0.84098</td><td>0.003903</td><td>2.409344</td><td>0.479611</td><td>0.799761</td><td>0.910709</td><td>0.353284</td><td>4.353446</td><td>1.886817</td><td>4.009683</td><td>0.004247</td><td>2.758139</td><td>0.550529</td><td>2.026059</td><td>0.453515</td><td>0.11784</td><td>1.523253</td><td>&hellip;</td><td>1.286834</td><td>1.120632</td><td>0.152444</td><td>0.265957</td><td>1.312674</td><td>0.516621</td><td>0.232285</td><td>0.868083</td><td>0.949822</td><td>0.436767</td><td>1.988773</td><td>1.386371</td><td>0.353477</td><td>1.537001</td><td>2.308067</td><td>3.926968</td><td>0.591005</td><td>1.016997</td><td>0.623279</td><td>0.485195</td><td>0.444877</td><td>0.214869</td><td>2.180505</td><td>0.57119</td><td>0.120091</td><td>1.217872</td><td>0.034115</td><td>2.444767</td><td>0.283631</td><td>2.209306</td><td>0.230958</td><td>3.449003</td><td>2.016581</td><td>0.463996</td><td>0.819731</td><td>0.975368</td><td>0.845312</td></tr><tr><td>23</td><td>&quot;bee1\\1044467943_594f56bd36_n.j…</td><td>1</td><td>0</td><td>0</td><td>0</td><td>1</td><td>0</td><td>1</td><td>&quot;bee&quot;</td><td>0.285263</td><td>0.036534</td><td>0.023556</td><td>1.489105</td><td>1.86625</td><td>0.661312</td><td>3.261603</td><td>2.288575</td><td>2.43688</td><td>0.862775</td><td>0.997903</td><td>0.549283</td><td>2.165411</td><td>1.718977</td><td>0.456046</td><td>0.79644</td><td>0.937491</td><td>4.03784</td><td>2.772402</td><td>2.263873</td><td>2.147043</td><td>4.031961</td><td>0.0</td><td>0.020196</td><td>1.829499</td><td>1.298989</td><td>3.019602</td><td>&hellip;</td><td>3.095829</td><td>0.621604</td><td>0.759572</td><td>0.133184</td><td>0.502463</td><td>0.85107</td><td>0.708018</td><td>0.069957</td><td>0.247486</td><td>1.164783</td><td>1.02023</td><td>0.659805</td><td>0.455678</td><td>2.204592</td><td>0.012328</td><td>1.910062</td><td>1.12788</td><td>1.453173</td><td>0.303196</td><td>0.828524</td><td>0.051871</td><td>1.25926</td><td>0.610319</td><td>0.07304</td><td>1.661181</td><td>0.423488</td><td>0.372972</td><td>0.902865</td><td>0.531825</td><td>0.123979</td><td>0.424017</td><td>4.973537</td><td>0.099765</td><td>0.07358</td><td>1.368383</td><td>0.142858</td><td>0.786005</td></tr><tr><td>37</td><td>&quot;bee1\\1154438668_037d503906_m.j…</td><td>1</td><td>0</td><td>0</td><td>0</td><td>1</td><td>0</td><td>1</td><td>&quot;bee&quot;</td><td>0.036162</td><td>0.0</td><td>3.737943</td><td>0.183236</td><td>2.857393</td><td>0.203158</td><td>0.560729</td><td>1.165031</td><td>3.855285</td><td>3.536414</td><td>0.512797</td><td>1.2444</td><td>1.607294</td><td>2.651333</td><td>2.173602</td><td>1.858332</td><td>1.235376</td><td>1.554775</td><td>1.636015</td><td>1.925511</td><td>1.527328</td><td>3.114194</td><td>0.0</td><td>0.00749</td><td>2.216066</td><td>1.117527</td><td>8.370857</td><td>&hellip;</td><td>0.326117</td><td>0.86972</td><td>0.63198</td><td>0.0</td><td>0.344904</td><td>0.520364</td><td>1.2971</td><td>0.0</td><td>2.784093</td><td>0.143424</td><td>0.48033</td><td>1.602567</td><td>2.450047</td><td>0.0</td><td>0.004895</td><td>0.970849</td><td>0.733354</td><td>2.714702</td><td>1.174632</td><td>0.98471</td><td>1.735052</td><td>0.332414</td><td>0.011949</td><td>1.01042</td><td>0.451806</td><td>0.520488</td><td>0.148175</td><td>0.052338</td><td>0.972354</td><td>2.36905</td><td>1.07717</td><td>0.102633</td><td>0.804734</td><td>0.748775</td><td>0.609049</td><td>1.559367</td><td>1.745637</td></tr><tr><td>40</td><td>&quot;bee1\\11609248916_80ea630895_n.…</td><td>1</td><td>0</td><td>0</td><td>0</td><td>1</td><td>0</td><td>1</td><td>&quot;bee&quot;</td><td>0.0</td><td>0.762041</td><td>1.952315</td><td>1.345335</td><td>0.240005</td><td>0.464166</td><td>1.568747</td><td>0.080576</td><td>0.217681</td><td>0.550321</td><td>1.757518</td><td>0.307954</td><td>1.280411</td><td>1.235334</td><td>0.250247</td><td>1.784107</td><td>1.688964</td><td>6.810293</td><td>2.294723</td><td>1.098844</td><td>1.23778</td><td>3.388029</td><td>0.007046</td><td>1.606737</td><td>0.306814</td><td>0.371969</td><td>1.769693</td><td>&hellip;</td><td>0.823583</td><td>0.040115</td><td>0.356458</td><td>0.435819</td><td>0.443279</td><td>0.397047</td><td>0.436887</td><td>0.378629</td><td>0.594779</td><td>0.563403</td><td>3.153782</td><td>0.460676</td><td>0.081342</td><td>3.872682</td><td>0.174478</td><td>2.592426</td><td>0.01169</td><td>0.62386</td><td>0.206265</td><td>0.406986</td><td>1.710133</td><td>1.074157</td><td>0.313148</td><td>0.635109</td><td>0.464836</td><td>0.919199</td><td>0.424588</td><td>1.863066</td><td>0.565395</td><td>1.536813</td><td>0.216935</td><td>2.336155</td><td>1.566305</td><td>0.402339</td><td>1.691239</td><td>0.149192</td><td>0.180902</td></tr><tr><td>&hellip;</td><td>&hellip;</td><td>&hellip;</td><td>&hellip;</td><td>&hellip;</td><td>&hellip;</td><td>&hellip;</td><td>&hellip;</td><td>&hellip;</td><td>&hellip;</td><td>&hellip;</td><td>&hellip;</td><td>&hellip;</td><td>&hellip;</td><td>&hellip;</td><td>&hellip;</td><td>&hellip;</td><td>&hellip;</td><td>&hellip;</td><td>&hellip;</td><td>&hellip;</td><td>&hellip;</td><td>&hellip;</td><td>&hellip;</td><td>&hellip;</td><td>&hellip;</td><td>&hellip;</td><td>&hellip;</td><td>&hellip;</td><td>&hellip;</td><td>&hellip;</td><td>&hellip;</td><td>&hellip;</td><td>&hellip;</td><td>&hellip;</td><td>&hellip;</td><td>&hellip;</td><td>&hellip;</td><td>&hellip;</td><td>&hellip;</td><td>&hellip;</td><td>&hellip;</td><td>&hellip;</td><td>&hellip;</td><td>&hellip;</td><td>&hellip;</td><td>&hellip;</td><td>&hellip;</td><td>&hellip;</td><td>&hellip;</td><td>&hellip;</td><td>&hellip;</td><td>&hellip;</td><td>&hellip;</td><td>&hellip;</td><td>&hellip;</td><td>&hellip;</td><td>&hellip;</td><td>&hellip;</td><td>&hellip;</td><td>&hellip;</td><td>&hellip;</td><td>&hellip;</td><td>&hellip;</td><td>&hellip;</td><td>&hellip;</td><td>&hellip;</td><td>&hellip;</td><td>&hellip;</td><td>&hellip;</td><td>&hellip;</td><td>&hellip;</td><td>&hellip;</td><td>&hellip;</td><td>&hellip;</td></tr><tr><td>5280</td><td>&quot;wasp1\\9609935234_7bd4909970_m.…</td><td>0</td><td>1</td><td>0</td><td>0</td><td>1</td><td>0</td><td>1</td><td>&quot;wasp&quot;</td><td>0.241438</td><td>0.574311</td><td>0.146495</td><td>1.238178</td><td>0.348632</td><td>1.169038</td><td>1.881502</td><td>1.245021</td><td>0.478031</td><td>1.790043</td><td>0.342281</td><td>0.823255</td><td>0.099917</td><td>1.463898</td><td>0.807307</td><td>2.001573</td><td>0.241717</td><td>4.099838</td><td>2.404465</td><td>0.214682</td><td>1.053609</td><td>1.808093</td><td>0.012061</td><td>1.66034</td><td>0.384475</td><td>0.388687</td><td>1.477651</td><td>&hellip;</td><td>0.500508</td><td>0.754581</td><td>0.197228</td><td>0.034246</td><td>0.0</td><td>0.080631</td><td>1.504825</td><td>0.006264</td><td>0.169346</td><td>0.113123</td><td>1.766547</td><td>0.276771</td><td>0.012603</td><td>3.239727</td><td>0.144387</td><td>0.861881</td><td>0.047223</td><td>0.757327</td><td>0.204617</td><td>0.823643</td><td>0.449504</td><td>0.650618</td><td>0.754471</td><td>0.272227</td><td>0.418498</td><td>0.023638</td><td>0.189303</td><td>0.247508</td><td>0.521596</td><td>0.049888</td><td>0.477901</td><td>3.180646</td><td>0.419644</td><td>0.10747</td><td>1.012924</td><td>0.016317</td><td>0.142098</td></tr><tr><td>5286</td><td>&quot;wasp1\\9651510344_fe786ed064_n.…</td><td>0</td><td>1</td><td>0</td><td>0</td><td>1</td><td>0</td><td>1</td><td>&quot;wasp&quot;</td><td>0.892754</td><td>0.775945</td><td>0.664916</td><td>2.171812</td><td>1.4485</td><td>1.140379</td><td>2.252737</td><td>0.366969</td><td>0.76228</td><td>1.503806</td><td>0.569107</td><td>0.603071</td><td>0.138584</td><td>0.385407</td><td>0.611081</td><td>0.786241</td><td>1.574507</td><td>2.613029</td><td>2.765012</td><td>1.716611</td><td>0.161915</td><td>0.877852</td><td>0.32405</td><td>0.223235</td><td>1.29825</td><td>2.166608</td><td>1.376281</td><td>&hellip;</td><td>1.885704</td><td>1.998393</td><td>1.028494</td><td>0.653989</td><td>0.320957</td><td>0.784503</td><td>0.425858</td><td>0.329169</td><td>0.241165</td><td>0.327737</td><td>0.408612</td><td>1.321736</td><td>0.532195</td><td>1.877169</td><td>0.334342</td><td>1.323146</td><td>1.003418</td><td>0.212306</td><td>0.851744</td><td>2.864821</td><td>0.641796</td><td>0.162911</td><td>0.875001</td><td>1.420058</td><td>0.284217</td><td>0.235656</td><td>0.617427</td><td>0.051538</td><td>0.035452</td><td>0.096367</td><td>0.204852</td><td>0.707314</td><td>1.503765</td><td>0.166403</td><td>1.31256</td><td>0.070672</td><td>1.174302</td></tr><tr><td>5301</td><td>&quot;wasp1\\9846164973_4245decd39_w.…</td><td>0</td><td>1</td><td>0</td><td>0</td><td>1</td><td>0</td><td>1</td><td>&quot;wasp&quot;</td><td>0.070335</td><td>0.301812</td><td>1.406887</td><td>1.475996</td><td>2.053471</td><td>1.374419</td><td>3.365429</td><td>1.504016</td><td>0.188883</td><td>0.753965</td><td>0.483806</td><td>0.216485</td><td>0.577861</td><td>0.976641</td><td>0.0</td><td>1.36652</td><td>1.140878</td><td>6.867541</td><td>2.003233</td><td>0.650633</td><td>0.148034</td><td>1.389528</td><td>0.52602</td><td>1.631765</td><td>0.75998</td><td>1.713332</td><td>2.540156</td><td>&hellip;</td><td>1.581164</td><td>1.198031</td><td>0.637919</td><td>0.222469</td><td>0.035884</td><td>0.422956</td><td>0.817085</td><td>0.090958</td><td>0.367935</td><td>0.001582</td><td>1.837615</td><td>0.442682</td><td>0.149485</td><td>5.07002</td><td>1.066997</td><td>0.808935</td><td>0.030515</td><td>0.623629</td><td>0.466127</td><td>0.669006</td><td>1.167466</td><td>0.828168</td><td>1.571824</td><td>0.39496</td><td>0.014889</td><td>0.461984</td><td>0.072174</td><td>0.436988</td><td>0.065858</td><td>0.226467</td><td>0.328023</td><td>2.046287</td><td>1.229443</td><td>0.034968</td><td>0.279005</td><td>0.239049</td><td>0.791294</td></tr><tr><td>5307</td><td>&quot;wasp1\\9982941523_982967238c_n.…</td><td>0</td><td>1</td><td>0</td><td>0</td><td>1</td><td>0</td><td>1</td><td>&quot;wasp&quot;</td><td>0.136059</td><td>0.341457</td><td>0.56301</td><td>2.784099</td><td>2.557502</td><td>0.574901</td><td>2.148937</td><td>1.392341</td><td>1.021314</td><td>0.671164</td><td>2.729871</td><td>0.131266</td><td>0.220646</td><td>1.679471</td><td>0.076078</td><td>1.206977</td><td>1.356263</td><td>4.899838</td><td>4.19243</td><td>2.198465</td><td>0.222881</td><td>0.941187</td><td>0.088086</td><td>0.222523</td><td>1.632697</td><td>1.044856</td><td>0.307967</td><td>&hellip;</td><td>1.615943</td><td>0.141839</td><td>1.588955</td><td>1.210649</td><td>0.134348</td><td>1.097445</td><td>0.568077</td><td>0.104345</td><td>1.359486</td><td>0.293442</td><td>0.058444</td><td>1.238843</td><td>0.523246</td><td>2.153262</td><td>0.73572</td><td>1.68354</td><td>1.504471</td><td>1.006485</td><td>0.205196</td><td>1.540726</td><td>0.477675</td><td>2.097843</td><td>1.808726</td><td>0.106142</td><td>0.190057</td><td>0.86718</td><td>0.66438</td><td>1.330566</td><td>0.758966</td><td>0.95571</td><td>0.585343</td><td>2.87597</td><td>0.098466</td><td>0.447994</td><td>0.929855</td><td>0.092321</td><td>1.028683</td></tr><tr><td>5309</td><td>&quot;wasp1\\9982947853_6a7a859cd6_n.…</td><td>0</td><td>1</td><td>0</td><td>0</td><td>1</td><td>0</td><td>1</td><td>&quot;wasp&quot;</td><td>0.179176</td><td>0.057754</td><td>1.213592</td><td>2.509278</td><td>2.881988</td><td>0.866939</td><td>2.640377</td><td>0.546503</td><td>0.138752</td><td>1.655253</td><td>0.772218</td><td>0.015635</td><td>0.393228</td><td>1.442157</td><td>0.299785</td><td>1.815345</td><td>0.709796</td><td>7.237195</td><td>1.233562</td><td>0.613193</td><td>0.550324</td><td>1.480646</td><td>1.169645</td><td>2.163507</td><td>1.032758</td><td>1.105137</td><td>2.038908</td><td>&hellip;</td><td>0.37847</td><td>1.151833</td><td>0.843136</td><td>0.224327</td><td>0.102916</td><td>0.339442</td><td>1.147849</td><td>0.032426</td><td>1.48026</td><td>0.127225</td><td>1.846254</td><td>0.219632</td><td>0.059455</td><td>2.668293</td><td>0.362499</td><td>1.179478</td><td>0.097698</td><td>0.006388</td><td>0.582852</td><td>1.528735</td><td>0.185176</td><td>0.134273</td><td>0.348997</td><td>1.358084</td><td>0.103528</td><td>0.23183</td><td>0.18542</td><td>1.887171</td><td>0.274831</td><td>0.017177</td><td>0.07651</td><td>1.49089</td><td>1.386595</td><td>0.243801</td><td>0.829241</td><td>0.0</td><td>0.163886</td></tr></tbody></table></div>"
            ]
          },
          "metadata": {},
          "execution_count": 29
        }
      ]
    },
    {
      "cell_type": "code",
      "source": [
        "best_params = study4.best_params\n",
        "\n",
        "best_model = Pipeline([\n",
        "    (\"scaler\", StandardScaler()),\n",
        "    (\"svm\", SVC(C=best_params[\"svm_C\"], kernel=best_params[\"svm_kernel\"], gamma=best_params[\"svm_gamma\"]))\n",
        "])\n",
        "\n",
        "X_test, y_test = df_val_embed.select(pl.nth(range(10, len(df_val_embed.columns)))).to_numpy(), df_val_embed[\"label\"].to_numpy()\n",
        "\n",
        "best_model.fit(X_train, y_train)\n",
        "\n",
        "y_pred = best_model.predict(X_test)\n",
        "\n",
        "print(classification_report(y_test, y_pred))"
      ],
      "metadata": {
        "colab": {
          "base_uri": "https://localhost:8080/"
        },
        "id": "6wfG2Ku00Z9z",
        "outputId": "58671f85-ca70-4de9-d06e-af29027e51d0"
      },
      "execution_count": 30,
      "outputs": [
        {
          "output_type": "stream",
          "name": "stdout",
          "text": [
            "              precision    recall  f1-score   support\n",
            "\n",
            "         bee       0.94      0.95      0.95       504\n",
            "        wasp       0.92      0.91      0.92       327\n",
            "\n",
            "    accuracy                           0.94       831\n",
            "   macro avg       0.93      0.93      0.93       831\n",
            "weighted avg       0.93      0.94      0.93       831\n",
            "\n"
          ]
        }
      ]
    }
  ]
}